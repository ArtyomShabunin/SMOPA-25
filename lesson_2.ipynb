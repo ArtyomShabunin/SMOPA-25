{
  "cells": [
    {
      "cell_type": "markdown",
      "metadata": {
        "id": "view-in-github",
        "colab_type": "text"
      },
      "source": [
        "<a href=\"https://colab.research.google.com/github/ArtyomShabunin/SMOPA-25/blob/main/lesson_2.ipynb\" target=\"_parent\"><img src=\"https://colab.research.google.com/assets/colab-badge.svg\" alt=\"Open In Colab\"/></a>"
      ]
    },
    {
      "cell_type": "markdown",
      "id": "h5XVtnRX6FrS",
      "metadata": {
        "id": "h5XVtnRX6FrS"
      },
      "source": [
        "<img src=\"https://prana-system.com/files/110/rds_color_full.png\" alt=\"tot image\" width=\"300\"  align=\"center\"/> &nbsp;&nbsp;&nbsp;&nbsp;&nbsp;&nbsp;&nbsp;&nbsp;\n",
        "<img src=\"https://mpei.ru/AboutUniverse/OficialInfo/Attributes/PublishingImages/logo1.jpg\" alt=\"mpei image\" width=\"200\" align=\"center\"/>\n",
        "<img src=\"https://mpei.ru/Structure/Universe/tanpe/structure/tfhe/PublishingImages/tot.png\" alt=\"tot image\" width=\"100\"  align=\"center\"/>\n",
        "\n",
        "---\n",
        "\n",
        "# **Системы машинного обучения и предиктивной аналитики в тепловой и возобновляемой энергетике**  \n",
        "\n",
        "# ***Практические занятия***\n",
        "\n",
        "\n",
        "---\n",
        "\n"
      ]
    },
    {
      "cell_type": "markdown",
      "id": "8e7afc4e-4ef2-4a9a-9f0e-3052a244aa4a",
      "metadata": {
        "id": "8e7afc4e-4ef2-4a9a-9f0e-3052a244aa4a"
      },
      "source": [
        "# Занятие №2\n",
        "# Анализ и предобработка данных для обучения модели поиска аномалий\n",
        "**24 февраля 2025г.**\n",
        "\n",
        "---"
      ]
    },
    {
      "cell_type": "markdown",
      "id": "f6fb353a-147c-43b3-baaa-6ae00e560f15",
      "metadata": {
        "id": "f6fb353a-147c-43b3-baaa-6ae00e560f15"
      },
      "source": [
        "**Поиск аномалий (Anomaly Detection)** — это задача машинного обучения, в которой требуется выявить необычные или отклоняющиеся от нормы объекты в данных. Аномалии могут быть результатом ошибок, мошенничества, технических неисправностей, редких событий и других факторов.\n",
        "\n",
        "Для решения задачи детекции аномалий мы будем обучаеть модель только на нормальных данных (данных с нормальным состоянием оборудования) - **semi-supervised** подход. Нам необходимо исключить из данные все потенциальные аномалии."
      ]
    },
    {
      "cell_type": "markdown",
      "id": "lerm7F9nsisT",
      "metadata": {
        "id": "lerm7F9nsisT"
      },
      "source": [
        "## Импорты и вспомогательные функции"
      ]
    },
    {
      "cell_type": "code",
      "execution_count": null,
      "id": "8e137b6d-a7dd-417c-bbc7-1a2ed9bead5f",
      "metadata": {
        "id": "8e137b6d-a7dd-417c-bbc7-1a2ed9bead5f"
      },
      "outputs": [],
      "source": [
        "import pandas as pd\n",
        "import numpy as np\n",
        "import matplotlib.pyplot as plt\n",
        "import matplotlib\n",
        "\n",
        "%matplotlib inline\n",
        "import seaborn as sns\n",
        "sns.set_theme(rc={'figure.figsize':(15,5)})\n",
        "\n",
        "from tqdm import tqdm\n",
        "import glob\n",
        "import json\n",
        "\n",
        "import ipywidgets as widgets\n",
        "from IPython.display import display, clear_output\n",
        "import plotly.graph_objs as go\n",
        "\n",
        "# pd.options.mode.chained_assignment = None\n",
        "\n",
        "from IPython.display import Markdown, display\n",
        "# def printmd(string):\n",
        "#     display(Markdown(string))\n",
        "\n",
        "import warnings\n",
        "warnings.filterwarnings('ignore')"
      ]
    },
    {
      "cell_type": "markdown",
      "id": "de1b7694-7b3b-4e16-9455-244984263f50",
      "metadata": {
        "id": "de1b7694-7b3b-4e16-9455-244984263f50"
      },
      "source": [
        "вспомогательные функции"
      ]
    },
    {
      "cell_type": "code",
      "execution_count": null,
      "id": "d6b6a472-07dd-4eaf-858a-233017b3c376",
      "metadata": {
        "id": "d6b6a472-07dd-4eaf-858a-233017b3c376"
      },
      "outputs": [],
      "source": [
        "def select_bad_data_plot(x, y, xlabel, ylabel):\n",
        "\n",
        "    layout = dict(\n",
        "            margin=dict(\n",
        "            t=30, # top\n",
        "            b=10, # bottom\n",
        "            l=10, # left\n",
        "            r=10, # right\n",
        "        ),\n",
        "        xaxis_title=dict(text=xlabel),\n",
        "        yaxis_title=dict(text=ylabel)\n",
        "    )\n",
        "\n",
        "    color = np.zeros(x.shape[0])\n",
        "\n",
        "    marker = go.scatter.Marker(color = color,\n",
        "                               colorscale = [[0, 'blue'], [1, 'red']])\n",
        "\n",
        "    fig = go.FigureWidget([\n",
        "        go.Scatter(x = x, y = y,\n",
        "        mode = 'markers',\n",
        "        marker = marker)\n",
        "    ], layout=layout)\n",
        "\n",
        "\n",
        "    def brush(trace, points, state):\n",
        "        inds = np.array(points.point_inds)\n",
        "        if inds.size:\n",
        "            color[inds] = (~color[inds].astype(bool)).astype(int)\n",
        "            trace.marker.color = color\n",
        "\n",
        "    def base_click(trace, points, selector):\n",
        "        inds = np.array(points.point_inds)\n",
        "        if inds.size:\n",
        "            color[inds] = (~color[inds].astype(bool)).astype(int)\n",
        "            trace.marker.color = color\n",
        "\n",
        "    fig.data[0].on_selection(brush)\n",
        "    fig.data[0].on_click(base_click)\n",
        "\n",
        "    return fig, color"
      ]
    },
    {
      "cell_type": "markdown",
      "id": "4c79130f-9420-48eb-ac4b-945717764cd6",
      "metadata": {
        "id": "4c79130f-9420-48eb-ac4b-945717764cd6"
      },
      "source": [
        "## Загрузка данных"
      ]
    },
    {
      "cell_type": "code",
      "execution_count": null,
      "id": "qDHOzLYtj-AE",
      "metadata": {
        "id": "qDHOzLYtj-AE",
        "scrolled": true
      },
      "outputs": [],
      "source": [
        "import gdown\n",
        "url = \"https://drive.google.com/drive/folders/1RtrAevJUYSgTbp0YUztxEBB8_VcvjgGH?usp=drive_link\"\n",
        "gdown.download_folder(url, quiet=True, verify=False)"
      ]
    },
    {
      "cell_type": "code",
      "execution_count": null,
      "id": "296bc432-ed4c-443f-8a27-2539e286d1e1",
      "metadata": {
        "id": "296bc432-ed4c-443f-8a27-2539e286d1e1"
      },
      "outputs": [],
      "source": [
        "parquetFileList = glob.glob(f'./option_0/*.gzip')"
      ]
    },
    {
      "cell_type": "markdown",
      "id": "rQgkRe7htZYo",
      "metadata": {
        "id": "rQgkRe7htZYo"
      },
      "source": [
        "Читаем все файлы и объединяем их в общий DataFrame"
      ]
    },
    {
      "cell_type": "code",
      "execution_count": null,
      "id": "5b205a3b-859d-4977-80fb-d51363c4e215",
      "metadata": {
        "id": "5b205a3b-859d-4977-80fb-d51363c4e215"
      },
      "outputs": [],
      "source": [
        "df_list = []\n",
        "\n",
        "for file in tqdm(parquetFileList):\n",
        "    df = pd.read_parquet(file)\n",
        "    df_list.append(df)\n",
        "\n",
        "data = pd.concat(df_list, axis=0).sort_index().ffill().drop_duplicates()\n",
        "data = data.dropna()"
      ]
    },
    {
      "cell_type": "code",
      "execution_count": null,
      "id": "321b8929-b7a8-442f-94d0-f65636ec9947",
      "metadata": {
        "id": "321b8929-b7a8-442f-94d0-f65636ec9947"
      },
      "outputs": [],
      "source": [
        "print(f\"Размерность датасета: {data.shape[0]} строк и {data.shape[1]} столбцов\")"
      ]
    },
    {
      "cell_type": "markdown",
      "id": "RN0V97ezIn_1",
      "metadata": {
        "id": "RN0V97ezIn_1"
      },
      "source": [
        "Чтение файла с описанием сигналов"
      ]
    },
    {
      "cell_type": "code",
      "execution_count": null,
      "id": "iscbWJjxHQqO",
      "metadata": {
        "id": "iscbWJjxHQqO"
      },
      "outputs": [],
      "source": [
        "with open(f'./option_0/description.json', 'r', encoding = \"utf-8\") as f:\n",
        "    description = json.load(f)"
      ]
    },
    {
      "cell_type": "markdown",
      "id": "YOcrUEfMIvdJ",
      "metadata": {
        "id": "YOcrUEfMIvdJ"
      },
      "source": [
        "Составим словарь для трактовки наименований сигналов"
      ]
    },
    {
      "cell_type": "code",
      "execution_count": null,
      "id": "8-9h8UPdH7Xt",
      "metadata": {
        "id": "8-9h8UPdH7Xt"
      },
      "outputs": [],
      "source": [
        "kks_to_description = {param['real_kks']: f\"{param['description']}, [{param['unit']}]\"\n",
        "for param in description if param['real_kks'] in data.columns}"
      ]
    },
    {
      "cell_type": "code",
      "execution_count": null,
      "id": "c99b30fa-eacc-48bb-9710-ad3754e97716",
      "metadata": {
        "id": "c99b30fa-eacc-48bb-9710-ad3754e97716"
      },
      "outputs": [],
      "source": [
        "description_to_kks = { f\"{param['description']}, [{param['unit']}]\": param['real_kks']\n",
        "for param in description if param['real_kks'] in data.columns}"
      ]
    },
    {
      "cell_type": "markdown",
      "id": "a7PVguZachhg",
      "metadata": {
        "id": "a7PVguZachhg"
      },
      "source": [
        "## Анализ данных"
      ]
    },
    {
      "cell_type": "code",
      "execution_count": null,
      "id": "ad17e3ed-296f-482d-a9a0-c4e105951594",
      "metadata": {
        "id": "ad17e3ed-296f-482d-a9a0-c4e105951594"
      },
      "outputs": [],
      "source": [
        "data.head()"
      ]
    },
    {
      "cell_type": "markdown",
      "id": "d89f8cab-9b41-43c9-8ded-22432ac8563b",
      "metadata": {
        "id": "d89f8cab-9b41-43c9-8ded-22432ac8563b"
      },
      "source": [
        "<img src=\"./option_0/scheme.png\" width=\"1000\" align=\"center\">"
      ]
    },
    {
      "cell_type": "markdown",
      "id": "da0bee7b-cac9-4dc3-8db1-46e37f2cc062",
      "metadata": {
        "id": "da0bee7b-cac9-4dc3-8db1-46e37f2cc062"
      },
      "source": [
        "*Модель:* ГТД-6РМ  \n",
        "*Производитель:* ПАО «ОДК-Сатурн»  \n",
        "*Год начала серийного производства:* 2001  \n",
        "*Номинальная/пиковая мощность, МВт:* 6.38/7.65  \n",
        "*Расход топлива на номинальном режиме, кг/ч (Hu=50056 кДж/кг):* 1853 кг/ч  \n",
        "*КПД привода (ISO), %:* 24.8  \n",
        "*Степень повышения давления:* 8.56  \n",
        "*Расход выхлопных газов:* 48.8 кг/с  \n",
        "*Частота вращения силового вала:* 3000 об/мин  \n",
        "*Температура на входе в турбину/выходе из двигателя:* 1067/385  \n"
      ]
    },
    {
      "cell_type": "code",
      "execution_count": null,
      "id": "b0f35f18-db49-4af5-96a5-01c658f0aecb",
      "metadata": {
        "id": "b0f35f18-db49-4af5-96a5-01c658f0aecb"
      },
      "outputs": [],
      "source": [
        "params_dropdown = widgets.Dropdown(\n",
        "    options=data.columns,\n",
        "    description='Параметр:',\n",
        "    disabled=False,\n",
        ")\n",
        "\n",
        "display(params_dropdown)\n",
        "\n",
        "out = widgets.Output()\n",
        "display(out)\n",
        "\n",
        "@out.capture()\n",
        "def params_dropdown_eventhandler(change):\n",
        "    clear_output()\n",
        "    fig, axes = plt.subplots(1, 1, figsize=(15,5))\n",
        "    plt.title(f\"{change.new} - {kks_to_description[change.new]}\")\n",
        "    plt.plot(data[change.new])\n",
        "    display(fig)\n",
        "\n",
        "params_dropdown.observe(params_dropdown_eventhandler, names='value')"
      ]
    },
    {
      "cell_type": "markdown",
      "id": "RKz-KNT2qCel",
      "metadata": {
        "id": "RKz-KNT2qCel"
      },
      "source": [
        "Выбор признаков"
      ]
    },
    {
      "cell_type": "code",
      "execution_count": null,
      "id": "0a4c8781-6de0-4fd3-9cfb-5298555531a8",
      "metadata": {
        "id": "0a4c8781-6de0-4fd3-9cfb-5298555531a8"
      },
      "outputs": [],
      "source": [
        "# selected_params_description = []\n",
        "selected_params_kks = []\n",
        "useful_data = []\n",
        "\n",
        "\n",
        "select_param = widgets.SelectMultiple(\n",
        "    options=[kks_to_description[column_name] for column_name in data.columns],\n",
        "    value=[],\n",
        "    rows=10,\n",
        "    description='Параметры',\n",
        "    disabled=False,\n",
        "    layout=dict(width=\"100%\")\n",
        ")\n",
        "\n",
        "select_button = widgets.Button(description=\"Выбрать\")\n",
        "\n",
        "def select_button_eventhandler(btn):\n",
        "    # global selected_params_description\n",
        "    global selected_params_kks\n",
        "    global select_param\n",
        "    global useful_data\n",
        "\n",
        "    # selected_param = select_param.value\n",
        "    print(select_param.value)\n",
        "    selected_params_kks = []\n",
        "    for p in select_param.value:\n",
        "        selected_params_kks.append(description_to_kks[p])\n",
        "\n",
        "    useful_data = data[selected_params_kks]\n",
        "\n",
        "select_button.on_click(select_button_eventhandler)\n",
        "\n",
        "widgets.VBox(\n",
        "[\n",
        "    select_param,\n",
        "    select_button\n",
        "])"
      ]
    },
    {
      "cell_type": "code",
      "execution_count": null,
      "id": "a7ae6e62-ce4d-41bb-968b-7eec61d32724",
      "metadata": {
        "id": "a7ae6e62-ce4d-41bb-968b-7eec61d32724"
      },
      "outputs": [],
      "source": [
        "selected_params_kks"
      ]
    },
    {
      "cell_type": "markdown",
      "id": "vEyT5L47AQg2",
      "metadata": {
        "id": "vEyT5L47AQg2"
      },
      "source": [
        "Признаки можно выбрать без использования интерактивных функций"
      ]
    },
    {
      "cell_type": "code",
      "execution_count": null,
      "id": "VcdFlIhfAGPh",
      "metadata": {
        "id": "VcdFlIhfAGPh"
      },
      "outputs": [],
      "source": [
        "# selected_params_kks = ['GTA1.DBinPU.Aldi', 'GTA1.DBinPU.Alvna', 'GTA1.DBinPU.Alzzo',\n",
        "#                        'GTA1.DBinPU.Bo', 'GTA1.DBinPU.fi', 'GTA1.DBinPU.nst',\n",
        "#                        'GTA1.DBinPU.ntk', 'GTA1.DBinPU.P', 'GTA1.DBinPU.Pk',\n",
        "#                        'GTA1.DBinPU.Pvh', 'GTA1.DBinPU.Qtg', 'GTA1.DBinPU.Tk',\n",
        "#                        'GTA1.DBinPU.Tn', 'GTA1.DBinPU.Tt']"
      ]
    },
    {
      "cell_type": "code",
      "execution_count": null,
      "id": "089431ea-2e9e-4f71-9657-46e1eec3486f",
      "metadata": {
        "id": "089431ea-2e9e-4f71-9657-46e1eec3486f"
      },
      "outputs": [],
      "source": [
        "# useful_data = data[selected_params_kks]"
      ]
    },
    {
      "cell_type": "markdown",
      "id": "HjWK9Ky_-Kg9",
      "metadata": {
        "id": "HjWK9Ky_-Kg9"
      },
      "source": [
        "В курсовом проекте нужно выбрать не менее 20 взаимосвязанных признаков (сигналов)!!!"
      ]
    },
    {
      "cell_type": "markdown",
      "id": "f299f3df-b904-4ff3-890e-f25a6a87fd6b",
      "metadata": {
        "id": "f299f3df-b904-4ff3-890e-f25a6a87fd6b"
      },
      "source": [
        "Посмотрим графики нескольких параметров"
      ]
    },
    {
      "cell_type": "code",
      "execution_count": null,
      "id": "c387bcee-912d-4835-9614-c8b635ed92c8",
      "metadata": {
        "id": "c387bcee-912d-4835-9614-c8b635ed92c8"
      },
      "outputs": [],
      "source": [
        "params_dropdown = widgets.Dropdown(\n",
        "    options=selected_params_kks,\n",
        "    description='Параметр:',\n",
        "    disabled=False,\n",
        ")\n",
        "\n",
        "display(params_dropdown)\n",
        "\n",
        "out = widgets.Output()\n",
        "display(out)\n",
        "\n",
        "@out.capture()\n",
        "def params_dropdown_eventhandler(change):\n",
        "    clear_output()\n",
        "    fig, axes = plt.subplots(1, 1, figsize=(15,5))\n",
        "    plt.title(f\"{change.new} - {kks_to_description[change.new]}\")\n",
        "    plt.plot(useful_data[change.new])\n",
        "    display(fig)\n",
        "\n",
        "params_dropdown.observe(params_dropdown_eventhandler, names='value')"
      ]
    },
    {
      "cell_type": "markdown",
      "id": "fpKoxRexdDKJ",
      "metadata": {
        "id": "fpKoxRexdDKJ"
      },
      "source": [
        "## Очистка данных"
      ]
    },
    {
      "cell_type": "markdown",
      "id": "1319a408-1dd7-47d1-921e-22a7b510e634",
      "metadata": {
        "id": "1319a408-1dd7-47d1-921e-22a7b510e634"
      },
      "source": [
        "Исключение данных из тренировочной выборки"
      ]
    },
    {
      "cell_type": "markdown",
      "id": "0d8e5bf7-6c97-4e12-8462-b270ea816f5a",
      "metadata": {
        "id": "0d8e5bf7-6c97-4e12-8462-b270ea816f5a"
      },
      "source": [
        "Ручная очистка данные имеет ограничение по количеству анализируемых точек"
      ]
    },
    {
      "cell_type": "code",
      "execution_count": null,
      "id": "381296cf-a548-4564-8801-bb2545eb61ef",
      "metadata": {
        "id": "381296cf-a548-4564-8801-bb2545eb61ef"
      },
      "outputs": [],
      "source": [
        "NUMBER_OF_POINTS = 5000\n",
        "\n",
        "shuffled_data = useful_data.sample(frac=1).iloc[:NUMBER_OF_POINTS, :]\n",
        "\n",
        "param1_dropdown = widgets.Dropdown(\n",
        "    options=selected_params_kks,\n",
        "    description='Y:',\n",
        "    disabled=False,\n",
        "    value=None\n",
        ")\n",
        "\n",
        "param2_dropdown = widgets.Dropdown(\n",
        "    options=selected_params_kks,\n",
        "    description='X:',\n",
        "    disabled=False,\n",
        "    value=None\n",
        ")\n",
        "\n",
        "build_button = widgets.Button(description=\"Построить\")\n",
        "apply_button = widgets.Button(description=\"Исключить точки\")\n",
        "\n",
        "display_widgets = [\n",
        "    widgets.HBox([\n",
        "        widgets.HBox([param1_dropdown,\n",
        "                      param2_dropdown]),\n",
        "        build_button\n",
        "    ],\n",
        "        layout = dict(display='flex',\n",
        "                      justify_content=\"space-between\",\n",
        "                      width='100%')),\n",
        "    widgets.VBox([])\n",
        "]\n",
        "\n",
        "\n",
        "param_Y = selected_params_kks[0]\n",
        "param_X = selected_params_kks[0]\n",
        "selected = []\n",
        "\n",
        "def param1_description__dropdown_eventhandler(change):\n",
        "    global param_Y\n",
        "    param_Y = change.new\n",
        "\n",
        "def param2_description__dropdown_eventhandler(change):\n",
        "    global param_X\n",
        "    param_X = change.new\n",
        "\n",
        "out = widgets.Output()\n",
        "display(out)\n",
        "\n",
        "@out.capture()\n",
        "def build_button_eventhandler(btn):\n",
        "    global selected\n",
        "    global param_Y\n",
        "    global param_X\n",
        "    global display_widgets\n",
        "    global apply_button\n",
        "\n",
        "    clear_output()\n",
        "\n",
        "    fig, selected = select_bad_data_plot(shuffled_data[param_X].values if param_Y != param_X else shuffled_data[param_Y].index,\n",
        "                                         shuffled_data[param_Y].values,\n",
        "                                         kks_to_description[param_X], kks_to_description[param_Y])\n",
        "\n",
        "    display_widgets[-1] = widgets.VBox([\n",
        "        fig,\n",
        "        apply_button\n",
        "    ])\n",
        "\n",
        "    display(widgets.VBox(display_widgets))\n",
        "\n",
        "@out.capture()\n",
        "def apply_button_eventhandler(btn):\n",
        "    global selected\n",
        "    global param_Y\n",
        "    global param_X\n",
        "    global display_widgets\n",
        "    global apply_button\n",
        "    global shuffled_data\n",
        "\n",
        "    shuffled_data = shuffled_data[~selected.astype(bool)]\n",
        "\n",
        "    clear_output()\n",
        "\n",
        "    fig, selected = select_bad_data_plot(shuffled_data[param_X].values if param_Y != param_X else shuffled_data[param_Y].index,\n",
        "                                         shuffled_data[param_Y].values,\n",
        "                                         kks_to_description[param_X], kks_to_description[param_Y])\n",
        "\n",
        "    display_widgets[-1] = widgets.VBox([\n",
        "        fig,\n",
        "        apply_button\n",
        "    ])\n",
        "    display(widgets.VBox(display_widgets))\n",
        "\n",
        "param1_dropdown.observe(param1_description__dropdown_eventhandler, names='value')\n",
        "param2_dropdown.observe(param2_description__dropdown_eventhandler, names='value')\n",
        "build_button.on_click(build_button_eventhandler)\n",
        "\n",
        "apply_button.on_click(apply_button_eventhandler)\n",
        "\n",
        "with out:\n",
        "    display(widgets.VBox(display_widgets))"
      ]
    },
    {
      "cell_type": "markdown",
      "id": "LoodV1YRJG9D",
      "metadata": {
        "id": "LoodV1YRJG9D"
      },
      "source": [
        "Исключать данные можно не только вручную\n"
      ]
    },
    {
      "cell_type": "markdown",
      "id": "gp1YEusMKGn1",
      "metadata": {
        "id": "gp1YEusMKGn1"
      },
      "source": [
        "Нас интересуют только нормальные эксплуатационные режимы, на которых оборудование может работать продолжительное время. Скорость вращения ротора генератора и силовой турбины в таких режимах составляет около 3000 об/мин. Также энергетическое оборудование как правило работает в диапазоне от 50 до 100% номинально нагрузки. Выполним фильтрацию данных в соотвествии с этими утверждениями."
      ]
    },
    {
      "cell_type": "code",
      "execution_count": null,
      "id": "EV0p64E-LBly",
      "metadata": {
        "id": "EV0p64E-LBly"
      },
      "outputs": [],
      "source": [
        "useful_data.shape"
      ]
    },
    {
      "cell_type": "code",
      "execution_count": null,
      "id": "Qx1b9n2LJGTi",
      "metadata": {
        "id": "Qx1b9n2LJGTi"
      },
      "outputs": [],
      "source": [
        "useful_data = useful_data.loc[(useful_data['GTA1.DBinPU.nst'] > 2998)]\n",
        "useful_data = useful_data.loc[(useful_data['GTA1.DBinPU.P'] > 2000)]\n",
        "useful_data.shape"
      ]
    },
    {
      "cell_type": "markdown",
      "id": "5q7ckE0RMu4v",
      "metadata": {
        "id": "5q7ckE0RMu4v"
      },
      "source": [
        "Нас интересую стационарные режимы, когда основные параметры установки не меняются. Можно принять что стационарный режим на некором временном интервале характеризуется низким значением std (стандартное отклонение) основных параметров.  \n",
        "Метод rolling обеспечивает расчеты скользящего окна. Для исключения нестационарных режимов, связанных с изменением мощности в границах регулировочного диапазона, помощью этого метода `rolling`, рассчитаем значения стандартного отклонения мощности на минутных временных отрезках, а также усредним все наши данные на интервале 1 мин., для снижения их зашумленности."
      ]
    },
    {
      "cell_type": "code",
      "execution_count": null,
      "id": "QcaNmL_RMHR9",
      "metadata": {
        "id": "QcaNmL_RMHR9"
      },
      "outputs": [],
      "source": [
        "useful_data['power_std'] = useful_data['GTA1.DBinPU.P'].rolling('60s').std()\n",
        "useful_data[selected_params_kks] = useful_data[selected_params_kks].rolling('60s').mean()\n",
        "useful_data = useful_data.dropna()"
      ]
    },
    {
      "cell_type": "code",
      "execution_count": null,
      "id": "Tg-upwLYMHb0",
      "metadata": {
        "id": "Tg-upwLYMHb0"
      },
      "outputs": [],
      "source": [
        "plt.figure();\n",
        "plt.scatter(useful_data['GTA1.DBinPU.P'], useful_data['power_std'], alpha=0.5);\n",
        "plt.xlabel('Электрическая мощность, кВт');\n",
        "plt.ylabel('Стандартное отклонение\\nмощности, кВт');"
      ]
    },
    {
      "cell_type": "markdown",
      "id": "EztpR_IifpLg",
      "metadata": {
        "id": "EztpR_IifpLg"
      },
      "source": [
        "Удалим данные с std больше 30"
      ]
    },
    {
      "cell_type": "code",
      "execution_count": null,
      "id": "4nKdoockMHg6",
      "metadata": {
        "id": "4nKdoockMHg6"
      },
      "outputs": [],
      "source": [
        "useful_data = useful_data[useful_data['power_std'] < 30]\n",
        "useful_data.shape"
      ]
    },
    {
      "cell_type": "code",
      "execution_count": null,
      "id": "s-DP8D6WfG8G",
      "metadata": {
        "id": "s-DP8D6WfG8G"
      },
      "outputs": [],
      "source": [
        "plt.figure();\n",
        "plt.scatter(useful_data['GTA1.DBinPU.P'], useful_data['power_std'], alpha=0.5);\n",
        "plt.xlabel('Электрическая мощность, кВт');\n",
        "plt.ylabel('Стандартное отклонение\\nмощности, кВт');"
      ]
    },
    {
      "cell_type": "markdown",
      "id": "njS9CF1KOPLo",
      "metadata": {
        "id": "njS9CF1KOPLo"
      },
      "source": [
        "По графику нетрудно выделить нагрузки, на которых установка какое-то время работала непрерывно. Основное число стационарных режимов находится в диапазоне электрических нагрузок больше 5500 кВт, что соответствует области номинальных нагрузок ГТУ."
      ]
    },
    {
      "cell_type": "markdown",
      "id": "JFdeieZ-PWq-",
      "metadata": {
        "id": "JFdeieZ-PWq-"
      },
      "source": [
        "Наибольшее влияние на режим эксплуатации газотурбинных установок оказывает заданная электрическая нагрузка и температура наружного воздуха."
      ]
    },
    {
      "cell_type": "markdown",
      "id": "RuvN8noGgC9b",
      "metadata": {
        "id": "RuvN8noGgC9b"
      },
      "source": [
        "Посмотрим на распределение наших данных относительно значения электрической мощности"
      ]
    },
    {
      "cell_type": "code",
      "execution_count": null,
      "id": "oooXCEJbfwXM",
      "metadata": {
        "id": "oooXCEJbfwXM"
      },
      "outputs": [],
      "source": [
        "fig, (ax1, ax2) = plt.subplots(1, 2, figsize=(15, 6), constrained_layout=True)\n",
        "# fig.tight_layout()\n",
        "ax1.hist(useful_data[useful_data['GTA1.DBinPU.P'] < 5000]['GTA1.DBinPU.P'], bins=100);\n",
        "ax1.set_ylabel(\"Распределение данных\", fontsize=20);\n",
        "ax1.set_xlabel(\"Мощность, кВт\", fontsize=20);\n",
        "ax2.hist(useful_data[useful_data['GTA1.DBinPU.P'] > 5000]['GTA1.DBinPU.P'], bins=100);\n",
        "ax2.set_xlabel(\"Мощность, кВт\", fontsize=20);"
      ]
    },
    {
      "cell_type": "markdown",
      "id": "21qZ8WuFjRu8",
      "metadata": {
        "id": "21qZ8WuFjRu8"
      },
      "source": [
        "Распределение данных относительно температуры наружного воздуха"
      ]
    },
    {
      "cell_type": "code",
      "execution_count": null,
      "id": "wl85Nfjrfwa7",
      "metadata": {
        "id": "wl85Nfjrfwa7"
      },
      "outputs": [],
      "source": [
        "plt.figure();\n",
        "plt.hist(useful_data['GTA1.DBinPU.Tn'], bins=100);\n",
        "plt.xlabel('Температура наружного воздуха, $^\\\\circ$С', fontsize=20);\n",
        "plt.ylabel('Распределение данных', fontsize=20);"
      ]
    },
    {
      "cell_type": "markdown",
      "id": "Bo6y5VJ3oH_0",
      "metadata": {
        "id": "Bo6y5VJ3oH_0"
      },
      "source": [
        "Основное количество данных сосредоточено в области номинальной нагрузки ГТУ (>5800кВт). Очевидно, что данные сильно не сбалансированы относительной электрической мощности. Обучение модели на несбалансированных данных может привести к тому, что точность модели будет выше в зоне номинальных электрических нагрузок по отношению к зоне пониженных нагрузок. В силу того, что в имеющихся у нас данных содержится очень много точек с номинальной электрической нагрузкой мы можем удалить часть этих данных для повышения сбалансированности всего набора. Разделим весь диапазон мощности, который присутствует в данные на участки по 50 МВт и сделаем так, что на каждом таком участке будет не более чем 1200 точек, выбор точек для удаления осуществялется случайным образом."
      ]
    },
    {
      "cell_type": "code",
      "execution_count": null,
      "id": "6AA_yWKvfwfC",
      "metadata": {
        "id": "6AA_yWKvfwfC"
      },
      "outputs": [],
      "source": [
        "# import warnings\n",
        "# warnings.filterwarnings('ignore')\n",
        "\n",
        "p_step = 50\n",
        "for i in tqdm(range(1000, 6100, p_step)):\n",
        "    useful_data.drop(index = useful_data[(useful_data['GTA1.DBinPU.P'] > i) & (useful_data['GTA1.DBinPU.P'] < (i + p_step))]\n",
        "            .sample(frac=1).iloc[1200:,:].index, inplace=True)\n",
        "useful_data.shape"
      ]
    },
    {
      "cell_type": "code",
      "execution_count": null,
      "id": "V--OMUGKoUJK",
      "metadata": {
        "id": "V--OMUGKoUJK"
      },
      "outputs": [],
      "source": [
        "fig, (ax1, ax2) = plt.subplots(1, 2, figsize=(15, 6))\n",
        "ax1.hist(useful_data['GTA1.DBinPU.Tn'], bins=100);\n",
        "ax1.set_xlabel('Температура наружного воздуха, $^\\\\circ$С', fontsize=20);\n",
        "ax1.set_ylabel('Распределение данных', fontsize=20);\n",
        "ax2.hist(useful_data['GTA1.DBinPU.P'], bins=100);\n",
        "ax2.set_xlabel(\"Мощность, кВт\", fontsize=20);"
      ]
    },
    {
      "cell_type": "markdown",
      "id": "yNbQTFKTk-V0",
      "metadata": {
        "id": "yNbQTFKTk-V0"
      },
      "source": [
        "Из новых гистограмм видно, что данные по прежнему не сбалансированны относительно электрической нагрузки, но теперь не сбалансированность существенно меньше."
      ]
    },
    {
      "cell_type": "markdown",
      "id": "vl7N-oIHtnRg",
      "metadata": {
        "id": "vl7N-oIHtnRg"
      },
      "source": [
        "Построим парную диаграмму признаков, которые относятся к внешним воздействиям для анализируемого объекта (ГТУ), к таким признакам относятся: электрическая нагрузка, температура наружного воздуха, атмосферное давление и относительная влажность наружного воздуха."
      ]
    },
    {
      "cell_type": "code",
      "execution_count": null,
      "id": "0pBpF6cDoeli",
      "metadata": {
        "id": "0pBpF6cDoeli"
      },
      "outputs": [],
      "source": [
        "# matplotlib.rc('xtick', labelsize=12)\n",
        "# matplotlib.rc('ytick', labelsize=12)\n",
        "act_features = [\n",
        "    'GTA1.DBinPU.P', # электрическая нагрузка, определяется заданием\n",
        "    'GTA1.DBinPU.Tn', # температура наружного воздуха\n",
        "    'GTA1.DBinPU.Bo', # барометрическое давление\n",
        "    'GTA1.DBinPU.fi' # относительная влажность наружного воздуха\n",
        "];\n",
        "\n",
        "fig = plt.figure();\n",
        "# sns.set();\n",
        "sns.pairplot(\n",
        "    useful_data[act_features], height = 2,\n",
        "    kind ='scatter',diag_kind='kde');"
      ]
    },
    {
      "cell_type": "markdown",
      "id": "X1WDvPIqu0W3",
      "metadata": {
        "id": "X1WDvPIqu0W3"
      },
      "source": [
        "Видно, что данные покрывают весь рассматриваемый диапазон внешних параметров."
      ]
    },
    {
      "cell_type": "markdown",
      "id": "75e56093-5ec7-4268-b562-21b1e265204a",
      "metadata": {
        "id": "75e56093-5ec7-4268-b562-21b1e265204a"
      },
      "source": [
        "### Взаимная корреляция данных"
      ]
    },
    {
      "cell_type": "markdown",
      "id": "17435c30-0a17-4575-bc8b-2cd98a7600f0",
      "metadata": {
        "id": "17435c30-0a17-4575-bc8b-2cd98a7600f0"
      },
      "source": [
        "**Формула**\n",
        "Коэффициент Пирсона рассчитывается по формуле:\n",
        "\n",
        "$$r = \\frac{\\sum (x_i - \\bar{x})(y_i - \\bar{y})}{\\sqrt{\\sum (x_i - \\bar{x})^2} \\cdot \\sqrt{\\sum (y_i - \\bar{y})^2}}$$\n",
        "\n",
        "Где:  \n",
        "- $ x_i, y_i $ – значения переменных $ X $ и $ Y $.  \n",
        "- $ \\bar{x}, \\bar{y} $ – средние значения переменных $ X $ и $ Y $.  \n",
        "- Числитель – ковариация переменных $ X $ и $ Y $.  \n",
        "- Знаменатель – произведение стандартных отклонений $ X $ и $ Y $.\n"
      ]
    },
    {
      "cell_type": "code",
      "execution_count": null,
      "id": "8bba2e01-9b50-4edc-8a29-bac79094d1eb",
      "metadata": {
        "id": "8bba2e01-9b50-4edc-8a29-bac79094d1eb"
      },
      "outputs": [],
      "source": [
        "data_correlation = useful_data[selected_params_kks].corr()\n",
        "data_correlation.columns = selected_params_kks\n",
        "data_correlation.index = selected_params_kks\n",
        "sns.heatmap(data_correlation);"
      ]
    },
    {
      "cell_type": "markdown",
      "id": "ac92f22d-ab74-43f6-a6ad-75cd451b1fe1",
      "metadata": {
        "id": "ac92f22d-ab74-43f6-a6ad-75cd451b1fe1"
      },
      "source": [
        "В контексте промышленной аналитики **инвариантные значения** — это параметры или характеристики системы, которые **не изменяются при нормальном режиме работы** или остаются стабильными при определённых преобразованиях данных.  \n",
        "\n",
        "**Примеры инвариантных значений в промышленности**  \n",
        "\n",
        "*Физические константы процесса*\n",
        "   - Температура кипения воды в парогенераторе (при фиксированном давлении).  \n",
        "   - Коэффициент расширения материалов, если температура изменяется в допустимых пределах.  \n",
        "   - Энергетический КПД установки в стабильных условиях.  \n",
        "\n",
        "*Балансовые зависимости*\n",
        "   - Сумма массовых потоков (закон сохранения массы):  \n",
        "     $$\\sum \\dot{m}_{вход} = \\sum \\dot{m}_{выход}$$\n",
        "   - Закон сохранения энергии:  \n",
        "     $$Q_{вход} = Q_{выход} + потери$$\n",
        "   - Если в нормальном режиме работы нарушаются балансы, это признак утечки, накопления или ошибки измерения.  \n",
        "\n",
        "**Отношения между параметрами (эмпирические коэффициенты)**  \n",
        "   - Коэффициент сжатия газов при определённых условиях.  \n",
        "   - Удельный расход топлива на выработку единицы электроэнергии в ТЭС.  \n",
        "   - Отношение давления и температуры в газовой турбине при стационарных режимах.  \n",
        "\n",
        "**Инвариантность к внешним возмущениям**  \n",
        "   - Устойчивые параметры, которые не меняются при небольших внешних изменениях (например, давление в закрытой системе при неизменном объёме).  \n",
        "   - Вибрации и акустические шумы могут быть инвариантными в нормальном рабочем состоянии оборудования.  \n",
        "\n",
        "Такой параметр как **удельный расход топлива** можно считать инвариантом."
      ]
    },
    {
      "cell_type": "code",
      "execution_count": null,
      "id": "de683254-dde7-4304-bbee-7e98dc9d6e80",
      "metadata": {
        "id": "de683254-dde7-4304-bbee-7e98dc9d6e80"
      },
      "outputs": [],
      "source": [
        "useful_data['q'] = useful_data['GTA1.DBinPU.Qtg'] / useful_data['GTA1.DBinPU.P']\n",
        "kks_to_description['q'] = \"Удельный расход топлива\""
      ]
    },
    {
      "cell_type": "code",
      "execution_count": null,
      "id": "651f354d-d414-4bd1-8e1f-29f55d4f86c9",
      "metadata": {
        "id": "651f354d-d414-4bd1-8e1f-29f55d4f86c9"
      },
      "outputs": [],
      "source": [
        "useful_data.plot.scatter('GTA1.DBinPU.P', 'q');"
      ]
    },
    {
      "cell_type": "code",
      "execution_count": null,
      "id": "8fcb7092-bf31-4aaa-9922-3c7a00b34eb9",
      "metadata": {
        "id": "8fcb7092-bf31-4aaa-9922-3c7a00b34eb9"
      },
      "outputs": [],
      "source": [
        "print(useful_data.shape)\n",
        "useful_data = useful_data[useful_data['q'] > 0.27]\n",
        "print(useful_data.shape)"
      ]
    },
    {
      "cell_type": "markdown",
      "id": "3l9KtIC_w3tX",
      "metadata": {
        "id": "3l9KtIC_w3tX"
      },
      "source": [
        "Рассчитаем отношение некоторых признаков с хорошей взаимной корреляцией и построим зависимости этих отношений от температуры наружного воздуха и электрической мощности."
      ]
    },
    {
      "cell_type": "code",
      "execution_count": null,
      "id": "J2-8gIOYkJrs",
      "metadata": {
        "id": "J2-8gIOYkJrs"
      },
      "outputs": [],
      "source": [
        "matplotlib.rc('xtick', labelsize=20)\n",
        "matplotlib.rc('ytick', labelsize=20)\n",
        "\n",
        "useful_data['Qtg_P'] = useful_data['GTA1.DBinPU.Qtg'] / useful_data['GTA1.DBinPU.P']\n",
        "useful_data['Tt_Tk'] = useful_data['GTA1.DBinPU.Tt'] / useful_data['GTA1.DBinPU.Tk']\n",
        "useful_data['Aldi_Alvna'] = useful_data['GTA1.DBinPU.Aldi'] / useful_data['GTA1.DBinPU.Alvna']\n",
        "useful_data['ntk_Aldi'] = useful_data['GTA1.DBinPU.ntk'] / useful_data['GTA1.DBinPU.Alvna']\n",
        "useful_data['Pk_Alvna'] = useful_data['GTA1.DBinPU.Pk'] / useful_data['GTA1.DBinPU.Alvna']\n",
        "\n",
        "fig, ((ax1, ax2),\n",
        "    (ax3, ax4),\n",
        "     (ax5, ax6)) = plt.subplots(3, 2, figsize=(15, 10))\n",
        "\n",
        "ax1.plot(useful_data['GTA1.DBinPU.P'], useful_data['Qtg_P'], 'bo');\n",
        "ax1.set_yticklabels([])\n",
        "ax1.set_xticklabels([])\n",
        "ax1.set_ylabel(\"Qtg/P\", labelpad=-5, fontsize=20)\n",
        "ax1.set_xlabel(\"GTA1.DBinPU.P\", labelpad=-5, fontsize=20)\n",
        "ax2.plot(useful_data['GTA1.DBinPU.Tn'], useful_data['Qtg_P'], 'bo');\n",
        "ax2.set_yticklabels([])\n",
        "ax2.set_xticklabels([])\n",
        "ax2.set_ylabel(\"Qtg/P\", labelpad=-5, fontsize=20)\n",
        "ax2.set_xlabel(\"GTA1.DBinPU.Tn\", labelpad=-5, fontsize=20)\n",
        "ax3.plot(useful_data['GTA1.DBinPU.P'], useful_data['Tt_Tk'], 'bo');\n",
        "ax3.set_yticklabels([])\n",
        "ax3.set_xticklabels([])\n",
        "ax3.set_ylabel(\"Tt/Tk\", labelpad=-5, fontsize=20)\n",
        "ax3.set_xlabel(\"GTA1.DBinPU.P\", labelpad=-5, fontsize=20)\n",
        "ax4.plot(useful_data['GTA1.DBinPU.Tn'], useful_data['Tt_Tk'], 'bo');\n",
        "ax4.set_yticklabels([])\n",
        "ax4.set_xticklabels([])\n",
        "ax4.set_ylabel(\"Tt/Tk\", labelpad=-5, fontsize=20)\n",
        "ax4.set_xlabel(\"GTA1.DBinPU.Tn\", labelpad=-5, fontsize=20)\n",
        "ax5.plot(useful_data['GTA1.DBinPU.P'], useful_data['Aldi_Alvna'], 'bo');\n",
        "ax5.set_yticklabels([])\n",
        "ax5.set_xticklabels([])\n",
        "ax5.set_ylabel(\"Aldi/Alvna\", labelpad=-5, fontsize=20)\n",
        "ax5.set_xlabel(\"GTA1.DBinPU.P\", labelpad=-5, fontsize=20)\n",
        "ax6.plot(useful_data['GTA1.DBinPU.Tn'], useful_data['Aldi_Alvna'], 'bo');\n",
        "ax6.set_yticklabels([])\n",
        "ax6.set_xticklabels([])\n",
        "ax6.set_ylabel(\"Aldi/Alvna\", labelpad=-5, fontsize=20)\n",
        "ax6.set_xlabel(\"GTA1.DBinPU.Tn\", labelpad=-5, fontsize=20)"
      ]
    },
    {
      "cell_type": "markdown",
      "id": "nzihbvTezx8m",
      "metadata": {
        "id": "nzihbvTezx8m"
      },
      "source": [
        "На некоторых графиках заметны явно аномальные данные. Рассмотрим их подробнее."
      ]
    },
    {
      "cell_type": "code",
      "execution_count": null,
      "id": "IIVattbiw2rb",
      "metadata": {
        "id": "IIVattbiw2rb"
      },
      "outputs": [],
      "source": [
        "plt.plot(useful_data['GTA1.DBinPU.Tn'], useful_data['Tt_Tk'], 'bo');\n",
        "plt.ylabel(\"Tt/Tk\", labelpad=10, fontsize=20)\n",
        "plt.xlabel(\"GTA1.DBinPU.Tn\", labelpad=10, fontsize=20);\n",
        "\n",
        "# plt.ylim([1.64, 1.66]);"
      ]
    },
    {
      "cell_type": "code",
      "execution_count": null,
      "id": "v26CpcWezAW6",
      "metadata": {
        "id": "v26CpcWezAW6"
      },
      "outputs": [],
      "source": [
        "useful_data = useful_data[useful_data['Tt_Tk'] < 1.75]\n",
        "useful_data.shape"
      ]
    },
    {
      "cell_type": "markdown",
      "id": "oawzTs7S0Fko",
      "metadata": {
        "id": "oawzTs7S0Fko"
      },
      "source": [
        "Оставшиеся данные в основном состоят из нормальных стационарных режимов, на их основе можно разработать модель поиска аномалий."
      ]
    },
    {
      "cell_type": "markdown",
      "id": "97aa612a-3d82-4fad-a98c-3583fa260510",
      "metadata": {
        "id": "97aa612a-3d82-4fad-a98c-3583fa260510"
      },
      "source": [
        "### Сохранение подготовленных данных"
      ]
    },
    {
      "cell_type": "code",
      "execution_count": null,
      "id": "ceadbf63-f077-4388-82fa-636bf45c047a",
      "metadata": {
        "id": "ceadbf63-f077-4388-82fa-636bf45c047a"
      },
      "outputs": [],
      "source": [
        "useful_data[selected_params_kks].to_parquet(\"./data.gzip\", compression='gzip')"
      ]
    }
  ],
  "metadata": {
    "colab": {
      "provenance": [],
      "include_colab_link": true
    },
    "kernelspec": {
      "display_name": "Python 3 (ipykernel)",
      "language": "python",
      "name": "python3"
    },
    "language_info": {
      "codemirror_mode": {
        "name": "ipython",
        "version": 3
      },
      "file_extension": ".py",
      "mimetype": "text/x-python",
      "name": "python",
      "nbconvert_exporter": "python",
      "pygments_lexer": "ipython3",
      "version": "3.12.4"
    }
  },
  "nbformat": 4,
  "nbformat_minor": 5
}