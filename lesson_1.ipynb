{
  "cells": [
    {
      "cell_type": "markdown",
      "id": "a917d22e",
      "metadata": {
        "id": "a917d22e"
      },
      "source": [
        "<a href=\"https://colab.research.google.com/github/ArtyomShabunin/SMOPA-25/blob/main/lesson_1.ipynb\" target=\"_parent\"><img src=\"https://colab.research.google.com/assets/colab-badge.svg\" alt=\"Open In Colab\"/></a>"
      ]
    },
    {
      "cell_type": "markdown",
      "id": "rUToknuOOLQC",
      "metadata": {
        "id": "rUToknuOOLQC"
      },
      "source": [
        "<img src=\"https://prana-system.com/files/110/rds_color_full.png\" alt=\"tot image\" width=\"300\"  align=\"center\"/> &nbsp;&nbsp;&nbsp;&nbsp;&nbsp;&nbsp;&nbsp;&nbsp;\n",
        "<img src=\"https://mpei.ru/AboutUniverse/OficialInfo/Attributes/PublishingImages/logo1.jpg\" alt=\"mpei image\" width=\"200\" align=\"center\"/>\n",
        "<img src=\"https://mpei.ru/Structure/Universe/tanpe/structure/tfhe/PublishingImages/tot.png\" alt=\"tot image\" width=\"100\"  align=\"center\"/>\n",
        "\n",
        "---\n",
        "\n",
        "# **Системы машинного обучения и предиктивной аналитики в тепловой и возобновляемой энергетике**  \n",
        "\n",
        "# ***Практические занятия***\n",
        "\n",
        "\n",
        "---\n",
        "\n"
      ]
    },
    {
      "cell_type": "markdown",
      "id": "505bcd83-3951-4117-82f2-4b262a4884ad",
      "metadata": {
        "id": "505bcd83-3951-4117-82f2-4b262a4884ad"
      },
      "source": [
        "# Занятие №1\n",
        "# Python и библиотеки для анализа данных и математического моделирования\n",
        "**19 февраля 2025г.**\n",
        "\n",
        "---"
      ]
    },
    {
      "cell_type": "markdown",
      "id": "BWSbZvbfgYgb",
      "metadata": {
        "id": "BWSbZvbfgYgb"
      },
      "source": [
        "## Установка Python"
      ]
    },
    {
      "cell_type": "markdown",
      "id": "691d4af1-6994-49af-a54b-2831ed3da4a1",
      "metadata": {
        "id": "691d4af1-6994-49af-a54b-2831ed3da4a1"
      },
      "source": [
        "![anaconda image](https://www.anaconda.com/wp-content/uploads/2022/12/anaconda_secondary_logo.svg)\n",
        "\n",
        "**Anaconda** — дистрибутив языков программирования Python и R, включающий набор популярных свободных библиотек, объединённых проблематиками науки о данных и машинного обучения. Основная цель — поставка единым согласованным комплектом наиболее востребованных соответствующим кругом пользователей тематических модулей (таких как NumPy, SciPy, Astropy и других) с разрешением возникающих зависимостей и конфликтов, которые неизбежны при одиночной установке.\n",
        "\n",
        "* **Библиотеки.** Каждая из них включает определенный набор функций и объектов, предназначенный для решения конкретных задач — например, работы с массивами данных, астрономических вычислений, обработки изображений, построения и тренировки нейронных сетей, различных инженерных расчетов, статистического анализа и т.д. Всего в пакет Anaconda входит около 1500 библиотек, объединенных научной и инженерной тематикой.\n",
        "* **Менеджер пакетов Conda.** Это программное обеспечение, предназначенное для установки пакетов ПО и библиотек, быстрого переключения между их версиями, загрузки и инсталляции обновлений.\n",
        "\n",
        "  * Автоматически отслеживает зависимости и устанавливает корректные версии пакетов.\n",
        "  * Решает конфликты зависимостей при установке.\n",
        "  * Можно устанавливать библиотеки, написанные на C/C++ (например, numpy, scipy, tensorflow) без проблем с компиляцией.\n",
        "\n",
        "* **Менеджер виртуальной среды.** Это инструмент для создания, управления и переключения виртуальных сред в Conda. Он позволяет изолировать зависимости различных проектов, избегая конфликтов между пакетами. Основные возможности ```conda env```:\n",
        "\n",
        "  * Создание виртуальных сред с определенными версиями Python и библиотек.\n",
        "  * Управление зависимостями внутри среды.\n",
        "  * Переключение между средами без влияния на системные пакеты.\n",
        "  * Экспорт и импорт среды для воспроизводимости проектов.\n",
        "  * Удаление ненужных сред для освобождения места.\n",
        "\n",
        "* **GIU Anaconda Navigator.** GUI (graphic user interface) — графический интерфейс пользователя, то есть программная оболочка, в которой можно работать с библиотеками не с помощью текстовых команд, а используя визуальные элементы, такие как блоки, модули, графики и т.д. «Анаконда Навигатор» существенно упрощает взаимодействие с библиотеками, делает работу менее однообразной и утомительной, повышает наглядность рабочего процесса.\n",
        "\n",
        "https://www.anaconda.com/"
      ]
    },
    {
      "cell_type": "markdown",
      "id": "75eefba0",
      "metadata": {
        "id": "75eefba0"
      },
      "source": [
        "### Работа с виртуальным окружением через терминал\n",
        "С помощью виртуального окружения можно создать изолированный контейнер с нужными версиями под каждую задачу.  \n",
        "\n",
        "Узнать установленную версию python  \n",
        "```conda list python -f```\n",
        "\n",
        "Создание нового виртуального окружения  \n",
        "```conda create --name myenv python=3.7```\n",
        "\n",
        "Установка вирутального окружения  \n",
        "```conda env create -f environment.yml```\n",
        "\n",
        "Активация виртуального окружения  \n",
        "```conda activate mpei```\n",
        "\n",
        "Деактивация виртуального окружения  \n",
        "```conda deactivae mpei```\n",
        "\n",
        "Посмотреть список доступных окружений  \n",
        "```conda env list```\n",
        "\n",
        "Удалить окружение  \n",
        "```conda remove -n mpei --all```"
      ]
    },
    {
      "cell_type": "markdown",
      "id": "89_mGW-jgqba",
      "metadata": {
        "id": "89_mGW-jgqba"
      },
      "source": [
        "## Инструмент разработки"
      ]
    },
    {
      "cell_type": "markdown",
      "id": "e101fee9-041a-45b7-b025-ffe2df795f9f",
      "metadata": {
        "id": "e101fee9-041a-45b7-b025-ffe2df795f9f"
      },
      "source": [
        "![jupyter image](https://jupyter.org/assets/logos/rectanglelogo-greytext-orangebody-greymoons.svg)\n",
        "\n",
        "**Jupyter Notebok** — браузерный инструмент для оформления красивой и информативной аналитики, совместного хранения кода, картинок, примечаний, диаграмм, формул и т.д.\n",
        "\n",
        "В мире Data Science Jupyter-ноутбук уже несколько лет считается одним из популярных инструментов для анализа данных и быстрого прототипирования.\n",
        "\n",
        "Один из плюсов этого инструмента в том, что код можно разделить на кусочки и работать над ними в любом порядке. Например, написать скрипт и сразу посмотреть, как он работает. Остальные фрагменты кода при этом запускать не нужно, результат появляется тут же, под частью кода.\n",
        "\n",
        "```$ jupyter notebook```"
      ]
    },
    {
      "cell_type": "markdown",
      "id": "5340fa8b-5b94-4a49-b5ac-1a56cdf700de",
      "metadata": {
        "id": "5340fa8b-5b94-4a49-b5ac-1a56cdf700de"
      },
      "source": [
        "\n",
        "<!-- ![colab image](https://upload.wikimedia.org/wikipedia/commons/thumb/d/d0/Google_Colaboratory_SVG_Logo.svg/2560px-Google_Colaboratory_SVG_Logo.svg.png width=\"100\") -->\n",
        "\n",
        "<img src=\"https://upload.wikimedia.org/wikipedia/commons/thumb/d/d0/Google_Colaboratory_SVG_Logo.svg/2560px-Google_Colaboratory_SVG_Logo.svg.png\" alt=\"numpy image\" width=\"200\"/>\n",
        "\n",
        "**Google colab** - это облачный сервис от Google, который позволяет писать и выполнять Python-код в браузере без установки дополнительных программ.\n"
      ]
    },
    {
      "cell_type": "markdown",
      "id": "WwiJ41KgS5eq",
      "metadata": {
        "id": "WwiJ41KgS5eq"
      },
      "source": [
        "Для каждого notebook выделяется среда выполнения со своими ресурсами."
      ]
    },
    {
      "cell_type": "markdown",
      "id": "Pz_uc5KI0ytA",
      "metadata": {
        "id": "Pz_uc5KI0ytA"
      },
      "source": [
        "Подключение **Google Drive**"
      ]
    },
    {
      "cell_type": "code",
      "execution_count": null,
      "id": "J-Gk5xBE1Oz1",
      "metadata": {
        "id": "J-Gk5xBE1Oz1"
      },
      "outputs": [],
      "source": [
        "# !touch /content/drive/MyDrive/hello.txt\n",
        "# !echo 'Привет всем!' > hello.txt\n",
        "# !rm /content/drive/MyDrive/hello.txt"
      ]
    },
    {
      "cell_type": "code",
      "execution_count": null,
      "id": "i6NNHbQ_zd0Q",
      "metadata": {
        "id": "i6NNHbQ_zd0Q"
      },
      "outputs": [],
      "source": [
        "# !ls -l"
      ]
    },
    {
      "cell_type": "code",
      "execution_count": null,
      "id": "O8uGnKDbzllD",
      "metadata": {
        "id": "O8uGnKDbzllD"
      },
      "outputs": [],
      "source": [
        "# from google.colab import drive\n",
        "# drive.mount('/content/drive')"
      ]
    },
    {
      "cell_type": "markdown",
      "id": "a075bb56-1f8c-484f-9bf0-0abb08906268",
      "metadata": {
        "id": "a075bb56-1f8c-484f-9bf0-0abb08906268"
      },
      "source": [
        "## Библиотеки"
      ]
    },
    {
      "cell_type": "markdown",
      "id": "9d265493-2077-4e35-b100-2106d4ddc3c4",
      "metadata": {
        "id": "9d265493-2077-4e35-b100-2106d4ddc3c4"
      },
      "source": [
        "<!-- ![numpy image](https://numpy.org/images/logo.svg) -->\n",
        "<img src=\"https://numpy.org/images/logo.svg\" alt=\"numpy image\" width=\"100\"/>\n",
        "\n",
        "**NumPy** это open-source модуль для python, который предоставляет общие математические и числовые операции в виде пре-скомпилированных, быстрых функций. Они объединяются в высокоуровневые пакеты. Они обеспечивают функционал, который можно сравнить с функционалом MatLab. NumPy (Numeric Python) предоставляет базовые методы для манипуляции с большими массивами и матрицами.\n",
        "\n",
        "*Входит в дистрибутив Anaconda*"
      ]
    },
    {
      "cell_type": "markdown",
      "id": "0be30f55-06f2-41e4-a4ec-6ed7d928b0b6",
      "metadata": {
        "id": "0be30f55-06f2-41e4-a4ec-6ed7d928b0b6"
      },
      "source": [
        "<!-- ![pandas image](https://encrypted-tbn0.gstatic.com/images?q=tbn:ANd9GcTKPePf0eI9lrP20Ym-P0v-_B2yB6IHRoQiWw&s) -->\n",
        "<img src=\"https://encrypted-tbn0.gstatic.com/images?q=tbn:ANd9GcTKPePf0eI9lrP20Ym-P0v-_B2yB6IHRoQiWw&s\" alt=\"pandas image\" width=\"200\"/>\n",
        "\n",
        "**Pandas** — программная библиотека на языке Python для обработки и анализа данных. Работа pandas с данными строится поверх библиотеки NumPy, являющейся инструментом более низкого уровня. Предоставляет специальные структуры данных и операции для манипулирования числовыми таблицами и временны́ми рядами. Название библиотеки происходит от эконометрического термина «панельные данные», используемого для описания многомерных структурированных наборов информации.\n",
        "\n",
        "*Входит в дистрибутив Anaconda*"
      ]
    },
    {
      "cell_type": "markdown",
      "id": "4f8d64e5-ca0f-4e26-8e78-48d790f05cda",
      "metadata": {
        "id": "4f8d64e5-ca0f-4e26-8e78-48d790f05cda"
      },
      "source": [
        "![sklearn image](https://scikit-learn.org/stable/_static/scikit-learn-logo-small.png)\n",
        "\n",
        "**Scikit-learn** — библиотека, предназначенная для машинного обучения, написанная на языке программирования Python и распространяемая в виде свободного программного обеспечения.\n",
        "\n",
        "В её состав входят различные алгоритмы, в том числе предназначенные для задач классификации, регрессионного и кластерного анализа данных, включая метод опорных векторов, метод случайного леса, алгоритм усиления градиента, метод k-средних и DBSCAN. Библиотека была разработана для взаимодействия с численными и научными библиотеками языка программирования Python NumPy и SciPy.\n",
        "\n",
        "*Входит в дистрибутив Anaconda*"
      ]
    },
    {
      "cell_type": "markdown",
      "id": "e6e50e14-3406-4666-9bda-c146c1601c8b",
      "metadata": {
        "id": "e6e50e14-3406-4666-9bda-c146c1601c8b"
      },
      "source": [
        "<!-- ![pytorch image](https://upload.wikimedia.org/wikipedia/commons/9/96/Pytorch_logo.png) -->\n",
        "<img src=\"https://upload.wikimedia.org/wikipedia/commons/9/96/Pytorch_logo.png\" alt=\"pytorch image\" width=\"200\"/>\n",
        "\n",
        "**PyTorch** — фреймворк машинного обучения для языка Python с открытым исходным кодом, созданный на базе Torch. Используется для решения различных задач: компьютерное зрение, обработка естественного языка и т.д. Разрабатывается преимущественно группой искусственного интеллекта Facebook.\n",
        "\n",
        "```conda install pytorch::pytorch```"
      ]
    },
    {
      "cell_type": "markdown",
      "id": "9e531b3d-fc28-4b44-b0fe-d0ad977cf5f2",
      "metadata": {
        "id": "9e531b3d-fc28-4b44-b0fe-d0ad977cf5f2"
      },
      "source": [
        "<!-- ![matplotlib image](https://matplotlib.org/_static/logo_light.svg) -->\n",
        "<img src=\"https://matplotlib.org/_static/logo_light.svg\" alt=\"matplotlib image\" width=\"200\"/>\n",
        "\n",
        "**Matplotlib** — библиотека на языке программирования Python для визуализации данных двумерной и трёхмерной графикой. Получаемые изображения могут быть использованы в качестве иллюстраций в публикациях.\n",
        "\n",
        "*Входит в дистрибутив Anaconda*"
      ]
    },
    {
      "cell_type": "markdown",
      "id": "67a1567d-cef8-49a2-bc47-f6c3260c49ed",
      "metadata": {
        "id": "67a1567d-cef8-49a2-bc47-f6c3260c49ed"
      },
      "source": [
        "<img src=\"https://upload.wikimedia.org/wikipedia/commons/8/8a/Plotly-logo.png\" alt=\"plotly image\" width=\"200\"/>\n",
        "\n",
        "**Plotly** — библиотека для визуализации данных. Plotly позволяет строить интерактивные визуализации. С помощью Plotly можно как изучать какие-то данные «на лету» (не перестраивая график в matplotlib, изменяя масштаб, включая/выключая какие-то данные), так и построить полноценный интерактивный отчёт (дашборд).\n",
        "\n",
        "*Входит в дистрибутив Anaconda*"
      ]
    },
    {
      "cell_type": "markdown",
      "id": "cUrbZQE50XRu",
      "metadata": {
        "id": "cUrbZQE50XRu"
      },
      "source": [
        "## Работа с данными в Pandas"
      ]
    },
    {
      "cell_type": "markdown",
      "id": "E-_G4iWv0keu",
      "metadata": {
        "id": "E-_G4iWv0keu"
      },
      "source": [
        "Импортируем библиотеку. Pandas обычно импортируется как `pd`:"
      ]
    },
    {
      "cell_type": "code",
      "execution_count": null,
      "id": "f640ce2c-c53a-4839-8472-d0b90028ba6a",
      "metadata": {
        "id": "f640ce2c-c53a-4839-8472-d0b90028ba6a"
      },
      "outputs": [],
      "source": [
        "import pandas as pd\n",
        "import warnings\n",
        "warnings.filterwarnings('ignore')"
      ]
    },
    {
      "cell_type": "markdown",
      "id": "SSVhwQvA5bv8",
      "metadata": {
        "id": "SSVhwQvA5bv8"
      },
      "source": [
        "#### Pandas Series\n",
        "\n",
        "Одной из основных структур данных в библиотеке Pandas является Pandas Series. Элемент Pandas Series похож на столбец в таблице: это одномерный массив, содержащий данные любого типа.\n",
        "\n",
        "Элементы Pandas Series помечаются номерами индексов. По умолчанию первое значение имеет индекс 0, второе - индекс 1 и т. д.\n",
        "\n",
        "Заведем столбец Series из обычного питоновского списка:"
      ]
    },
    {
      "cell_type": "code",
      "execution_count": null,
      "id": "8GQcguqK5STJ",
      "metadata": {
        "id": "8GQcguqK5STJ"
      },
      "outputs": [],
      "source": [
        "a = [1, 7, 2]\n",
        "series = pd.Series(a)\n",
        "series"
      ]
    },
    {
      "cell_type": "code",
      "execution_count": null,
      "id": "W2WkKKCjkmWh",
      "metadata": {
        "id": "W2WkKKCjkmWh"
      },
      "outputs": [],
      "source": [
        "print(series.shape)"
      ]
    },
    {
      "cell_type": "markdown",
      "id": "N5jdpZu66IIe",
      "metadata": {
        "id": "N5jdpZu66IIe"
      },
      "source": [
        "Доступ к элементам"
      ]
    },
    {
      "cell_type": "code",
      "execution_count": null,
      "id": "v-udkWtL5SfZ",
      "metadata": {
        "id": "v-udkWtL5SfZ"
      },
      "outputs": [],
      "source": [
        "print(series.loc[0])\n",
        "print(series.iloc[0])"
      ]
    },
    {
      "cell_type": "code",
      "execution_count": null,
      "id": "kidT9mYe7WlA",
      "metadata": {
        "id": "kidT9mYe7WlA"
      },
      "outputs": [],
      "source": [
        "series = pd.Series(a, index = [\"x\", \"y\", \"z\"])"
      ]
    },
    {
      "cell_type": "code",
      "execution_count": null,
      "id": "7yh2sX2e7cmK",
      "metadata": {
        "id": "7yh2sX2e7cmK"
      },
      "outputs": [],
      "source": [
        "print(series.loc[\"y\"])\n",
        "print(series.iloc[1])"
      ]
    },
    {
      "cell_type": "markdown",
      "id": "uIgF8aNT6kse",
      "metadata": {
        "id": "uIgF8aNT6kse"
      },
      "source": [
        "Срез (slicing) - операция извлечения части данных."
      ]
    },
    {
      "cell_type": "code",
      "execution_count": null,
      "id": "2qzhle2m6kBB",
      "metadata": {
        "id": "2qzhle2m6kBB"
      },
      "outputs": [],
      "source": [
        "series.iloc[1:]"
      ]
    },
    {
      "cell_type": "code",
      "execution_count": null,
      "id": "WfhkzapJjFoK",
      "metadata": {
        "id": "WfhkzapJjFoK"
      },
      "outputs": [],
      "source": [
        "series.iloc[[0,2]]"
      ]
    },
    {
      "cell_type": "code",
      "execution_count": null,
      "id": "oVcxwGRj6GlQ",
      "metadata": {
        "id": "oVcxwGRj6GlQ"
      },
      "outputs": [],
      "source": [
        "series.loc[\"y\":]"
      ]
    },
    {
      "cell_type": "markdown",
      "id": "bk2KSyjb77gJ",
      "metadata": {
        "id": "bk2KSyjb77gJ"
      },
      "source": [
        "#### Pandas DataFrame\n",
        "\n",
        "Столбец — это хорошо, но мы чаще работаем с целыми таблицами данных (наборами столбцов). Тип данных, соответствующий таблице — DataFrame.\n",
        "\n",
        "Pandas DataFrame - это двумерная структура данных, подобная двумерному массиву или таблице со строками и столбцами. Иными словами, Pandas Series - это один столбец таблицы, а DataFrame - это вся таблица."
      ]
    },
    {
      "cell_type": "code",
      "execution_count": null,
      "id": "y9iX-KCx76dM",
      "metadata": {
        "id": "y9iX-KCx76dM"
      },
      "outputs": [],
      "source": [
        "data = {\n",
        "    \"power_MW\": [330, 313.5, 300, 250, 200, 150, 136.5, 120],\n",
        "    \"main_steam_t_hr\": [535, 470, 455, 395, 350, 305, 280, 270],\n",
        "    \"pressure_main_steam_bar\": [255, 252, 250, 247, 205, 155, 142, 123]\n",
        "}\n",
        "\n",
        "# можно создать таблицу из Python Dict\n",
        "# keys словаря будут названиями столбцов\n",
        "df = pd.DataFrame(data)\n",
        "df"
      ]
    },
    {
      "cell_type": "markdown",
      "id": "xDwvslcZ9nE1",
      "metadata": {
        "id": "xDwvslcZ9nE1"
      },
      "source": [
        "Доступ к отдельному столбцу таблицы можно получить по названию этого столбца (индексация):"
      ]
    },
    {
      "cell_type": "code",
      "execution_count": null,
      "id": "XFy4Nojs6GoS",
      "metadata": {
        "id": "XFy4Nojs6GoS"
      },
      "outputs": [],
      "source": [
        "df['power_MW']"
      ]
    },
    {
      "cell_type": "code",
      "execution_count": null,
      "id": "Yia-zvj1ped1",
      "metadata": {
        "id": "Yia-zvj1ped1"
      },
      "outputs": [],
      "source": [
        "df[['power_MW', 'main_steam_t_hr']]"
      ]
    },
    {
      "cell_type": "markdown",
      "id": "cIY1fgCd9wao",
      "metadata": {
        "id": "cIY1fgCd9wao"
      },
      "source": [
        "Доступ к строке таблицы также осуществляется с помощью .loc и .iloc:"
      ]
    },
    {
      "cell_type": "code",
      "execution_count": null,
      "id": "8Jsdl2wo6Grr",
      "metadata": {
        "id": "8Jsdl2wo6Grr"
      },
      "outputs": [],
      "source": [
        "print(df.iloc[1])\n",
        "print()\n",
        "print(df.loc[1])"
      ]
    },
    {
      "cell_type": "markdown",
      "id": "zpirD-Kk-BJa",
      "metadata": {
        "id": "zpirD-Kk-BJa"
      },
      "source": [
        "#### Создание таблицы Pandas DataFrame из файла"
      ]
    },
    {
      "cell_type": "markdown",
      "id": "pCpnnuZXTyhD",
      "metadata": {
        "id": "pCpnnuZXTyhD"
      },
      "source": [
        "Скачаем два файла в формате .csv и создадим из них таблицы DataFrame"
      ]
    },
    {
      "cell_type": "code",
      "execution_count": null,
      "id": "091a311d-4e28-4203-9769-e8bd727654c2",
      "metadata": {
        "id": "091a311d-4e28-4203-9769-e8bd727654c2"
      },
      "outputs": [],
      "source": [
        "import gdown\n",
        "gdown.download('https://drive.google.com/uc?id=17YX6P0YMTx12oNVPcuwGAQgKLOkA5Efy', verify=False)\n",
        "gdown.download('https://drive.google.com/uc?id=17_utMiYF01v1eDJeqkua8JNDzlQ6_pBe', verify=False)"
      ]
    },
    {
      "cell_type": "code",
      "execution_count": null,
      "id": "dgh0JzPG0Pn8",
      "metadata": {
        "id": "dgh0JzPG0Pn8"
      },
      "outputs": [],
      "source": [
        "df1 = pd.read_csv('./turbohackathon_task2_df1.csv')\n",
        "df2 = pd.read_csv('./turbohackathon_task2_df2.csv')"
      ]
    },
    {
      "cell_type": "markdown",
      "id": "uiv54aS5UEQ4",
      "metadata": {
        "id": "uiv54aS5UEQ4"
      },
      "source": [
        "В файлах представлены данные с ТЭЦ.  \n",
        "Первый файл содержит данные о почасовых значения выработки электрической/тепловой энергии и расхода топлива.  \n",
        "Второй файл содержит посуточную информацию о состоянии основного и вспомогательного оборудования."
      ]
    },
    {
      "cell_type": "markdown",
      "id": "NfeI7noKW2Hd",
      "metadata": {
        "id": "NfeI7noKW2Hd"
      },
      "source": [
        "Метод `.head()` позволяет вывести первые несколько строк таблицы в красивом формате."
      ]
    },
    {
      "cell_type": "code",
      "execution_count": null,
      "id": "ENyQanIE0Pq5",
      "metadata": {
        "id": "ENyQanIE0Pq5"
      },
      "outputs": [],
      "source": [
        "df1.head()"
      ]
    },
    {
      "cell_type": "markdown",
      "id": "0fR6W-1X20_y",
      "metadata": {
        "id": "0fR6W-1X20_y"
      },
      "source": [
        "*Обоначения колонок*  \n",
        "**TG4_kWhr, TG5_kWhr, TG6_kWhr, TG9_kWhr, TG10_kWhr** - выработка электроэнергии ТГ-4, 5, 6, 9, и 10 в кВт\\*ч;  \n",
        "**sum_kWhr** - суммарная выработка электроэнергии, кВт\\*ч;  \n",
        "**B_1e3m3** - суммарный расход газообразного топлива, тыс. м$^{3}$;  \n",
        "**Q_gcalhr** - тепло отпущенное с сетевой водой, Гкал/ч."
      ]
    },
    {
      "cell_type": "code",
      "execution_count": null,
      "id": "6AcSDMt70Pu1",
      "metadata": {
        "id": "6AcSDMt70Pu1"
      },
      "outputs": [],
      "source": [
        "df2.head(7)"
      ]
    },
    {
      "cell_type": "markdown",
      "id": "QwyPENgXBFlG",
      "metadata": {
        "id": "QwyPENgXBFlG"
      },
      "source": [
        "*Обозначения колонок*  \n",
        "**TG4, TG5, TG6, TG9,\tTG10** - вкл./откл. состояние турбогенератора;  \n",
        "**SB4, SB5, SB6, SB8, SB9, SB10** - вкл./откл. состояние парового котла;  \n",
        "**OB1A, OB1B, OB2A, OB2B, OB3A, OB3B** - вкл./откл. состояние основного бойлера;  \n",
        "**SPG1, SPG2** - вкл./откл. состояние горизонтального сетевого подогревателя;  \n",
        "**PB1, PB2** - вкл./откл. состояние пикового бойлера;  \n",
        "**PSV_degC, OSV_degC** - температура прямой и обратной сетевой воды, $^\\circ$C;  \n",
        "**Gsv_ton** - расход сетевой воды, т;  \n",
        "**s10ata_Gcalhr, s16ata_Gcalhr, s30ata_Gcalhr**- тепло отпускаемое с паром 10ата, 16ата и 30 ата промышленному потребителю, Гкал/ч;  \n",
        "**s10ata_tonhr, s16ata_tonhr, s30ata_tonhr** - расход пара промышленным потребителям, т/ч;  \n",
        "**sum_fw_ton** - расход питательной воды, т;  \n",
        "**sum_min_MW, sum_max_MW** - суммарная минимальная и максимальная электрическая нагрузка, МВт;  \n",
        "**FWP5, FWP6, FWP7, FWP8, FWP9, FWP10, FWP11, FWP12** - вкл./откл. состояние питательного электронасоса (ПЭН);  \n",
        "**SEN1, SEN2, SEN3, SEN4, SEN5, SEN6, SEN7** - вкл./откл. состояние сетевого электронасоса;  \n",
        "**SEN1I, SEN2I, SEN3I** - вкл./откл. состояние сетевого электронасоса 1-го подъема;  \n",
        "**SEN1II, SEN2II, SEN3II, SEN4II** - вкл./откл. состояние сетевого электронасоса 2-го подъема;  \n",
        "**CN3a, CN3b, CN4a, CN4b, CN5a, CN5b, CN9a, CN9b** - вкл./откл. состояние циркуляционного электронасоса;  \n",
        "**tower_5a, tower_5b, tower_6a, tower_6b, tower_7a, tower_7b** - вкл./откл. состояние градирни;  \n",
        "**Ifwp_kWhrton** - удельное потребление электроэнергии ПЭН, кВт\\*ч/т;  \n",
        "**tamb** - температура наружного воздуха, $^\\circ$C;  \n",
        "**WB** - вкл./откл. состояние водогрейного котла;  \n",
        "**Gfw** - средний расход питательной воды, т/ч.\n",
        "\n",
        "\\* состояние оборудование определяется значениями 0, 1, 2:\n",
        "* 0 - оборудование не работало;\n",
        "* 1 - оборудование работало полные сутки;\n",
        "* 2 - оборудование работало не полные сутки"
      ]
    },
    {
      "cell_type": "markdown",
      "id": "P9WOrAYaXE1P",
      "metadata": {
        "id": "P9WOrAYaXE1P"
      },
      "source": [
        "Метод `.sample()` позволяет вывести рандомные строки.  \n",
        "Метод `.tail()` позволяет вывести последние строки."
      ]
    },
    {
      "cell_type": "code",
      "execution_count": null,
      "id": "da4pw-rX4vZI",
      "metadata": {
        "id": "da4pw-rX4vZI"
      },
      "outputs": [],
      "source": [
        "df1.sample(3)"
      ]
    },
    {
      "cell_type": "code",
      "execution_count": null,
      "id": "3gx82H2MXdAK",
      "metadata": {
        "id": "3gx82H2MXdAK"
      },
      "outputs": [],
      "source": [
        "df2.tail()"
      ]
    },
    {
      "cell_type": "code",
      "execution_count": null,
      "id": "IwEomKM3Yu96",
      "metadata": {
        "id": "IwEomKM3Yu96"
      },
      "outputs": [],
      "source": [
        "df1 = pd.read_csv(\n",
        "    './turbohackathon_task2_df1.csv',\n",
        "    parse_dates=[\"data\"],\n",
        "    index_col=\"data\",)\n",
        "\n",
        "df2 = pd.read_csv(\n",
        "    './turbohackathon_task2_df2.csv',\n",
        "    parse_dates=[\"date\"],\n",
        "    index_col=\"date\",)"
      ]
    },
    {
      "cell_type": "code",
      "execution_count": null,
      "id": "SUoTDcYhZAhb",
      "metadata": {
        "id": "SUoTDcYhZAhb"
      },
      "outputs": [],
      "source": [
        "df1.index"
      ]
    },
    {
      "cell_type": "markdown",
      "id": "KRIM3AG0Oa6s",
      "metadata": {
        "id": "KRIM3AG0Oa6s"
      },
      "source": [
        "Тип datetime"
      ]
    },
    {
      "cell_type": "code",
      "execution_count": null,
      "id": "lDr7Bo1tOZwb",
      "metadata": {
        "id": "lDr7Bo1tOZwb"
      },
      "outputs": [],
      "source": [
        "pd.to_datetime('2023-12-31 14:00:00')"
      ]
    },
    {
      "cell_type": "code",
      "execution_count": null,
      "id": "35frD37zOkXL",
      "metadata": {
        "id": "35frD37zOkXL"
      },
      "outputs": [],
      "source": [
        "pd.to_datetime('2023-12-31 14:00:00') - pd.to_datetime('2023-12-31 13:00:00')"
      ]
    },
    {
      "cell_type": "code",
      "execution_count": null,
      "id": "lVrm0zJ9PKCV",
      "metadata": {
        "id": "lVrm0zJ9PKCV"
      },
      "outputs": [],
      "source": [
        "pd.Timedelta('1d')"
      ]
    },
    {
      "cell_type": "code",
      "execution_count": null,
      "id": "U9eCAKX2OuJp",
      "metadata": {
        "id": "U9eCAKX2OuJp"
      },
      "outputs": [],
      "source": [
        "pd.to_datetime('2023-12-31 14:00:00') - pd.Timedelta('1d')"
      ]
    },
    {
      "cell_type": "markdown",
      "id": "h5z7sg1KYF8W",
      "metadata": {
        "id": "h5z7sg1KYF8W"
      },
      "source": [
        "С помощью методов .loc и .iloc можно посмотреть отдельную строку или строки."
      ]
    },
    {
      "cell_type": "code",
      "execution_count": null,
      "id": "Nyq22yBtYENh",
      "metadata": {
        "id": "Nyq22yBtYENh"
      },
      "outputs": [],
      "source": [
        "df1.loc[\"2023-09-01 21:00:00\"]"
      ]
    },
    {
      "cell_type": "code",
      "execution_count": null,
      "id": "UEHmL0X_YEjj",
      "metadata": {
        "id": "UEHmL0X_YEjj"
      },
      "outputs": [],
      "source": [
        "df1.loc[\"2023-09-01 00:00:00\":\"2023-09-01 06:00:00\"]"
      ]
    },
    {
      "cell_type": "code",
      "execution_count": null,
      "id": "Tq6IgmarPO6N",
      "metadata": {
        "id": "Tq6IgmarPO6N"
      },
      "outputs": [],
      "source": [
        "df1.loc[\"2023-09-01 00:00:00\":pd.to_datetime(\"2023-09-01 00:00:00\") + pd.Timedelta('7d')]"
      ]
    },
    {
      "cell_type": "code",
      "execution_count": null,
      "id": "8zZ8mYEyjffW",
      "metadata": {
        "id": "8zZ8mYEyjffW"
      },
      "outputs": [],
      "source": [
        "df1.iloc[100:103]"
      ]
    },
    {
      "cell_type": "code",
      "execution_count": null,
      "id": "AbkooVTtj9cJ",
      "metadata": {
        "id": "AbkooVTtj9cJ"
      },
      "outputs": [],
      "source": [
        "df1.loc[[\"2023-09-01 00:00:00\", \"2023-10-01 00:00:00\", \"2023-11-01 00:00:00\"]]"
      ]
    },
    {
      "cell_type": "markdown",
      "id": "eM5DoqI3kzfG",
      "metadata": {
        "id": "eM5DoqI3kzfG"
      },
      "source": [
        "Доступ к колонке"
      ]
    },
    {
      "cell_type": "code",
      "execution_count": null,
      "id": "ksEvFu4sku6t",
      "metadata": {
        "id": "ksEvFu4sku6t"
      },
      "outputs": [],
      "source": [
        "df1[\"sum_kWhr\"]"
      ]
    },
    {
      "cell_type": "code",
      "execution_count": null,
      "id": "hutpzYv5kvJX",
      "metadata": {
        "id": "hutpzYv5kvJX"
      },
      "outputs": [],
      "source": [
        "df1.loc[\"2023-09-01 00:00:00\", \"sum_kWhr\"]"
      ]
    },
    {
      "cell_type": "code",
      "execution_count": null,
      "id": "hpPfctmhlRjJ",
      "metadata": {
        "id": "hpPfctmhlRjJ"
      },
      "outputs": [],
      "source": [
        "df1.loc[\"2023-09-01 00:00:00\":\"2023-09-01 04:00:00\", [\"sum_kWhr\", \"Q_gcalhr\"]]"
      ]
    },
    {
      "cell_type": "code",
      "execution_count": null,
      "id": "I9kLZj9FlRtj",
      "metadata": {
        "id": "I9kLZj9FlRtj"
      },
      "outputs": [],
      "source": [
        "df1.iloc[400:405, 1:3]"
      ]
    },
    {
      "cell_type": "markdown",
      "id": "k0oNI3lnsk1-",
      "metadata": {
        "id": "k0oNI3lnsk1-"
      },
      "source": [
        "Для более точного контроля лучше использовать ```loc[]``` и ```iloc[]```, а не ```df[]```."
      ]
    },
    {
      "cell_type": "markdown",
      "id": "6y7r67ODnPQ7",
      "metadata": {
        "id": "6y7r67ODnPQ7"
      },
      "source": [
        "Фильтрация строк"
      ]
    },
    {
      "cell_type": "code",
      "execution_count": null,
      "id": "fUa68-i2qEdK",
      "metadata": {
        "id": "fUa68-i2qEdK"
      },
      "outputs": [],
      "source": [
        "df2[\"TG6\"] == 0"
      ]
    },
    {
      "cell_type": "code",
      "execution_count": null,
      "id": "eW3wK0K4lRw0",
      "metadata": {
        "id": "eW3wK0K4lRw0"
      },
      "outputs": [],
      "source": [
        "df2[df2[\"TG6\"] == 0].head()"
      ]
    },
    {
      "cell_type": "code",
      "execution_count": null,
      "id": "Ey6CfFkxlR0B",
      "metadata": {
        "id": "Ey6CfFkxlR0B"
      },
      "outputs": [],
      "source": [
        "df2[(df2[\"tamb\"] > 20) & (df2[\"TG6\"] == 0)]"
      ]
    },
    {
      "cell_type": "markdown",
      "id": "TLlnL7FlpsRq",
      "metadata": {
        "id": "TLlnL7FlpsRq"
      },
      "source": [
        "**&** соответствует \"и\", **|** соответствует \"или\""
      ]
    },
    {
      "cell_type": "markdown",
      "id": "oufSC_ftqG2q",
      "metadata": {
        "id": "oufSC_ftqG2q"
      },
      "source": [
        "Также, получая доступ к элементу с помощью .loc(), можно обновить значение этого элемента в таблице. Пересчитаем Гкал/ч тепловой нагруки в МВт\n",
        "\n",
        "Вот как сейчас выглядят наши данные:"
      ]
    },
    {
      "cell_type": "code",
      "execution_count": null,
      "id": "lohC0th-usMf",
      "metadata": {
        "id": "lohC0th-usMf"
      },
      "outputs": [],
      "source": [
        "df1.head()"
      ]
    },
    {
      "cell_type": "markdown",
      "id": "_W_YfPbEwSKQ",
      "metadata": {
        "id": "_W_YfPbEwSKQ"
      },
      "source": [
        "Создадим копию колонки которую хотим изменить"
      ]
    },
    {
      "cell_type": "code",
      "execution_count": null,
      "id": "SWAKLCj4v8yL",
      "metadata": {
        "id": "SWAKLCj4v8yL"
      },
      "outputs": [],
      "source": [
        "Q_gcalhr = df1[\"Q_gcalhr\"].copy()"
      ]
    },
    {
      "cell_type": "code",
      "execution_count": null,
      "id": "1UQmeHPHvFSX",
      "metadata": {
        "id": "1UQmeHPHvFSX"
      },
      "outputs": [],
      "source": [
        "# df1.loc[:, [\"Q_gcalhr\"]] = round(df1.loc[:, [\"Q_gcalhr\"]] * 4.184/3.6).astype(\"Int64\")\n",
        "df1.loc[:, [\"Q_gcalhr\"]] = round(df1.loc[:, [\"Q_gcalhr\"]] * 4.184/3.6)"
      ]
    },
    {
      "cell_type": "code",
      "execution_count": null,
      "id": "AtsW3qzpxqz1",
      "metadata": {
        "id": "AtsW3qzpxqz1"
      },
      "outputs": [],
      "source": [
        "df1.head()"
      ]
    },
    {
      "cell_type": "markdown",
      "id": "m7bmFV1xwMDP",
      "metadata": {
        "id": "m7bmFV1xwMDP"
      },
      "source": [
        "Вернем все обратно"
      ]
    },
    {
      "cell_type": "code",
      "execution_count": null,
      "id": "HmSE4dcNwLc_",
      "metadata": {
        "id": "HmSE4dcNwLc_"
      },
      "outputs": [],
      "source": [
        "df1.loc[:, [\"Q_gcalhr\"]] = Q_gcalhr"
      ]
    },
    {
      "cell_type": "markdown",
      "id": "nSmBYU0kxAUX",
      "metadata": {
        "id": "nSmBYU0kxAUX"
      },
      "source": [
        "Подсчет количества значений"
      ]
    },
    {
      "cell_type": "code",
      "execution_count": null,
      "id": "yyAOOcOFqCL_",
      "metadata": {
        "id": "yyAOOcOFqCL_"
      },
      "outputs": [],
      "source": [
        "df2.loc[:, [\"TG9\"]].value_counts()"
      ]
    },
    {
      "cell_type": "code",
      "execution_count": null,
      "id": "Qv9SWbCgqCSI",
      "metadata": {
        "id": "Qv9SWbCgqCSI"
      },
      "outputs": [],
      "source": [
        "df2.loc[df2[\"TG9\"] == 2, [\"TG9\"]] = -2\n",
        "df2.loc[:, [\"TG9\"]].value_counts()"
      ]
    },
    {
      "cell_type": "code",
      "execution_count": null,
      "id": "XYdGdqB6UcBs",
      "metadata": {
        "id": "XYdGdqB6UcBs"
      },
      "outputs": [],
      "source": [
        "df2.loc[df2[\"TG9\"] == -2, [\"TG9\"]] = 2"
      ]
    },
    {
      "cell_type": "code",
      "execution_count": null,
      "id": "sXnAKdRwUxWF",
      "metadata": {
        "id": "sXnAKdRwUxWF"
      },
      "outputs": [],
      "source": [
        "df2.loc[:, ['TG4', 'TG5', 'TG6', 'TG9', 'TG10']].value_counts()"
      ]
    },
    {
      "cell_type": "code",
      "execution_count": null,
      "id": "U8NkCkbfV2JT",
      "metadata": {
        "id": "U8NkCkbfV2JT"
      },
      "outputs": [],
      "source": [
        "df2.loc[:, ['TG4', 'TG5', 'TG6', 'TG9', 'TG10']].value_counts().plot();"
      ]
    },
    {
      "cell_type": "code",
      "execution_count": null,
      "id": "TeceRexqfjwk",
      "metadata": {
        "id": "TeceRexqfjwk"
      },
      "outputs": [],
      "source": [
        "df2.loc[:, ['TG4', 'TG5', 'TG6', 'TG9', 'TG10']].value_counts().plot(\n",
        "    kind=\"bar\",\n",
        "    xlabel=\"Количество данных\",\n",
        "    ylabel=\"Комбинации\");"
      ]
    },
    {
      "cell_type": "markdown",
      "id": "xxx3JLNG1Ixv",
      "metadata": {
        "id": "xxx3JLNG1Ixv"
      },
      "source": [
        "У объекта DataFrame есть удобные методы для получения общей информации о данных.\n",
        "\n",
        "Метод `.info()` сообщает нам, сколько в наших данных строк и столбцов, и для каждого столбца дает его название, тип данных в нем и количество непустых значений в нем:"
      ]
    },
    {
      "cell_type": "code",
      "execution_count": null,
      "id": "sNsdn8LQ0MxY",
      "metadata": {
        "id": "sNsdn8LQ0MxY"
      },
      "outputs": [],
      "source": [
        "df1.info()"
      ]
    },
    {
      "cell_type": "markdown",
      "id": "fefEP5eH1U8s",
      "metadata": {
        "id": "fefEP5eH1U8s"
      },
      "source": [
        "Еще один метод описания данных — `.describe()`. Он выводит основные статистики числовых столбцов данных:"
      ]
    },
    {
      "cell_type": "code",
      "execution_count": null,
      "id": "VSebpV5vXgiW",
      "metadata": {
        "id": "VSebpV5vXgiW"
      },
      "outputs": [],
      "source": [
        "df1.describe()"
      ]
    },
    {
      "cell_type": "markdown",
      "id": "5h2LyMlw1n_5",
      "metadata": {
        "id": "5h2LyMlw1n_5"
      },
      "source": [
        "## Анализ данных"
      ]
    },
    {
      "cell_type": "markdown",
      "id": "Pqrrz7EXQQlA",
      "metadata": {
        "id": "Pqrrz7EXQQlA"
      },
      "source": [
        "### Библиотека Matplotlib"
      ]
    },
    {
      "cell_type": "code",
      "execution_count": null,
      "id": "HM5PeN2nXijr",
      "metadata": {
        "id": "HM5PeN2nXijr"
      },
      "outputs": [],
      "source": [
        "import matplotlib.pyplot as plt\n",
        "import numpy as np"
      ]
    },
    {
      "cell_type": "markdown",
      "id": "GJigVGWtQzzN",
      "metadata": {
        "id": "GJigVGWtQzzN"
      },
      "source": [
        "Простой график"
      ]
    },
    {
      "cell_type": "code",
      "execution_count": null,
      "id": "g7MNylcLXin6",
      "metadata": {
        "id": "g7MNylcLXin6"
      },
      "outputs": [],
      "source": [
        "# Зададим значения x и y\n",
        "x = np.arange(10)\n",
        "y = np.random.randint(1, 10, size=10)\n",
        "\n",
        "print(f'x = {x}')\n",
        "print(f'y = {y}')\n",
        "\n",
        "# Задаем размер полотна, на котором будет отрисован график\n",
        "plt.figure(figsize=(10,7))\n",
        "# Построим линейную диаграмму\n",
        "plt.plot(x, y)\n",
        "\n",
        "# Добавим заголовок\n",
        "plt.title(\"График зависимости x от у\")\n",
        "\n",
        "# Добавим подпись к осям\n",
        "plt.xlabel(\"x\")\n",
        "plt.ylabel(\"y\")\n",
        "\n",
        "# Отрисовываем результат\n",
        "plt.show()"
      ]
    },
    {
      "cell_type": "markdown",
      "id": "TuEzVqyWRL15",
      "metadata": {
        "id": "TuEzVqyWRL15"
      },
      "source": [
        "Scatter Plot"
      ]
    },
    {
      "cell_type": "code",
      "execution_count": null,
      "id": "F7D0PNswRLIo",
      "metadata": {
        "id": "F7D0PNswRLIo"
      },
      "outputs": [],
      "source": [
        "# Зададим значения x и y\n",
        "x = np.arange(10)\n",
        "y = np.random.randint(1, 10, size=10)\n",
        "\n",
        "print(f'x = {x}')\n",
        "print(f'y = {y}')\n",
        "\n",
        "# Задаем размер полотна, на котором будет отрисован график\n",
        "plt.figure(figsize=(10,7))\n",
        "# Строим Scatter Plot\n",
        "plt.scatter(x, y)\n",
        "\n",
        "# Добавим заголовок\n",
        "plt.title(\"График зависимости x от у\")\n",
        "\n",
        "# Добавим подпись к осям\n",
        "plt.xlabel(\"x\")\n",
        "plt.ylabel(\"y\")\n",
        "\n",
        "# Отрисовываем результат\n",
        "plt.show()"
      ]
    },
    {
      "cell_type": "markdown",
      "id": "j9Jcuj2FRf7I",
      "metadata": {
        "id": "j9Jcuj2FRf7I"
      },
      "source": [
        "Отрисуем две линии разных цветов и подпишем оси"
      ]
    },
    {
      "cell_type": "code",
      "execution_count": null,
      "id": "RdZvCVaKXirx",
      "metadata": {
        "id": "RdZvCVaKXirx"
      },
      "outputs": [],
      "source": [
        "# Хочу чтоб было красиво...\n",
        "\n",
        "# так можно изменить размер шрифта на осях координат\n",
        "import matplotlib\n",
        "matplotlib.rc('xtick', labelsize=20)\n",
        "matplotlib.rc('ytick', labelsize=30)\n",
        "\n",
        "x = np.arange(10)\n",
        "y = np.random.randint(1,10,size=10)\n",
        "z = np.random.randint(1,10,size=10)\n",
        "\n",
        "# задаем размер диаграммы\n",
        "fig = plt.figure(figsize=(10,7))\n",
        "\n",
        "# рисуем линейный график\n",
        "plt.plot(x,y, color=\"#68904D\", label='данные y')\n",
        "plt.plot(x,z, color=\"#EE9B01\", label='данные z')\n",
        "\n",
        "# add title\n",
        "plt.legend(fontsize=15)\n",
        "plt.title(\"Данные vs Время\", fontsize=20)\n",
        "# подписываем оси\n",
        "plt.xlabel(\"Время\",fontsize=20)\n",
        "plt.ylabel(\"Данные\",fontsize=20)\n",
        "\n",
        "# так можно ограничить координаты осей OX и OY\n",
        "# plt.xlim([-5, 20])\n",
        "# plt.ylim([-5,20])\n",
        "\n",
        "# отрисовываем сетку\n",
        "# plt.grid()\n",
        "\n",
        "# отрисовываем результат\n",
        "plt.show()\n",
        "\n",
        "# сохраняем в формате .png\n",
        "fig.savefig('fig1.png', dpi=100, bbox_inches='tight');"
      ]
    },
    {
      "cell_type": "markdown",
      "id": "-Plwdbt4R7Lf",
      "metadata": {
        "id": "-Plwdbt4R7Lf"
      },
      "source": [
        "Стилизация графиков"
      ]
    },
    {
      "cell_type": "code",
      "execution_count": null,
      "id": "2RWcjjCBRk6M",
      "metadata": {
        "id": "2RWcjjCBRk6M"
      },
      "outputs": [],
      "source": [
        "plt.style.use('fivethirtyeight')"
      ]
    },
    {
      "cell_type": "code",
      "execution_count": null,
      "id": "xvRpnqv2rAiH",
      "metadata": {
        "id": "xvRpnqv2rAiH"
      },
      "outputs": [],
      "source": [
        "# import matplotlib\n",
        "# matplotlib.style.available"
      ]
    },
    {
      "cell_type": "markdown",
      "id": "XXdYlYXmrRvh",
      "metadata": {
        "id": "XXdYlYXmrRvh"
      },
      "source": [
        "**Seaborn** — это библиотека для создания статистических графиков на Python. Она основывается на matplotlib и тесно взаимодействует со структурами данных pandas."
      ]
    },
    {
      "cell_type": "code",
      "execution_count": null,
      "id": "_PbLsYawrAtA",
      "metadata": {
        "id": "_PbLsYawrAtA"
      },
      "outputs": [],
      "source": [
        "import seaborn as sns\n",
        "sns.set_theme(style=\"whitegrid\", rc={'figure.figsize':(15,6)})"
      ]
    },
    {
      "cell_type": "markdown",
      "id": "evlS8DVyArtX",
      "metadata": {
        "id": "evlS8DVyArtX"
      },
      "source": [
        "Scatter Plot для данных из DataFrame"
      ]
    },
    {
      "cell_type": "code",
      "execution_count": null,
      "id": "QmKgONbr9oUl",
      "metadata": {
        "id": "QmKgONbr9oUl"
      },
      "outputs": [],
      "source": [
        "plt.scatter(df1['sum_kWhr'] * 1e-3, df1['B_1e3m3']);\n",
        "plt.xlabel(\"Суммарная электрическая мощность, МВт\");\n",
        "plt.ylabel(\"Расход топлива, тыс. м3/ч\")"
      ]
    },
    {
      "cell_type": "markdown",
      "id": "ZeUotFvyBiR9",
      "metadata": {
        "id": "ZeUotFvyBiR9"
      },
      "source": [
        "Аналогичный график методами DataFrame"
      ]
    },
    {
      "cell_type": "code",
      "execution_count": null,
      "id": "Ea5eiLAx-J8o",
      "metadata": {
        "id": "Ea5eiLAx-J8o"
      },
      "outputs": [],
      "source": [
        "df1.plot.scatter('Q_gcalhr', 'sum_kWhr');"
      ]
    },
    {
      "cell_type": "markdown",
      "id": "F4paWWmpbAwE",
      "metadata": {
        "id": "F4paWWmpbAwE"
      },
      "source": [
        "### Библиотека Plotly"
      ]
    },
    {
      "cell_type": "code",
      "execution_count": null,
      "id": "oH9K6k_BbnpO",
      "metadata": {
        "id": "oH9K6k_BbnpO"
      },
      "outputs": [],
      "source": [
        "import plotly.express as px\n",
        "fig = px.scatter(x=df1['sum_kWhr'] * 1e-3, y=df1['B_1e3m3'],\n",
        "                 labels={\n",
        "                     \"x\": \"Суммарная электрическая мощность, МВт\",\n",
        "                     \"y\": \"Расход топлива, тыс. м3/ч\"},\n",
        "                 )\n",
        "fig.show()"
      ]
    },
    {
      "cell_type": "markdown",
      "id": "FW6kata3SIne",
      "metadata": {
        "id": "FW6kata3SIne"
      },
      "source": [
        "### Предобработка (очистка) данных"
      ]
    },
    {
      "cell_type": "markdown",
      "id": "4hATP8fwzph7",
      "metadata": {
        "id": "4hATP8fwzph7"
      },
      "source": [
        "Заполнение пустых значений  \n",
        "NaN появляются по разным причинам:\n",
        "1. *Пропущенные данные в источниках.* Если загружаемый файл (CSV, Excel, SQL) содержит пустые ячейки, pandas автоматически заменяет их на NaN.\n",
        "2. *Объединение (merge, join, concat) с несовпадающими индексами.*\n",
        "3. *Преобразование типов (astype).* Если в числовой столбец попадают строки, при преобразовании их заменят на NaN.\n",
        "4. *Деление на 0 или некорректные вычисления.*\n",
        "\n",
        "Искусственно добавим несколько пустых значений в наш DataFrame."
      ]
    },
    {
      "cell_type": "code",
      "execution_count": null,
      "id": "yrwDx68jznal",
      "metadata": {
        "id": "yrwDx68jznal"
      },
      "outputs": [],
      "source": [
        "TG6_kWhr = df1[\"TG6_kWhr\"].copy()\n",
        "\n",
        "import numpy as np\n",
        "df1.loc[df1.sample(10).index, [\"TG6_kWhr\"]] = np.nan"
      ]
    },
    {
      "cell_type": "code",
      "execution_count": null,
      "id": "BqRO0EKyz_bk",
      "metadata": {
        "id": "BqRO0EKyz_bk"
      },
      "outputs": [],
      "source": [
        "df1.info()"
      ]
    },
    {
      "cell_type": "code",
      "execution_count": null,
      "id": "ddzzRssSpWfy",
      "metadata": {
        "id": "ddzzRssSpWfy"
      },
      "outputs": [],
      "source": [
        "nan_index = df1[df1[\"TG6_kWhr\"].isna()].index"
      ]
    },
    {
      "cell_type": "markdown",
      "id": "hhUzctV722OM",
      "metadata": {
        "id": "hhUzctV722OM"
      },
      "source": [
        "Заполнение следующим не пустым значением"
      ]
    },
    {
      "cell_type": "code",
      "execution_count": null,
      "id": "S01aMxXTpnpz",
      "metadata": {
        "id": "S01aMxXTpnpz"
      },
      "outputs": [],
      "source": [
        "df1[\"TG6_kWhr\"].ffill().loc[nan_index]"
      ]
    },
    {
      "cell_type": "markdown",
      "id": "eK7gpgJb3AGU",
      "metadata": {
        "id": "eK7gpgJb3AGU"
      },
      "source": [
        "Заполнение предыдущим не пустым значением"
      ]
    },
    {
      "cell_type": "code",
      "execution_count": null,
      "id": "n8bN9DPC1gtv",
      "metadata": {
        "id": "n8bN9DPC1gtv"
      },
      "outputs": [],
      "source": [
        "df1[\"TG6_kWhr\"].bfill().loc[nan_index]"
      ]
    },
    {
      "cell_type": "markdown",
      "id": "h5ILZWBXNeoJ",
      "metadata": {
        "id": "h5ILZWBXNeoJ"
      },
      "source": [
        "Заполнение через линейную интерполяцию"
      ]
    },
    {
      "cell_type": "code",
      "execution_count": null,
      "id": "bTUanCzdLU8X",
      "metadata": {
        "id": "bTUanCzdLU8X"
      },
      "outputs": [],
      "source": [
        "df1.loc[:, [\"TG6_kWhr\"]].interpolate(method='linear').loc[nan_index]"
      ]
    },
    {
      "cell_type": "markdown",
      "id": "WV6lkJbT4Nho",
      "metadata": {
        "id": "WV6lkJbT4Nho"
      },
      "source": [
        "Заполнение заданным значением"
      ]
    },
    {
      "cell_type": "code",
      "execution_count": null,
      "id": "3T6MeMSj3HYI",
      "metadata": {
        "id": "3T6MeMSj3HYI"
      },
      "outputs": [],
      "source": [
        "df1.loc[:, [\"TG6_kWhr\"]].fillna(0, inplace=True)\n",
        "# df1.loc[:, [\"TG6_kWhr\"]] = df1[\"TG6_kWhr\"].fillna(0)"
      ]
    },
    {
      "cell_type": "code",
      "execution_count": null,
      "id": "NX_BQIOS3Hd9",
      "metadata": {
        "id": "NX_BQIOS3Hd9"
      },
      "outputs": [],
      "source": [
        "df1[\"TG6_kWhr\"].loc[nan_index]"
      ]
    },
    {
      "cell_type": "markdown",
      "id": "vjWy5M353RN4",
      "metadata": {
        "id": "vjWy5M353RN4"
      },
      "source": [
        "Вернем все обратно"
      ]
    },
    {
      "cell_type": "code",
      "execution_count": null,
      "id": "_Iz9_1o0znl5",
      "metadata": {
        "id": "_Iz9_1o0znl5"
      },
      "outputs": [],
      "source": [
        "df1.loc[:, [\"TG6_kWhr\"]] = TG6_kWhr"
      ]
    },
    {
      "cell_type": "markdown",
      "id": "da3JdHsGj3G7",
      "metadata": {
        "id": "da3JdHsGj3G7"
      },
      "source": [
        "Удаление колонок"
      ]
    },
    {
      "cell_type": "code",
      "execution_count": null,
      "id": "MdhxitFLnSBL",
      "metadata": {
        "id": "MdhxitFLnSBL"
      },
      "outputs": [],
      "source": [
        "df2.columns"
      ]
    },
    {
      "cell_type": "code",
      "execution_count": null,
      "id": "ixg8pgEBj141",
      "metadata": {
        "id": "ixg8pgEBj141"
      },
      "outputs": [],
      "source": [
        "df2.drop(columns=['OB1A', 'OB1B', 'OB2A', 'OB2B', 'OB3A', 'OB3B'], inplace=True)\n",
        "df2.drop(columns=['SPG1', 'SPG2','PB1', 'PB2'], inplace=True)\n",
        "df2.drop(columns=['FWP5', 'FWP6', 'FWP7', 'FWP8',\n",
        "                  'FWP9', 'FWP10', 'FWP11', 'FWP12'], inplace=True)\n",
        "df2.drop(columns=['SEN1', 'SEN2', 'SEN3', 'SEN4', 'SEN5', 'SEN6', 'SEN7',\n",
        "                 'SEN1I', 'SEN2I', 'SEN3I', 'SEN1II', 'SEN2II',\n",
        "                 'SEN3II', 'SEN4II'], inplace=True)\n",
        "df2.drop(columns=['CN3a', 'CN3b', 'CN4a', 'CN4b',\n",
        "                  'CN5a', 'CN5b', 'CN9a', 'CN9b'], inplace=True)\n",
        "df2.drop(columns=['tower_5a', 'tower_5b', 'tower_6a',\n",
        "                  'tower_6b', 'tower_7a', 'tower_7b'], inplace=True)"
      ]
    },
    {
      "cell_type": "code",
      "execution_count": null,
      "id": "gclzO3UEo0Qt",
      "metadata": {
        "id": "gclzO3UEo0Qt"
      },
      "outputs": [],
      "source": [
        "df2.columns"
      ]
    },
    {
      "cell_type": "markdown",
      "id": "_q82qIVvT_Zw",
      "metadata": {
        "id": "_q82qIVvT_Zw"
      },
      "source": [
        "Удалим данные когда оборудование работало не полные сутки"
      ]
    },
    {
      "cell_type": "code",
      "execution_count": null,
      "id": "alsJl20yRk_9",
      "metadata": {
        "id": "alsJl20yRk_9"
      },
      "outputs": [],
      "source": [
        "df2 = df2[df2['TG9'] != 2]\n",
        "df2 = df2[df2['TG5'] != 2]\n",
        "df2 = df2[df2['TG4'] != 2]\n",
        "df2 = df2[df2['TG6'] != 2]\n",
        "df2 = df2[df2['TG10'] != 2]\n",
        "df2 = df2[df2['WB'] != 2]\n",
        "\n",
        "df2 = df2[df2['SB4'] != 2]\n",
        "df2 = df2[df2['SB5'] != 2]\n",
        "df2 = df2[df2['SB6'] != 2]\n",
        "df2 = df2[df2['SB8'] != 2]\n",
        "df2 = df2[df2['SB9'] != 2]\n",
        "df2 = df2[df2['SB10'] != 2]"
      ]
    },
    {
      "cell_type": "markdown",
      "id": "rflX2JwfUel6",
      "metadata": {
        "id": "rflX2JwfUel6"
      },
      "source": [
        "Объединим данные\n",
        "\n"
      ]
    },
    {
      "cell_type": "code",
      "execution_count": null,
      "id": "wKgdZCvHcezR",
      "metadata": {
        "id": "wKgdZCvHcezR"
      },
      "outputs": [],
      "source": [
        "pd.concat([df2, df1], axis=1)"
      ]
    },
    {
      "cell_type": "markdown",
      "id": "Nyu4L6sMctnj",
      "metadata": {
        "id": "Nyu4L6sMctnj"
      },
      "source": [
        "Приведем датафреймы к одной дискертности"
      ]
    },
    {
      "cell_type": "code",
      "execution_count": null,
      "id": "Ur2Mwv0fdYNi",
      "metadata": {
        "id": "Ur2Mwv0fdYNi"
      },
      "outputs": [],
      "source": [
        "df2.resample('1h').mean()"
      ]
    },
    {
      "cell_type": "code",
      "execution_count": null,
      "id": "FF_Uio7n2_uC",
      "metadata": {
        "id": "FF_Uio7n2_uC"
      },
      "outputs": [],
      "source": [
        "df1.resample('1d').mean()"
      ]
    },
    {
      "cell_type": "code",
      "execution_count": null,
      "id": "3Gys_5fN2_xq",
      "metadata": {
        "id": "3Gys_5fN2_xq"
      },
      "outputs": [],
      "source": [
        "df1.resample('1d').sum()"
      ]
    },
    {
      "cell_type": "code",
      "execution_count": null,
      "id": "xhkRH2oc3NYn",
      "metadata": {
        "id": "xhkRH2oc3NYn"
      },
      "outputs": [],
      "source": [
        "df1.resample('1d').agg({\n",
        "    'TG4_kWhr': 'sum',\n",
        "    'TG5_kWhr': 'sum',\n",
        "    'TG6_kWhr': 'sum',\n",
        "    'TG9_kWhr': 'sum',\n",
        "    'TG10_kWhr': 'sum',\n",
        "    'sum_kWhr': 'sum',\n",
        "    'B_1e3m3': 'sum',\n",
        "    'Q_gcalhr': 'mean',\n",
        "})"
      ]
    },
    {
      "cell_type": "code",
      "execution_count": null,
      "id": "T3xRu2vFTQe7",
      "metadata": {
        "id": "T3xRu2vFTQe7"
      },
      "outputs": [],
      "source": [
        "df1 = df1.resample('1d').agg({\n",
        "    'TG4_kWhr': 'sum',\n",
        "    'TG5_kWhr': 'sum',\n",
        "    'TG6_kWhr': 'sum',\n",
        "    'TG9_kWhr': 'sum',\n",
        "    'TG10_kWhr': 'sum',\n",
        "    'sum_kWhr': 'sum',\n",
        "    'B_1e3m3': 'sum',\n",
        "    'Q_gcalhr': 'mean',\n",
        "}).loc[df2.index,:]\n",
        "df1.shape"
      ]
    },
    {
      "cell_type": "code",
      "execution_count": null,
      "id": "VwnNZfbqUmSY",
      "metadata": {
        "id": "VwnNZfbqUmSY"
      },
      "outputs": [],
      "source": [
        "df2.shape"
      ]
    },
    {
      "cell_type": "markdown",
      "id": "ToiqTwTWU5qE",
      "metadata": {
        "id": "ToiqTwTWU5qE"
      },
      "source": [
        "Объединим датафреймы"
      ]
    },
    {
      "cell_type": "code",
      "execution_count": null,
      "id": "rIxVcZvZTQ9K",
      "metadata": {
        "id": "rIxVcZvZTQ9K"
      },
      "outputs": [],
      "source": [
        "df = pd.concat([df2, df1], axis=1)\n",
        "print(f'Данные содержат {df.shape[0]} уникальных режима ТЭЦ')"
      ]
    },
    {
      "cell_type": "markdown",
      "id": "w6urdG9KVVCH",
      "metadata": {
        "id": "w6urdG9KVVCH"
      },
      "source": [
        "###  Создание новых признаков"
      ]
    },
    {
      "cell_type": "markdown",
      "id": "j2Yto6pYvbYx",
      "metadata": {
        "id": "j2Yto6pYvbYx"
      },
      "source": [
        "Расчитаем количество тепла отпускаемое с сетевой водой"
      ]
    },
    {
      "cell_type": "code",
      "execution_count": null,
      "id": "PkcanyJWU_T1",
      "metadata": {
        "id": "PkcanyJWU_T1"
      },
      "outputs": [],
      "source": [
        "df['Q_gcalhr_calc'] = df['Gsv_ton'] * (df['PSV_degC'] - df['OSV_degC']) / 1000 / 24"
      ]
    },
    {
      "cell_type": "markdown",
      "id": "m5UNouMExKXA",
      "metadata": {
        "id": "m5UNouMExKXA"
      },
      "source": [
        "Построим для сравнения на одном графике новый расчетный признак и признак Q_gcalhr (тепловая нагрузка), который был в таблице. Графики совпадают."
      ]
    },
    {
      "cell_type": "code",
      "execution_count": null,
      "id": "Pi9VdJu_U_YH",
      "metadata": {
        "id": "Pi9VdJu_U_YH"
      },
      "outputs": [],
      "source": [
        "df['Q_gcalhr_calc'].plot();\n",
        "df['Q_gcalhr'].plot();"
      ]
    },
    {
      "cell_type": "markdown",
      "id": "c6rKdOWhcETi",
      "metadata": {
        "id": "c6rKdOWhcETi"
      },
      "source": [
        "Расчет разности значений"
      ]
    },
    {
      "cell_type": "code",
      "execution_count": null,
      "id": "aZY0C55ranQr",
      "metadata": {
        "id": "aZY0C55ranQr"
      },
      "outputs": [],
      "source": [
        "df[\"Q_gcalhr\"].diff(periods=2)"
      ]
    },
    {
      "cell_type": "code",
      "execution_count": null,
      "id": "1kxDGor0awTK",
      "metadata": {
        "id": "1kxDGor0awTK"
      },
      "outputs": [],
      "source": [
        "df[\"Q_gcalhr\"].diff().plot(marker='o');"
      ]
    },
    {
      "cell_type": "markdown",
      "id": "vz0LuFFSZ_xr",
      "metadata": {
        "id": "vz0LuFFSZ_xr"
      },
      "source": [
        "Определим все комбинации ТГ с помощью методов apply"
      ]
    },
    {
      "cell_type": "code",
      "execution_count": null,
      "id": "uPkCoHQbxc5d",
      "metadata": {
        "id": "uPkCoHQbxc5d"
      },
      "outputs": [],
      "source": [
        "tg_combinations = df.loc[:, ['TG4', 'TG5', 'TG6', 'TG9', 'TG10']].apply(\n",
        "    lambda x: ''.join([s for s, f in zip(x.index, x) if f == 1]), axis=1)"
      ]
    },
    {
      "cell_type": "code",
      "execution_count": null,
      "id": "U6rmDWKOzMSX",
      "metadata": {
        "id": "U6rmDWKOzMSX"
      },
      "outputs": [],
      "source": [
        "tg_combinations.unique()"
      ]
    },
    {
      "cell_type": "markdown",
      "id": "w4EyN4Q0aUTs",
      "metadata": {
        "id": "w4EyN4Q0aUTs"
      },
      "source": [
        "Дополним комбинации ТГ водогрейным котлов"
      ]
    },
    {
      "cell_type": "code",
      "execution_count": null,
      "id": "9sRfFpUxzUzn",
      "metadata": {
        "id": "9sRfFpUxzUzn"
      },
      "outputs": [],
      "source": [
        "tg_wb_combinations = df.loc[:, ['TG4', 'TG5', 'TG6', 'TG9', 'TG10', 'WB']].apply(\n",
        "    lambda x: ''.join([s for s, f in zip(x.index, x) if f == 1]), axis=1)"
      ]
    },
    {
      "cell_type": "code",
      "execution_count": null,
      "id": "ghcg22z5zZkM",
      "metadata": {
        "id": "ghcg22z5zZkM"
      },
      "outputs": [],
      "source": [
        "tg_wb_combinations.unique()"
      ]
    },
    {
      "cell_type": "code",
      "execution_count": null,
      "id": "tnJHRKf2aFPK",
      "metadata": {
        "id": "tnJHRKf2aFPK"
      },
      "outputs": [],
      "source": [
        "df['tg_combinations'] = tg_combinations\n",
        "df['tg_wb_combinations'] = tg_wb_combinations"
      ]
    },
    {
      "cell_type": "code",
      "execution_count": null,
      "id": "QXIOoNyVafOu",
      "metadata": {
        "id": "QXIOoNyVafOu"
      },
      "outputs": [],
      "source": [
        "df[['tg_combinations', 'tg_wb_combinations']].head()"
      ]
    },
    {
      "cell_type": "code",
      "execution_count": null,
      "id": "F8lgfSC2aFTB",
      "metadata": {
        "id": "F8lgfSC2aFTB"
      },
      "outputs": [],
      "source": [
        "print(f\"Данные содержат {df['tg_combinations'].unique().shape[0]} уникальных состава ТГ:\")\n",
        "print(\", \".join(df[\"tg_combinations\"].unique()))"
      ]
    },
    {
      "cell_type": "code",
      "execution_count": null,
      "id": "4sF5MDA2aFWX",
      "metadata": {
        "id": "4sF5MDA2aFWX"
      },
      "outputs": [],
      "source": [
        "print(f\"{df['tg_wb_combinations'].unique().shape[0]} уникальных состава ТГ и ВК:\")\n",
        "print(\", \".join(df[\"tg_wb_combinations\"].unique()))"
      ]
    },
    {
      "cell_type": "markdown",
      "id": "cALXKGvuyaKo",
      "metadata": {
        "id": "cALXKGvuyaKo"
      },
      "source": [
        "Определим все комбинации паровых котлов"
      ]
    },
    {
      "cell_type": "code",
      "execution_count": null,
      "id": "KixIWVJg1nuu",
      "metadata": {
        "id": "KixIWVJg1nuu"
      },
      "outputs": [],
      "source": [
        "sb_combinations = df.loc[:, ['SB4', 'SB5', 'SB6', 'SB8', 'SB9','SB10']].apply(\n",
        "    lambda x: ''.join([s for s, f in zip(x.index, x) if f == 1]), axis=1)"
      ]
    },
    {
      "cell_type": "code",
      "execution_count": null,
      "id": "8DYwRdBBikqW",
      "metadata": {
        "id": "8DYwRdBBikqW"
      },
      "outputs": [],
      "source": [
        "df[\"sb_combinations\"] = sb_combinations"
      ]
    },
    {
      "cell_type": "code",
      "execution_count": null,
      "id": "Zq25xcsey7ht",
      "metadata": {
        "id": "Zq25xcsey7ht"
      },
      "outputs": [],
      "source": [
        "print(f\"{df['sb_combinations'].unique().shape[0]} уникальных состава ПК:\")\n",
        "print(\", \".join(df[\"sb_combinations\"].unique()))"
      ]
    },
    {
      "cell_type": "markdown",
      "id": "02-rcedg0MfU",
      "metadata": {
        "id": "02-rcedg0MfU"
      },
      "source": [
        "Определим все комбинации оборудования"
      ]
    },
    {
      "cell_type": "code",
      "execution_count": null,
      "id": "vxWJtgir2N5r",
      "metadata": {
        "id": "vxWJtgir2N5r"
      },
      "outputs": [],
      "source": [
        "df[\"tg_wb_sb_combinations\"] = df['tg_combinations'] + df[\"sb_combinations\"]"
      ]
    },
    {
      "cell_type": "code",
      "execution_count": null,
      "id": "-AIxrldxzIz7",
      "metadata": {
        "id": "-AIxrldxzIz7"
      },
      "outputs": [],
      "source": [
        "print(f\"Всего {df['tg_wb_sb_combinations'].unique().shape[0]} состава оборудования\")"
      ]
    },
    {
      "cell_type": "markdown",
      "id": "HepRO-yC7RrU",
      "metadata": {
        "id": "HepRO-yC7RrU"
      },
      "source": [
        "Посмотрим на распределение составов ТГ по частоте использования"
      ]
    },
    {
      "cell_type": "code",
      "execution_count": null,
      "id": "R4UsUuOtzI3A",
      "metadata": {
        "id": "R4UsUuOtzI3A"
      },
      "outputs": [],
      "source": [
        "df[\"tg_wb_combinations\"].value_counts().plot(\n",
        "    kind=\"barh\",\n",
        "    xlabel=\"Количество данных\",\n",
        "    ylabel=\"Сочетания ТГ и ВК\").get_figure().savefig(\n",
        "        './fig1.png',\n",
        "        bbox_inches=\"tight\");"
      ]
    },
    {
      "cell_type": "code",
      "execution_count": null,
      "id": "jEpNOrG60oLw",
      "metadata": {
        "id": "jEpNOrG60oLw"
      },
      "outputs": [],
      "source": [
        "df[\"tg_wb_sb_combinations\"].value_counts().plot(\n",
        "    figsize=(5, 10),\n",
        "    kind=\"barh\",\n",
        "    xlabel=\"Количество данных\",\n",
        "    ylabel=\"Сочетания ТГ, ВК и КА\");"
      ]
    },
    {
      "cell_type": "markdown",
      "id": "xTBu9oBhYEmA",
      "metadata": {
        "id": "xTBu9oBhYEmA"
      },
      "source": [
        "Метод groupby"
      ]
    },
    {
      "cell_type": "code",
      "execution_count": null,
      "id": "A7HWitI57vbq",
      "metadata": {
        "id": "A7HWitI57vbq"
      },
      "outputs": [],
      "source": [
        "Q_max = df[['tg_wb_combinations', 'Q_gcalhr']].groupby('tg_wb_combinations').max()\n",
        "Q_max.columns = ['Q_max']"
      ]
    },
    {
      "cell_type": "code",
      "execution_count": null,
      "id": "LIZNiWUX8bY4",
      "metadata": {
        "id": "LIZNiWUX8bY4"
      },
      "outputs": [],
      "source": [
        "Q_max"
      ]
    }
  ],
  "metadata": {
    "colab": {
      "provenance": []
    },
    "kernelspec": {
      "display_name": "Python 3 (ipykernel)",
      "language": "python",
      "name": "python3"
    },
    "language_info": {
      "codemirror_mode": {
        "name": "ipython",
        "version": 3
      },
      "file_extension": ".py",
      "mimetype": "text/x-python",
      "name": "python",
      "nbconvert_exporter": "python",
      "pygments_lexer": "ipython3",
      "version": "3.12.4"
    }
  },
  "nbformat": 4,
  "nbformat_minor": 5
}