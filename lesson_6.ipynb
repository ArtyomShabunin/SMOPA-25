{
  "cells": [
    {
      "cell_type": "markdown",
      "metadata": {
        "id": "view-in-github",
        "colab_type": "text"
      },
      "source": [
        "<a href=\"https://colab.research.google.com/github/ArtyomShabunin/SMOPA-25/blob/main/lesson_6.ipynb\" target=\"_parent\"><img src=\"https://colab.research.google.com/assets/colab-badge.svg\" alt=\"Open In Colab\"/></a>"
      ]
    },
    {
      "cell_type": "markdown",
      "id": "0f96d08d-41f3-4df3-9fb4-f72c02d9fc70",
      "metadata": {
        "id": "0f96d08d-41f3-4df3-9fb4-f72c02d9fc70"
      },
      "source": [
        "<img src=\"https://prana-system.com/files/110/rds_color_full.png\" alt=\"tot image\" width=\"300\"  align=\"center\"/> &nbsp;&nbsp;&nbsp;&nbsp;&nbsp;&nbsp;&nbsp;&nbsp;\n",
        "<img src=\"https://mpei.ru/AboutUniverse/OficialInfo/Attributes/PublishingImages/logo1.jpg\" alt=\"mpei image\" width=\"200\" align=\"center\"/>\n",
        "<img src=\"https://mpei.ru/Structure/Universe/tanpe/structure/tfhe/PublishingImages/tot.png\" alt=\"tot image\" width=\"100\"  align=\"center\"/>\n",
        "\n",
        "---\n",
        "\n",
        "# **Системы машинного обучения и предиктивной аналитики в тепловой и возобновляемой энергетике**  \n",
        "\n",
        "# ***Практические занятия***\n",
        "\n",
        "\n",
        "---"
      ]
    },
    {
      "cell_type": "markdown",
      "id": "25324b74-d44c-4b21-8a6b-1b6328ef3cb5",
      "metadata": {
        "id": "25324b74-d44c-4b21-8a6b-1b6328ef3cb5"
      },
      "source": [
        "# Занятие №6\n",
        "# Многоклассовая классификация методами машинного обучения\n",
        "**26 марта 2025г.**"
      ]
    },
    {
      "cell_type": "code",
      "execution_count": null,
      "id": "15331e27-12d7-4f1b-bad4-a38fbf45fcec",
      "metadata": {
        "id": "15331e27-12d7-4f1b-bad4-a38fbf45fcec"
      },
      "outputs": [],
      "source": [
        "import numpy as np\n",
        "import pandas as pd\n",
        "\n",
        "from sklearn import preprocessing\n",
        "from sklearn.svm import SVC\n",
        "from sklearn.model_selection import cross_val_predict, StratifiedKFold\n",
        "from sklearn.metrics import confusion_matrix, precision_score, recall_score, f1_score, ConfusionMatrixDisplay\n",
        "from sklearn.ensemble import RandomForestClassifier\n",
        "from sklearn.metrics import accuracy_score, r2_score\n",
        "import matplotlib.pyplot as plt\n",
        "\n",
        "import ipywidgets as widgets\n",
        "from IPython.display import display, clear_output\n",
        "\n",
        "from tqdm import tqdm"
      ]
    },
    {
      "cell_type": "markdown",
      "id": "86d21341-5c95-4377-bbd3-5de4b51c5e23",
      "metadata": {
        "id": "86d21341-5c95-4377-bbd3-5de4b51c5e23"
      },
      "source": [
        "## Загрузка данных"
      ]
    },
    {
      "cell_type": "code",
      "execution_count": null,
      "id": "a85ef518-b378-4e66-baf2-a69bc17d2e99",
      "metadata": {
        "id": "a85ef518-b378-4e66-baf2-a69bc17d2e99"
      },
      "outputs": [],
      "source": [
        "import gdown\n",
        "import warnings\n",
        "warnings.filterwarnings('ignore')\n",
        "gdown.download('https://drive.google.com/uc?id=1j54o4pHTm3HvaYTEtv_i4hOJGy5yNeZZ', verify=False)\n",
        "\n",
        "data = pd.read_parquet(\"./data_modes.gzip\")"
      ]
    },
    {
      "cell_type": "code",
      "execution_count": null,
      "id": "7aadc7f0-2dc1-4e02-acbd-c449ec5859e8",
      "metadata": {
        "id": "7aadc7f0-2dc1-4e02-acbd-c449ec5859e8"
      },
      "outputs": [],
      "source": [
        "data.head()"
      ]
    },
    {
      "cell_type": "markdown",
      "id": "75997f5c-fe78-4d8a-8be2-214df6ba20ca",
      "metadata": {
        "id": "75997f5c-fe78-4d8a-8be2-214df6ba20ca"
      },
      "source": [
        "## Сформируем датасет для решения задачи многоклассовой классификации"
      ]
    },
    {
      "cell_type": "markdown",
      "id": "09aebd46-b8a8-4c02-a8ca-c8440a25c6b1",
      "metadata": {
        "id": "09aebd46-b8a8-4c02-a8ca-c8440a25c6b1"
      },
      "source": [
        "Выберем сигналы которые будем использовать. Исключим все признаки на основании которых мы на предыдущем занятии выделяли целевые режимы."
      ]
    },
    {
      "cell_type": "code",
      "execution_count": null,
      "id": "044f7fd5-5bfc-4dc5-8192-c07d7127e027",
      "metadata": {
        "id": "044f7fd5-5bfc-4dc5-8192-c07d7127e027"
      },
      "outputs": [],
      "source": [
        "use_columns = ['GTA1.DBinPU.Alzzo', 'GTA1.DBinPU.Bo', 'GTA1.DBinPU.DlPkf',\n",
        "               'GTA1.DBinPU.DlPtgft', 'GTA1.DBinPU.DlPvf', 'GTA1.DBinPU.fi',\n",
        "               'GTA1.DBinPU.hmGTD', 'GTA1.DBinPU.hmTG', 'GTA1.DBinPU.P1mvhTG',\n",
        "               'GTA1.DBinPU.Pk', 'GTA1.DBinPU.Pmvh', 'GTA1.DBinPU.PmvhMOGTD',\n",
        "               'GTA1.DBinPU.PmvhMOTG', 'GTA1.DBinPU.PmvyhMOGTD',\n",
        "               'GTA1.DBinPU.PmvyhMOTG', 'GTA1.DBinPU.Prazrjag_navhode',\n",
        "               'GTA1.DBinPU.Ptgpd', 'GTA1.DBinPU.Ptgvh', 'GTA1.DBinPU.Pvh',\n",
        "               'GTA1.DBinPU.Pvyhlg', 'GTA1.DBinPU.Qtg', 'GTA1.DBinPU.Tk',\n",
        "               'GTA1.DBinPU.Tn', 'GTA1.DBinPU.Tt', 'GTA1.DBinPU.Tvh1',\n",
        "               'GTA1.DBinPU.Pzad']\n",
        "\n",
        "X = data.loc[:,use_columns]"
      ]
    },
    {
      "cell_type": "markdown",
      "id": "15e40652-8c06-4ced-b329-9a20765d22c8",
      "metadata": {
        "id": "15e40652-8c06-4ced-b329-9a20765d22c8"
      },
      "source": [
        "Сформируем отдельный целевой признак"
      ]
    },
    {
      "cell_type": "code",
      "execution_count": null,
      "id": "4890b13e-b23a-4462-b9dd-0327d017fb58",
      "metadata": {
        "id": "4890b13e-b23a-4462-b9dd-0327d017fb58"
      },
      "outputs": [],
      "source": [
        "data['target'] = data[[\n",
        "    'full_power_mode', 'partial_power_mode',\n",
        "    'increas_power_mode', 'decreas_power_mode', 'start_up_mode',\n",
        "    'shutdown_mode', 'stopped_state_mode']].idxmax(axis=1)\n",
        "y = data.loc[:, ['target']]"
      ]
    },
    {
      "cell_type": "code",
      "execution_count": null,
      "id": "30b2eba7-1151-44f5-8c05-507be35b592b",
      "metadata": {
        "id": "30b2eba7-1151-44f5-8c05-507be35b592b"
      },
      "outputs": [],
      "source": [
        "y.value_counts()"
      ]
    },
    {
      "cell_type": "markdown",
      "id": "4863e943-2b35-40ff-8eba-b284572b4f4a",
      "metadata": {
        "id": "4863e943-2b35-40ff-8eba-b284572b4f4a"
      },
      "source": [
        "### Деление на тестовую и тренировочную выборки\n"
      ]
    },
    {
      "cell_type": "code",
      "execution_count": null,
      "id": "cc4d0b84-1c16-4c28-a23a-3a738b40c4f3",
      "metadata": {
        "id": "cc4d0b84-1c16-4c28-a23a-3a738b40c4f3"
      },
      "outputs": [],
      "source": [
        "from sklearn.model_selection import train_test_split\n",
        "# Разделяем с учетом дисбаланса классов\n",
        "X_train, X_test, y_train, y_test = train_test_split(X, y, test_size=0.2, stratify=y, random_state=42)"
      ]
    },
    {
      "cell_type": "code",
      "execution_count": null,
      "id": "caaceebb-a6c0-41f2-bd52-f0654bb40cd0",
      "metadata": {
        "id": "caaceebb-a6c0-41f2-bd52-f0654bb40cd0"
      },
      "outputs": [],
      "source": [
        "y_train.value_counts()"
      ]
    },
    {
      "cell_type": "code",
      "execution_count": null,
      "id": "09889e99-d000-405b-82d4-bc14f010dd75",
      "metadata": {
        "id": "09889e99-d000-405b-82d4-bc14f010dd75"
      },
      "outputs": [],
      "source": [
        "y_test.value_counts()"
      ]
    },
    {
      "cell_type": "markdown",
      "id": "22310e1b-3ceb-4702-a023-c036a96aa112",
      "metadata": {
        "id": "22310e1b-3ceb-4702-a023-c036a96aa112"
      },
      "source": [
        "Видно, что датасет сильно несбалансирован.\n",
        "При такой несбалансорованности модели будут плохо обучаеться на редких классах.\n",
        "Алгоритм может игнорировать малочисленные классы, потому что минимизация ошибки будет достигаться за счет предсказания большинства.\n",
        "Например, если модель всегда предсказывает full_power_mode, она все равно получит высокую точность.\n",
        "\n",
        "<!-- попробуем его немного выровнять путем сокращения данных по наиболее часто встречающимся режимам -->"
      ]
    },
    {
      "cell_type": "markdown",
      "id": "9d893ad2-8902-4f29-a46a-467e2ac3cfc5",
      "metadata": {
        "id": "9d893ad2-8902-4f29-a46a-467e2ac3cfc5"
      },
      "source": [
        "### Балансировка данных\n",
        "**Oversampling (увеличение малых классов)**  \n",
        "   - Повторение существующих редких примеров или их генерация.  \n",
        "   - **SMOTE (Synthetic Minority Over-sampling Technique)** – создает новые точки малочисленных классов, используя линейные комбинации соседних точек.  \n",
        "\n",
        "**Undersampling (уменьшение частых классов)**  \n",
        "- Удаление случайных примеров из большинства классов.  \n",
        "\n",
        "**Комбинация Oversampling + Undersampling**  \n",
        "   - Часто лучше сначала **уменьшить большие**, а затем **увеличить малые классы**.  "
      ]
    },
    {
      "cell_type": "code",
      "execution_count": null,
      "id": "1bd2d138-2478-47cd-9827-23bb7afd65da",
      "metadata": {
        "id": "1bd2d138-2478-47cd-9827-23bb7afd65da"
      },
      "outputs": [],
      "source": [
        "!pip install imblearn"
      ]
    },
    {
      "cell_type": "markdown",
      "id": "b45a7f5b-959a-41c2-b9c5-626e5c66ccd0",
      "metadata": {
        "id": "b45a7f5b-959a-41c2-b9c5-626e5c66ccd0"
      },
      "source": [
        "#### Undersampling"
      ]
    },
    {
      "cell_type": "code",
      "execution_count": null,
      "id": "f2932fce-b3c7-4d4d-81b3-3435166e1cfe",
      "metadata": {
        "id": "f2932fce-b3c7-4d4d-81b3-3435166e1cfe"
      },
      "outputs": [],
      "source": [
        "from imblearn.under_sampling import RandomUnderSampler\n",
        "sampling_strategy = {\n",
        "    \"full_power_mode\": 1000,\n",
        "    \"stopped_state_mode\": 1000,\n",
        "    \"partial_power_mode\": 1000\n",
        "}\n",
        "rus = RandomUnderSampler(sampling_strategy=sampling_strategy, random_state=42)\n",
        "X_train_resampled, y_train_resampled = rus.fit_resample(X_train, y_train)"
      ]
    },
    {
      "cell_type": "code",
      "execution_count": null,
      "id": "f3b22cb1-6943-48b5-91c6-89cdd3195eba",
      "metadata": {
        "id": "f3b22cb1-6943-48b5-91c6-89cdd3195eba"
      },
      "outputs": [],
      "source": [
        "y_train_resampled.value_counts()"
      ]
    },
    {
      "cell_type": "code",
      "execution_count": null,
      "id": "ce01f40c-dd56-496e-91a0-77fcb5f57861",
      "metadata": {
        "id": "ce01f40c-dd56-496e-91a0-77fcb5f57861"
      },
      "outputs": [],
      "source": [
        "sampling_strategy = {\n",
        "    \"full_power_mode\": 100,\n",
        "    \"stopped_state_mode\": 100,\n",
        "    \"partial_power_mode\": 100\n",
        "}\n",
        "rus = RandomUnderSampler(sampling_strategy=sampling_strategy, random_state=42)\n",
        "X_test_resampled, y_test_resampled = rus.fit_resample(X_test, y_test)"
      ]
    },
    {
      "cell_type": "code",
      "execution_count": null,
      "id": "4728b6e1-ee4c-4229-b66b-0494538e8c89",
      "metadata": {
        "id": "4728b6e1-ee4c-4229-b66b-0494538e8c89"
      },
      "outputs": [],
      "source": [
        "y_test_resampled.value_counts()"
      ]
    },
    {
      "cell_type": "markdown",
      "id": "509f1b9a-fbfe-4115-b254-8e6d0141d50d",
      "metadata": {
        "id": "509f1b9a-fbfe-4115-b254-8e6d0141d50d"
      },
      "source": [
        "#### Oversampling"
      ]
    },
    {
      "cell_type": "code",
      "execution_count": null,
      "id": "54d1f559-9fd3-456a-99b6-c535e094fefb",
      "metadata": {
        "id": "54d1f559-9fd3-456a-99b6-c535e094fefb"
      },
      "outputs": [],
      "source": [
        "from imblearn.over_sampling import SMOTE\n",
        "X_train_resampled, y_train_resampled = SMOTE().fit_resample(X_train_resampled, y_train_resampled)"
      ]
    },
    {
      "cell_type": "code",
      "execution_count": null,
      "id": "b80cbaf3-a32d-4237-9604-d14662930388",
      "metadata": {
        "id": "b80cbaf3-a32d-4237-9604-d14662930388"
      },
      "outputs": [],
      "source": [
        "y_train_resampled.value_counts()"
      ]
    },
    {
      "cell_type": "markdown",
      "id": "bb99d9d0-5aa3-4a35-a8ef-e6d0b29dac77",
      "metadata": {
        "id": "bb99d9d0-5aa3-4a35-a8ef-e6d0b29dac77"
      },
      "source": [
        "### Нормализация или стандартизация данных"
      ]
    },
    {
      "cell_type": "code",
      "execution_count": null,
      "id": "05dc1079-7f28-4664-9e65-d61c6112e642",
      "metadata": {
        "id": "05dc1079-7f28-4664-9e65-d61c6112e642"
      },
      "outputs": [],
      "source": [
        "# scaler = preprocessing.MinMaxScaler() # нормализация данных\n",
        "scaler = preprocessing.StandardScaler() # стандартизация данных\n",
        "\n",
        "X_train_resampled_scaled = pd.DataFrame(\n",
        "    scaler.fit_transform(X_train_resampled),\n",
        "    columns=X_train_resampled.columns,\n",
        "    index=X_train_resampled.index)\n",
        "\n",
        "X_test_resampled_scaled = pd.DataFrame(\n",
        "    scaler.transform(X_test_resampled),\n",
        "    columns=X_test_resampled.columns,\n",
        "    index=X_test_resampled.index)\n",
        "\n",
        "X_train_resampled_scaled.describe()"
      ]
    },
    {
      "cell_type": "markdown",
      "id": "e51480fb-842e-4de7-8237-6042a2c2dbb0",
      "metadata": {
        "id": "e51480fb-842e-4de7-8237-6042a2c2dbb0"
      },
      "source": [
        "Инициализируем переменные для дальнейшего сравнения моделей"
      ]
    },
    {
      "cell_type": "code",
      "execution_count": null,
      "id": "680b3ffd-404a-442a-90dc-d1421dd3f2f3",
      "metadata": {
        "id": "680b3ffd-404a-442a-90dc-d1421dd3f2f3"
      },
      "outputs": [],
      "source": [
        "accuracy_classifier = {}\n",
        "precision_classifier = {}\n",
        "recall_classifier = {}\n",
        "f1_classifier = {}"
      ]
    },
    {
      "cell_type": "markdown",
      "id": "3f312a0b-ca03-4d86-9d35-cdab40389065",
      "metadata": {
        "id": "3f312a0b-ca03-4d86-9d35-cdab40389065"
      },
      "source": [
        "Метод опорных векторов изначально предназначен для бинарной классификации, однако существуют способы адаптации его для решения задач многоклассовой классификации.  \n",
        "\n",
        "Один из таких подходов — стратегия **\"один против всех\"** (*one-versus-all*, OvA), также известная как **\"один против остальных\"** (*one-versus-the-rest*). В этом случае обучается $N$ бинарных классификаторов, по одному для каждого класса. Во время предсказания выбирается класс с наивысшим значением функции принятия решения.  \n",
        "\n",
        "Другой подход — **\"один против одного\"** (*one-versus-one*, OvO), при котором для каждой пары классов обучается отдельный бинарный классификатор. Таким образом, для $N$ классов требуется обучить $\\frac{N(N - 1)}{2}$ классификаторов. Преимущество этого метода в том, что каждый классификатор тренируется только на подмножестве данных, относящихся к двум соответствующим классам.  \n",
        "\n",
        "Метод опорных векторов плохо масштабируется при увеличении объема обучающего набора, поэтому стратегия **OvO часто предпочтительнее**: проще и быстрее обучить множество небольших классификаторов, чем несколько моделей, использующих полный набор данных. Однако для большинства бинарных алгоритмов стратегия **OvA является более естественной**, поскольку в ней каждая модель учитывает все данные и их принадлежность к конкретному классу.  \n",
        "\n",
        "### Рекомендации по выбору стратегии:\n",
        "- **OvO**  \n",
        "  - Лучше для моделей, плохо масштабируемых с ростом данных (например, SVM с нелинейными ядрами).  \n",
        "  - Эффективна при **большом количестве классов**, так как каждый классификатор использует только малую часть данных.  \n",
        "  - Может быть избыточна при небольшом числе классов.  \n",
        "\n",
        "- **OvR**   \n",
        "  - Применяется, когда **классов немного**, чтобы избежать чрезмерного количества моделей.  \n",
        "  - Может работать лучше, если один класс является **доминирующим** (например, задачи выявления аномалий).  \n",
        "\n",
        "Выбор стратегии зависит от конкретных данных и требований к модели. Если данных много и используется метод SVM, чаще всего предпочтительнее OvO. Если же данных не так много или алгоритм легко масштабируется, стоит попробовать OvA."
      ]
    },
    {
      "cell_type": "code",
      "execution_count": null,
      "id": "d85591d2-e765-4f7d-9aae-905e56bef385",
      "metadata": {
        "id": "d85591d2-e765-4f7d-9aae-905e56bef385"
      },
      "outputs": [],
      "source": [
        "kernel = widgets.Dropdown(\n",
        "    options=['linear', 'poly', 'rbf', 'sigmoid'],\n",
        "    value='rbf',\n",
        "    description='Kernel:',\n",
        "    disabled=False,\n",
        ")\n",
        "\n",
        "strategy = widgets.Dropdown(\n",
        "    options=['ovo', 'ovr'],\n",
        "    value='ovr',\n",
        "    description='Strategy:',\n",
        "    disabled=False,\n",
        ")\n",
        "\n",
        "widgets.VBox([\n",
        "    widgets.Label('Тип ядра, который будет использоваться в алгоритме'),\n",
        "    kernel,\n",
        "    widgets.Label('Стратегия'),\n",
        "    strategy])"
      ]
    },
    {
      "cell_type": "code",
      "execution_count": null,
      "id": "92c40b5b-9738-4d87-97ed-e66564b3b649",
      "metadata": {
        "id": "92c40b5b-9738-4d87-97ed-e66564b3b649"
      },
      "outputs": [],
      "source": [
        "svm_clf = SVC(gamma=\"auto\", random_state=42,\n",
        "              decision_function_shape=strategy.value,\n",
        "              kernel = kernel.value)\n",
        "svm_clf.fit(X_train_resampled_scaled, y_train_resampled)"
      ]
    },
    {
      "cell_type": "code",
      "execution_count": null,
      "id": "b4b15ba0-c1bc-4e27-89af-c01ec241edac",
      "metadata": {
        "id": "b4b15ba0-c1bc-4e27-89af-c01ec241edac"
      },
      "outputs": [],
      "source": [
        "some_indexes = y_test_resampled.groupby('target').sample(n=1, random_state=42).index\n",
        "X_some_modes = X_test_resampled_scaled.loc[some_indexes]\n",
        "y_some_modes = y_test_resampled.loc[some_indexes]\n",
        "\n",
        "for target, predict in zip(y_some_modes.values, svm_clf.predict(X_some_modes)):\n",
        "    print(f\"Истина - {target[0]} >>> {predict} - предсказание\")"
      ]
    },
    {
      "cell_type": "markdown",
      "id": "3e51f920-3539-4320-8859-966be3500528",
      "metadata": {
        "id": "3e51f920-3539-4320-8859-966be3500528"
      },
      "source": [
        "Метод **`decision_function()`** в `SVC` из `sklearn` возвращает оценку степени принадлежности объекта к определенному классу. Эта оценка называется **отступом (margin)** и представляет собой расстояние до разделяющей гиперплоскости в пространстве признаков.  \n",
        "\n",
        "**Для многоклассовой классификации** (`n_classes > 2`):  \n",
        "   - Если используется стратегия **\"Один-против-одного\" (OvO, по умолчанию в `SVC`)**, то метод возвращает массив размерности `(n_samples, n_classes * (n_classes - 1) / 2)`, где каждая колонка соответствует предсказанному отступу для одной из пар классов. Итоговый класс определяется голосованием.  \n",
        "   - Если используется стратегия **\"Один-против-всех\" (OvR, при использовании `OneVsRestClassifier`)**, то метод возвращает массив размерности `(n_samples, n_classes)`, где каждое значение — это отступ для соответствующего класса."
      ]
    },
    {
      "cell_type": "code",
      "execution_count": null,
      "id": "00ced285-01c1-4c02-a1ee-0df2ffaec119",
      "metadata": {
        "id": "00ced285-01c1-4c02-a1ee-0df2ffaec119"
      },
      "outputs": [],
      "source": [
        "some_mode_scores = svm_clf.decision_function(X_some_modes)\n",
        "print(some_mode_scores)\n",
        "print(y_some_modes)"
      ]
    },
    {
      "cell_type": "code",
      "execution_count": null,
      "id": "e068bba5-8438-4f02-b5cb-e187256a50ef",
      "metadata": {
        "id": "e068bba5-8438-4f02-b5cb-e187256a50ef"
      },
      "outputs": [],
      "source": [
        "svm_clf.classes_"
      ]
    },
    {
      "cell_type": "markdown",
      "id": "b8e4835b-2c85-40a3-a4dc-66c51b1536a4",
      "metadata": {
        "id": "b8e4835b-2c85-40a3-a4dc-66c51b1536a4"
      },
      "source": [
        "### Анализ качества модели опорных векторов"
      ]
    },
    {
      "cell_type": "code",
      "execution_count": null,
      "id": "ce5bcd64-f0a0-4fa3-b69f-6f808b8ab532",
      "metadata": {
        "id": "ce5bcd64-f0a0-4fa3-b69f-6f808b8ab532"
      },
      "outputs": [],
      "source": [
        "y_test_pred_svm = svm_clf.predict(X_test_resampled_scaled)"
      ]
    },
    {
      "cell_type": "markdown",
      "id": "9ae360c6-0894-4ac5-8755-46d260f1ff6f",
      "metadata": {
        "id": "9ae360c6-0894-4ac5-8755-46d260f1ff6f"
      },
      "source": [
        "#### Матрица неточностей"
      ]
    },
    {
      "cell_type": "code",
      "execution_count": null,
      "id": "385142f5-940f-432e-bea4-a5ec49576c97",
      "metadata": {
        "id": "385142f5-940f-432e-bea4-a5ec49576c97"
      },
      "outputs": [],
      "source": [
        "conf_mat = confusion_matrix(y_test_resampled, y_test_pred_svm)\n",
        "ConfusionMatrixDisplay(conf_mat, display_labels=svm_clf.classes_).plot()\n",
        "plt.xticks(rotation=90)\n",
        "plt.show()"
      ]
    },
    {
      "cell_type": "markdown",
      "id": "4e8f0a73-9e28-4385-9012-f2893f329855",
      "metadata": {
        "id": "4e8f0a73-9e28-4385-9012-f2893f329855"
      },
      "source": [
        "#### Accuracy"
      ]
    },
    {
      "cell_type": "code",
      "execution_count": null,
      "id": "eb24c37f-fa13-4b97-be64-9035031f29d5",
      "metadata": {
        "id": "eb24c37f-fa13-4b97-be64-9035031f29d5"
      },
      "outputs": [],
      "source": [
        "accuracy_classifier['svm'] = accuracy_score(y_test_resampled, y_test_pred_svm)"
      ]
    },
    {
      "cell_type": "markdown",
      "id": "3171f2ce-e337-48f3-94ac-509eade1dce5",
      "metadata": {
        "id": "3171f2ce-e337-48f3-94ac-509eade1dce5"
      },
      "source": [
        "#### Precision и recall"
      ]
    },
    {
      "cell_type": "code",
      "execution_count": null,
      "id": "ae9cb23a-0142-40bd-8cad-66a9feafd850",
      "metadata": {
        "id": "ae9cb23a-0142-40bd-8cad-66a9feafd850"
      },
      "outputs": [],
      "source": [
        "precision_classifier['svm'] = precision_score(y_test_resampled, y_test_pred_svm, average='macro', zero_division = np.nan)\n",
        "recall_classifier['svm'] = recall_score(y_test_resampled, y_test_pred_svm, average='macro', zero_division = np.nan)"
      ]
    },
    {
      "cell_type": "markdown",
      "id": "9678ab6d-7d55-4ca7-af80-7904ca8c54cc",
      "metadata": {
        "id": "9678ab6d-7d55-4ca7-af80-7904ca8c54cc"
      },
      "source": [
        "#### F1"
      ]
    },
    {
      "cell_type": "code",
      "execution_count": null,
      "id": "44c1a507-bd75-4bc2-80d2-a044aa20c174",
      "metadata": {
        "id": "44c1a507-bd75-4bc2-80d2-a044aa20c174"
      },
      "outputs": [],
      "source": [
        "f1_classifier['svm'] = f1_score(y_test_resampled, y_test_pred_svm, average='macro', zero_division = np.nan)"
      ]
    },
    {
      "cell_type": "markdown",
      "id": "c0460924-a9bf-479b-821e-31457574b517",
      "metadata": {
        "id": "c0460924-a9bf-479b-821e-31457574b517"
      },
      "source": [
        "#### Значения метрик"
      ]
    },
    {
      "cell_type": "code",
      "execution_count": null,
      "id": "4203214e-7a06-43f8-8c7e-ea4aa5339a5c",
      "metadata": {
        "id": "4203214e-7a06-43f8-8c7e-ea4aa5339a5c"
      },
      "outputs": [],
      "source": [
        "print(f\"accuracy - {accuracy_classifier['svm']*100:0.2f}%\")\n",
        "print(f\"precision - {precision_classifier['svm']*100:0.2f}%\")\n",
        "print(f\"recall - {recall_classifier['svm']*100:0.2f}%\")\n",
        "print(f\"F1 - {f1_classifier['svm']*100:0.2f}%\")"
      ]
    },
    {
      "cell_type": "markdown",
      "id": "ec83d274-0f31-4a50-bffc-c2cf02cbc436",
      "metadata": {
        "id": "ec83d274-0f31-4a50-bffc-c2cf02cbc436"
      },
      "source": [
        "## Метод ближайших соседей (K-Nearest Neighbors, KNN)\n",
        "\n",
        "\n",
        "**Метод k-ближайших соседей (KNN)** – это простой и эффективный алгоритм **классификации** и **регрессии**, основанный на **поиске ближайших точек** в пространстве признаков.  \n",
        "\n",
        "**Основная идея:**  \n",
        "1. Для нового объекта **ищутся K ближайших точек** (соседей) в обучающей выборке.  \n",
        "2. Класс объекта определяется **по большинству** среди соседей.   \n",
        "\n",
        "![knn image](https://vitalflux.com/wp-content/uploads/2020/09/Screenshot-2020-09-22-at-2.34.57-PM.png)\n",
        "\n",
        "---\n",
        "\n",
        "**Как работает KNN?**  \n",
        "\n",
        "**Выбираем количество соседей (K)**  \n",
        "- Маленькое K → модель **чувствительна** к шуму (может переобучаться).  \n",
        "- Большое K → модель становится **более устойчивой**, но может терять точность.  \n",
        "\n",
        "**Вычисляем расстояния между точками**  \n",
        "- **Евклидово расстояние** (стандартный вариант):  \n",
        "$$ d(A, B) = \\sqrt{(x_1 - x_2)^2 + (y_1 - y_2)^2} $$\n",
        "- Можно использовать и другие метрики: **Манхэттенское, Косинусное, Чебышёва**.  \n",
        "\n",
        "**Определяем класс нового объекта**  \n",
        "- Берем K ближайших точек и **голосуем за класс** (большинство решает).  \n",
        "- Если **регрессия** – усредняем значения.  \n",
        "\n",
        "---\n",
        "\n",
        "**Преимущества и недостатки KNN**  \n",
        "\n",
        "**Плюсы:**  \n",
        "**Простота** – не требует сложного обучения.  \n",
        "**Гибкость** – можно менять метрики и K.  \n",
        "**Хорошо работает при малых данных**.  \n",
        "\n",
        "**Минусы:**  \n",
        "**Медленный при больших данных** – O(N) сложность поиска соседей.  \n",
        "**Чувствителен к шуму** при малых K.  \n",
        "**Плохо работает с высокой размерностью**.  \n",
        "\n",
        "---\n",
        "\n",
        "Метод ближайших соседей **хорош для небольших данных** и **прост в реализации**, но **плохо масштабируется**.  \n",
        "Лучше работает при **малом количестве признаков** и **нормализованных данных**."
      ]
    },
    {
      "cell_type": "code",
      "execution_count": null,
      "id": "cf9a64dc-e3a6-4ba5-8ff9-1a6beb42367c",
      "metadata": {
        "id": "cf9a64dc-e3a6-4ba5-8ff9-1a6beb42367c"
      },
      "outputs": [],
      "source": [
        "n_neighbors = widgets.IntSlider(\n",
        "    value=5, min=1, max=20, step=1, description=\"Число соседей:\")\n",
        "display(n_neighbors)"
      ]
    },
    {
      "cell_type": "code",
      "execution_count": null,
      "id": "ea047ca4-8dfc-4e2c-8fce-3ab70aacca3e",
      "metadata": {
        "id": "ea047ca4-8dfc-4e2c-8fce-3ab70aacca3e"
      },
      "outputs": [],
      "source": [
        "from sklearn.neighbors import KNeighborsClassifier\n",
        "\n",
        "knn_clf = KNeighborsClassifier(n_neighbors=n_neighbors.value)\n",
        "knn_clf.fit(X_train_resampled_scaled, y_train_resampled)"
      ]
    },
    {
      "cell_type": "code",
      "execution_count": null,
      "id": "130f9133-e0a4-466d-8c25-5902fd931cd2",
      "metadata": {
        "id": "130f9133-e0a4-466d-8c25-5902fd931cd2"
      },
      "outputs": [],
      "source": [
        "some_indexes = y_test_resampled.groupby('target').sample(n=1, random_state=42).index\n",
        "X_some_modes = X_test_resampled_scaled.loc[some_indexes]\n",
        "y_some_modes = y_test_resampled.loc[some_indexes]\n",
        "\n",
        "for target, predict in zip(y_some_modes.values, knn_clf.predict(X_some_modes)):\n",
        "    print(f\"Истина - {target[0]} >>> {predict} - предсказание\")"
      ]
    },
    {
      "cell_type": "markdown",
      "id": "fdd10718-b636-4149-abba-aaf1a08e8a75",
      "metadata": {
        "id": "fdd10718-b636-4149-abba-aaf1a08e8a75"
      },
      "source": [
        "Метод **`predict_proba()`** в `KNeighborsClassifier` предоставляет **вероятности** принадлежности объекта к каждому классу. Эти вероятности можно интерпретировать как **\"уверенность\"** модели.\n",
        "\n",
        "Метод `predict_proba()` в **KNN** может давать высокие вероятности, даже если предсказание неверное, особенно если количество соседей мало или данные несбалансированы. Рекомендуется проводить настройку параметра `k`, балансировать данные и, в случае необходимости, рассматривать другие методы классификации."
      ]
    },
    {
      "cell_type": "code",
      "execution_count": null,
      "id": "3f3cb0a1-865d-4c78-b99f-3699fb6659aa",
      "metadata": {
        "id": "3f3cb0a1-865d-4c78-b99f-3699fb6659aa"
      },
      "outputs": [],
      "source": [
        "pd.DataFrame(knn_clf.predict_proba(X_some_modes), columns=svm_clf.classes_)"
      ]
    },
    {
      "cell_type": "markdown",
      "id": "a98e1b6b-6b0e-4326-9dd0-92423d147b51",
      "metadata": {
        "id": "a98e1b6b-6b0e-4326-9dd0-92423d147b51"
      },
      "source": [
        "Для автоматического подбора гиперпараметров для модели **K ближайших соседей (KNN)** в Python можно использовать **GridSearchCV** или **RandomizedSearchCV** из библиотеки **scikit-learn**. Эти инструменты помогут подобрать оптимальные значения гиперпараметров, таких как количество соседей (k), метрика расстояния, алгоритм поиска ближайших соседей и другие параметры.\n",
        "\n",
        "1. **Использование `GridSearchCV`**:\n",
        "   - `GridSearchCV` выполняет **поиск по сетке**, проверяя все возможные комбинации заданных гиперпараметров. Это даёт гарантию, что вы найдете наилучшие параметры, но может занять много времени для больших наборов данных и большого количества параметров.\n",
        "\n",
        "2. **Использование `RandomizedSearchCV`**:\n",
        "   - `RandomizedSearchCV` выполняет **случайный поиск** по заданному пространству гиперпараметров, что может быть быстрее, чем полный перебор, особенно если пространство поиска большое.\n",
        "\n",
        "### Ключевые параметры:\n",
        "- **`n_neighbors`**: количество ближайших соседей, которое будет использовать модель для классификации.\n",
        "- **`weights`**: функция веса, которая влияет на то, как рассчитываются \"веса\" соседей. Может быть:\n",
        "  - `'uniform'`: все соседи имеют одинаковый вес.\n",
        "  - `'distance'`: соседи взвешиваются в зависимости от расстояния.\n",
        "- **`metric`**: метрика расстояния, например:\n",
        "  - `'euclidean'` — евклидово расстояние.\n",
        "  - `'manhattan'` — манхэттенское расстояние.\n",
        "  - `'chebyshev'` — расстояние Чебышева.\n",
        "- **`cv`**: количество фолдов для кросс-валидации.\n",
        "- **`n_jobs`**: количество ядер процессора, которое будет использоваться для параллельных вычислений (например, `-1` — для использования всех доступных ядер)."
      ]
    },
    {
      "cell_type": "markdown",
      "id": "72ec806e-3ae4-42a4-a5c5-9789409c1130",
      "metadata": {
        "id": "72ec806e-3ae4-42a4-a5c5-9789409c1130"
      },
      "source": [
        "#### GridSearchCV"
      ]
    },
    {
      "cell_type": "code",
      "execution_count": null,
      "id": "efb3d357-afe6-4ccd-977c-fb1af8cc3b23",
      "metadata": {
        "id": "efb3d357-afe6-4ccd-977c-fb1af8cc3b23"
      },
      "outputs": [],
      "source": [
        "from sklearn.model_selection import GridSearchCV\n",
        "\n",
        "# Создание модели KNN\n",
        "knn = KNeighborsClassifier()\n",
        "\n",
        "# Определение параметров для поиска\n",
        "param_grid = {\n",
        "    'n_neighbors': [3, 5, 7, 9, 11],  # Количество соседей\n",
        "    'weights': ['uniform', 'distance'],  # Весовые функции\n",
        "    'metric': ['euclidean', 'manhattan', 'chebyshev'],  # Метрики расстояния\n",
        "}\n",
        "\n",
        "# Использование GridSearchCV для подбора параметров\n",
        "grid_search = GridSearchCV(estimator=knn, param_grid=param_grid, cv=5, n_jobs=-1, verbose=2)\n",
        "\n",
        "# Обучение модели с GridSearchCV\n",
        "grid_search.fit(X_train_resampled_scaled, y_train_resampled)\n",
        "\n",
        "# Вывод лучших параметров\n",
        "print(\"Лучшие параметры:\", grid_search.best_params_)\n",
        "\n",
        "# Оценка модели на тестовых данных\n",
        "best_knn = grid_search.best_estimator_\n",
        "print(\"Точность на тестовой выборке:\", best_knn.score(X_test_resampled_scaled, y_test_resampled))"
      ]
    },
    {
      "cell_type": "markdown",
      "id": "cd2aaf70-7f26-432b-927a-bbf3f312d30e",
      "metadata": {
        "id": "cd2aaf70-7f26-432b-927a-bbf3f312d30e"
      },
      "source": [
        "#### RandomizedSearchCV"
      ]
    },
    {
      "cell_type": "code",
      "execution_count": null,
      "id": "ff2be485-8c18-4f34-a085-c7a53b523a26",
      "metadata": {
        "id": "ff2be485-8c18-4f34-a085-c7a53b523a26"
      },
      "outputs": [],
      "source": [
        "from sklearn.model_selection import RandomizedSearchCV\n",
        "\n",
        "# Создание модели KNN\n",
        "knn = KNeighborsClassifier()\n",
        "\n",
        "# Определение параметров для случайного поиска\n",
        "param_dist = {\n",
        "    'n_neighbors': np.arange(1, 21),  # Количество соседей\n",
        "    'weights': ['uniform', 'distance'],  # Весовые функции\n",
        "    'metric': ['euclidean', 'manhattan', 'chebyshev'],  # Метрики расстояния\n",
        "}\n",
        "\n",
        "# Использование RandomizedSearchCV для подбора параметров\n",
        "random_search = RandomizedSearchCV(estimator=knn, param_distributions=param_dist, n_iter=10, cv=5, n_jobs=-1, verbose=2, random_state=42)\n",
        "\n",
        "# Обучение модели с RandomizedSearchCV\n",
        "random_search.fit(X_train_resampled_scaled, y_train_resampled)\n",
        "\n",
        "# Вывод лучших параметров\n",
        "print(\"Лучшие параметры:\", random_search.best_params_)\n",
        "\n",
        "# Оценка модели на тестовых данных\n",
        "best_knn = random_search.best_estimator_\n",
        "print(\"Точность на тестовой выборке:\", best_knn.score(X_test_resampled_scaled, y_test_resampled))"
      ]
    },
    {
      "cell_type": "markdown",
      "id": "55cd0cdc-4663-4e9d-a496-3e0a883c4f72",
      "metadata": {
        "id": "55cd0cdc-4663-4e9d-a496-3e0a883c4f72"
      },
      "source": [
        "Выбор **n_neighbors = 1** может быть оптимален, если данные достаточно чисты и между классами есть чёткое разделение. В таком случае ближайший сосед может быть достаточно хорош для точного предсказания, и использование одного соседа может быть достаточно эффективным."
      ]
    },
    {
      "cell_type": "markdown",
      "id": "69f90af7-96ff-4bdb-a72d-590c3177531d",
      "metadata": {
        "id": "69f90af7-96ff-4bdb-a72d-590c3177531d"
      },
      "source": [
        "### Анализ качества модели ближайших соседей"
      ]
    },
    {
      "cell_type": "code",
      "execution_count": null,
      "id": "d3427ea3-60eb-4f4f-8213-6ee69c5461a4",
      "metadata": {
        "id": "d3427ea3-60eb-4f4f-8213-6ee69c5461a4"
      },
      "outputs": [],
      "source": [
        "y_test_pred_knn = best_knn.predict(X_test_resampled_scaled)"
      ]
    },
    {
      "cell_type": "code",
      "execution_count": null,
      "id": "273aa80e-a131-4501-80b9-3b6482454f7f",
      "metadata": {
        "id": "273aa80e-a131-4501-80b9-3b6482454f7f"
      },
      "outputs": [],
      "source": [
        "conf_mat = confusion_matrix(y_test_resampled, y_test_pred_knn)\n",
        "ConfusionMatrixDisplay(conf_mat, display_labels=svm_clf.classes_).plot()\n",
        "plt.xticks(rotation=90)\n",
        "plt.show()"
      ]
    },
    {
      "cell_type": "markdown",
      "id": "9c5ad31f-4146-474d-9a22-524a3627708a",
      "metadata": {
        "id": "9c5ad31f-4146-474d-9a22-524a3627708a"
      },
      "source": [
        "#### Accuracy"
      ]
    },
    {
      "cell_type": "code",
      "execution_count": null,
      "id": "938be3a1-8a81-4ae7-b083-806cc0e8a894",
      "metadata": {
        "id": "938be3a1-8a81-4ae7-b083-806cc0e8a894"
      },
      "outputs": [],
      "source": [
        "accuracy_classifier['knn'] = accuracy_score(y_test_resampled, y_test_pred_knn)"
      ]
    },
    {
      "cell_type": "markdown",
      "id": "35c78c6a-7264-42d4-927d-5c7f9ec007b9",
      "metadata": {
        "id": "35c78c6a-7264-42d4-927d-5c7f9ec007b9"
      },
      "source": [
        "#### Precision и recall"
      ]
    },
    {
      "cell_type": "code",
      "execution_count": null,
      "id": "d8e692bb-6a67-48ba-9536-684fbe427717",
      "metadata": {
        "id": "d8e692bb-6a67-48ba-9536-684fbe427717"
      },
      "outputs": [],
      "source": [
        "precision_classifier['knn'] = precision_score(y_test_resampled, y_test_pred_knn, average='macro', zero_division = np.nan)\n",
        "recall_classifier['knn'] = recall_score(y_test_resampled, y_test_pred_knn, average='macro', zero_division = np.nan)"
      ]
    },
    {
      "cell_type": "markdown",
      "id": "7d685cad-8a49-464b-9d34-337eaf2a6ea3",
      "metadata": {
        "id": "7d685cad-8a49-464b-9d34-337eaf2a6ea3"
      },
      "source": [
        "#### F1"
      ]
    },
    {
      "cell_type": "code",
      "execution_count": null,
      "id": "9dd18abc-8951-4d46-bf82-044edfc377f0",
      "metadata": {
        "id": "9dd18abc-8951-4d46-bf82-044edfc377f0"
      },
      "outputs": [],
      "source": [
        "f1_classifier['knn'] = f1_score(y_test_resampled, y_test_pred_knn, average='macro', zero_division = np.nan)"
      ]
    },
    {
      "cell_type": "markdown",
      "id": "bacf1239-633d-44da-820e-2997740b92a5",
      "metadata": {
        "id": "bacf1239-633d-44da-820e-2997740b92a5"
      },
      "source": [
        "#### Значения метрик"
      ]
    },
    {
      "cell_type": "code",
      "execution_count": null,
      "id": "72118fcb-7872-4f22-9409-aaf66cc96c69",
      "metadata": {
        "id": "72118fcb-7872-4f22-9409-aaf66cc96c69"
      },
      "outputs": [],
      "source": [
        "print(f\"accuracy - {accuracy_classifier['knn']*100:0.2f}%\")\n",
        "print(f\"precision - {precision_classifier['knn']*100:0.2f}%\")\n",
        "print(f\"recall - {recall_classifier['knn']*100:0.2f}%\")\n",
        "print(f\"F1 - {f1_classifier['knn']*100:0.2f}%\")"
      ]
    },
    {
      "cell_type": "markdown",
      "id": "485bd6e1-3182-4e2d-bc18-26a38dbf1ca3",
      "metadata": {
        "id": "485bd6e1-3182-4e2d-bc18-26a38dbf1ca3"
      },
      "source": [
        "## Случайный лес (Random Forest)\n",
        "\n",
        "**Случайный лес (Random Forest)** – это ансамблевый алгоритм машинного обучения, который строит **множество деревьев решений** и объединяет их предсказания. Он используется как для **классификации**, так и для **регрессии**.  \n",
        "\n",
        "**Основная идея** – создать несколько деревьев решений и усреднять их предсказания, чтобы модель была **более точной и устойчивой**.\n",
        "\n",
        "<!-- ![rf image](https://victorzhou.com/media/random-forest-post/random-forest.png) -->\n",
        "\n",
        "<img src=\"https://victorzhou.com/media/random-forest-post/random-forest.png\" alt=\"rf image\" width=\"800\"  align=\"center\"/>\n",
        "\n",
        "---\n",
        "\n",
        "**Как работает случайный лес?**  \n",
        "**Создание множества деревьев решений**  \n",
        "- Каждое дерево строится на **случайной подвыборке** данных (bagging).  \n",
        "- Для каждого разбиения в узле дерева выбирается **случайное подмножество признаков**.  \n",
        "\n",
        "**Обучение деревьев независимо друг от друга**  \n",
        "- В отличие от градиентного бустинга, деревья **не зависят друг от друга**.  \n",
        "- Это делает алгоритм **быстрым в обучении** и **устойчивым к переобучению**.  \n",
        "\n",
        "**Объединение предсказаний**  \n",
        "- В **классификации** – голосование большинства (majority voting).  \n",
        "\n",
        "---\n",
        "\n",
        "**Когда использовать Random Forest?**  \n",
        "Когда нужна **высокая точность**.  \n",
        "Когда данные **шумные** или **содержат выбросы**.  \n",
        "Когда важна **устойчивость модели** к переобучению.  \n",
        "Когда нужно **оценить важность признаков**.  \n",
        "\n",
        "**Когда НЕ использовать?**  \n",
        "Если нужны **интерпретируемые модели** – сложно понять, как именно модель принимает решение.  \n",
        "Если важна **скорость предсказаний** – например, для реального времени.  \n",
        "\n",
        "---\n",
        "\n",
        "**Random Forest** – мощный алгоритм, который отлично работает на большинстве задач машинного обучения. Он особенно полезен, когда нужна **высокая точность**, а данные **сложные и шумные**."
      ]
    },
    {
      "cell_type": "code",
      "execution_count": null,
      "id": "13da20ab-800a-489a-b65e-ea183c43687a",
      "metadata": {
        "id": "13da20ab-800a-489a-b65e-ea183c43687a"
      },
      "outputs": [],
      "source": [
        "n_estimators = widgets.IntSlider(\n",
        "    value=100, min=1, max=500, step=1, description=\"Число деревьев:\")\n",
        "display(n_estimators)"
      ]
    },
    {
      "cell_type": "code",
      "execution_count": null,
      "id": "6be4a024-1354-4c1d-b092-e2b7da9e6df8",
      "metadata": {
        "id": "6be4a024-1354-4c1d-b092-e2b7da9e6df8"
      },
      "outputs": [],
      "source": [
        "forest_clf = RandomForestClassifier(n_estimators=n_estimators.value, random_state=42)\n",
        "forest_clf.fit(X_train_resampled_scaled, y_train_resampled)"
      ]
    },
    {
      "cell_type": "code",
      "execution_count": null,
      "id": "3b3fed2f-e4db-4ab3-a305-019899e9b6e8",
      "metadata": {
        "id": "3b3fed2f-e4db-4ab3-a305-019899e9b6e8"
      },
      "outputs": [],
      "source": [
        "some_indexes = y_test_resampled.groupby('target').sample(n=1, random_state=42).index\n",
        "X_some_modes = X_test_resampled_scaled.loc[some_indexes]\n",
        "y_some_modes = y_test_resampled.loc[some_indexes]\n",
        "\n",
        "for target, predict in zip(y_some_modes.values, forest_clf.predict(X_some_modes)):\n",
        "    print(f\"Истина - {target[0]} >>> {predict} - предсказание\")"
      ]
    },
    {
      "cell_type": "markdown",
      "id": "81bfb9e9-54eb-4362-9303-5ba8639b57f7",
      "metadata": {
        "id": "81bfb9e9-54eb-4362-9303-5ba8639b57f7"
      },
      "source": [
        "Метод **`predict_proba()`** в Random Forest предоставляет вероятности для каждого класса. Эти вероятности можно интерпретировать как уверенность модели в предсказаниях. Чем выше вероятность для предсказанного класса, тем более уверена модель в своём решении."
      ]
    },
    {
      "cell_type": "code",
      "execution_count": null,
      "id": "dd46d032-4815-441e-8d92-09775022f434",
      "metadata": {
        "id": "dd46d032-4815-441e-8d92-09775022f434"
      },
      "outputs": [],
      "source": [
        "forest_clf.predict_proba(X_some_modes)"
      ]
    },
    {
      "cell_type": "markdown",
      "id": "ab4fad37-ee23-4de5-92cf-d1726a75afab",
      "metadata": {
        "id": "ab4fad37-ee23-4de5-92cf-d1726a75afab"
      },
      "source": [
        "#### Подбор гиперпараметров с использованием `RandomizedSearchCV`"
      ]
    },
    {
      "cell_type": "code",
      "execution_count": null,
      "id": "ebef8207-ab25-4cb8-8c28-8d75651bf26b",
      "metadata": {
        "id": "ebef8207-ab25-4cb8-8c28-8d75651bf26b"
      },
      "outputs": [],
      "source": [
        "# Создание модели Random Forest\n",
        "rf = RandomForestClassifier(random_state=42)\n",
        "\n",
        "# Использование RandomizedSearchCV для подбора параметров\n",
        "random_search = RandomizedSearchCV(estimator=knn, param_distributions=param_dist, n_iter=10, cv=5, n_jobs=-1, verbose=0, random_state=42)\n",
        "\n",
        "# Определение диапазонов параметров для случайного поиска\n",
        "param_dist = {\n",
        "    'n_estimators': np.arange(50, 500, 50),  # Количество деревьев\n",
        "    # 'max_depth': [None, 10, 20, 30, 40],  # Максимальная глубина деревьев\n",
        "    # 'min_samples_split': np.arange(2, 20, 2),  # Минимальное количество образцов для разделения узла\n",
        "    # 'min_samples_leaf': np.arange(1, 20, 2),  # Минимальное количество образцов в листьях\n",
        "    # 'max_features': ['auto', 'sqrt', 'log2'],  # Количество признаков для разбиения\n",
        "    # 'bootstrap': [True, False],  # Использование бутстрапа\n",
        "}\n",
        "\n",
        "# Создание RandomizedSearchCV\n",
        "random_search = RandomizedSearchCV(estimator=rf, param_distributions=param_dist, n_iter=10, cv=5, n_jobs=-1, verbose=2, random_state=42)\n",
        "\n",
        "# Обучение модели с RandomizedSearchCV\n",
        "random_search.fit(X_train_resampled_scaled, y_train_resampled)\n",
        "\n",
        "# Вывод лучших параметров\n",
        "print(\"Лучшие параметры:\", random_search.best_params_)\n",
        "\n",
        "# Оценка модели на тестовых данных\n",
        "best_rf = random_search.best_estimator_\n",
        "print(\"Точность на тестовой выборке:\", best_rf.score(X_test_resampled_scaled, y_test_resampled))"
      ]
    },
    {
      "cell_type": "markdown",
      "id": "c9a1a691-09ec-4fa9-9fe8-6e811f7be9c0",
      "metadata": {
        "id": "c9a1a691-09ec-4fa9-9fe8-6e811f7be9c0"
      },
      "source": [
        "### Анализ качества модели случайного леса"
      ]
    },
    {
      "cell_type": "code",
      "execution_count": null,
      "id": "9d88f24f-d598-49b7-8205-81f0d0bb782b",
      "metadata": {
        "id": "9d88f24f-d598-49b7-8205-81f0d0bb782b"
      },
      "outputs": [],
      "source": [
        "y_test_pred_forest = best_rf.predict(X_test_resampled_scaled)"
      ]
    },
    {
      "cell_type": "code",
      "execution_count": null,
      "id": "86ab1d9d-016b-4147-b256-77303c84b3c0",
      "metadata": {
        "id": "86ab1d9d-016b-4147-b256-77303c84b3c0"
      },
      "outputs": [],
      "source": [
        "conf_mat = confusion_matrix(y_test_resampled, y_test_pred_forest)\n",
        "ConfusionMatrixDisplay(conf_mat, display_labels=svm_clf.classes_).plot()\n",
        "plt.xticks(rotation=90)\n",
        "plt.show()"
      ]
    },
    {
      "cell_type": "markdown",
      "id": "99580b0e-723e-4ed3-924e-435f974cdad4",
      "metadata": {
        "id": "99580b0e-723e-4ed3-924e-435f974cdad4"
      },
      "source": [
        "#### Accuracy"
      ]
    },
    {
      "cell_type": "code",
      "execution_count": null,
      "id": "f10b1f2a-eec7-4c05-a625-21570bcf05dc",
      "metadata": {
        "id": "f10b1f2a-eec7-4c05-a625-21570bcf05dc"
      },
      "outputs": [],
      "source": [
        "accuracy_classifier['forest'] = accuracy_score(y_test_resampled, y_test_pred_forest)"
      ]
    },
    {
      "cell_type": "markdown",
      "id": "c0cdc141-7542-4b01-b01a-c2b0cad96e39",
      "metadata": {
        "id": "c0cdc141-7542-4b01-b01a-c2b0cad96e39"
      },
      "source": [
        "#### Precision и recall"
      ]
    },
    {
      "cell_type": "code",
      "execution_count": null,
      "id": "71e6b152-eacc-4369-a5c0-a7123108bf5f",
      "metadata": {
        "id": "71e6b152-eacc-4369-a5c0-a7123108bf5f"
      },
      "outputs": [],
      "source": [
        "precision_classifier['forest'] = precision_score(y_test_resampled, y_test_pred_forest, average='macro', zero_division = np.nan)\n",
        "recall_classifier['forest'] = recall_score(y_test_resampled, y_test_pred_forest, average='macro', zero_division = np.nan)"
      ]
    },
    {
      "cell_type": "markdown",
      "id": "735c3f7c-afe3-4929-b6b5-7a94c6f113c1",
      "metadata": {
        "id": "735c3f7c-afe3-4929-b6b5-7a94c6f113c1"
      },
      "source": [
        "#### F1"
      ]
    },
    {
      "cell_type": "code",
      "execution_count": null,
      "id": "ea2fdde9-3966-4d4f-92ee-4929c9902a80",
      "metadata": {
        "id": "ea2fdde9-3966-4d4f-92ee-4929c9902a80"
      },
      "outputs": [],
      "source": [
        "f1_classifier['forest'] = f1_score(y_test_resampled, y_test_pred_forest, average='macro', zero_division = np.nan)"
      ]
    },
    {
      "cell_type": "markdown",
      "id": "2c15f2fe-2f0c-4971-a3bd-555cdef2e6d2",
      "metadata": {
        "id": "2c15f2fe-2f0c-4971-a3bd-555cdef2e6d2"
      },
      "source": [
        "#### Значения метрик"
      ]
    },
    {
      "cell_type": "code",
      "execution_count": null,
      "id": "6fee1e2b-c167-488b-9b69-403b5c87b890",
      "metadata": {
        "id": "6fee1e2b-c167-488b-9b69-403b5c87b890"
      },
      "outputs": [],
      "source": [
        "print(f\"accuracy - {accuracy_classifier['forest']*100:0.2f}%\")\n",
        "print(f\"precision - {precision_classifier['forest']*100:0.2f}%\")\n",
        "print(f\"recall - {recall_classifier['forest']*100:0.2f}%\")\n",
        "print(f\"F1 - {f1_classifier['forest']*100:0.2f}%\")"
      ]
    },
    {
      "cell_type": "markdown",
      "id": "683a5819-d1d3-43ad-9a88-6b1a84fb4db9",
      "metadata": {
        "id": "683a5819-d1d3-43ad-9a88-6b1a84fb4db9"
      },
      "source": [
        "## Сравнение"
      ]
    },
    {
      "cell_type": "code",
      "execution_count": null,
      "id": "12b2757e-d247-457e-acf5-221961433e44",
      "metadata": {
        "id": "12b2757e-d247-457e-acf5-221961433e44"
      },
      "outputs": [],
      "source": [
        "df = pd.DataFrame(\n",
        "    [precision_classifier, recall_classifier, f1_classifier, accuracy_classifier],\n",
        "    index=['Precision', 'Recall', 'F1-score', 'Accuracy'])"
      ]
    },
    {
      "cell_type": "code",
      "execution_count": null,
      "id": "0d763236-cbbe-4f8d-9d35-047ee543e02a",
      "metadata": {
        "id": "0d763236-cbbe-4f8d-9d35-047ee543e02a"
      },
      "outputs": [],
      "source": [
        "df"
      ]
    },
    {
      "cell_type": "markdown",
      "id": "7336018e-1204-40e9-a5dd-867599dafd20",
      "metadata": {
        "id": "7336018e-1204-40e9-a5dd-867599dafd20"
      },
      "source": [
        "#### **Random Forest (лес случайных деревьев) – ЛУЧШАЯ модель**  \n",
        "**Лучшие показатели по всем метрикам** → Precision, Recall, F1-score, Accuracy.  \n",
        "**Высокий Precision и Recall** говорят о том, что модель не только правильно классифицирует объекты, но и редко ошибается.  \n",
        "**Вывод**: Эта модель демонстрирует **наилучшие результаты**, что делает её оптимальным выбором.  \n"
      ]
    },
    {
      "cell_type": "code",
      "execution_count": null,
      "id": "edfa1384-d68a-4610-89f4-b2564ad18ff6",
      "metadata": {
        "id": "edfa1384-d68a-4610-89f4-b2564ad18ff6"
      },
      "outputs": [],
      "source": []
    }
  ],
  "metadata": {
    "kernelspec": {
      "display_name": "Python 3 (ipykernel)",
      "language": "python",
      "name": "python3"
    },
    "language_info": {
      "codemirror_mode": {
        "name": "ipython",
        "version": 3
      },
      "file_extension": ".py",
      "mimetype": "text/x-python",
      "name": "python",
      "nbconvert_exporter": "python",
      "pygments_lexer": "ipython3",
      "version": "3.12.4"
    },
    "colab": {
      "provenance": [],
      "include_colab_link": true
    }
  },
  "nbformat": 4,
  "nbformat_minor": 5
}