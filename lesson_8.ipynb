{
  "cells": [
    {
      "cell_type": "markdown",
      "metadata": {
        "id": "view-in-github",
        "colab_type": "text"
      },
      "source": [
        "<a href=\"https://colab.research.google.com/github/ArtyomShabunin/SMOPA-25/blob/main/lesson_8.ipynb\" target=\"_parent\"><img src=\"https://colab.research.google.com/assets/colab-badge.svg\" alt=\"Open In Colab\"/></a>"
      ]
    },
    {
      "cell_type": "markdown",
      "id": "b86f5248-6d10-4662-ade6-27c46cde71d5",
      "metadata": {
        "id": "b86f5248-6d10-4662-ade6-27c46cde71d5"
      },
      "source": [
        "<img src=\"https://prana-system.com/files/110/rds_color_full.png\" alt=\"tot image\" width=\"300\"  align=\"center\"/> &nbsp;&nbsp;&nbsp;&nbsp;&nbsp;&nbsp;&nbsp;&nbsp;\n",
        "<img src=\"https://mpei.ru/AboutUniverse/OficialInfo/Attributes/PublishingImages/logo1.jpg\" alt=\"mpei image\" width=\"200\" align=\"center\"/>\n",
        "<img src=\"https://mpei.ru/Structure/Universe/tanpe/structure/tfhe/PublishingImages/tot.png\" alt=\"tot image\" width=\"100\"  align=\"center\"/>\n",
        "\n",
        "---\n",
        "\n",
        "# **Системы машинного обучения и предиктивной аналитики в тепловой и возобновляемой энергетике**  \n",
        "\n",
        "# ***Практические занятия***\n",
        "\n",
        "\n",
        "---"
      ]
    },
    {
      "cell_type": "markdown",
      "id": "a3d9aa78-d9e6-4970-95ba-e59d7f36b7de",
      "metadata": {
        "id": "a3d9aa78-d9e6-4970-95ba-e59d7f36b7de"
      },
      "source": [
        "# Занятие №8\n",
        "# Прогнозирование временных рядов методами машинного обучения\n",
        "**9 апреля 2025г.**\n",
        "\n",
        "---\n",
        "\n",
        "**Временной ряд** — это последовательность числовых данных, упорядоченных во времени и собранных через **равные промежутки времени**.\n",
        "\n",
        "**Примеры временных рядов:**\n",
        "- Температура воздуха каждый час\n",
        "- Цена на нефть каждый день\n",
        "- Электрическая мощность установки каждую секунду\n",
        "- Количество клиентов в магазине каждый день\n",
        "- Давление в котле каждые 10 секунд\n",
        "\n",
        "---\n",
        "\n",
        "**Особенности временных рядов:**\n",
        "\n",
        "1. **Время имеет значение** — порядок данных важен, в отличие от обычных таблиц.\n",
        "2. **Зависимость от прошлого** — текущее значение может зависеть от предыдущих (автокорреляция).\n",
        "3. **Стационарность или нестационарность** — поведение ряда может меняться со временем (например, тренд, изменение дисперсии).\n",
        "4. **Сезонность** — повторяющиеся циклы (день-ночь, зима-лето и т.д.).\n",
        "\n",
        "---\n",
        "\n",
        "**Где используются:**\n",
        "\n",
        "- Финансы (курсы акций, криптовалюты)\n",
        "- Энергетика (нагрузка, температура, давление)\n",
        "- Промышленность (сигналы с датчиков)\n",
        "- Метеорология (погода, климат)\n",
        "- Медицина (ЭКГ, пульс, мониторинг пациентов)\n",
        "- Транспорт (потоки, GPS-координаты)\n",
        "\n",
        "---\n",
        "\n",
        "**Задача предсказания временных рядов** — это тип задачи машинного обучения или статистического анализа, в которой требуется спрогнозировать будущие значения некоторой переменной на основе её предыдущих наблюдений, упорядоченных во времени.\n",
        "\n",
        "**Основные характеристики:**\n",
        "\n",
        "1. **Временная зависимость**: значения переменной зависят от предыдущих значений. Это означает, что порядок данных важен, в отличие от многих других задач машинного обучения.\n",
        "2. **Цель**: предсказать одно или несколько будущих значений временного ряда на основании истории.\n",
        "3. **Примеры данных**: температура воздуха по дням, спрос на электроэнергию по часам, курсы валют, давление и температура в техпроцессе и т.д.\n",
        "\n",
        "**Пример:**\n",
        "Допустим, у нас есть данные о температуре каждый день за последние 30 дней. Мы хотим предсказать температуру на следующий день. Это и есть задача предсказания временного ряда.\n",
        "\n",
        "**Типы задач:**\n",
        "- **Одношаговое предсказание (one-step forecasting)** — предсказание значения на следующий момент времени.\n",
        "- **Многопериодное предсказание (multi-step forecasting)** — предсказание значений на несколько будущих шагов.\n",
        "- **Унивариантное (univariate)** — используется только один временной ряд.\n",
        "- **Мультивариантное (multivariate)** — используются несколько временных рядов (например, температура, давление и влажность одновременно).\n",
        "\n",
        "**Методы:**\n",
        "- Классические: ARIMA, SARIMA, экспоненциальное сглаживание.\n",
        "- Машинное обучение: решающие деревья, градиентный бустинг, SVM.\n",
        "- Глубокое обучение: RNN, LSTM, GRU, Transformer."
      ]
    },
    {
      "cell_type": "code",
      "execution_count": null,
      "id": "a565739e-66ce-4ccd-9d65-a0bd3621da35",
      "metadata": {
        "id": "a565739e-66ce-4ccd-9d65-a0bd3621da35"
      },
      "outputs": [],
      "source": [
        "import numpy as np\n",
        "import pandas as pd\n",
        "import seaborn as sns\n",
        "import matplotlib.pyplot as plt\n",
        "\n",
        "import plotly.graph_objects as go\n",
        "import plotly.express as px\n",
        "from plotly.subplots import make_subplots\n",
        "from plotly_resampler import FigureResampler, FigureWidgetResampler\n",
        "\n",
        "from plotly_resampler import register_plotly_resampler, unregister_plotly_resampler\n",
        "register_plotly_resampler(mode=\"auto\", default_n_shown_samples=10000)"
      ]
    },
    {
      "cell_type": "markdown",
      "id": "0fff2ff3-58b9-465b-aed4-66307c06314c",
      "metadata": {
        "id": "0fff2ff3-58b9-465b-aed4-66307c06314c"
      },
      "source": [
        "## Загрузка данных и обработка данных\n",
        "Набор содержит данные о почасовом производстве ветряной и солнечной электроэнергии (в МВт) во французской электросети с 2020 года."
      ]
    },
    {
      "cell_type": "code",
      "execution_count": null,
      "id": "951f8994-b111-4a5b-ba67-eb7ef5bfd131",
      "metadata": {
        "id": "951f8994-b111-4a5b-ba67-eb7ef5bfd131"
      },
      "outputs": [],
      "source": [
        "import gdown\n",
        "import warnings\n",
        "warnings.filterwarnings('ignore')\n",
        "gdown.download('https://drive.google.com/uc?id=1NAYPaEkovk7jvaURdjI0nCi7CUMxry7W', verify=False)\n",
        "\n",
        "df = pd.read_csv('./intermittent-renewables-production-france.csv')"
      ]
    },
    {
      "cell_type": "code",
      "execution_count": null,
      "id": "f2b3926f-fa4d-4d7a-9138-621c983ae631",
      "metadata": {
        "id": "f2b3926f-fa4d-4d7a-9138-621c983ae631"
      },
      "outputs": [],
      "source": [
        "df.head()"
      ]
    },
    {
      "cell_type": "code",
      "execution_count": null,
      "id": "78153cd0-eeb9-410d-9712-4fcc3f3bf224",
      "metadata": {
        "id": "78153cd0-eeb9-410d-9712-4fcc3f3bf224"
      },
      "outputs": [],
      "source": [
        "df = df.rename(columns={'Date and Hour' : 'DateTime'})\n",
        "df['DateTime'] = df['DateTime'].str.slice(stop=-6)\n",
        "df['DateTime'] = pd.to_datetime(df['DateTime'])\n",
        "df = df.sort_values(ascending=True,by='DateTime')\n",
        "df = df.drop(['Date','dayOfYear','dayName','monthName'],axis=1)\n",
        "df = df.dropna()\n",
        "df = df.set_index(\"DateTime\")"
      ]
    },
    {
      "cell_type": "code",
      "execution_count": null,
      "id": "9b8275a0-bfde-441d-b160-20fba8e31e64",
      "metadata": {
        "id": "9b8275a0-bfde-441d-b160-20fba8e31e64"
      },
      "outputs": [],
      "source": [
        "df.head()"
      ]
    },
    {
      "cell_type": "code",
      "execution_count": null,
      "id": "957ad438-f08c-496b-beec-9aec917d78a8",
      "metadata": {
        "id": "957ad438-f08c-496b-beec-9aec917d78a8"
      },
      "outputs": [],
      "source": [
        "solar = df[df['Source'] == 'Solar']['Production']\n",
        "wind = df[df['Source'] == 'Wind']['Production']"
      ]
    },
    {
      "cell_type": "code",
      "execution_count": null,
      "id": "f938a119-21bb-4150-8859-f1bba4242ce6",
      "metadata": {
        "id": "f938a119-21bb-4150-8859-f1bba4242ce6"
      },
      "outputs": [],
      "source": [
        "solar, wind"
      ]
    },
    {
      "cell_type": "code",
      "execution_count": null,
      "id": "cb515f7c-ebd9-4a90-b483-686362a89f73",
      "metadata": {
        "id": "cb515f7c-ebd9-4a90-b483-686362a89f73"
      },
      "outputs": [],
      "source": [
        "color_pal = sns.color_palette()\n",
        "solar.plot(style='.',\n",
        "          figsize=(20, 5),\n",
        "          ms=3,\n",
        "          color=color_pal[3],\n",
        "          title='Солнечная электроэнергия')\n",
        "plt.ylabel(\"МВт\")\n",
        "plt.show()\n",
        "\n",
        "wind.plot(style='.',\n",
        "          figsize=(20, 5),\n",
        "          ms=3,\n",
        "          color=color_pal[2],\n",
        "          title='Ветряная электроэнергия')\n",
        "plt.ylabel(\"МВт\")\n",
        "plt.show()"
      ]
    },
    {
      "cell_type": "markdown",
      "id": "05c059ec-a803-471a-ae34-0088a1250c8d",
      "metadata": {
        "id": "05c059ec-a803-471a-ae34-0088a1250c8d"
      },
      "source": [
        "## Производство солнечной электроэнергии\n",
        "### Разложение временного ряда\n",
        "\n",
        "**Разложение временного ряда** — это метод, при котором временной ряд представляется как сумма (или произведение) нескольких более простых компонент:\n",
        "\n",
        "1. **Тренд (`trend`)** — общее направление изменения данных с течением времени. Это может быть рост, спад или стабилизация.\n",
        "2. **Сезонность (`seasonal`)** — периодические колебания, которые повторяются через равные интервалы времени (например, дни недели, месяцы, сезоны года).\n",
        "3. **Остаток (`residual` или `noise`)** — всё, что не объясняется трендом и сезонностью. Это случайные, непредсказуемые флуктуации.\n",
        "\n",
        "<img src=\"https://github.com/ArtyomShabunin/SMOPA-25/blob/main/imgs/trend_seasonality.png?raw=true\" alt=\"trend_seasonality\" width=\"800\"  align=\"center\"/>\n",
        "* картинка из конспекта лекции Воронцова В.К. Методы машинного обучения. Инкрементное и онлайн обучение. ВМК МГУ 2022\n",
        "\n",
        "- **Ряд 1** - сезонность без тренда\n",
        "- **Ряд 2** - линейный тренд, аддитивная сезоность\n",
        "- **Ряд 3** - линейный тренд, мультипликативная сезонность\n",
        "- **Ряд 4** - экспоненциальный тренд, мультипликативная сезонность\n",
        "\n",
        "---\n",
        "\n",
        "**Математические модели**\n",
        "\n",
        "Есть два основных способа описания этих компонентов:\n",
        "\n",
        "1. **Аддитивная модель** (additive model)\n",
        "Предполагает, что все компоненты **независимы друг от друга** и просто **суммируются**:\n",
        "\n",
        "$$Y_t = T_t + S_t + R_t$$\n",
        "\n",
        "Где:\n",
        "- $ Y_t $ — наблюдаемое значение временного ряда в момент времени \\( t \\)\n",
        "- $ T_t $ — тренд\n",
        "- $ S_t $ — сезонная компонента\n",
        "- $ R_t $ — остаток (шум)\n",
        "\n",
        "**Когда использовать**: когда амплитуда сезонных колебаний **постоянна**, независимо от уровня тренда.\n",
        "\n",
        "---\n",
        "\n",
        "2. **Мультипликативная модель** (multiplicative model)\n",
        "\n",
        "Предполагает, что компоненты взаимодействуют **мультипликативно**:\n",
        "\n",
        "$$Y_t = T_t \\times S_t \\times R_t$$\n",
        "\n",
        "**Когда использовать**: когда сезонные колебания **усиливаются или ослабевают** вместе с ростом тренда (например, расходы растут и колебания становятся больше по мере роста доходов компании).\n",
        "\n",
        "---\n",
        "\n",
        "**Что даёт разложение?**\n",
        "\n",
        "1. **Анализ структуры ряда** — можно отдельно рассмотреть, какие сезонные эффекты присутствуют, каков общий тренд.\n",
        "2. **Предобработка для прогнозирования** — если удалить сезонность и тренд, можно подавать чистые остатки на модель.\n",
        "3. **Детекция аномалий** — если резидуальная компонента аномально большая, можно предположить сбой или событие."
      ]
    },
    {
      "cell_type": "code",
      "execution_count": null,
      "id": "94ccdc15-8394-4f71-aa28-deb8401b28df",
      "metadata": {
        "id": "94ccdc15-8394-4f71-aa28-deb8401b28df"
      },
      "outputs": [],
      "source": [
        "from statsmodels.tsa.seasonal import seasonal_decompose\n",
        "\n",
        "def seasonal_decompose_plotter(df: pd.DataFrame, model='additive', period=12, title='', figsize=(20, 12)):\n",
        "\n",
        "    # period - период сезонности\n",
        "\n",
        "    decomposition = seasonal_decompose(df.values, model=model, period=period)\n",
        "    de_season = decomposition.seasonal\n",
        "    de_resid = decomposition.resid\n",
        "    de_trend = decomposition.trend\n",
        "\n",
        "    fig, ax = plt.subplots(4, sharex=True, figsize=figsize)\n",
        "\n",
        "    ax[0].set_title(title)\n",
        "    ax[0].plot(df.index, df.values, color='C3')\n",
        "    ax[0].set_ylabel(df.keys()[0])\n",
        "    ax[0].grid(alpha=0.25)\n",
        "\n",
        "    ax[1].plot(df.index, de_trend, color='C1')\n",
        "    ax[1].set_ylabel('Trend')\n",
        "    ax[1].grid(alpha=0.25)\n",
        "\n",
        "    ax[2].plot(df.index, de_season, color='C2')\n",
        "    ax[2].set_ylabel('Seasonal')\n",
        "    ax[2].grid(alpha=0.25)\n",
        "\n",
        "    ax[3].axhline(y=0, color='k', linewidth=1)\n",
        "    ax[3].scatter(df.index, de_resid, color='C0', s=10)\n",
        "    ax[3].set_ylabel('Resid')\n",
        "    ax[3].grid(alpha=0.25)\n",
        "\n",
        "    plt.tight_layout(h_pad=0)\n",
        "    plt.show()\n",
        "\n",
        "    return decomposition"
      ]
    },
    {
      "cell_type": "code",
      "execution_count": null,
      "id": "7ace7f63-9415-4573-9023-649b8a169d56",
      "metadata": {
        "id": "7ace7f63-9415-4573-9023-649b8a169d56"
      },
      "outputs": [],
      "source": [
        "_ = seasonal_decompose_plotter(solar, model='additive', period=24*365, title='Solar Power Generation Seasonal Decompose', figsize=(20, 12))"
      ]
    },
    {
      "cell_type": "markdown",
      "id": "cf598e75-1648-4f06-a0cd-dd31745d71b8",
      "metadata": {
        "id": "cf598e75-1648-4f06-a0cd-dd31745d71b8"
      },
      "source": [
        "### Предсказание производства солнечной электроэнергии"
      ]
    },
    {
      "cell_type": "markdown",
      "id": "692cda5d-73c6-4a5c-a01e-118bb6ba4f54",
      "metadata": {
        "id": "692cda5d-73c6-4a5c-a01e-118bb6ba4f54"
      },
      "source": [
        "**Prophet** — это библиотека для **прогнозирования временных рядов**. Она особенно удобна для пользователей, которым **нужны точные прогнозы без глубокого погружения в статистику** или машинное обучение.\n",
        "\n",
        "---\n",
        "\n",
        "**Основные особенности Prophet:**\n",
        "\n",
        "**Удобство** — прост в использовании.  \n",
        "**Поддерживает тренды и сезонность** — автоматически выявляет и моделирует их.  \n",
        "**Гибкость** — позволяет добавлять пользовательские праздничные дни, внешние факторы, ручные настройки.  \n",
        "**Подходит для бизнес-прогнозов** — хорошо работает с ежедневными, недельными и месячными данными, в том числе с пропущенными значениями.\n",
        "\n",
        "---\n",
        "\n",
        "**Как работает Prophet?**\n",
        "\n",
        "Prophet использует **аддитивную модель**:\n",
        "\n",
        "$$y(t) = g(t) + s(t) + h(t) + \\varepsilon_t$$\n",
        "\n",
        "где:\n",
        "\n",
        "- $ g(t) $ — **тренд** (например, линейный или с изменением наклона)\n",
        "- $ s(t) $ — **сезонность** (дневная, недельная, годовая)\n",
        "- $ h(t) $ — **праздники или особые события**\n",
        "- $ \\varepsilon_t $ — **ошибка или шум**\n",
        "\n",
        "Но **сезонность (и праздники)** могут быть как **аддитивными**, так и **мультипликативными** по отношению к тренду.\n",
        "\n",
        "\n",
        "**Аддитивная сезонность:**\n",
        "\n",
        "$$y(t) = g(t) + s(t)$$\n",
        "\n",
        "- Сезонность остаётся одинаковой при любом уровне тренда.\n",
        "- Подходит, когда амплитуда сезонных колебаний постоянна.\n",
        "\n",
        "**Мультипликативная сезонность:**\n",
        "$$\n",
        "y(t) = g(t) \\times (1 + s(t))\n",
        "$$\n",
        "\n",
        "- Амплитуда сезонных колебаний **зависит от уровня тренда**.\n",
        "- Подходит, если сезонные колебания становятся **больше при росте** тренда (например, увеличение спроса и сезонных всплесков одновременно).\n"
      ]
    },
    {
      "cell_type": "code",
      "execution_count": null,
      "id": "2665dec1-b342-437e-a59a-48212b20addd",
      "metadata": {
        "id": "2665dec1-b342-437e-a59a-48212b20addd"
      },
      "outputs": [],
      "source": [
        "# # Сократим выборку\n",
        "# solar_dy_day = solar.resample('1d').sum()"
      ]
    },
    {
      "cell_type": "code",
      "execution_count": null,
      "id": "77eda3fe-405d-4d33-8e3b-a82eabe87001",
      "metadata": {
        "id": "77eda3fe-405d-4d33-8e3b-a82eabe87001"
      },
      "outputs": [],
      "source": [
        "solar = pd.DataFrame(solar)\n",
        "solar.columns = [\"y\"]\n",
        "solar[\"ds\"] = solar.index"
      ]
    },
    {
      "cell_type": "code",
      "execution_count": null,
      "id": "e9985c0f-7a91-43d6-a543-065e10220080",
      "metadata": {
        "id": "e9985c0f-7a91-43d6-a543-065e10220080"
      },
      "outputs": [],
      "source": [
        "solar"
      ]
    },
    {
      "cell_type": "markdown",
      "id": "8996bd0b-18e6-494f-9932-b04fde254530",
      "metadata": {
        "id": "8996bd0b-18e6-494f-9932-b04fde254530"
      },
      "source": [
        "Настройка и обучение модели предсказания"
      ]
    },
    {
      "cell_type": "code",
      "execution_count": null,
      "id": "bf4feb14-9a2b-4967-a87a-1504c7c81810",
      "metadata": {
        "id": "bf4feb14-9a2b-4967-a87a-1504c7c81810"
      },
      "outputs": [],
      "source": [
        "from prophet import Prophet\n",
        "\n",
        "model_param ={\n",
        "    \"daily_seasonality\": True, # ежедневная сезонность\n",
        "    \"weekly_seasonality\":False, # недельная сезонность\n",
        "    \"yearly_seasonality\":True, # годовая сезонность\n",
        "    \"seasonality_mode\": \"multiplicative\", # сезонность будет мультипликативной\n",
        "    # \"changepoint_prior_scale\" : 0.05 # управляет гибкостью модели в определении изменений тренда\n",
        "}\n",
        "\n",
        "model = Prophet(**model_param)\n",
        "model.fit(solar);"
      ]
    },
    {
      "cell_type": "markdown",
      "id": "cbf826d3-4d16-43f2-ac6f-f1a4d09c509c",
      "metadata": {
        "id": "cbf826d3-4d16-43f2-ac6f-f1a4d09c509c"
      },
      "source": [
        "Получаем прогноз"
      ]
    },
    {
      "cell_type": "code",
      "execution_count": null,
      "id": "1b9ec239-0ac9-41e6-8a93-f22b120c4132",
      "metadata": {
        "id": "1b9ec239-0ac9-41e6-8a93-f22b120c4132"
      },
      "outputs": [],
      "source": [
        "future= model.make_future_dataframe(\n",
        "    periods=365*24*1, # количество будущих временных шагов для прогноза\n",
        "    freq='h' # частота временного ряда\n",
        ")\n",
        "forecast= model.predict(future)"
      ]
    },
    {
      "cell_type": "code",
      "execution_count": null,
      "id": "7fb62a24-7ecd-4d09-947e-262c99d356db",
      "metadata": {
        "id": "7fb62a24-7ecd-4d09-947e-262c99d356db"
      },
      "outputs": [],
      "source": [
        "fig = model.plot(\n",
        "    forecast, xlabel='Datetime(gmt)', ylabel=r'Солнечная электроэнергия', figsize=(20, 5), uncertainty=True)\n",
        "plt.title('Почасовая генерация солнечной электроэнергии')\n",
        "plt.show()"
      ]
    },
    {
      "cell_type": "code",
      "execution_count": null,
      "id": "eeaed307-82ec-4e4f-9dd4-558b6788ad98",
      "metadata": {
        "id": "eeaed307-82ec-4e4f-9dd4-558b6788ad98"
      },
      "outputs": [],
      "source": [
        "fig = model.plot(forecast,figsize=(20, 6))\n",
        "plt.xlim(pd.to_datetime(['2023-03-16', '2023-03-26']))\n",
        "plt.ylim(-1500,8000)\n",
        "plt.show()"
      ]
    },
    {
      "cell_type": "markdown",
      "id": "cdf006a2-b000-4a7e-9e16-29e36e6bf9aa",
      "metadata": {
        "id": "cdf006a2-b000-4a7e-9e16-29e36e6bf9aa"
      },
      "source": [
        "```plot_components``` построит графики всех доступных составляющих"
      ]
    },
    {
      "cell_type": "code",
      "execution_count": null,
      "id": "cd4e2201-ed1d-4994-9110-6e976228c8be",
      "metadata": {
        "id": "cd4e2201-ed1d-4994-9110-6e976228c8be"
      },
      "outputs": [],
      "source": [
        "fig = model.plot_components(forecast,uncertainty=True,figsize=(20, 10))\n",
        "plt.show()"
      ]
    },
    {
      "cell_type": "markdown",
      "id": "b1bd30d1-496f-452e-ab0c-9ec68677bc95",
      "metadata": {
        "id": "b1bd30d1-496f-452e-ab0c-9ec68677bc95"
      },
      "source": [
        "**Почасовая или посуточная частота данных \"забивает\" годовой паттерн**\n",
        "- Prophet по умолчанию обучает сезонности **с одинаковым приоритетом**, и если в данных **много мелких колебаний (например, почасовые пики каждый день)**, то модель может **сконцентрироваться на ежедневной сезонности**, считая её главной.\n",
        "- В результате годичная сезонность \"теряется\", потому что её влияние **размывается среди шума и более сильных краткосрочных эффектов**.\n",
        "\n",
        "Особенно заметно при **почасовых данных**, где на каждый год приходится **8760 точек**, и подавляющее большинство из них отражают суточные циклы.\n",
        "\n"
      ]
    },
    {
      "cell_type": "code",
      "execution_count": null,
      "id": "a4f932bc-470d-4038-9017-a2826e940986",
      "metadata": {
        "id": "a4f932bc-470d-4038-9017-a2826e940986"
      },
      "outputs": [],
      "source": [
        "model = Prophet( daily_seasonality=False,\n",
        "                 weekly_seasonality=False,\n",
        "                 yearly_seasonality=True,\n",
        "                 seasonality_mode='multiplicative',\n",
        "                 changepoint_prior_scale=0.5,\n",
        "                 holidays_prior_scale=0.1\n",
        "               )\n",
        "\n",
        "model.fit(solar)\n",
        "\n",
        "future = model.make_future_dataframe(periods=365*24*2,freq='h')\n",
        "forecast = model.predict(future)\n",
        "fig = model.plot(forecast,figsize=(20, 6))\n",
        "plt.show()"
      ]
    },
    {
      "cell_type": "code",
      "execution_count": null,
      "id": "2461d90d-c8d2-4d6a-8d3e-0a08c540be14",
      "metadata": {
        "id": "2461d90d-c8d2-4d6a-8d3e-0a08c540be14"
      },
      "outputs": [],
      "source": [
        "fig = model.plot(forecast,figsize=(20, 6))\n",
        "plt.xlim(pd.to_datetime(['2023-03-16', '2023-03-26']))\n",
        "plt.ylim(-1500,8000)\n",
        "plt.show()"
      ]
    },
    {
      "cell_type": "code",
      "execution_count": null,
      "id": "7288419d-b04d-49ad-81b5-30a8a18fd00d",
      "metadata": {
        "id": "7288419d-b04d-49ad-81b5-30a8a18fd00d"
      },
      "outputs": [],
      "source": [
        "fig = model.plot_components(forecast,uncertainty=True,figsize=(20, 10))\n",
        "plt.show()"
      ]
    },
    {
      "cell_type": "markdown",
      "id": "454d5891-583d-4d87-9905-97d43155daab",
      "metadata": {
        "id": "454d5891-583d-4d87-9905-97d43155daab"
      },
      "source": [
        "## Производство ветряной электроэнергии\n",
        "### Разложение временного ряда"
      ]
    },
    {
      "cell_type": "code",
      "execution_count": null,
      "id": "d2f5cb19-6d4f-4d0b-bf9e-34dcfaf4e533",
      "metadata": {
        "id": "d2f5cb19-6d4f-4d0b-bf9e-34dcfaf4e533"
      },
      "outputs": [],
      "source": [
        "_ = seasonal_decompose_plotter(wind, period=365*24, title='Wind Power Generation Seasonal Decompose', figsize=(20, 12))"
      ]
    },
    {
      "cell_type": "markdown",
      "id": "555fa6a5-ce8c-43da-8339-2658316f6367",
      "metadata": {
        "id": "555fa6a5-ce8c-43da-8339-2658316f6367"
      },
      "source": [
        "### Предсказание производства ветряной электроэнергии"
      ]
    },
    {
      "cell_type": "code",
      "execution_count": null,
      "id": "fc82b8cf-9b22-428f-8d59-aad552b0df3a",
      "metadata": {
        "id": "fc82b8cf-9b22-428f-8d59-aad552b0df3a"
      },
      "outputs": [],
      "source": [
        "wind = pd.DataFrame(wind)\n",
        "wind.columns = [\"y\"]\n",
        "wind[\"ds\"] = wind.index"
      ]
    },
    {
      "cell_type": "code",
      "execution_count": null,
      "id": "6a501cdd-5389-4302-8d68-f4480176360c",
      "metadata": {
        "id": "6a501cdd-5389-4302-8d68-f4480176360c"
      },
      "outputs": [],
      "source": [
        "model_param ={\n",
        "    \"daily_seasonality\": False,\n",
        "    \"weekly_seasonality\":False,\n",
        "    \"yearly_seasonality\":True,\n",
        "    \"seasonality_mode\": \"multiplicative\",\n",
        "    # \"changepoint_prior_scale\" : 0.5\n",
        "}\n",
        "\n",
        "model = Prophet(**model_param)\n",
        "model.fit(wind)\n",
        "\n",
        "# Create future dataframe\n",
        "future= model.make_future_dataframe(periods=365*24*2 ,freq='h')\n",
        "forecast= model.predict(future)"
      ]
    },
    {
      "cell_type": "code",
      "execution_count": null,
      "id": "54331946-ad65-4012-93b3-1d5590249262",
      "metadata": {
        "id": "54331946-ad65-4012-93b3-1d5590249262"
      },
      "outputs": [],
      "source": [
        "fig = model.plot(forecast, xlabel='Datetime(gmt)', ylabel=r'Ветряная электроэнергия', figsize=(20, 5))\n",
        "plt.title('Почасовая генерация ветряной электроэнергии')\n",
        "plt.show()"
      ]
    },
    {
      "cell_type": "code",
      "execution_count": null,
      "id": "b7145e3a-29db-4e14-9236-25fb5e527f80",
      "metadata": {
        "id": "b7145e3a-29db-4e14-9236-25fb5e527f80"
      },
      "outputs": [],
      "source": [
        "fig = model.plot_components(forecast,uncertainty=True,figsize=(20, 10))\n",
        "plt.show()"
      ]
    },
    {
      "cell_type": "code",
      "execution_count": null,
      "id": "afc591b7-9787-4a06-844d-5896ab7ee85b",
      "metadata": {
        "id": "afc591b7-9787-4a06-844d-5896ab7ee85b"
      },
      "outputs": [],
      "source": []
    }
  ],
  "metadata": {
    "kernelspec": {
      "display_name": "Python 3 (ipykernel)",
      "language": "python",
      "name": "python3"
    },
    "language_info": {
      "codemirror_mode": {
        "name": "ipython",
        "version": 3
      },
      "file_extension": ".py",
      "mimetype": "text/x-python",
      "name": "python",
      "nbconvert_exporter": "python",
      "pygments_lexer": "ipython3",
      "version": "3.12.4"
    },
    "colab": {
      "provenance": [],
      "include_colab_link": true
    }
  },
  "nbformat": 4,
  "nbformat_minor": 5
}