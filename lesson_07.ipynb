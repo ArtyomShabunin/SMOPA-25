{
  "cells": [
    {
      "cell_type": "markdown",
      "metadata": {
        "id": "view-in-github",
        "colab_type": "text"
      },
      "source": [
        "<a href=\"https://colab.research.google.com/github/ArtyomShabunin/SMOPA-25/blob/main/lesson_7.ipynb\" target=\"_parent\"><img src=\"https://colab.research.google.com/assets/colab-badge.svg\" alt=\"Open In Colab\"/></a>"
      ]
    },
    {
      "cell_type": "markdown",
      "id": "17db1210-d971-4a37-a9e2-a1b097d6bd1c",
      "metadata": {
        "id": "17db1210-d971-4a37-a9e2-a1b097d6bd1c"
      },
      "source": [
        "<img src=\"https://prana-system.com/files/110/rds_color_full.png\" alt=\"tot image\" width=\"300\"  align=\"center\"/> &nbsp;&nbsp;&nbsp;&nbsp;&nbsp;&nbsp;&nbsp;&nbsp;\n",
        "<img src=\"https://mpei.ru/AboutUniverse/OficialInfo/Attributes/PublishingImages/logo1.jpg\" alt=\"mpei image\" width=\"200\" align=\"center\"/>\n",
        "<img src=\"https://mpei.ru/Structure/Universe/tanpe/structure/tfhe/PublishingImages/tot.png\" alt=\"tot image\" width=\"100\"  align=\"center\"/>\n",
        "\n",
        "---\n",
        "\n",
        "# **Системы машинного обучения и предиктивной аналитики в тепловой и возобновляемой энергетике**  \n",
        "\n",
        "# ***Практические занятия***\n",
        "\n",
        "\n",
        "---"
      ]
    },
    {
      "cell_type": "markdown",
      "id": "649f24c5-e668-40b7-9dec-f8532fd853fb",
      "metadata": {
        "id": "649f24c5-e668-40b7-9dec-f8532fd853fb"
      },
      "source": [
        "# Занятие №7\n",
        "# Многоклассовая классификация методами глубокого обучения\n",
        "**2 апреля 2025г.**"
      ]
    },
    {
      "cell_type": "code",
      "execution_count": null,
      "id": "9e473d41-cb8c-432e-918e-02b06a183e61",
      "metadata": {
        "id": "9e473d41-cb8c-432e-918e-02b06a183e61"
      },
      "outputs": [],
      "source": [
        "import numpy as np\n",
        "import pandas as pd\n",
        "import seaborn as sns\n",
        "import matplotlib.pyplot as plt\n",
        "\n",
        "from sklearn import preprocessing\n",
        "from sklearn.metrics import confusion_matrix, ConfusionMatrixDisplay\n",
        "from sklearn.metrics import accuracy_score\n",
        "from sklearn.metrics import precision_score, recall_score, f1_score\n",
        "\n",
        "import torch\n",
        "import torch.nn as nn\n",
        "import torch.nn.functional as F\n",
        "from torch.optim import lr_scheduler\n",
        "\n",
        "from imblearn.under_sampling import RandomUnderSampler\n",
        "\n",
        "from tqdm import tqdm\n",
        "import json\n",
        "\n",
        "import warnings\n",
        "warnings.filterwarnings('ignore')"
      ]
    },
    {
      "cell_type": "code",
      "execution_count": null,
      "id": "79debe5c-65c5-4820-8cc8-13fae17674c2",
      "metadata": {
        "id": "79debe5c-65c5-4820-8cc8-13fae17674c2"
      },
      "outputs": [],
      "source": [
        "# device = torch.device('cuda') if torch.cuda.is_available() else torch.device('cpu')\n",
        "device = torch.device('cpu')\n",
        "device"
      ]
    },
    {
      "cell_type": "markdown",
      "id": "f0267989-2fb6-4388-b6f7-c1f8034fdf29",
      "metadata": {
        "id": "f0267989-2fb6-4388-b6f7-c1f8034fdf29"
      },
      "source": [
        "## Загрузка данных"
      ]
    },
    {
      "cell_type": "code",
      "execution_count": null,
      "id": "00b92e51-ce8b-4456-97d6-4ac23c867342",
      "metadata": {
        "id": "00b92e51-ce8b-4456-97d6-4ac23c867342"
      },
      "outputs": [],
      "source": [
        "# import gdown\n",
        "# import warnings\n",
        "# warnings.filterwarnings('ignore')\n",
        "# gdown.download('https://drive.google.com/uc?id=1j54o4pHTm3HvaYTEtv_i4hOJGy5yNeZZ', verify=False)\n",
        "\n",
        "data = pd.read_parquet(\"./data_modes.gzip\")"
      ]
    },
    {
      "cell_type": "code",
      "execution_count": null,
      "id": "503cced8-06bb-456b-8b39-60379e7ca3d0",
      "metadata": {
        "id": "503cced8-06bb-456b-8b39-60379e7ca3d0"
      },
      "outputs": [],
      "source": [
        "data.head()"
      ]
    },
    {
      "cell_type": "markdown",
      "id": "K6in8OeRsvsW",
      "metadata": {
        "id": "K6in8OeRsvsW"
      },
      "source": [
        "Чтение файла с описанием сигналов"
      ]
    },
    {
      "cell_type": "code",
      "execution_count": null,
      "id": "AzkU1E2vsqdX",
      "metadata": {
        "id": "AzkU1E2vsqdX"
      },
      "outputs": [],
      "source": [
        "# import gdown\n",
        "# url = \"https://drive.google.com/drive/folders/1RtrAevJUYSgTbp0YUztxEBB8_VcvjgGH?usp=drive_link\"\n",
        "# gdown.download_folder(url, quiet=True, verify=False)\n",
        "\n",
        "with open(f'./option_0/description.json', 'r', encoding = \"utf-8\") as f:\n",
        "    description = json.load(f)"
      ]
    },
    {
      "cell_type": "markdown",
      "id": "WUmMvJwusyLG",
      "metadata": {
        "id": "WUmMvJwusyLG"
      },
      "source": [
        "Составим словарь для трактовки наименований сигналов"
      ]
    },
    {
      "cell_type": "code",
      "execution_count": null,
      "id": "BZYsSnBEsyiK",
      "metadata": {
        "id": "BZYsSnBEsyiK"
      },
      "outputs": [],
      "source": [
        "kks_to_description = {param['real_kks']: f\"{param['description']}, [{param['unit']}]\"\n",
        "for param in description if param['real_kks'] in data.columns}\n",
        "\n",
        "description_to_kks = { f\"{param['description']}, [{param['unit']}]\": param['real_kks']\n",
        "for param in description if param['real_kks'] in data.columns}"
      ]
    },
    {
      "cell_type": "markdown",
      "id": "208ff946-7007-4b0b-934f-ce9c9943632a",
      "metadata": {
        "id": "208ff946-7007-4b0b-934f-ce9c9943632a"
      },
      "source": [
        "## Сформируем датасет для решения задачи многоклассовой классификации"
      ]
    },
    {
      "cell_type": "markdown",
      "id": "4dbb0a33-d822-49f8-a30a-6971e245f422",
      "metadata": {
        "id": "4dbb0a33-d822-49f8-a30a-6971e245f422"
      },
      "source": [
        "Выберем сигналы которые будем использовать. Исключим все признаки на основании которых выделялись целевые режимы."
      ]
    },
    {
      "cell_type": "code",
      "execution_count": null,
      "id": "1a3c6208-fb2e-4c7b-b7cf-bb32097de663",
      "metadata": {
        "id": "1a3c6208-fb2e-4c7b-b7cf-bb32097de663"
      },
      "outputs": [],
      "source": [
        "feature_columns = [\n",
        "    'GTA1.DBinPU.Alzzo', 'GTA1.DBinPU.Bo', 'GTA1.DBinPU.DlPkf',\n",
        "    'GTA1.DBinPU.DlPtgft', 'GTA1.DBinPU.DlPvf', 'GTA1.DBinPU.fi',\n",
        "    'GTA1.DBinPU.hmGTD', 'GTA1.DBinPU.hmTG', 'GTA1.DBinPU.P1mvhTG',\n",
        "    'GTA1.DBinPU.Pk',\n",
        "    'GTA1.DBinPU.Pmvh', 'GTA1.DBinPU.PmvhMOGTD',\n",
        "    'GTA1.DBinPU.PmvhMOTG', 'GTA1.DBinPU.PmvyhMOGTD',\n",
        "    'GTA1.DBinPU.PmvyhMOTG', 'GTA1.DBinPU.Prazrjag_navhode',\n",
        "    'GTA1.DBinPU.Ptgpd', 'GTA1.DBinPU.Ptgvh',\n",
        "    'GTA1.DBinPU.Pvh',\n",
        "    'GTA1.DBinPU.Pvyhlg',\n",
        "    'GTA1.DBinPU.Qtg',\n",
        "    'GTA1.DBinPU.Tk',\n",
        "    'GTA1.DBinPU.Tn', 'GTA1.DBinPU.Tt', 'GTA1.DBinPU.Tvh1',\n",
        "    'GTA1.DBinPU.Pzad'\n",
        "    ]\n",
        "\n",
        "target_columns = [\n",
        "    'full_power_mode',\n",
        "    'partial_power_mode',\n",
        "    'increas_power_mode',\n",
        "    'decreas_power_mode',\n",
        "    'start_up_mode',\n",
        "    'shutdown_mode',\n",
        "    'stopped_state_mode'\n",
        "]"
      ]
    },
    {
      "cell_type": "markdown",
      "id": "_ZfqnQXY9M4L",
      "metadata": {
        "id": "_ZfqnQXY9M4L"
      },
      "source": [
        "В данных прсутствуют примеры которые одновременно относятся к нескольким режимам. Класс таких задач называется **многоклассовой классификацией с пересечением классов** (*multi-label classification*). Нам необходимо избавиться от тких примеров."
      ]
    },
    {
      "cell_type": "code",
      "execution_count": null,
      "id": "YVODmU4A8_l1",
      "metadata": {
        "id": "YVODmU4A8_l1"
      },
      "outputs": [],
      "source": [
        "data[data[target_columns].sum(axis=1) > 1][target_columns]"
      ]
    },
    {
      "cell_type": "code",
      "execution_count": null,
      "id": "4a3451ec-188d-4974-8c08-74ae11997bff",
      "metadata": {
        "id": "4a3451ec-188d-4974-8c08-74ae11997bff"
      },
      "outputs": [],
      "source": [
        "data.loc[data['adjustment_range'], ['start_up_mode']] = False\n",
        "data.loc[data['adjustment_range'], ['shutdown_mode']] = False\n",
        "data.loc[data['increase_power'], ['shutdown_mode']] = False\n",
        "data.loc[data['decreas_power_mode'], ['start_up_mode']] = False\n",
        "data.loc[data['stopped_state_mode'], ['start_up_mode']] = False"
      ]
    },
    {
      "cell_type": "code",
      "execution_count": null,
      "id": "tXP01yCk-KGZ",
      "metadata": {
        "id": "tXP01yCk-KGZ"
      },
      "outputs": [],
      "source": [
        "data[data[target_columns].sum(axis=1) > 1][target_columns].shape"
      ]
    },
    {
      "cell_type": "code",
      "execution_count": null,
      "id": "6370d590-659d-4847-8223-f41803195925",
      "metadata": {
        "id": "6370d590-659d-4847-8223-f41803195925"
      },
      "outputs": [],
      "source": [
        "data = data.loc[data[target_columns].sum(axis=1) == 1]"
      ]
    },
    {
      "cell_type": "markdown",
      "id": "n-pA-3Dq-oEv",
      "metadata": {
        "id": "n-pA-3Dq-oEv"
      },
      "source": [
        "Создадим датафрейм с признаками и целевыми значения"
      ]
    },
    {
      "cell_type": "code",
      "execution_count": null,
      "id": "aa58c822-f7a4-4ff3-a013-dde8e0e719b1",
      "metadata": {
        "id": "aa58c822-f7a4-4ff3-a013-dde8e0e719b1"
      },
      "outputs": [],
      "source": [
        "X = data.loc[:,feature_columns]"
      ]
    },
    {
      "cell_type": "code",
      "execution_count": null,
      "id": "b25dc4b0-aee7-4fef-acf8-93d3c8a2f495",
      "metadata": {
        "id": "b25dc4b0-aee7-4fef-acf8-93d3c8a2f495"
      },
      "outputs": [],
      "source": [
        "data['target'] = data[target_columns].idxmax(axis=1)\n",
        "y = data.loc[:, ['target']]"
      ]
    },
    {
      "cell_type": "code",
      "execution_count": null,
      "id": "2297d7f7-eda6-4b0d-a59c-1a9e2b41f8f3",
      "metadata": {
        "id": "2297d7f7-eda6-4b0d-a59c-1a9e2b41f8f3"
      },
      "outputs": [],
      "source": [
        "y.value_counts()"
      ]
    },
    {
      "cell_type": "markdown",
      "id": "e6af7ede-bd80-45d6-b85a-b1ba8872e976",
      "metadata": {
        "id": "e6af7ede-bd80-45d6-b85a-b1ba8872e976"
      },
      "source": [
        "### Деление на тестовую и тренировочную выборки"
      ]
    },
    {
      "cell_type": "code",
      "execution_count": null,
      "id": "da81595e-8aa3-40cd-a8cc-36b2e9537d1d",
      "metadata": {
        "id": "da81595e-8aa3-40cd-a8cc-36b2e9537d1d"
      },
      "outputs": [],
      "source": [
        "from sklearn.model_selection import train_test_split\n",
        "# Разделяем с учетом дисбаланса классов\n",
        "X_train, X_test, y_train, y_test = train_test_split(X, y, test_size=0.2, stratify=y, random_state=42)"
      ]
    },
    {
      "cell_type": "code",
      "execution_count": null,
      "id": "0cfcc82a-0b11-4494-9204-8706ce0e792d",
      "metadata": {
        "id": "0cfcc82a-0b11-4494-9204-8706ce0e792d"
      },
      "outputs": [],
      "source": [
        "y_train.value_counts()"
      ]
    },
    {
      "cell_type": "code",
      "execution_count": null,
      "id": "5e70d33f-1374-4b41-879e-fddd86d5c7c7",
      "metadata": {
        "id": "5e70d33f-1374-4b41-879e-fddd86d5c7c7"
      },
      "outputs": [],
      "source": [
        "y_test.value_counts()"
      ]
    },
    {
      "cell_type": "markdown",
      "id": "109da6b2-c9c8-4dc3-bb21-23ff87048dfb",
      "metadata": {
        "id": "109da6b2-c9c8-4dc3-bb21-23ff87048dfb"
      },
      "source": [
        "Видно, что датасет сильно несбалансирован.\n",
        "При такой несбалансорованности модели будут плохо обучаеться на редких классах.\n",
        "Алгоритм может игнорировать малочисленные классы, потому что минимизация ошибки будет достигаться за счет предсказания большинства.\n",
        "Например, если модель всегда предсказывает full_power_mode, она все равно получит высокую точность."
      ]
    },
    {
      "cell_type": "markdown",
      "id": "6db9fa77-afe9-4496-9cb7-da8c4dd319b0",
      "metadata": {
        "id": "6db9fa77-afe9-4496-9cb7-da8c4dd319b0"
      },
      "source": [
        "### Балансировка данных\n",
        "**Oversampling (увеличение малых классов)**  \n",
        "   - Повторение существующих редких примеров или их генерация.  \n",
        "   - **SMOTE (Synthetic Minority Over-sampling Technique)** – создает новые точки малочисленных классов, используя линейные комбинации соседних точек.  \n",
        "\n",
        "**Undersampling (уменьшение частых классов)**  \n",
        "- Удаление случайных примеров из большинства классов.  \n",
        "\n",
        "**Комбинация Oversampling + Undersampling**  \n",
        "   - Часто лучше сначала **уменьшить большие**, а затем **увеличить малые классы**.  "
      ]
    },
    {
      "cell_type": "markdown",
      "id": "eca449c1-b6cb-4297-b7b8-56fab6bdb03f",
      "metadata": {
        "id": "eca449c1-b6cb-4297-b7b8-56fab6bdb03f"
      },
      "source": [
        "#### Undersampling"
      ]
    },
    {
      "cell_type": "code",
      "execution_count": null,
      "id": "58c6bfaf-40cc-4c7f-9c4b-985a5136b854",
      "metadata": {
        "id": "58c6bfaf-40cc-4c7f-9c4b-985a5136b854"
      },
      "outputs": [],
      "source": [
        "from imblearn.under_sampling import RandomUnderSampler\n",
        "sampling_strategy = {\n",
        "    \"full_power_mode\": 1000,\n",
        "    \"stopped_state_mode\": 1000,\n",
        "    \"partial_power_mode\": 1000\n",
        "}\n",
        "rus = RandomUnderSampler(sampling_strategy=sampling_strategy, random_state=42)\n",
        "X_train_resampled, y_train_resampled = rus.fit_resample(X_train, y_train)"
      ]
    },
    {
      "cell_type": "code",
      "execution_count": null,
      "id": "f7d8daf8-692f-469f-a103-70b6edd1992b",
      "metadata": {
        "id": "f7d8daf8-692f-469f-a103-70b6edd1992b"
      },
      "outputs": [],
      "source": [
        "y_train_resampled.value_counts()"
      ]
    },
    {
      "cell_type": "code",
      "execution_count": null,
      "id": "e7608b57-ef37-4188-b8ae-3b38c461052e",
      "metadata": {
        "id": "e7608b57-ef37-4188-b8ae-3b38c461052e"
      },
      "outputs": [],
      "source": [
        "sampling_strategy = {\n",
        "    \"full_power_mode\": 100,\n",
        "    \"stopped_state_mode\": 100,\n",
        "    \"partial_power_mode\": 100\n",
        "}\n",
        "rus = RandomUnderSampler(sampling_strategy=sampling_strategy, random_state=42)\n",
        "X_test_resampled, y_test_resampled = rus.fit_resample(X_test, y_test)"
      ]
    },
    {
      "cell_type": "code",
      "execution_count": null,
      "id": "bab30c6f-2db9-41b6-b995-056994379a02",
      "metadata": {
        "id": "bab30c6f-2db9-41b6-b995-056994379a02"
      },
      "outputs": [],
      "source": [
        "y_test_resampled.value_counts()"
      ]
    },
    {
      "cell_type": "markdown",
      "id": "9cb69ac0-8d8d-48d5-8230-23b4b7621326",
      "metadata": {
        "id": "9cb69ac0-8d8d-48d5-8230-23b4b7621326"
      },
      "source": [
        "#### Oversampling"
      ]
    },
    {
      "cell_type": "code",
      "execution_count": null,
      "id": "79e4ab61-de40-4bdf-9813-f53a7eaaab40",
      "metadata": {
        "id": "79e4ab61-de40-4bdf-9813-f53a7eaaab40"
      },
      "outputs": [],
      "source": [
        "from imblearn.over_sampling import SMOTE\n",
        "X_train_resampled, y_train_resampled = SMOTE().fit_resample(X_train_resampled, y_train_resampled)"
      ]
    },
    {
      "cell_type": "code",
      "execution_count": null,
      "id": "cd700f2c-ace4-4948-a72b-a33cc2195dc8",
      "metadata": {
        "id": "cd700f2c-ace4-4948-a72b-a33cc2195dc8"
      },
      "outputs": [],
      "source": [
        "y_train_resampled.value_counts()"
      ]
    },
    {
      "cell_type": "markdown",
      "id": "1f92cc1a-9a33-4c1c-9e70-665b5f8a7843",
      "metadata": {
        "id": "1f92cc1a-9a33-4c1c-9e70-665b5f8a7843"
      },
      "source": [
        "### Нормализация или стандартизация данных"
      ]
    },
    {
      "cell_type": "code",
      "execution_count": null,
      "id": "bce5f2cd-879e-4105-a24e-47975f81fbe0",
      "metadata": {
        "id": "bce5f2cd-879e-4105-a24e-47975f81fbe0"
      },
      "outputs": [],
      "source": [
        "# scaler = preprocessing.MinMaxScaler() # нормализация данных\n",
        "scaler = preprocessing.StandardScaler() # стандартизация данных\n",
        "\n",
        "X_train_resampled_scaled = pd.DataFrame(\n",
        "    scaler.fit_transform(X_train_resampled),\n",
        "    columns=X_train_resampled.columns,\n",
        "    index=X_train_resampled.index)\n",
        "\n",
        "X_test_resampled_scaled = pd.DataFrame(\n",
        "    scaler.transform(X_test_resampled),\n",
        "    columns=X_test_resampled.columns,\n",
        "    index=X_test_resampled.index)\n",
        "\n",
        "X_train_resampled_scaled.describe()"
      ]
    },
    {
      "cell_type": "markdown",
      "id": "392435c6-083d-4afa-8471-2c49eeef00f9",
      "metadata": {
        "id": "392435c6-083d-4afa-8471-2c49eeef00f9"
      },
      "source": [
        "### LabelEncoding\n",
        "\n",
        "Закодируем текстовые метки классов в числовые значения"
      ]
    },
    {
      "cell_type": "code",
      "execution_count": null,
      "id": "6917c03e-bf63-419a-86a0-6f3633dde34d",
      "metadata": {
        "id": "6917c03e-bf63-419a-86a0-6f3633dde34d"
      },
      "outputs": [],
      "source": [
        "from sklearn.preprocessing import LabelEncoder\n",
        "encoder = LabelEncoder()"
      ]
    },
    {
      "cell_type": "code",
      "execution_count": null,
      "id": "530b5a7d-5d9c-414a-8db5-7957141a5536",
      "metadata": {
        "id": "530b5a7d-5d9c-414a-8db5-7957141a5536"
      },
      "outputs": [],
      "source": [
        "y_train_resampled_encoded = encoder.fit_transform(y_train_resampled.values[:,0])\n",
        "y_test_resampled_encoded = encoder.transform(y_test_resampled.values[:,0])"
      ]
    },
    {
      "cell_type": "code",
      "execution_count": null,
      "id": "yYMP2Kwe_Kn9",
      "metadata": {
        "id": "yYMP2Kwe_Kn9"
      },
      "outputs": [],
      "source": [
        "y_test_resampled_encoded"
      ]
    },
    {
      "cell_type": "code",
      "execution_count": null,
      "id": "f646b96d-c03d-4d38-bb25-5d742010c126",
      "metadata": {
        "id": "f646b96d-c03d-4d38-bb25-5d742010c126"
      },
      "outputs": [],
      "source": [
        "encoder.classes_"
      ]
    },
    {
      "cell_type": "markdown",
      "id": "9e40b554-eb68-462e-8415-be255cc94605",
      "metadata": {
        "id": "9e40b554-eb68-462e-8415-be255cc94605"
      },
      "source": [
        "### Dataset и DataLoader\n",
        "\n",
        "`Dataset` и `DataLoader` — это ключевые классы в PyTorch для работы с данными при обучении нейросетей.\n",
        "\n",
        "`Dataset` — это абстрактный класс для работы с данными. Он определяет, как загружаются данные, а также как они хранятся и индексируются. Все датасеты в PyTorch должны наследоваться от `torch.utils.data.Dataset` и реализовывать два метода:\n",
        "- `__len__()`: возвращает количество элементов в датасете.\n",
        "- `__getitem__(index)`: позволяет по индексу получить один элемент данных.\n",
        "\n",
        "---\n",
        "\n",
        "`DataLoader` — это инструмент для удобной загрузки данных партиями (батчами) во время обучения модели. Он берет объект `Dataset` и выполняет:\n",
        "- разбиение данных на батчи (`batch_size`),\n",
        "- перемешивание (`shuffle`),\n",
        "- многопоточное извлечение данных (`num_workers`).\n",
        "\n",
        "---\n",
        "\n",
        "### Итог:\n",
        "- `Dataset` отвечает за хранение и доступ к данным.\n",
        "- `DataLoader` управляет загрузкой данных, разбиением на батчи и параллельной обработкой.\n",
        "\n",
        "Эти классы делают работу с данными удобной и эффективной, особенно при обучении нейросетей."
      ]
    },
    {
      "cell_type": "code",
      "execution_count": null,
      "id": "1d8f847b-d84c-4c9e-a86a-a3841636e7c2",
      "metadata": {
        "id": "1d8f847b-d84c-4c9e-a86a-a3841636e7c2"
      },
      "outputs": [],
      "source": [
        "from torch.utils.data import Dataset\n",
        "\n",
        "class ModeDataset(Dataset):\n",
        "    def __init__(self):\n",
        "        self.x = torch.tensor(X_train_resampled_scaled.values, dtype=torch.float32)\n",
        "        self.y = torch.tensor(y_train_resampled_encoded, dtype=torch.long)\n",
        "\n",
        "    def __getitem__(self, idx):\n",
        "        return self.x[idx], self.y[idx]\n",
        "\n",
        "    def __len__(self):\n",
        "        return self.x.shape[0]"
      ]
    },
    {
      "cell_type": "code",
      "execution_count": null,
      "id": "1c9d2dcb-beb5-42d3-a4b2-77e5f94c4004",
      "metadata": {
        "id": "1c9d2dcb-beb5-42d3-a4b2-77e5f94c4004"
      },
      "outputs": [],
      "source": [
        "dataset = ModeDataset()\n",
        "\n",
        "print(len(dataset))\n",
        "print(\"Признаки №0 : \", dataset[0][0])\n",
        "print(\"Целевая метка №0 : \", dataset[0][1])"
      ]
    },
    {
      "cell_type": "code",
      "execution_count": null,
      "id": "bb827de8-a4af-4eca-9baf-4207e3370a81",
      "metadata": {
        "id": "bb827de8-a4af-4eca-9baf-4207e3370a81"
      },
      "outputs": [],
      "source": [
        "from torch.utils.data import DataLoader\n",
        "\n",
        "BATCH_SIZE = 256\n",
        "\n",
        "INPUT_SIZE = len(feature_columns)\n",
        "OUTPUT_SIZE = len(target_columns)\n",
        "\n",
        "train_size = int(0.8 * len(dataset))\n",
        "valid_size = len(dataset) - train_size\n",
        "train_dataset, valid_dataset = torch.utils.data.random_split(dataset, [train_size, valid_size])\n",
        "\n",
        "\n",
        "train_loader = DataLoader(train_dataset, batch_size=BATCH_SIZE, shuffle=True)\n",
        "valid_loader = DataLoader(valid_dataset, batch_size=BATCH_SIZE, shuffle=True)"
      ]
    },
    {
      "cell_type": "markdown",
      "id": "5ce04b7c-5e58-4700-8351-8749dab540f6",
      "metadata": {
        "id": "5ce04b7c-5e58-4700-8351-8749dab540f6"
      },
      "source": [
        "## Функция для обучения модели"
      ]
    },
    {
      "cell_type": "markdown",
      "id": "N5nmcQL_AYHM",
      "metadata": {
        "id": "N5nmcQL_AYHM"
      },
      "source": [
        "**Что такое Learning Rate?**  \n",
        "\n",
        "**Learning Rate (скорость обучения, $\\eta$)** – это гиперпараметр, определяющий, **насколько сильно обновляются веса нейросети на каждом шаге градиентного спуска**.  \n",
        "\n",
        "Если **learning rate слишком большой** → модель может \"перепрыгивать\" оптимальные веса и не сойтись.  \n",
        "Если **learning rate слишком маленький** → обучение будет слишком медленным или застрянет в локальном минимуме.  \n",
        "\n",
        "Пример обновления весов с learning rate $\\eta$:  \n",
        "$$w = w - \\eta \\cdot \\frac{\\partial L}{\\partial w}$$\n",
        "\n",
        "где:  \n",
        "- $ w $ — веса модели,  \n",
        "- $ \\frac{\\partial L}{\\partial w} $ — градиент функции ошибки $ L $,  \n",
        "- $ \\eta $ — learning rate.\n",
        "\n",
        "<img src=\"https://encrypted-tbn0.gstatic.com/images?q=tbn:ANd9GcRaK3GNwACWpqsTkfBvKdB9osthN7aWVE1ahw&s\" alt=\"rf image\" width=\"600\"  align=\"center\"/>\n",
        "\n",
        "---\n",
        "\n",
        "В функции `train_model` объекты `criterion`, `optimizer` и `scheduler` — это стандартные компоненты процесса обучения нейросетей в PyTorch, которые управляют процессом обучения модели:\n",
        "\n",
        "1. **loss_function** — это функция потерь.  \n",
        "   Она вычисляет, насколько предсказания модели отличаются от реальных значений. Например:\n",
        "   - `nn.MSELoss()` — среднеквадратичная ошибка (используется в регрессии).\n",
        "   - `nn.CrossEntropyLoss()` — кросс-энтропия (используется в классификации).\n",
        "\n",
        "---\n",
        "\n",
        "2. **optimizer** — это оптимизатор, который обновляет веса модели на основе градиентов, вычисленных через `loss.backward()`.  \n",
        "   Примеры оптимизаторов:\n",
        "   - `torch.optim.SGD(model.parameters(), lr=0.01, momentum=0.9)` — стохастический градиентный спуск.\n",
        "   - `torch.optim.Adam(model.parameters(), lr=0.001)` — адаптивный оптимизатор Adam.\n",
        "\n",
        "\n",
        "Adam (**Adaptive Moment Estimation**) — один из самых популярных оптимизаторов в глубоком обучении.  \n",
        "\n",
        "Преимущества Adam:\n",
        "- Адаптивное изменение скорости обучения (learning rate)\n",
        "- Быстро сходится к минимуму\n",
        "- Работает хорошо без ручной настройки\n",
        "- Устойчив к шуму и негладким функциям потерь\n",
        "- Хорошо работает с разреженными данными\n",
        "\n",
        "---\n",
        "\n",
        "4. **scheduler** — это планировщик (scheduler) изменения скорости обучения (learning rate).  \n",
        "   Он управляет уменьшением `lr` в зависимости от метрики (например, от значения функции потерь на обучающей выборке).  \n",
        "\n",
        "**Зачем нужен scheduler?**  \n",
        "\n",
        "Обычно в начале обучения выгодно использовать **большой** `learning rate` (чтобы быстро находить хорошие параметры), а к концу — **уменьшать** его, чтобы модель точнее подстраивалась.  \n",
        "\n",
        "**Scheduler** – это инструмент, который автоматически изменяет learning rate **по заданному правилу**. Это помогает избежать проблем с застреванием или нестабильностью обучения.  \n",
        "\n",
        "\n",
        "\n",
        "**Популярные стратегии изменения Learning Rate (Schedulers)**  \n",
        "**StepLR** – уменьшает `lr` через заданное количество эпох.  \n",
        "**ExponentialLR** – уменьшает `lr` экспоненциально.  \n",
        "**ReduceLROnPlateau** – уменьшает `lr`, если метрика не улучшается.  \n",
        "**CosineAnnealingLR** – снижает `lr` по косинусной функции, часто используется в глубоких сетях.  \n",
        "\n",
        "Использование **learning rate scheduler'а** позволяет сделать обучение модели **более эффективным** и **устойчивым**.\n",
        "\n",
        "Использование **scheduler** (планировщика скорости обучения) при **Adam** — не всегда обязательно, но может улучшить обучение модели.\n"
      ]
    },
    {
      "cell_type": "code",
      "execution_count": null,
      "id": "8c92d415-4235-429e-9f8d-c89565ed72b0",
      "metadata": {
        "id": "8c92d415-4235-429e-9f8d-c89565ed72b0"
      },
      "outputs": [],
      "source": [
        "def train_model(model, loss_function, optimizer, scheduler, num_epochs=100):\n",
        "\n",
        "    loaders = {\"train\": train_loader, \"valid\": valid_loader}\n",
        "\n",
        "    epochs = num_epochs\n",
        "\n",
        "    lr = []\n",
        "    losses = {\"train\": [], \"valid\": []}\n",
        "    for epoch in tqdm(range(epochs)):\n",
        "\n",
        "        for k, dataloader in loaders.items():\n",
        "            running_loss = []\n",
        "\n",
        "            for x_batch, y_batch in dataloader:\n",
        "                x_batch = x_batch.to(device)\n",
        "                y_batch = y_batch.to(device)\n",
        "\n",
        "                if k == \"train\":\n",
        "                    model.train()\n",
        "                    optimizer.zero_grad()\n",
        "                    outp = model(x_batch)\n",
        "                else:\n",
        "                    model.eval()\n",
        "                    with torch.no_grad():\n",
        "                        outp = model(x_batch)\n",
        "\n",
        "                loss = loss_function(outp, y_batch)\n",
        "                running_loss.append(loss.item())\n",
        "\n",
        "                if k == \"train\":\n",
        "                    loss.backward()\n",
        "                    optimizer.step()\n",
        "\n",
        "            if k == \"train\":\n",
        "                lr.append(scheduler.optimizer.param_groups[0]['lr'])\n",
        "            losses[k].append(np.array(running_loss).mean())\n",
        "\n",
        "        scheduler.step(losses[\"train\"][-1])\n",
        "\n",
        "    return model, losses, lr"
      ]
    },
    {
      "cell_type": "markdown",
      "id": "8ae5e9c9-0c6c-4e1b-a0df-12ffbf0b110c",
      "metadata": {
        "id": "8ae5e9c9-0c6c-4e1b-a0df-12ffbf0b110c"
      },
      "source": [
        "## Полносвязная нейронная сеть (многослойный персептрон)\n",
        "\n",
        "<img src=\"https://miro.medium.com/v2/resize:fit:720/1*VHOUViL8dHGfvxCsswPv-Q.png\" alt=\"rf image\" width=\"600\"  align=\"center\"/>\n",
        "\n",
        "\n",
        "\n",
        "## Обучение моделей"
      ]
    },
    {
      "cell_type": "markdown",
      "id": "Ino8AAkS-MHp",
      "metadata": {
        "id": "Ino8AAkS-MHp"
      },
      "source": [
        "Инициализируем переменные для дальнейшего сравнения моделей"
      ]
    },
    {
      "cell_type": "code",
      "execution_count": null,
      "id": "SoOJrE40-LE9",
      "metadata": {
        "id": "SoOJrE40-LE9"
      },
      "outputs": [],
      "source": [
        "accuracy_classifier = {}\n",
        "precision_classifier = {}\n",
        "recall_classifier = {}\n",
        "f1_classifier = {}"
      ]
    },
    {
      "cell_type": "markdown",
      "id": "_2g8AIMjum5W",
      "metadata": {
        "id": "_2g8AIMjum5W"
      },
      "source": [
        "### Модель №1\n",
        "\n",
        "Простая полносвязная сеть.  \n",
        "В PyTorch нейронная сеть создается как класс, унаследованный от `torch.nn.Module`. Давай рассмотрим пошагово, как это делается.  \n",
        "\n",
        "- В `__init__` определяем слои нейросети.  \n",
        "- В `forward` описываем, как данные проходят через слои.  \n",
        "\n",
        "\n",
        "\n",
        "- `nn.Linear` — это полносвязный (линейный) слой в PyTorch. Он выполняет линейное преобразование входных данных:  \n",
        "\n",
        "$$ y = xW^T + b $$\n",
        "\n",
        "Где:  \n",
        "$ x $ — входной тензор (данные),  \n",
        "$ W $ — обучаемые веса слоя,  \n",
        "$ b $ — обучаемые смещения (bias),  \n",
        "$ y $ — выходные значения.  \n",
        "\n",
        "- `nn.Relu()` — функция активации ReLU.\n",
        "- `nn.Sequential` объединяет несколько слоев в последовательность, через которую данные проходят автоматически (без явного вызова `forward`).\n",
        "- `nn.ModuleList` — это просто список (`list`) для хранения слоев, но без автоматического выполнения `forward`. Это полезно, когда требуется сложная логика."
      ]
    },
    {
      "cell_type": "code",
      "execution_count": null,
      "id": "93648946-4cca-42ab-962a-9d8b056da8bd",
      "metadata": {
        "id": "93648946-4cca-42ab-962a-9d8b056da8bd"
      },
      "outputs": [],
      "source": [
        "class FCNN(nn.Module):\n",
        "  def __init__(\n",
        "      self, hidden_size=512, hidden_num=1):\n",
        "    super(FCNN, self).__init__()\n",
        "\n",
        "    # Входной слой\n",
        "    self.input_layer = nn.Sequential(\n",
        "        nn.Linear(INPUT_SIZE, hidden_size),\n",
        "        nn.ReLU(),\n",
        "    )\n",
        "\n",
        "    # Скрытые слои\n",
        "    self.hidden_layers = nn.ModuleList()\n",
        "    for _ in range(hidden_num):\n",
        "        self.hidden_layers.append(\n",
        "            nn.Sequential(\n",
        "                nn.Linear(hidden_size, hidden_size),\n",
        "                nn.ReLU(),\n",
        "            )\n",
        "        )\n",
        "\n",
        "    # Выходной слой\n",
        "    self.output_layer = nn.Linear(hidden_size, OUTPUT_SIZE)\n",
        "\n",
        "  def forward(self, x):\n",
        "    x = self.input_layer(x)\n",
        "\n",
        "    for layer in self.hidden_layers:\n",
        "        x = layer(x)\n",
        "\n",
        "    x = self.output_layer(x)\n",
        "    return x\n"
      ]
    },
    {
      "cell_type": "markdown",
      "id": "bc79d926-5b5a-4024-b3d5-97c26690a28c",
      "metadata": {
        "id": "bc79d926-5b5a-4024-b3d5-97c26690a28c"
      },
      "source": [
        "#### Обучение модели"
      ]
    },
    {
      "cell_type": "markdown",
      "id": "VKOyFkUjS2pu",
      "metadata": {
        "id": "VKOyFkUjS2pu"
      },
      "source": [
        "**CrossEntropyLoss**  \n",
        "\n",
        "`CrossEntropyLoss` – это функция потерь, которая используется в задачах **многоклассовой классификации**. Она измеряет, насколько предсказанное распределение вероятностей отличается от истинных классов.  \n",
        "\n",
        "**Формула CrossEntropyLoss:**  \n",
        "Для одного объекта:\n",
        "$$\\text{Loss} = - \\sum_{i=1}^{C} y_i \\log(\\hat{p}_i)$$\n",
        "где:  \n",
        "- $ C $ – количество классов,  \n",
        "- $ y_i $ – индикатор (0 или 1), показывающий правильный класс,  \n",
        "- $ \\hat{p}_i $ – предсказанная вероятность для класса $ i $.  \n",
        "\n",
        "Если правильный класс – это $ k $, то формула упрощается до:  \n",
        "$$\\text{Loss} = -\\log(\\hat{p}_k)$$\n",
        "Это значит, что штрафуется именно вероятность правильного класса – чем она ниже, тем выше ошибка.  \n",
        "\n",
        "---\n",
        "\n",
        "**Особенности:**\n",
        "1. **Работает с \"сырыми\" логитами (до softmax).** Внутри себя `CrossEntropyLoss` сама применяет `softmax`, так что передавать уже нормализованные вероятности **не нужно**.  \n",
        "2. **Подходит для one-hot меток, но чаще используется с индексами классов.**  \n",
        "3. **Используется в многоклассовой классификации** (если у примера один правильный класс).\n",
        "\n",
        "---\n",
        "\n",
        "**Softmax**  \n",
        "\n",
        "`Softmax` – это функция, которая **преобразует логиты** (сырые выходы нейросети) в **вероятности**, так чтобы их сумма была **равна 1**. Она часто используется в задачах многоклассовой классификации.  \n",
        "\n",
        "**Формула Softmax:**  \n",
        "Для каждого выхода $ z_i $ нейросети:  \n",
        "$$\\hat{p}_i = \\frac{e^{z_i}}{\\sum_{j=1}^{C} e^{z_j}}$$  \n",
        "где:  \n",
        "- $ \\hat{p}_i $ – вероятность, что объект принадлежит классу $ i $,  \n",
        "- $ C $ – количество классов,  \n",
        "- $ z_i $ – логит для класса $ i $,  \n",
        "- $ e^{z_i} $ – экспоненциальное преобразование логита (делает все значения положительными).  \n",
        "\n",
        "**Что делает Softmax?**\n",
        "1. **Нормализует выходы нейросети** – переводит их в диапазон $ [0,1] $.  \n",
        "2. **Гарантирует, что сумма всех выходов = 1** (их можно интерпретировать как вероятности).  \n",
        "3. **Подчеркивает разницу между выходами** – чем больше разница между логитами, тем сильнее выделяется наиболее вероятный класс.  "
      ]
    },
    {
      "cell_type": "code",
      "execution_count": null,
      "id": "38cd521b-6e77-48e7-be08-5801c3a4a2c9",
      "metadata": {
        "id": "38cd521b-6e77-48e7-be08-5801c3a4a2c9"
      },
      "outputs": [],
      "source": [
        "FCNN_16_2 = FCNN(16, 2).to(device)\n",
        "\n",
        "loss_function = nn.CrossEntropyLoss()\n",
        "\n",
        "optimizer = torch.optim.Adam(\n",
        "    FCNN_16_2.parameters(), lr=1e-3, weight_decay=1e-5)\n",
        "\n",
        "scheduler = lr_scheduler.ReduceLROnPlateau(optimizer, mode='min', factor=0.3,\n",
        "                                           patience=30, threshold=0.0001)\n",
        "\n",
        "FCNN_16_2, losses_FCNN_16_2, lr_FCNN_16_2 = train_model(\n",
        "    FCNN_16_2, loss_function, optimizer,\n",
        "    scheduler, num_epochs=200)"
      ]
    },
    {
      "cell_type": "markdown",
      "id": "Apk5F9gLE2AX",
      "metadata": {
        "id": "Apk5F9gLE2AX"
      },
      "source": [
        "Посмотрим на график изменения среднего на эпохе значения функции потерь."
      ]
    },
    {
      "cell_type": "code",
      "execution_count": null,
      "id": "43f11eee-6236-43b2-b528-486652187fff",
      "metadata": {
        "id": "43f11eee-6236-43b2-b528-486652187fff"
      },
      "outputs": [],
      "source": [
        "plt.plot(losses_FCNN_16_2['train'], label='train');\n",
        "plt.plot(losses_FCNN_16_2['valid'], label='valid');\n",
        "plt.legend();\n",
        "plt.ylabel(\"Ошибка\");\n",
        "plt.xlabel(\"Эпоха обучения\");"
      ]
    },
    {
      "cell_type": "code",
      "execution_count": null,
      "id": "686bd9b9-32bc-48c0-8e21-4ec3c8632b9e",
      "metadata": {
        "id": "686bd9b9-32bc-48c0-8e21-4ec3c8632b9e"
      },
      "outputs": [],
      "source": [
        "plt.plot(lr_FCNN_16_2);\n",
        "plt.ylabel(\"learning rate\");\n",
        "plt.xlabel(\"Эпоха обучения\");"
      ]
    },
    {
      "cell_type": "code",
      "execution_count": null,
      "id": "fc7f044c-5472-496a-b13f-d4cc2800b0b1",
      "metadata": {
        "id": "fc7f044c-5472-496a-b13f-d4cc2800b0b1"
      },
      "outputs": [],
      "source": [
        "print('Loss в конце обучения')\n",
        "print(f'На обучающей выборке: {losses_FCNN_16_2[\"train\"][-1]:.5f}')\n",
        "print(f'На валидационной выборке: {losses_FCNN_16_2[\"valid\"][-1]:.5f}')"
      ]
    },
    {
      "cell_type": "markdown",
      "id": "YHltWn87GqTo",
      "metadata": {
        "id": "YHltWn87GqTo"
      },
      "source": [
        "Посмотрим предсказания на нескольких случайных примерах.\n"
      ]
    },
    {
      "cell_type": "code",
      "execution_count": null,
      "id": "f90d02e8-7b3f-45cf-8dd4-bcb291d566e9",
      "metadata": {
        "id": "f90d02e8-7b3f-45cf-8dd4-bcb291d566e9"
      },
      "outputs": [],
      "source": [
        "some_indexes = y_test_resampled.groupby('target').sample(n=1, random_state=42).index\n",
        "X_some_modes = X_test_resampled_scaled.loc[some_indexes]\n",
        "y_some_modes = y_test_resampled.loc[some_indexes]\n",
        "\n",
        "FCNN_16_2.to(\"cpu\")\n",
        "FCNN_16_2.eval()\n",
        "\n",
        "logits = FCNN_16_2(torch.tensor(X_some_modes.values, dtype=torch.float32))\n",
        "predicted_classes = torch.argmax(logits, dim=1)\n",
        "\n",
        "for target, predict in zip(y_some_modes.values, predicted_classes.detach().numpy()):\n",
        "    print(f\"Истина - {target[0]} >>> {encoder.inverse_transform([predict])[0]} - предсказание\")"
      ]
    },
    {
      "cell_type": "markdown",
      "id": "pDXcg6A7H1gL",
      "metadata": {
        "id": "pDXcg6A7H1gL"
      },
      "source": [
        "Посмотрим на уверенность модели в своих предсказаниях."
      ]
    },
    {
      "cell_type": "code",
      "execution_count": null,
      "id": "38a7bcbe-4a08-4b9e-9a68-7b8f22f702cc",
      "metadata": {
        "id": "38a7bcbe-4a08-4b9e-9a68-7b8f22f702cc"
      },
      "outputs": [],
      "source": [
        "pd.DataFrame(torch.softmax(logits, dim=1).detach().numpy(), columns=encoder.classes_).map(lambda x: f'{x:.3f}')"
      ]
    },
    {
      "cell_type": "markdown",
      "id": "7782244f-f595-46bc-9551-468ca61ea895",
      "metadata": {
        "id": "7782244f-f595-46bc-9551-468ca61ea895"
      },
      "source": [
        "#### Анализ качества модели"
      ]
    },
    {
      "cell_type": "code",
      "execution_count": null,
      "id": "d51ab8b8-ab4f-43b4-be16-405575be8acb",
      "metadata": {
        "id": "d51ab8b8-ab4f-43b4-be16-405575be8acb"
      },
      "outputs": [],
      "source": [
        "FCNN_16_2.eval()\n",
        "logits =  FCNN_16_2(torch.tensor(X_test_resampled_scaled.values, dtype=torch.float32))\n",
        "\n",
        "probabilities = torch.softmax(logits, dim=1)\n",
        "predicted_classes = torch.argmax(probabilities, dim=1)\n",
        "\n",
        "y_test_pred_FCNN_16_2 = encoder.inverse_transform(predicted_classes)"
      ]
    },
    {
      "cell_type": "markdown",
      "id": "f88ba7d5-2e72-4955-b963-d7446059a0d7",
      "metadata": {
        "id": "f88ba7d5-2e72-4955-b963-d7446059a0d7"
      },
      "source": [
        "**Матрица неточностей**"
      ]
    },
    {
      "cell_type": "code",
      "execution_count": null,
      "id": "aa4f213c-3e2b-454f-8967-49711ac4bc6e",
      "metadata": {
        "id": "aa4f213c-3e2b-454f-8967-49711ac4bc6e"
      },
      "outputs": [],
      "source": [
        "conf_mat = confusion_matrix(y_test_resampled, y_test_pred_FCNN_16_2)\n",
        "ConfusionMatrixDisplay(conf_mat, display_labels=encoder.classes_).plot()\n",
        "plt.xticks(rotation=90)\n",
        "plt.show()"
      ]
    },
    {
      "cell_type": "markdown",
      "id": "26yAGOJmxRJZ",
      "metadata": {
        "id": "26yAGOJmxRJZ"
      },
      "source": [
        "**Accuracy**"
      ]
    },
    {
      "cell_type": "code",
      "execution_count": null,
      "id": "22bf4921-08b3-4e12-b44f-4e5367b6e17b",
      "metadata": {
        "id": "22bf4921-08b3-4e12-b44f-4e5367b6e17b"
      },
      "outputs": [],
      "source": [
        "accuracy_classifier['FCNN_16_2'] = accuracy_score(y_test_resampled, y_test_pred_FCNN_16_2)"
      ]
    },
    {
      "cell_type": "markdown",
      "id": "UVsls6YCxfWl",
      "metadata": {
        "id": "UVsls6YCxfWl"
      },
      "source": [
        "**Precision и recall**"
      ]
    },
    {
      "cell_type": "code",
      "execution_count": null,
      "id": "459071ef-331f-4848-b247-e94862729ddb",
      "metadata": {
        "id": "459071ef-331f-4848-b247-e94862729ddb"
      },
      "outputs": [],
      "source": [
        "precision_classifier['FCNN_16_2'] = precision_score(y_test_resampled, y_test_pred_FCNN_16_2, average='macro', zero_division = np.nan)\n",
        "recall_classifier['FCNN_16_2'] = recall_score(y_test_resampled, y_test_pred_FCNN_16_2, average='macro', zero_division = np.nan)"
      ]
    },
    {
      "cell_type": "markdown",
      "id": "_y42fbhRxoWi",
      "metadata": {
        "id": "_y42fbhRxoWi"
      },
      "source": [
        "**F1**"
      ]
    },
    {
      "cell_type": "code",
      "execution_count": null,
      "id": "L6fAAndOw-M9",
      "metadata": {
        "id": "L6fAAndOw-M9"
      },
      "outputs": [],
      "source": [
        "f1_classifier['FCNN_16_2'] = f1_score(y_test_resampled, y_test_pred_FCNN_16_2, average='macro', zero_division = np.nan)"
      ]
    },
    {
      "cell_type": "markdown",
      "id": "rezYqTGQxyKY",
      "metadata": {
        "id": "rezYqTGQxyKY"
      },
      "source": [
        "**Значения метрик**"
      ]
    },
    {
      "cell_type": "code",
      "execution_count": null,
      "id": "cU18xnssw-QD",
      "metadata": {
        "id": "cU18xnssw-QD"
      },
      "outputs": [],
      "source": [
        "print(f\"accuracy - {accuracy_classifier['FCNN_16_2']*100:0.2f}%\")\n",
        "print(f\"precision - {precision_classifier['FCNN_16_2']*100:0.2f}%\")\n",
        "print(f\"recall - {recall_classifier['FCNN_16_2']*100:0.2f}%\")\n",
        "print(f\"F1 - {f1_classifier['FCNN_16_2']*100:0.2f}%\")"
      ]
    },
    {
      "cell_type": "markdown",
      "id": "6WJUiU4O0WCm",
      "metadata": {
        "id": "6WJUiU4O0WCm"
      },
      "source": [
        "### Модель №2\n",
        "Увеличим число скрытых слоев в модели\n",
        "#### Обучение модели"
      ]
    },
    {
      "cell_type": "code",
      "execution_count": null,
      "id": "lagWqmHHw-VH",
      "metadata": {
        "id": "lagWqmHHw-VH"
      },
      "outputs": [],
      "source": [
        "FCNN_16_4 = FCNN(16, 4).to(device)\n",
        "\n",
        "loss_function = nn.CrossEntropyLoss()\n",
        "optimizer = torch.optim.Adam(FCNN_16_4.parameters(), lr=1e-3, weight_decay=1e-5)\n",
        "scheduler = lr_scheduler.ReduceLROnPlateau(optimizer, mode='min', factor=0.3,\n",
        "                                           patience=30, threshold=0.0001)\n",
        "\n",
        "FCNN_16_4, losses_FCNN_16_4, lr_FCNN_16_4 = train_model(\n",
        "    FCNN_16_4, loss_function, optimizer,\n",
        "    scheduler, num_epochs=200)"
      ]
    },
    {
      "cell_type": "markdown",
      "id": "UOds9bbeJhfb",
      "metadata": {
        "id": "UOds9bbeJhfb"
      },
      "source": [
        "Посмотрим на график изменения среднего на эпохе значения функции потерь."
      ]
    },
    {
      "cell_type": "code",
      "execution_count": null,
      "id": "f8c8776a-5c65-4ccf-979a-a5c5f957a93c",
      "metadata": {
        "id": "f8c8776a-5c65-4ccf-979a-a5c5f957a93c"
      },
      "outputs": [],
      "source": [
        "plt.plot(losses_FCNN_16_4['train'], label='train');\n",
        "plt.plot(losses_FCNN_16_4['valid'], label='valid');\n",
        "plt.legend();\n",
        "plt.ylabel(\"Ошибка\");\n",
        "plt.xlabel(\"Эпоха обучения\");"
      ]
    },
    {
      "cell_type": "code",
      "execution_count": null,
      "id": "20uXnBVg0r9y",
      "metadata": {
        "id": "20uXnBVg0r9y"
      },
      "outputs": [],
      "source": [
        "plt.plot(lr_FCNN_16_4);\n",
        "plt.ylabel(\"learning rate\");\n",
        "plt.xlabel(\"Эпоха обучения\");"
      ]
    },
    {
      "cell_type": "code",
      "execution_count": null,
      "id": "d3dG26yh0sBY",
      "metadata": {
        "id": "d3dG26yh0sBY"
      },
      "outputs": [],
      "source": [
        "print('Loss в конце обучения')\n",
        "print(f'На обучающей выборке: {losses_FCNN_16_4[\"train\"][-1]:.5f}')\n",
        "print(f'На валидационной выборке: {losses_FCNN_16_4[\"valid\"][-1]:.5f}')"
      ]
    },
    {
      "cell_type": "code",
      "execution_count": null,
      "id": "opdUFqH71Yng",
      "metadata": {
        "id": "opdUFqH71Yng"
      },
      "outputs": [],
      "source": [
        "some_indexes = y_test_resampled.groupby('target').sample(n=1, random_state=42).index\n",
        "X_some_modes = X_test_resampled_scaled.loc[some_indexes]\n",
        "y_some_modes = y_test_resampled.loc[some_indexes]\n",
        "\n",
        "FCNN_16_4.to(\"cpu\")\n",
        "FCNN_16_4.eval()\n",
        "logits = FCNN_16_4(torch.tensor(X_some_modes.values, dtype=torch.float32))\n",
        "predicted_classes = torch.argmax(logits, dim=1)\n",
        "\n",
        "for target, predict in zip(y_some_modes.values, predicted_classes.detach().numpy()):\n",
        "    print(f\"Истина - {target[0]} >>> {encoder.inverse_transform([predict])[0]} - предсказание\")"
      ]
    },
    {
      "cell_type": "markdown",
      "id": "W8wELf86PfE8",
      "metadata": {
        "id": "W8wELf86PfE8"
      },
      "source": [
        "Посмотрим на уверенность модели в своих предсказаниях."
      ]
    },
    {
      "cell_type": "code",
      "execution_count": null,
      "id": "fjW-cNIlPgna",
      "metadata": {
        "id": "fjW-cNIlPgna"
      },
      "outputs": [],
      "source": [
        "pd.DataFrame(torch.softmax(logits, dim=1).detach().numpy(), columns=encoder.classes_).map(lambda x: f'{x:.3f}')"
      ]
    },
    {
      "cell_type": "markdown",
      "id": "vZRm6y_f12eO",
      "metadata": {
        "id": "vZRm6y_f12eO"
      },
      "source": [
        "#### Анализ качества модели"
      ]
    },
    {
      "cell_type": "code",
      "execution_count": null,
      "id": "BpcQtFkz1n-3",
      "metadata": {
        "id": "BpcQtFkz1n-3"
      },
      "outputs": [],
      "source": [
        "FCNN_16_4.eval()\n",
        "logits =  FCNN_16_4(torch.tensor(X_test_resampled_scaled.values, dtype=torch.float32))\n",
        "\n",
        "probabilities = torch.softmax(logits, dim=1)\n",
        "predicted_classes = torch.argmax(probabilities, dim=1)\n",
        "\n",
        "y_test_pred_FCNN_16_4 = encoder.inverse_transform(predicted_classes)"
      ]
    },
    {
      "cell_type": "markdown",
      "id": "6hDzycJi2Ttj",
      "metadata": {
        "id": "6hDzycJi2Ttj"
      },
      "source": [
        "**Матрица неточностей**"
      ]
    },
    {
      "cell_type": "code",
      "execution_count": null,
      "id": "rXTjqktN1oDC",
      "metadata": {
        "id": "rXTjqktN1oDC"
      },
      "outputs": [],
      "source": [
        "conf_mat = confusion_matrix(y_test_resampled, y_test_pred_FCNN_16_4)\n",
        "ConfusionMatrixDisplay(conf_mat, display_labels=encoder.classes_).plot()\n",
        "plt.xticks(rotation=90)\n",
        "plt.show()"
      ]
    },
    {
      "cell_type": "markdown",
      "id": "MEL9MMqD2jXV",
      "metadata": {
        "id": "MEL9MMqD2jXV"
      },
      "source": [
        "**Accuracy**"
      ]
    },
    {
      "cell_type": "code",
      "execution_count": null,
      "id": "qBTkpKWV1YyY",
      "metadata": {
        "id": "qBTkpKWV1YyY"
      },
      "outputs": [],
      "source": [
        "accuracy_classifier['FCNN_16_4'] = accuracy_score(y_test_resampled, y_test_pred_FCNN_16_4)"
      ]
    },
    {
      "cell_type": "markdown",
      "id": "CTXfC_U4209a",
      "metadata": {
        "id": "CTXfC_U4209a"
      },
      "source": [
        "**Precision и recall**"
      ]
    },
    {
      "cell_type": "code",
      "execution_count": null,
      "id": "y3WGLXGq2ipu",
      "metadata": {
        "id": "y3WGLXGq2ipu"
      },
      "outputs": [],
      "source": [
        "precision_classifier['FCNN_16_4'] = precision_score(y_test_resampled, y_test_pred_FCNN_16_4, average='macro', zero_division = np.nan)\n",
        "recall_classifier['FCNN_16_4'] = recall_score(y_test_resampled, y_test_pred_FCNN_16_4, average='macro', zero_division = np.nan)"
      ]
    },
    {
      "cell_type": "markdown",
      "id": "B5Lbnq-Z3AIN",
      "metadata": {
        "id": "B5Lbnq-Z3AIN"
      },
      "source": [
        "**F1**"
      ]
    },
    {
      "cell_type": "code",
      "execution_count": null,
      "id": "pAIKc42e2i4D",
      "metadata": {
        "id": "pAIKc42e2i4D"
      },
      "outputs": [],
      "source": [
        "f1_classifier['FCNN_16_4'] = f1_score(y_test_resampled, y_test_pred_FCNN_16_4, average='macro', zero_division = np.nan)"
      ]
    },
    {
      "cell_type": "markdown",
      "id": "URMjvbQx3N24",
      "metadata": {
        "id": "URMjvbQx3N24"
      },
      "source": [
        "**Значения метрик**"
      ]
    },
    {
      "cell_type": "code",
      "execution_count": null,
      "id": "1YHcrlKw2i7t",
      "metadata": {
        "id": "1YHcrlKw2i7t"
      },
      "outputs": [],
      "source": [
        "print(f\"accuracy - {accuracy_classifier['FCNN_16_4']*100:0.2f}%\")\n",
        "print(f\"precision - {precision_classifier['FCNN_16_4']*100:0.2f}%\")\n",
        "print(f\"recall - {recall_classifier['FCNN_16_4']*100:0.2f}%\")\n",
        "print(f\"F1 - {f1_classifier['FCNN_16_4']*100:0.2f}%\")"
      ]
    },
    {
      "cell_type": "markdown",
      "id": "0vljMKhtL-33",
      "metadata": {
        "id": "0vljMKhtL-33"
      },
      "source": [
        "### Модель №3\n",
        "Увеличим размер скрытых слоев в модели\n",
        "### Обучение модели"
      ]
    },
    {
      "cell_type": "code",
      "execution_count": null,
      "id": "Zc5iynAF3bjt",
      "metadata": {
        "id": "Zc5iynAF3bjt"
      },
      "outputs": [],
      "source": [
        "FCNN_32_4 = FCNN(32, 4).to(device)\n",
        "\n",
        "loss_function = nn.CrossEntropyLoss()\n",
        "optimizer = torch.optim.Adam(FCNN_32_4.parameters(), lr=1e-3, weight_decay=1e-5)\n",
        "scheduler = lr_scheduler.ReduceLROnPlateau(optimizer, mode='min', factor=0.3,\n",
        "                                           patience=30, threshold=0.0001)\n",
        "\n",
        "FCNN_32_4, losses_FCNN_32_4, lr_FCNN_32_4 = train_model(\n",
        "    FCNN_32_4, loss_function, optimizer,\n",
        "    scheduler, num_epochs=200)"
      ]
    },
    {
      "cell_type": "markdown",
      "id": "w9Lq99LCOoSA",
      "metadata": {
        "id": "w9Lq99LCOoSA"
      },
      "source": [
        "Посмотрим на график изменения среднего на эпохе значения функции потерь."
      ]
    },
    {
      "cell_type": "code",
      "execution_count": null,
      "id": "mr-l2qS63bnp",
      "metadata": {
        "id": "mr-l2qS63bnp"
      },
      "outputs": [],
      "source": [
        "plt.plot(losses_FCNN_32_4['train'], label='train');\n",
        "plt.plot(losses_FCNN_32_4['valid'], label='valid');\n",
        "plt.legend();\n",
        "plt.ylabel(\"Ошибка\");\n",
        "plt.xlabel(\"Эпоха обучения\");"
      ]
    },
    {
      "cell_type": "code",
      "execution_count": null,
      "id": "FbBRkuQP0sJs",
      "metadata": {
        "id": "FbBRkuQP0sJs"
      },
      "outputs": [],
      "source": [
        "plt.plot(lr_FCNN_32_4);\n",
        "plt.ylabel(\"learning rate\");\n",
        "plt.xlabel(\"Эпоха обучения\");"
      ]
    },
    {
      "cell_type": "code",
      "execution_count": null,
      "id": "fa97e6b1-24ab-4679-be0f-9645c9b01f29",
      "metadata": {
        "id": "fa97e6b1-24ab-4679-be0f-9645c9b01f29"
      },
      "outputs": [],
      "source": [
        "print('Loss в конце обучения')\n",
        "print(f'На обучающей выборке: {losses_FCNN_32_4[\"train\"][-1]:.5f}')\n",
        "print(f'На валидационной выборке: {losses_FCNN_32_4[\"valid\"][-1]:.5f}')"
      ]
    },
    {
      "cell_type": "markdown",
      "id": "Cx0T6qKrPWpe",
      "metadata": {
        "id": "Cx0T6qKrPWpe"
      },
      "source": [
        "Посмотрим предсказания на нескольких случайных примерах."
      ]
    },
    {
      "cell_type": "code",
      "execution_count": null,
      "id": "da4a2950-8feb-4bfe-bcf1-1d5ed3f351d3",
      "metadata": {
        "id": "da4a2950-8feb-4bfe-bcf1-1d5ed3f351d3"
      },
      "outputs": [],
      "source": [
        "some_indexes = y_test_resampled.groupby('target').sample(n=1, random_state=42).index\n",
        "X_some_modes = X_test_resampled_scaled.loc[some_indexes]\n",
        "y_some_modes = y_test_resampled.loc[some_indexes]\n",
        "\n",
        "FCNN_32_4.to(\"cpu\")\n",
        "FCNN_32_4.eval()\n",
        "logits = FCNN_32_4(torch.tensor(X_some_modes.values, dtype=torch.float32))\n",
        "predicted_classes = torch.argmax(logits, dim=1)\n",
        "\n",
        "for target, predict in zip(y_some_modes.values, predicted_classes.detach().numpy()):\n",
        "    print(f\"Истина - {target[0]} >>> {encoder.inverse_transform([predict])[0]} - предсказание\")"
      ]
    },
    {
      "cell_type": "markdown",
      "id": "cjNCyFIjPuNN",
      "metadata": {
        "id": "cjNCyFIjPuNN"
      },
      "source": [
        "Посмотрим на уверенность модели в своих предсказаниях."
      ]
    },
    {
      "cell_type": "code",
      "execution_count": null,
      "id": "af6f929a-1770-47de-b359-0821a147c975",
      "metadata": {
        "id": "af6f929a-1770-47de-b359-0821a147c975"
      },
      "outputs": [],
      "source": [
        "pd.DataFrame(torch.softmax(logits, dim=1).detach().numpy(), columns=encoder.classes_).applymap(lambda x: f'{x:.3f}')"
      ]
    },
    {
      "cell_type": "markdown",
      "id": "61uzNQA7P8de",
      "metadata": {
        "id": "61uzNQA7P8de"
      },
      "source": [
        "#### Анализ качества модели"
      ]
    },
    {
      "cell_type": "code",
      "execution_count": null,
      "id": "expo1ySYQSaC",
      "metadata": {
        "id": "expo1ySYQSaC"
      },
      "outputs": [],
      "source": [
        "FCNN_32_4.eval()\n",
        "logits =  FCNN_32_4(torch.tensor(X_test_resampled_scaled.values, dtype=torch.float32))\n",
        "\n",
        "probabilities = torch.softmax(logits, dim=1)\n",
        "predicted_classes = torch.argmax(probabilities, dim=1)\n",
        "\n",
        "y_test_pred_FCNN_32_4 = encoder.inverse_transform(predicted_classes)"
      ]
    },
    {
      "cell_type": "markdown",
      "id": "m1Ipfk2DQc7i",
      "metadata": {
        "id": "m1Ipfk2DQc7i"
      },
      "source": [
        "**Матрица неточностей**"
      ]
    },
    {
      "cell_type": "code",
      "execution_count": null,
      "id": "fb9d34cf-b526-4e42-8d99-91f91901a57d",
      "metadata": {
        "id": "fb9d34cf-b526-4e42-8d99-91f91901a57d"
      },
      "outputs": [],
      "source": [
        "conf_mat = confusion_matrix(y_test_resampled, y_test_pred_FCNN_32_4)\n",
        "ConfusionMatrixDisplay(conf_mat, display_labels=encoder.classes_).plot()\n",
        "plt.xticks(rotation=90)\n",
        "plt.show()"
      ]
    },
    {
      "cell_type": "markdown",
      "id": "_BR5O0WiQxEA",
      "metadata": {
        "id": "_BR5O0WiQxEA"
      },
      "source": [
        "**Accuracy**"
      ]
    },
    {
      "cell_type": "code",
      "execution_count": null,
      "id": "31721bf8-aa32-47aa-b5fc-07c743660a77",
      "metadata": {
        "id": "31721bf8-aa32-47aa-b5fc-07c743660a77"
      },
      "outputs": [],
      "source": [
        "accuracy_classifier['FCNN_32_4'] = accuracy_score(y_test_resampled, y_test_pred_FCNN_32_4)"
      ]
    },
    {
      "cell_type": "markdown",
      "id": "02nvUrufRZOV",
      "metadata": {
        "id": "02nvUrufRZOV"
      },
      "source": [
        "**Precision и recall**"
      ]
    },
    {
      "cell_type": "code",
      "execution_count": null,
      "id": "hK_ND1zzQwde",
      "metadata": {
        "id": "hK_ND1zzQwde"
      },
      "outputs": [],
      "source": [
        "precision_classifier['FCNN_32_4'] = precision_score(y_test_resampled, y_test_pred_FCNN_32_4, average='macro', zero_division = np.nan)\n",
        "recall_classifier['FCNN_32_4'] = recall_score(y_test_resampled, y_test_pred_FCNN_32_4, average='macro', zero_division = np.nan)"
      ]
    },
    {
      "cell_type": "markdown",
      "id": "m0k6qA_ZRreW",
      "metadata": {
        "id": "m0k6qA_ZRreW"
      },
      "source": [
        "**F1**"
      ]
    },
    {
      "cell_type": "code",
      "execution_count": null,
      "id": "sxzm237BQwgv",
      "metadata": {
        "id": "sxzm237BQwgv"
      },
      "outputs": [],
      "source": [
        "f1_classifier['FCNN_32_4'] = f1_score(y_test_resampled, y_test_pred_FCNN_32_4, average='macro', zero_division = np.nan)"
      ]
    },
    {
      "cell_type": "markdown",
      "id": "qASvE1jIR9F6",
      "metadata": {
        "id": "qASvE1jIR9F6"
      },
      "source": [
        "**Значения метрик**"
      ]
    },
    {
      "cell_type": "code",
      "execution_count": null,
      "id": "uPwpHnm1Ryfs",
      "metadata": {
        "id": "uPwpHnm1Ryfs"
      },
      "outputs": [],
      "source": [
        "print(f\"accuracy - {accuracy_classifier['FCNN_32_4']*100:0.2f}%\")\n",
        "print(f\"precision - {precision_classifier['FCNN_32_4']*100:0.2f}%\")\n",
        "print(f\"recall - {recall_classifier['FCNN_32_4']*100:0.2f}%\")\n",
        "print(f\"F1 - {f1_classifier['FCNN_32_4']*100:0.2f}%\")"
      ]
    },
    {
      "cell_type": "markdown",
      "id": "9BER9KlhSdV8",
      "metadata": {
        "id": "9BER9KlhSdV8"
      },
      "source": [
        "### Модель №4\n",
        "\n",
        "**Batch Normalization (BatchNorm)**  \n",
        "\n",
        "**Batch Normalization (нормализация по батчам, BatchNorm)** – это метод, который стабилизирует и ускоряет обучение нейросетей, **нормализуя входные данные на каждом слое**.  \n",
        "\n",
        "**Главная идея:**  \n",
        "Каждый слой нейросети получает входные данные, которые могут сильно различаться по масштабу. BatchNorm **выравнивает их распределение**, приводя к более стабильному градиентному спуску.  \n",
        "\n",
        "---\n",
        "\n",
        "**Зачем нужен BatchNorm?**  \n",
        "**Стабилизирует градиентный спуск** (предотвращает \"взрыв\" или \"затухание\" градиентов).  \n",
        "**Позволяет использовать более высокий `learning rate`**, ускоряя обучение.  \n",
        "**Уменьшает зависимость от инициализации весов**.  \n",
        "**Добавляет небольшой эффект регуляризации** (схожий с Dropout).  \n",
        "\n",
        "\n",
        "---\n",
        "\n",
        "**Когда использовать BatchNorm?**  \n",
        "В **глубоких нейросетях**, чтобы улучшить сходимость.  \n",
        "В **сверточных нейросетях (CNN)** для стабилизации обучения.  \n",
        "В **полносвязных сетях (MLP)**, если признаки сильно различаются по масштабу.  \n",
        "\n",
        "Не нужен в **маленьких сетях** или **если уже используется LayerNorm / GroupNorm**.\n"
      ]
    },
    {
      "cell_type": "code",
      "execution_count": null,
      "id": "8HSNGPJSRyjs",
      "metadata": {
        "id": "8HSNGPJSRyjs"
      },
      "outputs": [],
      "source": [
        "class FCNN_BN(nn.Module):\n",
        "  def __init__(\n",
        "      self, hidden_size=512, hidden_num=1,\n",
        "      # dropout_rate=0\n",
        "      ):\n",
        "    super(FCNN_BN, self).__init__()\n",
        "\n",
        "    # Входной слой\n",
        "    self.input_layer = nn.Sequential(\n",
        "        nn.Linear(INPUT_SIZE, hidden_size),\n",
        "        nn.BatchNorm1d(hidden_size),\n",
        "        nn.ReLU(),\n",
        "    )\n",
        "\n",
        "    # Скрытые слои\n",
        "    self.hidden_layers = nn.ModuleList()\n",
        "    for _ in range(hidden_num):\n",
        "        self.hidden_layers.append(\n",
        "            nn.Sequential(\n",
        "                nn.Linear(hidden_size, hidden_size),\n",
        "                nn.BatchNorm1d(hidden_size),\n",
        "                nn.ReLU(),\n",
        "            )\n",
        "        )\n",
        "\n",
        "    # Выходной слой\n",
        "    self.output_layer = nn.Linear(hidden_size, OUTPUT_SIZE)\n",
        "\n",
        "  def forward(self, x):\n",
        "    x = self.input_layer(x)\n",
        "\n",
        "    for layer in self.hidden_layers:\n",
        "        x = layer(x)\n",
        "\n",
        "    x = self.output_layer(x)\n",
        "    return x"
      ]
    },
    {
      "cell_type": "markdown",
      "id": "i8VHdGwmSlLz",
      "metadata": {
        "id": "i8VHdGwmSlLz"
      },
      "source": [
        "#### Обучение модели"
      ]
    },
    {
      "cell_type": "code",
      "execution_count": null,
      "id": "UAFmi2imScPz",
      "metadata": {
        "id": "UAFmi2imScPz"
      },
      "outputs": [],
      "source": [
        "FCNN_BN_32_4 = FCNN_BN(32, 4).to(device)\n",
        "\n",
        "loss_function = nn.CrossEntropyLoss()\n",
        "optimizer = torch.optim.Adam(FCNN_BN_32_4.parameters(), lr=1e-3, weight_decay=1e-5)\n",
        "scheduler = lr_scheduler.ReduceLROnPlateau(optimizer, mode='min', factor=0.3,\n",
        "                                           patience=30, threshold=0.0001)\n",
        "\n",
        "FCNN_BN_32_4, losses_FCNN_BN_32_4, lr_FCNN_BN_32_4 = train_model(\n",
        "    FCNN_BN_32_4, loss_function, optimizer,\n",
        "    scheduler, num_epochs=200)"
      ]
    },
    {
      "cell_type": "markdown",
      "id": "CsZW98AsW05D",
      "metadata": {
        "id": "CsZW98AsW05D"
      },
      "source": [
        "Посмотрим на график изменения среднего на эпохе значения функции потерь."
      ]
    },
    {
      "cell_type": "code",
      "execution_count": null,
      "id": "npKCm5gbWvfr",
      "metadata": {
        "id": "npKCm5gbWvfr"
      },
      "outputs": [],
      "source": [
        "plt.plot(losses_FCNN_BN_32_4['train'], label='train');\n",
        "plt.plot(losses_FCNN_BN_32_4['valid'], label='valid');\n",
        "plt.legend();\n",
        "plt.ylabel(\"Ошибка\");\n",
        "plt.xlabel(\"Эпоха обучения\");"
      ]
    },
    {
      "cell_type": "code",
      "execution_count": null,
      "id": "lPK8n9oIWvqG",
      "metadata": {
        "id": "lPK8n9oIWvqG"
      },
      "outputs": [],
      "source": [
        "plt.plot(lr_FCNN_BN_32_4);\n",
        "plt.ylabel(\"learning rate\");\n",
        "plt.xlabel(\"Эпоха обучения\");"
      ]
    },
    {
      "cell_type": "code",
      "execution_count": null,
      "id": "lX_t1qg-ScVI",
      "metadata": {
        "id": "lX_t1qg-ScVI"
      },
      "outputs": [],
      "source": [
        "print('Loss в конце обучения')\n",
        "print(f'На обучающей выборке: {losses_FCNN_BN_32_4[\"train\"][-1]:.5f}')\n",
        "print(f'На валидационной выборке: {losses_FCNN_BN_32_4[\"valid\"][-1]:.5f}')"
      ]
    },
    {
      "cell_type": "markdown",
      "id": "4f0nCzcBapy0",
      "metadata": {
        "id": "4f0nCzcBapy0"
      },
      "source": [
        "Посмотрим предсказания на нескольких случайных примерах."
      ]
    },
    {
      "cell_type": "code",
      "execution_count": null,
      "id": "H9eEHrOraZ0Z",
      "metadata": {
        "id": "H9eEHrOraZ0Z"
      },
      "outputs": [],
      "source": [
        "some_indexes = y_test_resampled.groupby('target').sample(n=1, random_state=42).index\n",
        "X_some_modes = X_test_resampled_scaled.loc[some_indexes]\n",
        "y_some_modes = y_test_resampled.loc[some_indexes]\n",
        "\n",
        "FCNN_BN_32_4.to(\"cpu\")\n",
        "FCNN_BN_32_4.eval()\n",
        "logits = FCNN_BN_32_4(torch.tensor(X_some_modes.values, dtype=torch.float32))\n",
        "predicted_classes = torch.argmax(logits, dim=1)\n",
        "\n",
        "for target, predict in zip(y_some_modes.values, predicted_classes.detach().numpy()):\n",
        "    print(f\"Истина - {target[0]} >>> {encoder.inverse_transform([predict])[0]} - предсказание\")"
      ]
    },
    {
      "cell_type": "markdown",
      "id": "-Zr4b7Tna6CG",
      "metadata": {
        "id": "-Zr4b7Tna6CG"
      },
      "source": [
        "Посмотрим на уверенность модели в своих предсказаниях."
      ]
    },
    {
      "cell_type": "code",
      "execution_count": null,
      "id": "_Lu8kv4-aZ3z",
      "metadata": {
        "id": "_Lu8kv4-aZ3z"
      },
      "outputs": [],
      "source": [
        "pd.DataFrame(torch.softmax(logits, dim=1).detach().numpy(), columns=encoder.classes_).map(lambda x: f'{x:.3f}')"
      ]
    },
    {
      "cell_type": "markdown",
      "id": "UuuWJmhGbJIq",
      "metadata": {
        "id": "UuuWJmhGbJIq"
      },
      "source": [
        "#### Анализ качества модели"
      ]
    },
    {
      "cell_type": "code",
      "execution_count": null,
      "id": "HDi98lB5aZ7E",
      "metadata": {
        "id": "HDi98lB5aZ7E"
      },
      "outputs": [],
      "source": [
        "FCNN_BN_32_4.eval()\n",
        "logits =  FCNN_BN_32_4(\n",
        "    torch.tensor(X_test_resampled_scaled.values, dtype=torch.float32))\n",
        "\n",
        "probabilities = torch.softmax(logits, dim=1)\n",
        "predicted_classes = torch.argmax(probabilities, dim=1)\n",
        "\n",
        "y_test_pred_FCNN_BN_32_4 = encoder.inverse_transform(predicted_classes)"
      ]
    },
    {
      "cell_type": "markdown",
      "id": "NZJ_vUCYcDfF",
      "metadata": {
        "id": "NZJ_vUCYcDfF"
      },
      "source": [
        "**Матрица неточностей**"
      ]
    },
    {
      "cell_type": "code",
      "execution_count": null,
      "id": "CHzHoiM7bKBC",
      "metadata": {
        "id": "CHzHoiM7bKBC"
      },
      "outputs": [],
      "source": [
        "conf_mat = confusion_matrix(y_test_resampled, y_test_pred_FCNN_BN_32_4)\n",
        "ConfusionMatrixDisplay(conf_mat, display_labels=encoder.classes_).plot()\n",
        "plt.xticks(rotation=90)\n",
        "plt.show()"
      ]
    },
    {
      "cell_type": "markdown",
      "id": "OKJZPfIzdsl7",
      "metadata": {
        "id": "OKJZPfIzdsl7"
      },
      "source": [
        "**Accuracy**"
      ]
    },
    {
      "cell_type": "code",
      "execution_count": null,
      "id": "5DRZjRRabKEF",
      "metadata": {
        "id": "5DRZjRRabKEF"
      },
      "outputs": [],
      "source": [
        "accuracy_classifier['FCNN_BN_32_4'] = accuracy_score(y_test_resampled, y_test_pred_FCNN_BN_32_4)"
      ]
    },
    {
      "cell_type": "markdown",
      "id": "sSE92Nzrd9JU",
      "metadata": {
        "id": "sSE92Nzrd9JU"
      },
      "source": [
        "**Precision и recall**"
      ]
    },
    {
      "cell_type": "code",
      "execution_count": null,
      "id": "kKeE1ITbbKHD",
      "metadata": {
        "id": "kKeE1ITbbKHD"
      },
      "outputs": [],
      "source": [
        "precision_classifier['FCNN_BN_32_4'] = precision_score(y_test_resampled, y_test_pred_FCNN_BN_32_4, average='macro', zero_division = np.nan)\n",
        "recall_classifier['FCNN_BN_32_4'] = recall_score(y_test_resampled, y_test_pred_FCNN_BN_32_4, average='macro', zero_division = np.nan)"
      ]
    },
    {
      "cell_type": "markdown",
      "id": "3faeIXOLeNr_",
      "metadata": {
        "id": "3faeIXOLeNr_"
      },
      "source": [
        "**F1**"
      ]
    },
    {
      "cell_type": "code",
      "execution_count": null,
      "id": "z91dmkYTdmMJ",
      "metadata": {
        "id": "z91dmkYTdmMJ"
      },
      "outputs": [],
      "source": [
        "f1_classifier['FCNN_BN_32_4'] = f1_score(y_test_resampled, y_test_pred_FCNN_BN_32_4, average='macro', zero_division = np.nan)"
      ]
    },
    {
      "cell_type": "markdown",
      "id": "pB1XHJRHesAs",
      "metadata": {
        "id": "pB1XHJRHesAs"
      },
      "source": [
        "**Значения метрик**"
      ]
    },
    {
      "cell_type": "code",
      "execution_count": null,
      "id": "7JEOQ9Y3dmP8",
      "metadata": {
        "id": "7JEOQ9Y3dmP8"
      },
      "outputs": [],
      "source": [
        "print(f\"accuracy - {accuracy_classifier['FCNN_BN_32_4']*100:0.2f}%\")\n",
        "print(f\"precision - {precision_classifier['FCNN_BN_32_4']*100:0.2f}%\")\n",
        "print(f\"recall - {recall_classifier['FCNN_BN_32_4']*100:0.2f}%\")\n",
        "print(f\"F1 - {f1_classifier['FCNN_BN_32_4']*100:0.2f}%\")"
      ]
    },
    {
      "cell_type": "markdown",
      "id": "jo3A2e0_fCtu",
      "metadata": {
        "id": "jo3A2e0_fCtu"
      },
      "source": [
        "### Модель №5\n",
        "\n",
        "**Dropout**  \n",
        "\n",
        "`Dropout` – это **регуляризация**, которая помогает **предотвратить переобучение** нейросетей, случайно **\"отключая\" нейроны** во время обучения.  \n",
        "\n",
        "**Идея:**  \n",
        "Во время обучения с **некоторой вероятностью (p)** нейроны временно отключаются (их выходы становятся нулями). Это заставляет модель **не зависеть слишком сильно от отдельных нейронов** и делать более **устойчивые обобщения**.  \n",
        "\n",
        "---\n",
        "\n",
        "### **Как работает Dropout?**\n",
        "1. **Во время обучения:**  \n",
        "   - Для каждого нейрона с вероятностью $ p $ зануляется его выход.  \n",
        "   - Оставшиеся нейроны работают с увеличенной силой $ 1/(1-p) $, чтобы компенсировать потери.  \n",
        "\n",
        "2. **Во время инференса (предсказаний):**  \n",
        "   - Dropout **не применяется** – все нейроны работают нормально.  \n",
        "   - Но так как во время обучения активные нейроны усиливались, их выход остается неизменным.  "
      ]
    },
    {
      "cell_type": "code",
      "execution_count": null,
      "id": "D8G1IesEdmWa",
      "metadata": {
        "id": "D8G1IesEdmWa"
      },
      "outputs": [],
      "source": [
        "class FCNN_BN_DO(nn.Module):\n",
        "  def __init__(\n",
        "      self, hidden_size=512, hidden_num=1,\n",
        "      dropout_rate=0.5\n",
        "      ):\n",
        "    super(FCNN_BN_DO, self).__init__()\n",
        "\n",
        "    # Входной слой\n",
        "    self.input_layer = nn.Sequential(\n",
        "        nn.Linear(INPUT_SIZE, hidden_size),\n",
        "        nn.BatchNorm1d(hidden_size),\n",
        "        nn.ReLU(),\n",
        "        nn.Dropout(dropout_rate)\n",
        "    )\n",
        "\n",
        "    # Скрытые слои\n",
        "    self.hidden_layers = nn.ModuleList()\n",
        "    for _ in range(hidden_num):\n",
        "        self.hidden_layers.append(\n",
        "            nn.Sequential(\n",
        "                nn.Linear(hidden_size, hidden_size),\n",
        "                nn.BatchNorm1d(hidden_size),\n",
        "                nn.ReLU(),\n",
        "                nn.Dropout(dropout_rate)\n",
        "            )\n",
        "        )\n",
        "\n",
        "    # Выходной слой\n",
        "    self.output_layer = nn.Linear(hidden_size, OUTPUT_SIZE)\n",
        "\n",
        "  def forward(self, x):\n",
        "    x = self.input_layer(x)\n",
        "\n",
        "    for layer in self.hidden_layers:\n",
        "        x = layer(x)\n",
        "\n",
        "    x = self.output_layer(x)\n",
        "    return x"
      ]
    },
    {
      "cell_type": "markdown",
      "id": "B0rc4IoTg17J",
      "metadata": {
        "id": "B0rc4IoTg17J"
      },
      "source": [
        "#### Обучение модели"
      ]
    },
    {
      "cell_type": "code",
      "execution_count": null,
      "id": "w63u84oufykc",
      "metadata": {
        "id": "w63u84oufykc"
      },
      "outputs": [],
      "source": [
        "FCNN_BN_DO_32_4 = FCNN_BN_DO(32, 4, 0.5).to(device)\n",
        "\n",
        "criterion = nn.CrossEntropyLoss()\n",
        "optimizer = torch.optim.Adam(\n",
        "    FCNN_BN_DO_32_4.parameters(), lr=1e-3, weight_decay=1e-5)\n",
        "scheduler = lr_scheduler.ReduceLROnPlateau(optimizer, mode='min', factor=0.3,\n",
        "                                           patience=30, threshold=0.0001)\n",
        "\n",
        "FCNN_BN_DO_32_4, losses_FCNN_BN_DO_32_4, lr_FCNN_BN_DO_32_4 = train_model(\n",
        "    FCNN_BN_DO_32_4, criterion, optimizer,\n",
        "    scheduler, num_epochs=200)"
      ]
    },
    {
      "cell_type": "markdown",
      "id": "vU4pVPYvhdlj",
      "metadata": {
        "id": "vU4pVPYvhdlj"
      },
      "source": [
        "Посмотрим на график изменения среднего на эпохе значения функции потерь."
      ]
    },
    {
      "cell_type": "code",
      "execution_count": null,
      "id": "lxglsH37fyoz",
      "metadata": {
        "id": "lxglsH37fyoz"
      },
      "outputs": [],
      "source": [
        "plt.plot(losses_FCNN_BN_DO_32_4['train'], label='train');\n",
        "plt.plot(losses_FCNN_BN_DO_32_4['valid'], label='valid');\n",
        "plt.legend();\n",
        "plt.ylabel(\"Ошибка\");\n",
        "plt.xlabel(\"Эпоха обучения\");"
      ]
    },
    {
      "cell_type": "code",
      "execution_count": null,
      "id": "xIS4_Llofyuo",
      "metadata": {
        "id": "xIS4_Llofyuo"
      },
      "outputs": [],
      "source": [
        "plt.plot(lr_FCNN_BN_DO_32_4);\n",
        "plt.ylabel(\"learning rate\");\n",
        "plt.xlabel(\"Эпоха обучения\");"
      ]
    },
    {
      "cell_type": "code",
      "execution_count": null,
      "id": "bdb86cwUkJbi",
      "metadata": {
        "id": "bdb86cwUkJbi"
      },
      "outputs": [],
      "source": [
        "print('Loss в конце обучения')\n",
        "print(f'На обучающей выборке: {losses_FCNN_BN_DO_32_4[\"train\"][-1]:.5f}')\n",
        "print(f'На валидационной выборке: {losses_FCNN_BN_DO_32_4[\"valid\"][-1]:.5f}')"
      ]
    },
    {
      "cell_type": "markdown",
      "id": "Lq2e0D8ihoKw",
      "metadata": {
        "id": "Lq2e0D8ihoKw"
      },
      "source": [
        "Посмотрим предсказания на нескольких случайных примерах."
      ]
    },
    {
      "cell_type": "code",
      "execution_count": null,
      "id": "2cb7b7d8-93dd-44b0-adad-6c31b05509ad",
      "metadata": {
        "id": "2cb7b7d8-93dd-44b0-adad-6c31b05509ad"
      },
      "outputs": [],
      "source": [
        "some_indexes = y_test_resampled.groupby('target').sample(n=1, random_state=42).index\n",
        "X_some_modes = X_test_resampled_scaled.loc[some_indexes]\n",
        "y_some_modes = y_test_resampled.loc[some_indexes]\n",
        "\n",
        "FCNN_BN_DO_32_4.to(\"cpu\")\n",
        "FCNN_BN_DO_32_4.eval()\n",
        "logits = FCNN_BN_DO_32_4(torch.tensor(X_some_modes.values, dtype=torch.float32))\n",
        "predicted_classes = torch.argmax(logits, dim=1)\n",
        "\n",
        "for target, predict in zip(y_some_modes.values, predicted_classes.detach().numpy()):\n",
        "    print(f\"Истина - {target[0]} >>> {encoder.inverse_transform([predict])[0]} - предсказание\")"
      ]
    },
    {
      "cell_type": "markdown",
      "id": "_IHMUEFWkyco",
      "metadata": {
        "id": "_IHMUEFWkyco"
      },
      "source": [
        "Посмотрим на уверенность модели в своих предсказаниях."
      ]
    },
    {
      "cell_type": "code",
      "execution_count": null,
      "id": "4e7CBcF2j9SB",
      "metadata": {
        "id": "4e7CBcF2j9SB"
      },
      "outputs": [],
      "source": [
        "pd.DataFrame(torch.softmax(logits, dim=1).detach().numpy(), columns=encoder.classes_).map(lambda x: f'{x:.3f}')"
      ]
    },
    {
      "cell_type": "markdown",
      "id": "HhVdjcEulAyf",
      "metadata": {
        "id": "HhVdjcEulAyf"
      },
      "source": [
        "#### Анализ качества модели"
      ]
    },
    {
      "cell_type": "code",
      "execution_count": null,
      "id": "rbKsjgzsj9V4",
      "metadata": {
        "id": "rbKsjgzsj9V4"
      },
      "outputs": [],
      "source": [
        "FCNN_BN_DO_32_4.eval()\n",
        "logits =  FCNN_BN_DO_32_4(\n",
        "    torch.tensor(X_test_resampled_scaled.values, dtype=torch.float32))\n",
        "\n",
        "probabilities = torch.softmax(logits, dim=1)\n",
        "predicted_classes = torch.argmax(probabilities, dim=1)\n",
        "\n",
        "y_test_pred_FCNN_BN_DO_32_4 = encoder.inverse_transform(predicted_classes)"
      ]
    },
    {
      "cell_type": "markdown",
      "id": "cW8kTfkZlSD3",
      "metadata": {
        "id": "cW8kTfkZlSD3"
      },
      "source": [
        "**Матрица неточностей**"
      ]
    },
    {
      "cell_type": "code",
      "execution_count": null,
      "id": "pXB_U66wk7CJ",
      "metadata": {
        "id": "pXB_U66wk7CJ"
      },
      "outputs": [],
      "source": [
        "conf_mat = confusion_matrix(y_test_resampled, y_test_pred_FCNN_BN_DO_32_4)\n",
        "ConfusionMatrixDisplay(conf_mat, display_labels=encoder.classes_).plot()\n",
        "plt.xticks(rotation=90)\n",
        "plt.show()"
      ]
    },
    {
      "cell_type": "markdown",
      "id": "3t-xe-e0lld7",
      "metadata": {
        "id": "3t-xe-e0lld7"
      },
      "source": [
        "**Accuracy**"
      ]
    },
    {
      "cell_type": "code",
      "execution_count": null,
      "id": "YAgU4DxtlTAK",
      "metadata": {
        "id": "YAgU4DxtlTAK"
      },
      "outputs": [],
      "source": [
        "accuracy_classifier['FCNN_BN_DO_32_4'] = accuracy_score(\n",
        "    y_test_resampled, y_test_pred_FCNN_BN_DO_32_4)"
      ]
    },
    {
      "cell_type": "markdown",
      "id": "2LoTC4MplxGw",
      "metadata": {
        "id": "2LoTC4MplxGw"
      },
      "source": [
        "**Precision и recall**"
      ]
    },
    {
      "cell_type": "code",
      "execution_count": null,
      "id": "pH6rXjK-lTFS",
      "metadata": {
        "id": "pH6rXjK-lTFS"
      },
      "outputs": [],
      "source": [
        "precision_classifier['FCNN_BN_DO_32_4'] = precision_score(\n",
        "    y_test_resampled, y_test_pred_FCNN_BN_DO_32_4,\n",
        "    average='macro', zero_division = np.nan)\n",
        "recall_classifier['FCNN_BN_DO_32_4'] = recall_score(\n",
        "    y_test_resampled, y_test_pred_FCNN_BN_DO_32_4,\n",
        "    average='macro', zero_division = np.nan)"
      ]
    },
    {
      "cell_type": "markdown",
      "id": "LsrvRsmxmFD3",
      "metadata": {
        "id": "LsrvRsmxmFD3"
      },
      "source": [
        "**F1**"
      ]
    },
    {
      "cell_type": "code",
      "execution_count": null,
      "id": "4aYYOPjOl781",
      "metadata": {
        "id": "4aYYOPjOl781"
      },
      "outputs": [],
      "source": [
        "f1_classifier['FCNN_BN_DO_32_4'] = f1_score(\n",
        "    y_test_resampled, y_test_pred_FCNN_BN_DO_32_4,\n",
        "    average='macro', zero_division = np.nan)"
      ]
    },
    {
      "cell_type": "markdown",
      "id": "85aMJWL7mcAe",
      "metadata": {
        "id": "85aMJWL7mcAe"
      },
      "source": [
        "**Значения метрик**"
      ]
    },
    {
      "cell_type": "code",
      "execution_count": null,
      "id": "n5dMK7Nml8Ai",
      "metadata": {
        "id": "n5dMK7Nml8Ai"
      },
      "outputs": [],
      "source": [
        "print(f\"accuracy - {accuracy_classifier['FCNN_BN_DO_32_4']*100:0.2f}%\")\n",
        "print(f\"precision - {precision_classifier['FCNN_BN_DO_32_4']*100:0.2f}%\")\n",
        "print(f\"recall - {recall_classifier['FCNN_BN_DO_32_4']*100:0.2f}%\")\n",
        "print(f\"F1 - {f1_classifier['FCNN_BN_DO_32_4']*100:0.2f}%\")"
      ]
    },
    {
      "cell_type": "markdown",
      "id": "W0SitCuOmx9t",
      "metadata": {
        "id": "W0SitCuOmx9t"
      },
      "source": [
        "## Сравнение"
      ]
    },
    {
      "cell_type": "code",
      "execution_count": null,
      "id": "LyXI_PZEl8Et",
      "metadata": {
        "id": "LyXI_PZEl8Et"
      },
      "outputs": [],
      "source": [
        "df = pd.DataFrame(\n",
        "    [precision_classifier, recall_classifier, f1_classifier, accuracy_classifier],\n",
        "    index=['Precision', 'Recall', 'F1-score', 'Accuracy'])\n",
        "df"
      ]
    },
    {
      "cell_type": "markdown",
      "id": "OpMI6Uaj1d_6",
      "metadata": {
        "id": "OpMI6Uaj1d_6"
      },
      "source": [
        "## Какие сигналы оказывают самое сильное влияние на ответ модели?"
      ]
    },
    {
      "cell_type": "markdown",
      "id": "ldzl2FersKYO",
      "metadata": {
        "id": "ldzl2FersKYO"
      },
      "source": [
        "**SHAP**  \n",
        "\n",
        "SHAP (**SHapley Additive exPlanations**) – это метод интерпретации модели, который **показывает вклад каждого признака в предсказание**.  \n",
        "\n",
        "---\n",
        "\n",
        "**Что означают SHAP-значения?**\n",
        "SHAP value показывает, **насколько каждый признак изменяет предсказание модели** относительно базового уровня (среднего предсказания).  \n",
        "\n",
        "- **Отрицательные SHAP-значения** → Признак снижает вероятность предсказанного класса  \n",
        "- **Положительные SHAP-значения** → Признак увеличивает вероятность предсказанного класса  \n",
        "- **Чем больше по модулю SHAP value**, тем **важнее** этот признак для предсказания  "
      ]
    },
    {
      "cell_type": "code",
      "execution_count": null,
      "id": "kMALGeLykxnA",
      "metadata": {
        "id": "kMALGeLykxnA"
      },
      "outputs": [],
      "source": [
        "!pip install shap"
      ]
    },
    {
      "cell_type": "code",
      "execution_count": null,
      "id": "87a61d73-c073-42de-ab2b-8798bb328b36",
      "metadata": {
        "id": "87a61d73-c073-42de-ab2b-8798bb328b36"
      },
      "outputs": [],
      "source": [
        "import shap\n",
        "\n",
        "explainer = shap.Explainer(lambda x: FCNN_BN_32_4(\n",
        "    torch.tensor(x.values, dtype=torch.float32)), X_train_resampled_scaled)\n",
        "shap_values = explainer(X_test_resampled_scaled)\n",
        "\n",
        "shap.summary_plot(shap_values,\n",
        "                  X_test_resampled_scaled,\n",
        "                  feature_names=[kks_to_description[kks] for kks in X_test_resampled_scaled.columns],\n",
        "                  class_names=target_columns)"
      ]
    },
    {
      "cell_type": "code",
      "execution_count": null,
      "id": "SO75DYUd0fAX",
      "metadata": {
        "id": "SO75DYUd0fAX"
      },
      "outputs": [],
      "source": []
    }
  ],
  "metadata": {
    "colab": {
      "provenance": [],
      "include_colab_link": true
    },
    "kernelspec": {
      "display_name": "Python 3 (ipykernel)",
      "language": "python",
      "name": "python3"
    },
    "language_info": {
      "codemirror_mode": {
        "name": "ipython",
        "version": 3
      },
      "file_extension": ".py",
      "mimetype": "text/x-python",
      "name": "python",
      "nbconvert_exporter": "python",
      "pygments_lexer": "ipython3",
      "version": "3.12.4"
    }
  },
  "nbformat": 4,
  "nbformat_minor": 5
}