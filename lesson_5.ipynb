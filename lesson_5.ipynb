{
  "cells": [
    {
      "cell_type": "markdown",
      "metadata": {
        "id": "view-in-github",
        "colab_type": "text"
      },
      "source": [
        "<a href=\"https://colab.research.google.com/github/ArtyomShabunin/SMOPA-25/blob/main/lesson_5.ipynb\" target=\"_parent\"><img src=\"https://colab.research.google.com/assets/colab-badge.svg\" alt=\"Open In Colab\"/></a>"
      ]
    },
    {
      "cell_type": "markdown",
      "metadata": {
        "id": "TnaK_4u5WB6y"
      },
      "source": [
        "<img src=\"https://prana-system.com/files/110/rds_color_full.png\" alt=\"tot image\" width=\"300\"  align=\"center\"/> &nbsp;&nbsp;&nbsp;&nbsp;&nbsp;&nbsp;&nbsp;&nbsp;\n",
        "<img src=\"https://mpei.ru/AboutUniverse/OficialInfo/Attributes/PublishingImages/logo1.jpg\" alt=\"mpei image\" width=\"200\" align=\"center\"/>\n",
        "<img src=\"https://mpei.ru/Structure/Universe/tanpe/structure/tfhe/PublishingImages/tot.png\" alt=\"tot image\" width=\"100\"  align=\"center\"/>\n",
        "\n",
        "---\n",
        "\n",
        "# **Системы машинного обучения и предиктивной аналитики в тепловой и возобновляемой энергетике**  \n",
        "\n",
        "# ***Практические занятия***\n",
        "\n",
        "\n",
        "---"
      ]
    },
    {
      "cell_type": "markdown",
      "metadata": {
        "id": "qsMuo84KWB64"
      },
      "source": [
        "# Занятие №5\n",
        "# Разметка данных для решения задачи многоклассовой классификации.\n",
        "**19 марта 2025г.**"
      ]
    },
    {
      "cell_type": "markdown",
      "metadata": {
        "id": "bLhNCT7iWB64"
      },
      "source": [
        "Задача **классификации** в машинном обучении — это тип задачи, в которой модель обучается определять, к какому из заранее заданных классов относится входной объект.  \n",
        "\n",
        "**Принцип работы:**\n",
        "1. **Входные данные (признаки)**: Набор характеристик объекта, представленных в виде вектора.\n",
        "2. **Выходные данные (классы)**: Метка, указывающая, к какому классу принадлежит объект.\n",
        "3. **Обучение модели**: На основе размеченного набора данных модель учится определять зависимости между признаками и классами.\n",
        "4. **Предсказание**: На новых данных модель предсказывает класс объекта.\n",
        "\n",
        "**Виды классификации:**\n",
        "- **Бинарная** – два класса (например, \"болен\" или \"здоров\").\n",
        "- **Многоклассовая** – более двух классов (например, категории товаров: \"еда\", \"одежда\", \"электроника\").\n",
        "- **Многомарочная (multi-label)** – объект может относиться сразу к нескольким классам (например, изображение с метками \"собака\" и \"улица\").\n",
        "\n",
        "**Связь с задачей детекции аномалий**\n",
        "Методы детекции аномалий оценивают отклонение от нормального многообразия. Но такая оценка не дает информации о том, какие действия следует предпринять. Задача классификации позволяет определить к какому из заранее определенных классов аномалий отнести конкретную аномалию, что в свою очередь позволяет *быстро* принять адекватное решение."
      ]
    },
    {
      "cell_type": "code",
      "execution_count": null,
      "metadata": {
        "id": "F8JKnDjMWB65"
      },
      "outputs": [],
      "source": [
        "pip install --upgrade plotly-resampler"
      ]
    },
    {
      "cell_type": "code",
      "execution_count": null,
      "metadata": {
        "id": "RqLtP1EBWB67"
      },
      "outputs": [],
      "source": [
        "import pandas as pd\n",
        "import numpy as np\n",
        "import matplotlib.pyplot as plt\n",
        "%matplotlib inline\n",
        "import seaborn as sns\n",
        "sns.set_theme(rc={'figure.figsize':(15,5)})\n",
        "\n",
        "from tqdm import tqdm\n",
        "import glob\n",
        "import json\n",
        "\n",
        "import ipywidgets as widgets\n",
        "from IPython.display import display, clear_output\n",
        "import plotly.graph_objects as go\n",
        "\n",
        "from plotly_resampler import register_plotly_resampler, unregister_plotly_resampler\n",
        "\n",
        "pd.options.mode.chained_assignment = None\n",
        "\n",
        "import warnings\n",
        "warnings.filterwarnings('ignore')"
      ]
    },
    {
      "cell_type": "code",
      "execution_count": null,
      "metadata": {
        "id": "YVD9fJbgWB67"
      },
      "outputs": [],
      "source": [
        "register_plotly_resampler(mode=\"auto\", default_n_shown_samples=10000)"
      ]
    },
    {
      "cell_type": "code",
      "execution_count": null,
      "metadata": {
        "id": "jQzt3ffNWB68"
      },
      "outputs": [],
      "source": [
        "plot_layout = go.Layout(\n",
        "    autosize=False,\n",
        "    width=1000,\n",
        "    height=400,\n",
        "    # xaxis=go.layout.XAxis(linecolor=\"black\", linewidth=1, mirror=True),\n",
        "    # yaxis=go.layout.YAxis(linecolor=\"black\", linewidth=1, mirror=True),\n",
        "    margin=go.layout.Margin(l=50, r=50, b=10, t=40, pad=4),\n",
        "    showlegend = True\n",
        ")"
      ]
    },
    {
      "cell_type": "markdown",
      "metadata": {
        "id": "v18t6yI4WB68"
      },
      "source": [
        "Вспомогательные функции"
      ]
    },
    {
      "cell_type": "code",
      "execution_count": null,
      "metadata": {
        "id": "3lX2tSmPWB69"
      },
      "outputs": [],
      "source": [
        "def plot_graph():\n",
        "\n",
        "    params_dropdown = widgets.Dropdown(\n",
        "        options=data.columns,\n",
        "        description='Наименование сигнала',\n",
        "        disabled=False,\n",
        "        value=None\n",
        "    )\n",
        "\n",
        "    display(params_dropdown)\n",
        "    out = widgets.Output()\n",
        "    display(out)\n",
        "\n",
        "    fig = go.Figure(layout=plot_layout)\n",
        "\n",
        "    @out.capture()\n",
        "    def params_dropdown_eventhandler(change):\n",
        "\n",
        "        fig.add_traces(\n",
        "            [\n",
        "                {\"x\": data[change.new].index, \"y\": data[change.new].values, \"name\": change.new, \"type\": \"scattergl\"},\n",
        "            ],\n",
        "        )\n",
        "\n",
        "        clear_output()\n",
        "        display(fig)\n",
        "\n",
        "    params_dropdown.observe(params_dropdown_eventhandler, names='value')"
      ]
    },
    {
      "cell_type": "code",
      "execution_count": null,
      "metadata": {
        "id": "L1YxUPzpWB69"
      },
      "outputs": [],
      "source": [
        "def plot_graph_by_description():\n",
        "\n",
        "    params_dropdown = widgets.Dropdown(\n",
        "        options=description_to_kks.keys(),\n",
        "        description='Описание сигнала',\n",
        "        disabled=False,\n",
        "        value=None\n",
        "    )\n",
        "\n",
        "    display(params_dropdown)\n",
        "    out = widgets.Output()\n",
        "    display(out)\n",
        "\n",
        "    fig = go.Figure(layout=plot_layout)\n",
        "\n",
        "    @out.capture()\n",
        "    def params_dropdown_eventhandler(change):\n",
        "\n",
        "        kks = description_to_kks[change.new]\n",
        "        fig.add_traces(\n",
        "            [\n",
        "                {\"x\": data[kks].index, \"y\": data[kks].values, \"name\": kks, \"type\": \"scattergl\"},\n",
        "            ],\n",
        "        )\n",
        "\n",
        "        clear_output()\n",
        "        display(fig)\n",
        "\n",
        "    params_dropdown.observe(params_dropdown_eventhandler, names='value')"
      ]
    },
    {
      "cell_type": "code",
      "execution_count": null,
      "metadata": {
        "id": "zG8Kky0DWB6-"
      },
      "outputs": [],
      "source": [
        "def plot_graph_with_modes(binary_features):\n",
        "    # Виджет для выбора диапазона дат\n",
        "    slider_layout = widgets.Layout(width='800px')\n",
        "\n",
        "    date_range_slider = widgets.SelectionRangeSlider(\n",
        "        options=[(date.strftime('%Y-%m-%d'), date) for date in data.index],\n",
        "        index=(0, len(data.index) - 1),\n",
        "        description='Временной диапазон',\n",
        "        continuous_update=False,\n",
        "        layout=slider_layout\n",
        "    )\n",
        "\n",
        "    # Виджет для выбора числового признака\n",
        "    feature_selector = widgets.Dropdown(\n",
        "        options=data.columns,\n",
        "        value='GTA1.DBinPU.P',\n",
        "        description='Сигнал:',\n",
        "        style={'description_width': 'initial'}\n",
        "    )\n",
        "\n",
        "    # Виджет для выбора бинарных признаков\n",
        "    binary_selector = widgets.SelectMultiple(\n",
        "        options=binary_features,\n",
        "        value=binary_features,  # По умолчанию выбраны все бинарные признаки\n",
        "        description='Бинарные признаки:',\n",
        "        style={'description_width': 'initial'}\n",
        "    )\n",
        "\n",
        "    # Функция для обновления графиков\n",
        "    def update_plot(date_range, feature, binary_features):\n",
        "        start, end = date_range\n",
        "\n",
        "        # Создаем два графика, расположенных вертикально\n",
        "        fig, (ax1, ax2) = plt.subplots(2, 1, figsize=(10, 8), height_ratios=[2, 1])\n",
        "        mask = (data.index >= start) & (data.index <= end)\n",
        "\n",
        "        # Верхний график: основной признак\n",
        "        ax1.plot(\n",
        "            data.index[mask], data[feature][mask],\n",
        "            label=feature,\n",
        "            ls='-', marker='.',\n",
        "            # color='black',\n",
        "            # linewidth=2\n",
        "        )\n",
        "        ax1.set_ylabel(feature)\n",
        "        ax1.set_title(kks_to_description[feature])\n",
        "        ax1.grid(True, axis='both')  # Добавляем сетку на верхний график (горизонтальные и вертикальные линии)\n",
        "        ax1.set_xlim([start, end])\n",
        "        # ax1.legend(loc='upper right')\n",
        "\n",
        "        # Убираем метки оси X на верхнем графике\n",
        "        # ax1.set_xticks([])\n",
        "        ax1.set_xticklabels([])\n",
        "\n",
        "        # Нижний график: бинарные признаки\n",
        "        for binary_feature in binary_features:\n",
        "            ax2.fill_between(data.index[mask], 0, 1, where=data[binary_feature][mask] == 1, alpha=0.7, label=binary_feature)\n",
        "        ax2.set_ylabel('Режимы')\n",
        "        ax2.set_yticks([0, 1])\n",
        "        # ax2.set_title('Binary Features Over Time')\n",
        "        ax2.grid(True, axis='x')  # Добавляем только вертикальные линии сетки на нижний график\n",
        "        ax2.set_xlim([start, end])\n",
        "        ax2.legend(loc='upper center', bbox_to_anchor=(0.5, -0.2), ncol=4)\n",
        "\n",
        "        # Убираем расстояние между графиками\n",
        "        plt.subplots_adjust(hspace=0)\n",
        "\n",
        "        # Настройка общего вида\n",
        "        # plt.xticks(rotation=45)\n",
        "        plt.tight_layout()\n",
        "        plt.show()\n",
        "\n",
        "    # Виджет интерактивности\n",
        "    display(widgets.VBox([\n",
        "        date_range_slider,\n",
        "        feature_selector,\n",
        "        binary_selector,\n",
        "        widgets.interactive_output(update_plot, {\n",
        "            'date_range': date_range_slider,\n",
        "            'feature': feature_selector,\n",
        "            'binary_features': binary_selector\n",
        "        })\n",
        "    ]))"
      ]
    },
    {
      "cell_type": "code",
      "execution_count": null,
      "metadata": {
        "id": "AIamu7bTWB6-"
      },
      "outputs": [],
      "source": [
        "def search_signal():\n",
        "    search_input = widgets.Text(placeholder=\"Введите текст для поиска\")\n",
        "    output = widgets.Output()\n",
        "\n",
        "    def on_text_change(change):\n",
        "        with output:\n",
        "            output.clear_output()\n",
        "            query = change[\"new\"].lower()\n",
        "            filtered_items = [f'{item} - {description_to_kks[item]}' for item in description_to_kks.keys() if query in item.lower()]\n",
        "            display(filtered_items if filtered_items else \"Нет совпадений\")\n",
        "\n",
        "    search_input.observe(on_text_change, names='value')\n",
        "    display(search_input, output)\n"
      ]
    },
    {
      "cell_type": "markdown",
      "metadata": {
        "id": "9kVIDStuWB6_"
      },
      "source": [
        "### Загрузка данных"
      ]
    },
    {
      "cell_type": "code",
      "execution_count": null,
      "metadata": {
        "id": "9NyDCkAHWB6_"
      },
      "outputs": [],
      "source": [
        "# import gdown\n",
        "# url = \"https://drive.google.com/drive/folders/1RtrAevJUYSgTbp0YUztxEBB8_VcvjgGH?usp=drive_link\"\n",
        "# gdown.download_folder(url, quiet=True, verify=False)"
      ]
    },
    {
      "cell_type": "code",
      "execution_count": null,
      "metadata": {
        "id": "Fdp_D9doWB6_"
      },
      "outputs": [],
      "source": [
        "parquetFileList = glob.glob(f'./option_0/*.gzip')"
      ]
    },
    {
      "cell_type": "code",
      "execution_count": null,
      "metadata": {
        "id": "rGMlWgVdWB7A"
      },
      "outputs": [],
      "source": [
        "parquetFileList"
      ]
    },
    {
      "cell_type": "markdown",
      "metadata": {
        "id": "E1NX78QNWB7B"
      },
      "source": [
        "Читаем все файлы и объединяем их в общий DataFrame"
      ]
    },
    {
      "cell_type": "code",
      "execution_count": null,
      "metadata": {
        "id": "WIFkpTzvWB7B"
      },
      "outputs": [],
      "source": [
        "df_list = []\n",
        "\n",
        "for file in tqdm(parquetFileList):\n",
        "    df = pd.read_parquet(file)\n",
        "    df_list.append(df)\n",
        "\n",
        "data = pd.concat(df_list, axis=0).sort_index().ffill().drop_duplicates()\n",
        "data = data.dropna()"
      ]
    },
    {
      "cell_type": "code",
      "execution_count": null,
      "metadata": {
        "id": "tsfaMaZaWB7B"
      },
      "outputs": [],
      "source": [
        "print(f\"Размерность датасета: {data.shape[0]} строк и {data.shape[1]} столбцов\")"
      ]
    },
    {
      "cell_type": "code",
      "execution_count": null,
      "metadata": {
        "id": "cnucepkTWB7B"
      },
      "outputs": [],
      "source": [
        "data.head()"
      ]
    },
    {
      "cell_type": "markdown",
      "metadata": {
        "id": "Kg8qtGDlWB7C"
      },
      "source": [
        "Чтение файла с описанием сигналов"
      ]
    },
    {
      "cell_type": "code",
      "execution_count": null,
      "metadata": {
        "id": "KZ-PKhgVWB7C"
      },
      "outputs": [],
      "source": [
        "with open(f'./option_0/description.json', 'r', encoding = \"utf-8\") as f:\n",
        "    description = json.load(f)"
      ]
    },
    {
      "cell_type": "markdown",
      "metadata": {
        "id": "wdlCX_EOWB7C"
      },
      "source": [
        "Составим словарь для трактовки наименований сигналов"
      ]
    },
    {
      "cell_type": "code",
      "execution_count": null,
      "metadata": {
        "id": "fuRsvBQTWB7C"
      },
      "outputs": [],
      "source": [
        "kks_to_description = {param['real_kks']: f\"{param['description']}, [{param['unit']}]\"\n",
        "for param in description if param['real_kks'] in data.columns}\n",
        "\n",
        "description_to_kks = { f\"{param['description']}, [{param['unit']}]\": param['real_kks']\n",
        "for param in description if param['real_kks'] in data.columns}"
      ]
    },
    {
      "cell_type": "markdown",
      "metadata": {
        "id": "lYYcrRaCWB7C"
      },
      "source": [
        "### Разметка данных\n",
        "\n",
        "Создание размеченных наборов данных с неисправностями энергетического оборудования представляет значительные трудности на практике. Эти сложности связаны с несколькими ключевыми факторами:  \n",
        "\n",
        "1. **Редкость и однообразие аномальных данных**  \n",
        "Отказы и неисправности в энергетическом оборудовании происходят относительно редко, особенно если применяется качественное техническое обслуживание. Это приводит к тому, что в исторических данных аномальные события встречаются крайне нечасто. Кроме того, даже когда такие случаи фиксируются, их вариативность может быть низкой — одни и те же типы отказов, что затрудняет обучение модели на разнообразных сценариях.  \n",
        "\n",
        "2. **Ограниченное количество экспертов для разметки**  \n",
        "Разметка данных требует глубокого понимания физических процессов и механизмов отказов. Только высококвалифицированные специалисты могут достоверно определять, является ли наблюдаемое изменение параметров работы оборудования признаком неисправности или результатом штатного изменения режима. Однако число таких экспертов ограничено, а их время дорого, что существенно замедляет процесс разметки.  \n",
        "\n",
        "3. **Неоднозначность интерпретации данных**  \n",
        "В реальных условиях многие аномальные ситуации развиваются постепенно, а их проявления могут пересекаться с нормальными колебаниями параметров работы оборудования. Это приводит к субъективности в разметке данных: один эксперт может классифицировать ситуацию как предаварийную, в то время как другой посчитает её допустимой.  \n",
        "\n",
        "4. **Разнообразие оборудования и условий эксплуатации**  \n",
        "Даже одинаковые типы оборудования могут работать в разных условиях — климатических, нагрузочных, эксплуатационных. Это создаёт дополнительные сложности при разметке, так как одна и та же неисправность может проявляться по-разному в зависимости от контекста.  \n",
        "\n",
        "5. **Ограниченные архивные данные и их качество**  \n",
        "Важные данные о неисправностях часто отсутствуют или хранятся в неудобных для анализа форматах (бумажные журналы, неструктурированные отчёты). Кроме того, в архивных данных могут быть пропуски, ошибки измерений или некорректные временные метки, что затрудняет их использование в обучении моделей.  \n",
        "\n",
        "**Чтобы не упираться в ограничения связанные с отсутствием данных по неисправному состоянию агрегата, заменим задачу класификации дефектов на задачу класификации эксплуатационных режимов.**\n",
        "\n",
        "\n",
        "\n",
        "#### **Классы режимов для ГТУ:**\n",
        "* пусковой режим\n",
        "* режим останова\n",
        "* режим номинальной нагрузки\n",
        "* режим пониженной нагрузки\n",
        "* режим изменения нагрузки\n",
        "* система подогрева воздуха включена\n",
        "* остановленное состояние"
      ]
    },
    {
      "cell_type": "markdown",
      "metadata": {
        "id": "7VPNVXLZWB7D"
      },
      "source": [
        "### Классификация на основе правил\n",
        "\n",
        "Задача классификации эксплуатационных режимов может быть решена как с помощью машинного обучения, так и с помощью экспертных правил.  \n",
        "\n",
        "**Разработка математических моделей на основе экспертных знаний** – это методология, при которой модель строится не на основании больших массивов данных и машинного обучения, а на основе знаний экспертов и формализованных правил. Такой подход часто используется, когда:  \n",
        "\n",
        "1. **Недостаточно данных** – например, аварийные или нештатные режимы редки, и обучить нейросеть на таких примерах сложно.  \n",
        "2. **Высокие требования к интерпретируемости** – правила, основанные на экспертных знаниях, прозрачны и объяснимы, в отличие от \"черного ящика\" нейросетей.  \n",
        "3. **Доменная специфика** – эксперты могут использовать накопленный опыт для явного кодирования физических и логических зависимостей.  \n",
        "\n",
        "**Комбинированные подходы**  \n",
        "На практике часто сочетают оба метода. Например:  \n",
        "1. **Гибридная модель** – экспертные правила используются для предобработки данных и фильтрации аномалий, а затем применяется машинное обучение.  \n",
        "2. **Использование правил для объяснения решений модели** – например, после классификации нейросетью можно наложить интерпретируемые правила для проверки корректности."
      ]
    },
    {
      "cell_type": "markdown",
      "metadata": {
        "id": "2Snqtgl0WB7D"
      },
      "source": [
        "### Анализ и разметка данных"
      ]
    },
    {
      "cell_type": "code",
      "execution_count": null,
      "metadata": {
        "id": "hwvDnYdLjHOG"
      },
      "outputs": [],
      "source": [
        "from PIL import Image\n",
        "\n",
        "image = Image.open(\".\\option_0\\scheme.png\")\n",
        "display(image)"
      ]
    },
    {
      "cell_type": "markdown",
      "metadata": {
        "jp-MarkdownHeadingCollapsed": true,
        "id": "qN0K_fyyjHOH"
      },
      "source": [
        "#### **Дадим определение эксплуатационным режимам которые будем классифицировать**\n",
        "\n",
        "**Режим номинальной нагрузки**  \n",
        "Работа ГТУ в зоне максимальной электрической нагрузки согласно имеющимся архивным данным.\n",
        "\n",
        "**Режим пониженной нагрузки**  \n",
        "Работа ГТУ в границах регулировочного диапазона, при нагрузки ниже номинальной.\n",
        "\n",
        "**Режим увеличения / снижения нагрузки**  \n",
        "Изменение электрической нагрузки в границах регулировочного диапазон.\n",
        "\n",
        "**Режим пуска**  \n",
        "Начало - увеличение оборотов выше скорости вращения валоповоротного устройства.  \n",
        "Конец - увеличение электрической нагрузки выше нижней границы регулировочного диапазона.\n",
        "\n",
        "**Режим останова**  \n",
        "Начало - снижение электрической нагрузки ниже нижней границы регулировочного диапазона.  \n",
        "Конец - снижение оборотов до скорости вращения валоповоротного устройства или нуля.\n",
        "\n",
        "**Остановленное состояние**  \n",
        "Обороты ниже скорости вращения валоповоротного устройства или отсутствует подача топлива и не наблюдается снижение оборотов (выбег ротора завершен).\n",
        "\n",
        "**Режим подогрева воздуха**  \n",
        "Генератор синхронизирован с сетью, температура воздуха перед ГТУ выше температуры наружного воздуха, открыта задвижка защиты от обледенения (ЗЗО)."
      ]
    },
    {
      "cell_type": "markdown",
      "metadata": {
        "id": "SEqEql_DjHOH"
      },
      "source": [
        "#### **На основе каких сигналов можно определить класс эксплуатационного режима.**\n",
        "\n",
        "**Режим номинальной нагрузки:**\n",
        "- активная мощность генератора\n",
        "\n",
        "**Режим пониженной нагрузки:**\n",
        "- активная мощность генератора\n",
        "\n",
        "**Режим увеличения / снижения нагрузки:**\n",
        "- активная мощность генератора\n",
        "\n",
        "**Режим пуска / останова:**\n",
        "- активная мощность генератора\n",
        "- скорость вращения ротора силовой турбины (СТ)\n",
        "- скорость вращения ротора турбокомпрессора (ТК)\n",
        "- расход топлива\n",
        "- положение топливного клапана\n",
        "\n",
        "**Режим подогрева воздуха:**\n",
        "- температура наружного воздуха\n",
        "- температура воздуха перед компрессором\n",
        "- положение клапана подачи греющего воздуха"
      ]
    },
    {
      "cell_type": "code",
      "execution_count": null,
      "metadata": {
        "id": "DBOQz4aaWB7D"
      },
      "outputs": [],
      "source": [
        "plot_graph()"
      ]
    },
    {
      "cell_type": "code",
      "execution_count": null,
      "metadata": {
        "id": "6NThoAq4WB7D"
      },
      "outputs": [],
      "source": [
        "plot_graph_by_description()"
      ]
    },
    {
      "cell_type": "code",
      "execution_count": null,
      "metadata": {
        "id": "4WAHsLPhWB7D"
      },
      "outputs": [],
      "source": [
        "search_signal()"
      ]
    },
    {
      "cell_type": "markdown",
      "metadata": {
        "id": "ZOobtrdyWB7E"
      },
      "source": [
        "#### Выделим дополнительные признаки"
      ]
    },
    {
      "cell_type": "markdown",
      "metadata": {
        "id": "G_TK-d7FWB7E"
      },
      "source": [
        "силовая турбина вращается с номинальной скоростью"
      ]
    },
    {
      "cell_type": "code",
      "execution_count": null,
      "metadata": {
        "id": "YeNVyECcWB7E"
      },
      "outputs": [],
      "source": [
        "# data['full_speed'] = ..."
      ]
    },
    {
      "cell_type": "markdown",
      "metadata": {
        "id": "kO1K6T4VWB7E"
      },
      "source": [
        "генератор синхронизирован с сетью"
      ]
    },
    {
      "cell_type": "code",
      "execution_count": null,
      "metadata": {
        "id": "hjvky-6tWB7E"
      },
      "outputs": [],
      "source": [
        "# data['gen_synch'] = ..."
      ]
    },
    {
      "cell_type": "markdown",
      "metadata": {
        "id": "P6vjILGgWB7E"
      },
      "source": [
        "номинальная нагрузка"
      ]
    },
    {
      "cell_type": "code",
      "execution_count": null,
      "metadata": {
        "id": "6vF2J9qqWB7F"
      },
      "outputs": [],
      "source": [
        "# data['power_full'] = ..."
      ]
    },
    {
      "cell_type": "markdown",
      "metadata": {
        "id": "LIy-mRGnWB7F"
      },
      "source": [
        "среднее изменение мощности за 1 мин"
      ]
    },
    {
      "cell_type": "code",
      "execution_count": null,
      "metadata": {
        "id": "4GgGr9yFWB7F"
      },
      "outputs": [],
      "source": [
        "# data['diff_P'] = ..."
      ]
    },
    {
      "cell_type": "markdown",
      "metadata": {
        "id": "JVMZw4eRWB7K"
      },
      "source": [
        "увеличение мощности / снижение мощности"
      ]
    },
    {
      "cell_type": "code",
      "execution_count": null,
      "metadata": {
        "id": "bRefe7ZbWB7K"
      },
      "outputs": [],
      "source": [
        "# data['increase_power'] = ...\n",
        "# data['decrease_power'] = ..."
      ]
    },
    {
      "cell_type": "markdown",
      "metadata": {
        "id": "TZbWpg9hWB7K"
      },
      "source": [
        "регулировочный диапазон электрической нагрузки"
      ]
    },
    {
      "cell_type": "code",
      "execution_count": null,
      "metadata": {
        "id": "yw7UGE-nWB7K"
      },
      "outputs": [],
      "source": [
        "# data['adjustment_range'] = ..."
      ]
    },
    {
      "cell_type": "markdown",
      "metadata": {
        "id": "yawg93UEWB7L"
      },
      "source": [
        "средняя скорость изменения оборотов силовой турбины"
      ]
    },
    {
      "cell_type": "code",
      "execution_count": null,
      "metadata": {
        "id": "-OyKTK_wWB7L"
      },
      "outputs": [],
      "source": [
        "# data['diff_nst'] = ..."
      ]
    },
    {
      "cell_type": "markdown",
      "metadata": {
        "id": "rXZeNO-IWB7L"
      },
      "source": [
        "увеличение / снижение скорости вращения силовой турбины"
      ]
    },
    {
      "cell_type": "code",
      "execution_count": null,
      "metadata": {
        "id": "bsNfkL7kWB7L"
      },
      "outputs": [],
      "source": [
        "# data['increase_nst'] = ...\n",
        "# data['decrease_nst'] = ..."
      ]
    },
    {
      "cell_type": "markdown",
      "metadata": {
        "id": "WniwE5WQWB7L"
      },
      "source": [
        "изменение скорости вращения турбокомпрессора"
      ]
    },
    {
      "cell_type": "code",
      "execution_count": null,
      "metadata": {
        "id": "DOeiQAtDWB7L"
      },
      "outputs": [],
      "source": [
        "# data['diff_ntk'] = ..."
      ]
    },
    {
      "cell_type": "markdown",
      "metadata": {
        "id": "dVjfebJqWB7M"
      },
      "source": [
        "увеличение / снижение скорости вращения турбокомпрессора"
      ]
    },
    {
      "cell_type": "code",
      "execution_count": null,
      "metadata": {
        "id": "cTrDws-WWB7M"
      },
      "outputs": [],
      "source": [
        "# data['increase_ntk'] = ...\n",
        "# data['decrease_ntk'] = ..."
      ]
    },
    {
      "cell_type": "markdown",
      "metadata": {
        "id": "cqWmJGAvWB7M"
      },
      "source": [
        "нет подачи топлива"
      ]
    },
    {
      "cell_type": "code",
      "execution_count": null,
      "metadata": {
        "id": "rS8QMj69WB7M"
      },
      "outputs": [],
      "source": [
        "# data['fuel_off'] = ..."
      ]
    },
    {
      "cell_type": "markdown",
      "metadata": {
        "id": "jRHvsFHxi_0R"
      },
      "source": [
        "разница между температурой воздуха перед ГТД и температурой наружного воздуха"
      ]
    },
    {
      "cell_type": "code",
      "execution_count": null,
      "metadata": {
        "id": "KhlCri07i_0R"
      },
      "outputs": [],
      "source": [
        "# data['diff_Tin'] = ..."
      ]
    },
    {
      "cell_type": "markdown",
      "metadata": {
        "id": "vBBAn4n4i_0R"
      },
      "source": [
        "наблюдается нагрев воздуха"
      ]
    },
    {
      "cell_type": "code",
      "execution_count": null,
      "metadata": {
        "id": "FV9qi6YJi_0S"
      },
      "outputs": [],
      "source": [
        "# data['heated_air'] = ..."
      ]
    },
    {
      "cell_type": "markdown",
      "metadata": {
        "id": "EjyW0rjMi_0S"
      },
      "source": [
        "ЗЗО открыт"
      ]
    },
    {
      "cell_type": "code",
      "execution_count": null,
      "metadata": {
        "id": "JxrwcIG2i_0S"
      },
      "outputs": [],
      "source": [
        "# data['zzo_is_open'] = ..."
      ]
    },
    {
      "cell_type": "markdown",
      "metadata": {
        "id": "pVww4fYKWB7M"
      },
      "source": [
        "#### Классифицируем режимы"
      ]
    },
    {
      "cell_type": "markdown",
      "metadata": {
        "id": "O_tPUoXti_0S"
      },
      "source": [
        "режим номинальной нагрузки"
      ]
    },
    {
      "cell_type": "code",
      "execution_count": null,
      "metadata": {
        "id": "CCCaW1-SWB7N"
      },
      "outputs": [],
      "source": [
        "data[\"full_power_mode\"] = False"
      ]
    },
    {
      "cell_type": "markdown",
      "metadata": {
        "id": "eughLJRQi_0T"
      },
      "source": [
        "режим не полной нагрузки"
      ]
    },
    {
      "cell_type": "code",
      "execution_count": null,
      "metadata": {
        "id": "42hJiEXJWB7N"
      },
      "outputs": [],
      "source": [
        "data[\"partial_power_mode\"] = False"
      ]
    },
    {
      "cell_type": "markdown",
      "metadata": {
        "id": "Q8PJFeMXi_0T"
      },
      "source": [
        "режим увеличения нагрузки"
      ]
    },
    {
      "cell_type": "code",
      "execution_count": null,
      "metadata": {
        "id": "_pcYY-wVWB7N"
      },
      "outputs": [],
      "source": [
        "data[\"increas_power_mode\"] = False"
      ]
    },
    {
      "cell_type": "markdown",
      "metadata": {
        "id": "crDEEe7hi_0U"
      },
      "source": [
        "режим снижения нагрузки"
      ]
    },
    {
      "cell_type": "code",
      "execution_count": null,
      "metadata": {
        "id": "Zj3bwfI5WB7N"
      },
      "outputs": [],
      "source": [
        "data[\"decreas_power_mode\"] = False"
      ]
    },
    {
      "cell_type": "markdown",
      "metadata": {
        "id": "bwnZkWS1i_0U"
      },
      "source": [
        "режим пуска"
      ]
    },
    {
      "cell_type": "code",
      "execution_count": null,
      "metadata": {
        "id": "iTxKNErBWB7N"
      },
      "outputs": [],
      "source": [
        "data[\"start_up_mode\"] = False"
      ]
    },
    {
      "cell_type": "markdown",
      "metadata": {
        "id": "JiFtivqZi_0V"
      },
      "source": [
        "режим останова"
      ]
    },
    {
      "cell_type": "code",
      "execution_count": null,
      "metadata": {
        "id": "dDGn9XCUWB7O"
      },
      "outputs": [],
      "source": [
        "data[\"shutdown_mode\"] = False"
      ]
    },
    {
      "cell_type": "markdown",
      "metadata": {
        "id": "kb3befihi_0W"
      },
      "source": [
        "остановленное состояние"
      ]
    },
    {
      "cell_type": "code",
      "execution_count": null,
      "metadata": {
        "id": "MPsssdF4WB7O"
      },
      "outputs": [],
      "source": [
        "data[\"stopped_state_mode\"] = False"
      ]
    },
    {
      "cell_type": "markdown",
      "metadata": {
        "id": "g6ibIXg5i_0W"
      },
      "source": [
        "режим подогрева воздуха"
      ]
    },
    {
      "cell_type": "code",
      "execution_count": null,
      "metadata": {
        "id": "DRuQM3Fci_0W"
      },
      "outputs": [],
      "source": [
        "data[\"air_heating_mode\"] = False"
      ]
    },
    {
      "cell_type": "markdown",
      "metadata": {
        "id": "uGvaBIz1WB7O"
      },
      "source": [
        "### Визуализация разметки"
      ]
    },
    {
      "cell_type": "code",
      "execution_count": null,
      "metadata": {
        "id": "ZyhS7hcJWB7O"
      },
      "outputs": [],
      "source": [
        "plot_graph_with_modes([\n",
        "    \"full_power_mode\", \"partial_power_mode\", \"increas_power_mode\", \"decreas_power_mode\",\n",
        "    \"start_up_mode\", \"shutdown_mode\", \"stopped_state_mode\", \"air_heating_mode\"])"
      ]
    },
    {
      "cell_type": "markdown",
      "metadata": {
        "id": "BOn7GY64WB7P"
      },
      "source": [
        "### Сохранение подготовленных данных"
      ]
    },
    {
      "cell_type": "code",
      "execution_count": null,
      "metadata": {
        "id": "IzweAa9rWB7P"
      },
      "outputs": [],
      "source": [
        "df.to_parquet(\"data_modes.gzip\", compression='gzip')"
      ]
    },
    {
      "cell_type": "code",
      "execution_count": null,
      "metadata": {
        "id": "xiRKEA4uWB7Q"
      },
      "outputs": [],
      "source": []
    }
  ],
  "metadata": {
    "colab": {
      "provenance": [],
      "include_colab_link": true
    },
    "kernelspec": {
      "display_name": "Python 3 (ipykernel)",
      "language": "python",
      "name": "python3"
    },
    "language_info": {
      "codemirror_mode": {
        "name": "ipython",
        "version": 3
      },
      "file_extension": ".py",
      "mimetype": "text/x-python",
      "name": "python",
      "nbconvert_exporter": "python",
      "pygments_lexer": "ipython3",
      "version": "3.12.4"
    }
  },
  "nbformat": 4,
  "nbformat_minor": 0
}