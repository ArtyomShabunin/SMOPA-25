{
  "nbformat": 4,
  "nbformat_minor": 0,
  "metadata": {
    "colab": {
      "provenance": [],
      "toc_visible": true,
      "authorship_tag": "ABX9TyO6iawEpiUyLMVNFXne3LaL",
      "include_colab_link": true
    },
    "kernelspec": {
      "name": "python3",
      "display_name": "Python 3"
    },
    "language_info": {
      "name": "python"
    }
  },
  "cells": [
    {
      "cell_type": "markdown",
      "metadata": {
        "id": "view-in-github",
        "colab_type": "text"
      },
      "source": [
        "<a href=\"https://colab.research.google.com/github/ArtyomShabunin/SMOPA-25/blob/main/lesson_12.ipynb\" target=\"_parent\"><img src=\"https://colab.research.google.com/assets/colab-badge.svg\" alt=\"Open In Colab\"/></a>"
      ]
    },
    {
      "cell_type": "markdown",
      "source": [
        "<img src=\"https://prana-system.com/files/110/rds_color_full.png\" alt=\"tot image\" width=\"300\"  align=\"center\"/> &nbsp;&nbsp;&nbsp;&nbsp;&nbsp;&nbsp;&nbsp;&nbsp;\n",
        "<img src=\"https://mpei.ru/AboutUniverse/OficialInfo/Attributes/PublishingImages/logo1.jpg\" alt=\"mpei image\" width=\"200\" align=\"center\"/>\n",
        "<img src=\"https://mpei.ru/Structure/Universe/tanpe/structure/tfhe/PublishingImages/tot.png\" alt=\"tot image\" width=\"100\"  align=\"center\"/>\n",
        "\n",
        "---\n",
        "\n",
        "# **Системы машинного обучения и предиктивной аналитики в тепловой и возобновляемой энергетике**  \n",
        "\n",
        "# ***Практические занятия***\n",
        "\n",
        "\n",
        "---"
      ],
      "metadata": {
        "id": "kiamhZGqKxBw"
      }
    },
    {
      "cell_type": "markdown",
      "source": [
        "# Занятие №12\n",
        "# Разбор задач\n",
        "# Pandas\n",
        "**7 мая 2025г.**"
      ],
      "metadata": {
        "id": "2JJWx_ijK6al"
      }
    },
    {
      "cell_type": "markdown",
      "source": [
        "## Очистка и фильтрация данных"
      ],
      "metadata": {
        "id": "YuF215QmiRqs"
      }
    },
    {
      "cell_type": "markdown",
      "source": [
        "---\n",
        "### Задача №1\n",
        "#### Условие\n",
        "В предоставленном наборе наборе данных по дефектам ГТУ, среди признаков есть поправки на КПД компрессора, турбины газогенератора и силовой (свободной) турбины (gta6pm.k_Eta_compr, gta6pm.k_Eta_ggt, gta6pm.k_Eta_pt), также в данных содержится признак мощность ГТУ и температура наружного воздуха в градусах Кельвина (controller.sensors.P, system.Tamb). Определить количество строк данных где поправка на КПД компрессора ниже среднеарифметического значения, мощность ГТУ находится в диапазоне 90% от максимального значения и выше, а температура наружного воздуха ниже -10 градусов Цельсия. Задачу решить путем заполнения предоставленного шаблона."
      ],
      "metadata": {
        "id": "4ADTJkdILTdD"
      }
    },
    {
      "cell_type": "code",
      "source": [
        "import pandas as pd\n",
        "import gdown\n",
        "import warnings\n",
        "\n",
        "# Отключение предупреждений\n",
        "warnings.filterwarnings('ignore')\n",
        "\n",
        "# Ссылки на файлы\n",
        "file_urls = {\n",
        "    \"clear_data.csv\": \"https://drive.google.com/uc?id=1n1ioc6cbvu4EguldOXsRz7PdEilGItc7\",\n",
        "    \"clear_data_2.csv\": \"https://drive.google.com/uc?id=1n2bZPKm96Rt84BYYNISzU3H8fqNwUyr1\"\n",
        "}\n",
        "\n",
        "# Загрузка файлов\n",
        "for filename, url in file_urls.items():\n",
        "    gdown.download(url, output=filename, quiet=False, verify=False)\n",
        "\n",
        "# Загрузка и объединение данных\n",
        "df_list = [pd.read_csv(fname, index_col=0) for fname in file_urls]\n",
        "df = pd.concat(df_list, ignore_index=True)"
      ],
      "metadata": {
        "id": "nwopt0TdL5Pu"
      },
      "execution_count": null,
      "outputs": []
    },
    {
      "cell_type": "markdown",
      "source": [
        "#### Решение"
      ],
      "metadata": {
        "id": "KTasYXHwbxx_"
      }
    },
    {
      "cell_type": "code",
      "source": [
        "# Рассчитаем признаки, которые соответствуют указанным критериям\n",
        "df['low_compr_eff'] = ...\n",
        "df['high_power'] = ...\n",
        "df['tamb_cond'] = ...\n",
        "\n",
        "# Определим число строк, которые удовлетворяют указанным критериям\n",
        "n_rows = ...\n",
        "\n",
        "# Результат\n",
        "print(f\"Ответ: {n_rows} строк\")"
      ],
      "metadata": {
        "id": "KIe_0N37V0AA"
      },
      "execution_count": null,
      "outputs": []
    },
    {
      "cell_type": "markdown",
      "source": [
        "---\n",
        "### Задача №2\n",
        "#### Условие\n",
        "Дан фрагмент `DataFrame` со значениями параметраметров давления, температуры и тока. Сделать три копии данного `DataFrame`. В первой копии удалите строки, в которых хотя бы один из этих параметров отсутствует (`NaN`). Во второй копии заполните все пропуски предыдущим значением. В третьей копии заполните все пропуски средним значением по столбцу."
      ],
      "metadata": {
        "id": "MRBpRku3KZkL"
      }
    },
    {
      "cell_type": "code",
      "source": [
        "import pandas as pd\n",
        "import numpy as np\n",
        "\n",
        "np.random.seed(0)\n",
        "\n",
        "df = pd.DataFrame({\n",
        "    'timestamp': pd.date_range('2024-01-01', periods=10, freq='h'),\n",
        "    'pressure': np.random.uniform(3, 9, size=10),\n",
        "    'temperature': np.random.uniform(100, 600, size=10),\n",
        "    'current': np.random.uniform(10, 300, size=10)\n",
        "})\n",
        "\n",
        "df.loc[3, 'temperature'] = np.nan\n",
        "df.loc[6, 'pressure'] = np.nan\n",
        "df.loc[8, 'current'] = np.nan"
      ],
      "metadata": {
        "id": "j4Caxp9Wnz3X"
      },
      "execution_count": null,
      "outputs": []
    },
    {
      "cell_type": "markdown",
      "source": [
        "#### Решение"
      ],
      "metadata": {
        "id": "qj3FBRvmNDAe"
      }
    },
    {
      "cell_type": "code",
      "source": [
        "print(df)\n",
        "\n",
        "# Создаем копии\n",
        "df_cleaned = ...\n",
        "df_filled_prev = ...\n",
        "df_filled_mean = ...\n",
        "\n",
        "# Работаем с пропущенными значениями в соответствии с условием задачи\n",
        "df_cleaned = ...\n",
        "df_filled_prev = ...\n",
        "df_filled_mean = ...\n",
        "\n",
        "# Результат\n",
        "print(df_cleaned)\n",
        "print()\n",
        "print(df_filled_prev)\n",
        "print()\n",
        "print(df_filled_mean)"
      ],
      "metadata": {
        "id": "PeRV-wbenz5t"
      },
      "execution_count": null,
      "outputs": []
    },
    {
      "cell_type": "markdown",
      "source": [
        "---\n",
        "### Задача №3\n",
        "#### Условие\n",
        "Удалите выбросы из колонки параметра `temperature`, если значение выходит за пределы ±3 стандартных отклонений от среднего. Сколько значений было удалено?"
      ],
      "metadata": {
        "id": "FjVFUjFAWIcN"
      }
    },
    {
      "cell_type": "code",
      "source": [
        "import pandas as pd\n",
        "import numpy as np\n",
        "\n",
        "np.random.seed(1)\n",
        "\n",
        "df = pd.DataFrame({\n",
        "    'temperature': np.append(np.random.normal(500, 10, 98), [700, 720])  # выбросы\n",
        "})"
      ],
      "metadata": {
        "id": "xPzHwvZSWE7W"
      },
      "execution_count": null,
      "outputs": []
    },
    {
      "cell_type": "markdown",
      "source": [
        "#### Решение"
      ],
      "metadata": {
        "id": "bzIQhOB3WKmR"
      }
    },
    {
      "cell_type": "code",
      "source": [
        "# Рассчитаем среднее и стандартное отклонение\n",
        "mean = ...\n",
        "std = ...\n",
        "\n",
        "# Очистим df от значений которые выходят за указанные границы\n",
        "df_cleaned = ...\n",
        "\n",
        "# Результат\n",
        "print(f\"Удалено {len(df) - len(df_cleaned)} значений\")"
      ],
      "metadata": {
        "id": "tCq1uqY2X5X6"
      },
      "execution_count": null,
      "outputs": []
    },
    {
      "cell_type": "markdown",
      "source": [
        "---\n",
        "### Задача №4\n",
        "#### Условие\n",
        "Удалите строки, где:\n",
        "- давление не в диапазоне 2–10 бар;\n",
        "- температура не в диапазоне 50–650 °C;\n",
        "- ток не в диапазоне 0–500 A.  \n",
        "\n",
        "Сколько строк с аномальными данными удалено?"
      ],
      "metadata": {
        "id": "Fw1T68eYaUy4"
      }
    },
    {
      "cell_type": "code",
      "source": [
        "import pandas as pd\n",
        "import numpy as np\n",
        "\n",
        "np.random.seed(42)\n",
        "n = 100\n",
        "\n",
        "df = pd.DataFrame({\n",
        "    'pressure': np.random.uniform(3.0, 9.0, size=n),\n",
        "    'temperature': np.random.uniform(100, 600, size=n),\n",
        "    'current': np.random.uniform(50, 400, size=n)\n",
        "})\n",
        "\n",
        "n_anom = int(0.05 * n)\n",
        "\n",
        "pressure_anomalies = np.random.choice(df.index, n_anom, replace=False)\n",
        "df.loc[pressure_anomalies, 'pressure'] = np.random.choice([0.5, 15.0], size=n_anom)\n",
        "\n",
        "temperature_anomalies = np.random.choice(df.index, n_anom, replace=False)\n",
        "df.loc[temperature_anomalies, 'temperature'] = np.random.choice([30, 700], size=n_anom)\n",
        "\n",
        "current_anomalies = np.random.choice(df.index, n_anom, replace=False)\n",
        "df.loc[current_anomalies, 'current'] = np.random.choice([-20, 600], size=n_anom)"
      ],
      "metadata": {
        "id": "NXJACZyTX5dZ"
      },
      "execution_count": null,
      "outputs": []
    },
    {
      "cell_type": "markdown",
      "source": [
        "#### Решение"
      ],
      "metadata": {
        "id": "r1FwYWkia4BM"
      }
    },
    {
      "cell_type": "code",
      "source": [
        "# Рассчитаем признаки, которые соответствуют указанным критериям\n",
        "pressure_in_range = ...\n",
        "temperature_in_range = ...\n",
        "current_in_range = ...\n",
        "\n",
        "# Очистим df от значений которые не удовлетворяют заданным критериям\n",
        "df_cleaned = ...\n",
        "\n",
        "# Результат\n",
        "print(f\"Удалено {len(df) - len(df_cleaned)} строк\")"
      ],
      "metadata": {
        "id": "TnW3_KtMa3jz"
      },
      "execution_count": null,
      "outputs": []
    },
    {
      "cell_type": "markdown",
      "source": [
        "---\n",
        "### Задача №5\n",
        "#### Условие\n",
        "Удалите фрагменты, где параметр `power` не менялся более 10 минут подряд (при частоте 1 минута)."
      ],
      "metadata": {
        "id": "QePzi0SFer1D"
      }
    },
    {
      "cell_type": "code",
      "source": [
        "import pandas as pd\n",
        "\n",
        "df = pd.DataFrame({\n",
        "    'timestamp': pd.date_range('2024-01-01', periods=30, freq='min'),\n",
        "    'power': [100]*5 + [101]*5 + [102]*5 + [105]*15\n",
        "})"
      ],
      "metadata": {
        "id": "iW0q0_mdX5h4"
      },
      "execution_count": null,
      "outputs": []
    },
    {
      "cell_type": "markdown",
      "source": [
        "#### Решение"
      ],
      "metadata": {
        "id": "jPeijWqzfM3K"
      }
    },
    {
      "cell_type": "code",
      "source": [
        "# Рассчитаем изменение мощности\n",
        "df['power_diff'] = ...\n",
        "\n",
        "# Определим где изменение мощности не превышает 1e-3 (\"замороженность\")\n",
        "df['frozen'] = ...\n",
        "\n",
        "# Создаётся столбец group, где каждый непрерывный участок одинакового значения frozen получает уникальный номер\n",
        "df['group'] = (df['frozen'] != df['frozen'].shift()).cumsum()\n",
        "# Для каждой строки указывается длина её группы (кол-во строк, где frozen=True, в этом сегменте)\n",
        "group_lengths = df.groupby('group')['frozen'].transform('sum')\n",
        "\n",
        "# Оставляем только те строки, которые либо не заморожены, либо заморожены менее чем на 10 минут\n",
        "df_cleaned = ...\n",
        "\n",
        "# Результат\n",
        "print(df)\n",
        "print()\n",
        "print(df_cleaned)"
      ],
      "metadata": {
        "id": "Bkz3L9CqYieQ"
      },
      "execution_count": null,
      "outputs": []
    },
    {
      "cell_type": "markdown",
      "source": [
        "---\n",
        "### Задача №6\n",
        "#### Условие\n",
        "Восстановите до 3 подряд идущих `NaN` в `temperature` с помощью интерполяции. Если пропусков подряд больше — удалите их."
      ],
      "metadata": {
        "id": "bblmhnYogXX_"
      }
    },
    {
      "cell_type": "code",
      "source": [
        "import pandas as pd\n",
        "import numpy as np\n",
        "\n",
        "df = pd.DataFrame({\n",
        "    'timestamp': pd.date_range('2024-01-01', periods=12, freq='h'),\n",
        "    'temperature': [100, 102, np.nan, 104, np.nan, np.nan, 108, np.nan, np.nan, np.nan, np.nan, 112]\n",
        "})\n",
        "df.set_index('timestamp', inplace=True)"
      ],
      "metadata": {
        "id": "FXNoT5iqdPOu"
      },
      "execution_count": null,
      "outputs": []
    },
    {
      "cell_type": "markdown",
      "source": [
        "#### Решение"
      ],
      "metadata": {
        "id": "E4KEPlz6hsjI"
      }
    },
    {
      "cell_type": "code",
      "source": [
        "# Определим пропуски в данных\n",
        "is_nan = ...\n",
        "\n",
        "# Каждому непрерывному участку (NaN или не-NaN) присваивается уникальный номер\n",
        "group = (is_nan != is_nan.shift()).cumsum()\n",
        "# Для каждого элемента возвращается длина группы, в которую он входит, по количеству NaN.\n",
        "nan_lengths = df.groupby(group)['temperature'].transform(lambda x: x.isna().sum())\n",
        "\n",
        "# Удаляем длинные пропуски\n",
        "df_cleaned = ...\n",
        "\n",
        "# Интерполируем оставшиеся пропуски\n",
        "df_cleaned['temperature'] = ...\n",
        "\n",
        "# Результат\n",
        "print(df)\n",
        "print()\n",
        "print(df_cleaned)"
      ],
      "metadata": {
        "id": "FzMmnJp-dPWp"
      },
      "execution_count": null,
      "outputs": []
    },
    {
      "cell_type": "markdown",
      "source": [
        "## Объединение и агрегирование данных"
      ],
      "metadata": {
        "id": "67JzIZobi4W0"
      }
    },
    {
      "cell_type": "markdown",
      "source": [
        "---\n",
        "### Задача №7\n",
        "#### Условие\n",
        "Дано два временных ряда, со значениями сигнала мощности и температуры. Временные ряды имеют разную дискретность. Объединить данные в один DataFrame, с дискретностью 10 мин, выполнить агрегацию сигнала дискретность которого меньше 10 мин среднеарифметическим значением. На одном графике построить значения обоих сигналов после объединения и агрегации."
      ],
      "metadata": {
        "id": "1hS-FrNpn0qA"
      }
    },
    {
      "cell_type": "code",
      "source": [
        "import pandas as pd\n",
        "import numpy as np\n",
        "\n",
        "np.random.seed(0)\n",
        "\n",
        "# Создание временной шкалы\n",
        "time_base = pd.date_range(\"2024-01-01 00:00\", periods=120, freq=\"1min\")  # 2 часа\n",
        "\n",
        "# Сигнал мощности (каждую минуту)\n",
        "power_data = pd.DataFrame({\n",
        "    'timestamp': time_base,\n",
        "    'power': np.random.normal(loc=100, scale=5, size=len(time_base))\n",
        "})\n",
        "\n",
        "# Сигнал температуры (раз в 10 минут)\n",
        "temp_time = pd.date_range(\"2024-01-01 00:00\", periods=12, freq=\"10min\")\n",
        "temperature_data = pd.DataFrame({\n",
        "    'timestamp': temp_time,\n",
        "    'temperature': np.linspace(50, 80, num=len(temp_time))  # Простой рост\n",
        "})"
      ],
      "metadata": {
        "id": "cIyKAADAnzpU"
      },
      "execution_count": null,
      "outputs": []
    },
    {
      "cell_type": "markdown",
      "source": [
        "#### Решение"
      ],
      "metadata": {
        "id": "X5Iiq1iXn4pZ"
      }
    },
    {
      "cell_type": "code",
      "source": [
        "import matplotlib.pyplot as plt\n",
        "\n",
        "# Присваиваем индексам dataframe значения колонки timestamp и удаляем колонку\n",
        "power_data.index = ...\n",
        "...\n",
        "\n",
        "temperature_data.index = ...\n",
        "...\n",
        "\n",
        "# Объединяем power_data и temperature_data, и приводим итоговый dataframe к заданной дискретности\n",
        "df = ...\n",
        "df = ...\n",
        "\n",
        "# Результат\n",
        "df.plot()\n",
        "plt.show()"
      ],
      "metadata": {
        "id": "EN18fKbRnzrp"
      },
      "execution_count": null,
      "outputs": []
    },
    {
      "cell_type": "markdown",
      "source": [
        "---\n",
        "### Задача №8\n",
        "#### Условие\n",
        "Имеется архив телеметрии с параметром `power`, зарегистрированным каждые 10 минут. Постройте средний суточный профиль мощности — усреднённое значение мощности для каждого часа суток. Результатом расчета должен быть объект типа `Series` содержащий 24 значения (для каждого часа суток), каждое значение - средняя можность за этот час на основе нескольких дней наблюдений."
      ],
      "metadata": {
        "id": "6ZEd83whms0M"
      }
    },
    {
      "cell_type": "code",
      "source": [
        "import pandas as pd\n",
        "import numpy as np\n",
        "\n",
        "np.random.seed(0)\n",
        "\n",
        "date_range = pd.date_range(\"2024-01-01\", periods=7*24*6, freq=\"10min\")  # 7 дней, каждые 10 минут\n",
        "df = pd.DataFrame({\n",
        "    'timestamp': date_range,\n",
        "    'power': np.random.normal(100, 10, len(date_range))\n",
        "})\n",
        "df.set_index('timestamp', inplace=True)"
      ],
      "metadata": {
        "id": "Pn67qVWKmwjS"
      },
      "execution_count": null,
      "outputs": []
    },
    {
      "cell_type": "markdown",
      "source": [
        "#### Решение"
      ],
      "metadata": {
        "id": "npitfQk_sO8p"
      }
    },
    {
      "cell_type": "code",
      "source": [
        "# Добавляем колонку значением которой является час суток\n",
        "df['hour'] = ...\n",
        "\n",
        "# Группируем мощность по часам и рассчитываем среднее значение\n",
        "hourly_profile = ...\n",
        "\n",
        "# Результат\n",
        "print(hourly_profile)"
      ],
      "metadata": {
        "id": "-PvAl0Zomwm5"
      },
      "execution_count": null,
      "outputs": []
    },
    {
      "cell_type": "markdown",
      "source": [
        "## Добавление непрерывных признаков"
      ],
      "metadata": {
        "id": "UdwoLEgyjye_"
      }
    },
    {
      "cell_type": "markdown",
      "source": [
        "---\n",
        "### Задача №9\n",
        "#### Условие\n",
        "\n",
        "Дан DataFrame с признаками: pressure (давление), temperature (температура), power (мощность). Необходимо на основе имеющихся создать новые признаки: отставание (лаг) температуры на 1 мин, отставание (лаг) давления на 5 мин, среднеарифметическое значение мощности с окном 5 мин, среднеарифметическое значение температуры с окном 10 мин, стандартное отклонение давления с окном 10 мин."
      ],
      "metadata": {
        "id": "MaUsQg_Wx4n0"
      }
    },
    {
      "cell_type": "code",
      "source": [
        "import pandas as pd\n",
        "import numpy as np\n",
        "\n",
        "np.random.seed(0)\n",
        "\n",
        "# Создание временной шкалы с шагом 1 минута (2 часа)\n",
        "time_index = pd.date_range(\"2024-01-01 00:00\", periods=120, freq=\"1min\")\n",
        "\n",
        "# Сигналы телеметрии: давление, температура, мощность\n",
        "df = pd.DataFrame({\n",
        "    'timestamp': time_index,\n",
        "    'pressure': np.random.normal(5, 0.3, size=120),\n",
        "    'temperature': np.random.normal(70, 2, size=120),\n",
        "    'power': np.random.normal(100, 5, size=120)\n",
        "})\n",
        "\n",
        "# Установка временного индекса\n",
        "df.set_index('timestamp', inplace=True)"
      ],
      "metadata": {
        "id": "IbDCAe-DuNEP"
      },
      "execution_count": null,
      "outputs": []
    },
    {
      "cell_type": "markdown",
      "source": [
        "#### Решение"
      ],
      "metadata": {
        "id": "MAvIzwieycPH"
      }
    },
    {
      "cell_type": "code",
      "source": [
        "# Создание лагов\n",
        "df['temperature_lag_1min'] = ...\n",
        "df['pressure_lag_5min'] = ...\n",
        "\n",
        "# Скользящие средние\n",
        "df['power_mean_5min'] = ...\n",
        "df['temperature_mean_10min'] = ...\n",
        "\n",
        "# Скользящее стандартное отклонение\n",
        "df['pressure_std_10min'] = ...\n",
        "\n",
        "# Результат\n",
        "df.head(12)"
      ],
      "metadata": {
        "id": "VJiQhZ0wuNOs"
      },
      "execution_count": null,
      "outputs": []
    },
    {
      "cell_type": "markdown",
      "source": [
        "---\n",
        "### Задача №10\n",
        "#### Условие\n",
        "Дано: тепловая мощность топлива (`fuel_heat_input`, МВт) и электрическая мощность (`electric_power`, МВт). Расчитайте **электрический КПД** установки:  \n",
        "$$\n",
        "\\text{η}_{\\text{эл}} = \\frac{\\text{electric power}}{\\text{fuel heat input}} \\cdot 100\\%\n",
        "$$\n",
        "\n",
        "Чему равно максмальное значение электрического КПД?"
      ],
      "metadata": {
        "id": "Oz46Cybf1EnR"
      }
    },
    {
      "cell_type": "code",
      "source": [
        "import pandas as pd\n",
        "import numpy as np\n",
        "\n",
        "np.random.seed(0)\n",
        "\n",
        "fuel_heat_input = np.random.uniform(10, 25, size=100)\n",
        "electric_power = fuel_heat_input * np.random.uniform(0.4, 0.6, size=100)\n",
        "\n",
        "df = pd.DataFrame({\n",
        "    'fuel_heat_input': fuel_heat_input,\n",
        "    'electric_power': electric_power\n",
        "})"
      ],
      "metadata": {
        "id": "Uxz5yvhA-onE"
      },
      "execution_count": null,
      "outputs": []
    },
    {
      "cell_type": "markdown",
      "source": [
        "### Решение"
      ],
      "metadata": {
        "id": "1XQcxA0h-GuF"
      }
    },
    {
      "cell_type": "code",
      "source": [
        "# Рассчет КПД\n",
        "df['efficiency_el'] = ...\n",
        "\n",
        "# Максимальное значение КПД\n",
        "max_eff_el = ...\n",
        "\n",
        "# Результат\n",
        "print(df[['fuel_heat_input', 'electric_power', 'efficiency_el']].head())\n",
        "print(f'\\nМаксимальное значение КПД: {max_eff_el:.2f}%')"
      ],
      "metadata": {
        "id": "wAvOeSrV9ZDx"
      },
      "execution_count": null,
      "outputs": []
    },
    {
      "cell_type": "markdown",
      "source": [
        "---\n",
        "### Задача №11\n",
        "#### Условие\n",
        "Для значений сигнала давления (`pressure`) с временным шагом 1 минута рассчитайте изменение давления за 1 и 3 минуты."
      ],
      "metadata": {
        "id": "cfkcycCBBErg"
      }
    },
    {
      "cell_type": "code",
      "source": [
        "import pandas as pd\n",
        "import numpy as np\n",
        "\n",
        "np.random.seed(0)\n",
        "\n",
        "date_range = pd.date_range(\"2024-01-01\", periods=100, freq=\"1min\")\n",
        "pressure = np.cumsum(np.random.normal(0, 0.1, 100)) + 6.5\n",
        "\n",
        "df = pd.DataFrame({'timestamp': date_range, 'pressure': pressure})\n",
        "df.set_index('timestamp', inplace=True)"
      ],
      "metadata": {
        "id": "vGaCP8kh9ZHO"
      },
      "execution_count": null,
      "outputs": []
    },
    {
      "cell_type": "markdown",
      "source": [
        "#### Решение"
      ],
      "metadata": {
        "id": "CfuwzTeqEzEG"
      }
    },
    {
      "cell_type": "code",
      "source": [
        "# Изменение давления за 1 мин\n",
        "df['pressure_diff_1'] = ...\n",
        "\n",
        "# Изменение давления за 3 мин\n",
        "df['pressure_diff_3'] = ...\n",
        "\n",
        "# Результат\n",
        "print(df.head())"
      ],
      "metadata": {
        "id": "-sxCR0tn9ZLR"
      },
      "execution_count": null,
      "outputs": []
    },
    {
      "cell_type": "markdown",
      "source": [
        "## Добавление категориальных признаков"
      ],
      "metadata": {
        "id": "72X2uxsOk5y6"
      }
    },
    {
      "cell_type": "markdown",
      "source": [
        "---\n",
        "### Задача №12\n",
        "#### Условие\n",
        "Реализовать функцию для классификации режимов эксплуатации на основе правил:\n",
        "- `Пуск` — мощность < 10 МВт и температура > 300 °C  \n",
        "- `Номинал` — мощность > 90 МВт и температура > 500 °C\n",
        "- `Останов` — мощность ≈ 0 МВт"
      ],
      "metadata": {
        "id": "cfShjnui3gIA"
      }
    },
    {
      "cell_type": "code",
      "source": [
        "import pandas as pd\n",
        "import numpy as np\n",
        "\n",
        "np.random.seed(42)\n",
        "\n",
        "timestamps = pd.date_range(start='2024-01-01', periods=1000, freq='min')\n",
        "\n",
        "df = pd.DataFrame({\n",
        "    'timestamp': timestamps,\n",
        "    'power': np.random.normal(80, 30, size=1000).clip(0, 110),\n",
        "    'temperature': np.random.normal(500, 100, size=1000).clip(200, 700)\n",
        "})"
      ],
      "metadata": {
        "id": "dWojAJFvuMZC"
      },
      "execution_count": null,
      "outputs": []
    },
    {
      "cell_type": "markdown",
      "source": [
        "#### Решение"
      ],
      "metadata": {
        "id": "OjNK_nJg3oGL"
      }
    },
    {
      "cell_type": "code",
      "source": [
        "# Простейшая классификация режимов\n",
        "def classify_mode(row):\n",
        "    if ...\n",
        "        return 'Останов'\n",
        "    elif ...\n",
        "        return 'Пуск'\n",
        "    elif ...\n",
        "        return 'Номинал'\n",
        "    else:\n",
        "        return 'Промежуточный'\n",
        "\n",
        "# Применяем созданную функцию к каждой строке df\n",
        "df['mode'] = ...\n",
        "\n",
        "# Просмотр результатов\n",
        "print(df[['timestamp', 'power', 'temperature', 'mode']].head(10))\n",
        "\n",
        "# Кол-во каждой категории\n",
        "print(\"\\nРаспределение по режимам:\")\n",
        "print(df['mode'].value_counts())"
      ],
      "metadata": {
        "id": "MR9dd_kTnz0i"
      },
      "execution_count": null,
      "outputs": []
    },
    {
      "cell_type": "markdown",
      "source": [
        "---\n",
        "### Задача №13\n",
        "#### Условие\n",
        "Найти интервалы времени, когда мощность (`power`) была равна нулю более 10 минут подряд"
      ],
      "metadata": {
        "id": "Aw_AR6xVvgx3"
      }
    },
    {
      "cell_type": "code",
      "source": [
        "import pandas as pd\n",
        "import numpy as np\n",
        "\n",
        "np.random.seed(0)\n",
        "\n",
        "date_range = pd.date_range(\"2024-01-01\", periods=24*6, freq=\"10min\")\n",
        "power = np.random.normal(100, 10, len(date_range))\n",
        "\n",
        "power[30:36] = 0  # 1 час\n",
        "power[80:83] = 0  # 30 минут\n",
        "\n",
        "df = pd.DataFrame({'timestamp': date_range, 'power': power})"
      ],
      "metadata": {
        "id": "CUTs4EUzdPYZ"
      },
      "execution_count": null,
      "outputs": []
    },
    {
      "cell_type": "markdown",
      "source": [
        "#### Решение"
      ],
      "metadata": {
        "id": "jfh4_ZX_wds2"
      }
    },
    {
      "cell_type": "code",
      "source": [
        "# Добавляется булев столбец is_idle: True, где мощность = 0\n",
        "df['is_idle'] = ...\n",
        "# Создаётся столбец block, нумерующий непрерывные участки одинакового значения is_idle\n",
        "df['block'] = (df['is_idle'] != df['is_idle'].shift()).cumsum()\n",
        "\n",
        "# Группировка по блокам:\n",
        "# start и end — начало и конец каждого простоя\n",
        "# duration_min — длительность простоя в минутах\n",
        "idle_blocks = df[df['is_idle']].groupby('block').agg(\n",
        "    start=...,\n",
        "    end=...,\n",
        "    duration_min=...\n",
        ")\n",
        "\n",
        "# Оставляем только те простоя, что длятся дольше 10 минут\n",
        "long_idle = ...\n",
        "\n",
        "# Результат\n",
        "print(long_idle)"
      ],
      "metadata": {
        "id": "1ldNyaghMQiG"
      },
      "execution_count": null,
      "outputs": []
    },
    {
      "cell_type": "markdown",
      "source": [
        "---\n",
        "### Задача №14\n",
        "#### Условие\n",
        "Найти интервалы времени, когда температура (`temperature`) была ниже 150 °C более 20 минут."
      ],
      "metadata": {
        "id": "YfvCwK_pyUsV"
      }
    },
    {
      "cell_type": "code",
      "source": [
        "import pandas as pd\n",
        "import numpy as np\n",
        "\n",
        "np.random.seed(0)\n",
        "\n",
        "date_range = pd.date_range(\"2024-01-01\", periods=3*60, freq=\"1min\")  # 3 часа\n",
        "temperature = np.random.normal(200, 10, len(date_range))\n",
        "temperature[60:90] = 100  # 30 минут\n",
        "temperature[150:165] = 120  # 15 минут\n",
        "\n",
        "df = pd.DataFrame({'timestamp': date_range, 'temperature': temperature})"
      ],
      "metadata": {
        "id": "FOkHTZMHmWeh"
      },
      "execution_count": null,
      "outputs": []
    },
    {
      "cell_type": "markdown",
      "source": [
        "#### Решение"
      ],
      "metadata": {
        "id": "xXRU8w2XzF1s"
      }
    },
    {
      "cell_type": "code",
      "source": [
        "# Новый столбец is_down (температура ниже 150)\n",
        "df['is_down'] = ...\n",
        "# Создаётся столбец block, где каждый непрерывный участок (is_down = True или False) получает уникальный номер.\n",
        "df['block'] = (df['is_down'] != df['is_down'].shift()).cumsum()\n",
        "\n",
        "# Группируем по block и для каждого блока находим:\n",
        "# start — первая метка времени\n",
        "# end — последняя\n",
        "# duration_min — длительность блока в минутах (количество строк)\n",
        "down_periods = df[df['is_down']].groupby('block').agg(\n",
        "    start=...,\n",
        "    end=...,\n",
        "    duration_min=...\n",
        ")\n",
        "\n",
        "# Оставляем только те участки, где температура была ниже 150 дольше 20 минут.\n",
        "true_downtime = ...\n",
        "\n",
        "# Результат\n",
        "print(true_downtime)"
      ],
      "metadata": {
        "id": "lraRsxr2zTyG"
      },
      "execution_count": null,
      "outputs": []
    },
    {
      "cell_type": "code",
      "source": [],
      "metadata": {
        "id": "5My_RrgBmxor"
      },
      "execution_count": null,
      "outputs": []
    },
    {
      "cell_type": "code",
      "source": [],
      "metadata": {
        "id": "8kbkXmpjmAnv"
      },
      "execution_count": null,
      "outputs": []
    },
    {
      "cell_type": "code",
      "source": [],
      "metadata": {
        "id": "whW9cpZMg1Zp"
      },
      "execution_count": null,
      "outputs": []
    }
  ]
}