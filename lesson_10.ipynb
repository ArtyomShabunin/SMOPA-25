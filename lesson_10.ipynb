{
  "cells": [
    {
      "cell_type": "markdown",
      "metadata": {
        "id": "view-in-github",
        "colab_type": "text"
      },
      "source": [
        "<a href=\"https://colab.research.google.com/github/ArtyomShabunin/SMOPA-25/blob/main/lesson_10.ipynb\" target=\"_parent\"><img src=\"https://colab.research.google.com/assets/colab-badge.svg\" alt=\"Open In Colab\"/></a>"
      ]
    },
    {
      "cell_type": "markdown",
      "metadata": {
        "id": "HLcZt5JheI_-"
      },
      "source": [
        "<img src=\"https://prana-system.com/files/110/rds_color_full.png\" alt=\"tot image\" width=\"300\"  align=\"center\"/> &nbsp;&nbsp;&nbsp;&nbsp;&nbsp;&nbsp;&nbsp;&nbsp;\n",
        "<img src=\"https://mpei.ru/AboutUniverse/OficialInfo/Attributes/PublishingImages/logo1.jpg\" alt=\"mpei image\" width=\"200\" align=\"center\"/>\n",
        "<img src=\"https://mpei.ru/Structure/Universe/tanpe/structure/tfhe/PublishingImages/tot.png\" alt=\"tot image\" width=\"100\"  align=\"center\"/>\n",
        "\n",
        "---\n",
        "\n",
        "# **Системы машинного обучения и предиктивной аналитики в тепловой и возобновляемой энергетике**  \n",
        "\n",
        "# ***Практические занятия***\n",
        "\n",
        "\n",
        "---"
      ]
    },
    {
      "cell_type": "markdown",
      "metadata": {
        "id": "Dpc_hLgwenOQ"
      },
      "source": [
        "# Занятие №10\n",
        "# XGBoost\n",
        "**23 апреля 2025г.**"
      ]
    },
    {
      "cell_type": "markdown",
      "metadata": {
        "id": "aurtp_rchWZ4"
      },
      "source": [
        "XGBoost (Extreme Gradient Boosting) — это мощная и эффективная библиотека машинного обучения, основанная на методе **градиентного бустинга**. Она используется для решения задач классификации, регрессии и ранжирования.  \n",
        "\n",
        "**Градиентный бустинг** — это техника **машинного обучения** для построения прогностических моделей. Она относится к классу **ансамблевых методов**, где несколько «слабых» моделей (обычно деревьев решений) объединяются в одну «сильную» модель.\n",
        "\n",
        "Основная идея — строить модели **последовательно**, каждая из которых пытается **исправить ошибки** предыдущих, используя **градиентный спуск** для минимизации функции потерь.\n",
        "\n",
        "### Основные особенности XGBoost:\n",
        "- **Градиентный бустинг** — это метод ансамблирования, при котором несколько слабых моделей (обычно деревьев решений) объединяются для формирования сильной модели.\n",
        "- **Эффективность** — XGBoost оптимизирован по скорости и использует продвинутые техники, такие как параллельные вычисления и буферизацию деревьев.\n",
        "- **Поддержка регуляризации** — встроенная L1 и L2 регуляризация помогает предотвращать переобучение.\n",
        "- **Обработка пропущенных значений** — библиотека умеет сама \"угадывать\", куда направить пропущенные значения при обучении деревьев.\n",
        "- **Гибкость** — поддерживает различные типы задач, множество гиперпараметров, и может работать как с небольшими, так и с очень большими наборами данных.\n",
        "\n",
        "### Где используется:\n",
        "- Соревнования по машинному обучению (например, Kaggle)\n",
        "- Финансовый анализ\n",
        "- Диагностика в медицине\n",
        "- Предиктивное обслуживание оборудования\n",
        "- Маркетинговая аналитика"
      ]
    },
    {
      "cell_type": "markdown",
      "source": [
        "Cписок популярных альтернатив XGBoost — градиентного бустинга на решающих деревьях\n",
        "\n",
        "1. **LightGBM (Microsoft)**\n",
        "   - Быстрее XGBoost на больших данных.\n",
        "   - Использует histogram-based алгоритм и leaf-wise рост дерева.\n",
        "   - Хорош для задач с большим количеством признаков и категориальными данными.\n",
        "\n",
        "2. **CatBoost (Yandex)**\n",
        "   - Хорошо работает с категориальными признаками без необходимости one-hot encoding.\n",
        "   - Снижает переобучение.\n",
        "   - Прост в использовании: меньше параметров для настройки.\n",
        "\n",
        "3. **HistGradientBoosting (sklearn)**\n",
        "   - Встроенная реализация бустинга с гистограммами в Scikit-learn (`sklearn.ensemble.HistGradientBoostingClassifier/Regressor`).\n",
        "   - Быстрый и поддерживает natively missing values.\n",
        "   - Хорошая альтернатива без установки сторонних библиотек.\n"
      ],
      "metadata": {
        "id": "o4FSMyCrbM5P"
      }
    },
    {
      "cell_type": "code",
      "execution_count": null,
      "metadata": {
        "id": "M2aVnj56iOZa"
      },
      "outputs": [],
      "source": [
        "import numpy as np\n",
        "import pandas as pd\n",
        "\n",
        "from sklearn import preprocessing\n",
        "from sklearn.model_selection import cross_val_predict, StratifiedKFold\n",
        "from sklearn.metrics import confusion_matrix, precision_score, recall_score, f1_score, ConfusionMatrixDisplay\n",
        "from sklearn.ensemble import RandomForestClassifier\n",
        "from sklearn.metrics import accuracy_score, r2_score\n",
        "import matplotlib.pyplot as plt\n",
        "\n",
        "import ipywidgets as widgets\n",
        "from IPython.display import display, clear_output\n",
        "\n",
        "from tqdm import tqdm"
      ]
    },
    {
      "cell_type": "markdown",
      "metadata": {
        "id": "48lyuNBoh5tT"
      },
      "source": [
        "## Многоклассовая классификация с XGBoost\n",
        "### Загрузка и предобработка данных"
      ]
    },
    {
      "cell_type": "code",
      "execution_count": null,
      "metadata": {
        "id": "vzaemzIuiHzC"
      },
      "outputs": [],
      "source": [
        "# import gdown\n",
        "# import warnings\n",
        "# warnings.filterwarnings('ignore')\n",
        "# gdown.download('https://drive.google.com/uc?id=1j54o4pHTm3HvaYTEtv_i4hOJGy5yNeZZ', verify=False)\n",
        "\n",
        "data = pd.read_parquet(\"./data_modes.gzip\")"
      ]
    },
    {
      "cell_type": "code",
      "execution_count": null,
      "metadata": {
        "id": "-JVWKq1tiH_Z"
      },
      "outputs": [],
      "source": [
        "data.head()"
      ]
    },
    {
      "cell_type": "markdown",
      "metadata": {
        "id": "gSbv7ek_kgbo"
      },
      "source": [
        "Признаки"
      ]
    },
    {
      "cell_type": "code",
      "execution_count": null,
      "metadata": {
        "id": "HhCDlvDgiIC8"
      },
      "outputs": [],
      "source": [
        "use_columns = ['GTA1.DBinPU.Alzzo', 'GTA1.DBinPU.Bo', 'GTA1.DBinPU.DlPkf',\n",
        "               'GTA1.DBinPU.DlPtgft', 'GTA1.DBinPU.DlPvf', 'GTA1.DBinPU.fi',\n",
        "               'GTA1.DBinPU.hmGTD', 'GTA1.DBinPU.hmTG', 'GTA1.DBinPU.P1mvhTG',\n",
        "               'GTA1.DBinPU.Pk', 'GTA1.DBinPU.Pmvh', 'GTA1.DBinPU.PmvhMOGTD',\n",
        "               'GTA1.DBinPU.PmvhMOTG', 'GTA1.DBinPU.PmvyhMOGTD',\n",
        "               'GTA1.DBinPU.PmvyhMOTG', 'GTA1.DBinPU.Prazrjag_navhode',\n",
        "               'GTA1.DBinPU.Ptgpd', 'GTA1.DBinPU.Ptgvh', 'GTA1.DBinPU.Pvh',\n",
        "               'GTA1.DBinPU.Pvyhlg', 'GTA1.DBinPU.Qtg', 'GTA1.DBinPU.Tk',\n",
        "               'GTA1.DBinPU.Tn', 'GTA1.DBinPU.Tt', 'GTA1.DBinPU.Tvh1',\n",
        "               'GTA1.DBinPU.Pzad']\n",
        "\n",
        "X = data.loc[:,use_columns]"
      ]
    },
    {
      "cell_type": "markdown",
      "metadata": {
        "id": "hjvWjXr_kk9B"
      },
      "source": [
        "Целевая переменная"
      ]
    },
    {
      "cell_type": "code",
      "execution_count": null,
      "metadata": {
        "id": "kKQHVm8GkMVJ"
      },
      "outputs": [],
      "source": [
        "data['target'] = data[[\n",
        "    'full_power_mode', 'partial_power_mode',\n",
        "    'increas_power_mode', 'decreas_power_mode', 'start_up_mode',\n",
        "    'shutdown_mode', 'stopped_state_mode']].idxmax(axis=1)\n",
        "y = data.loc[:, ['target']]"
      ]
    },
    {
      "cell_type": "code",
      "execution_count": null,
      "metadata": {
        "id": "QWHH8t9rkMZP"
      },
      "outputs": [],
      "source": [
        "y.value_counts()"
      ]
    },
    {
      "cell_type": "markdown",
      "metadata": {
        "id": "MZO5A9hWlRjK"
      },
      "source": [
        "Разделение на тестовую и тренировочную выборки"
      ]
    },
    {
      "cell_type": "code",
      "execution_count": null,
      "metadata": {
        "id": "ga_Kkkz8lWXq"
      },
      "outputs": [],
      "source": [
        "from sklearn.model_selection import train_test_split\n",
        "# Разделяем с учетом дисбаланса классов\n",
        "X_train, X_test, y_train, y_test = train_test_split(\n",
        "    X, y, test_size=0.2, stratify=y, random_state=42)"
      ]
    },
    {
      "cell_type": "code",
      "execution_count": null,
      "metadata": {
        "id": "GgiBQRxxmIiV"
      },
      "outputs": [],
      "source": [
        "y_train.value_counts()"
      ]
    },
    {
      "cell_type": "code",
      "execution_count": null,
      "metadata": {
        "id": "RagcyEDemIrR"
      },
      "outputs": [],
      "source": [
        "y_test.value_counts()"
      ]
    },
    {
      "cell_type": "markdown",
      "metadata": {
        "id": "E0Q-8JP5migp"
      },
      "source": [
        "Балансировка данных"
      ]
    },
    {
      "cell_type": "code",
      "execution_count": null,
      "metadata": {
        "id": "gU60oO8cmme1"
      },
      "outputs": [],
      "source": [
        "!pip install imblearn"
      ]
    },
    {
      "cell_type": "markdown",
      "metadata": {
        "id": "MWEW-tyKmry0"
      },
      "source": [
        "Undersampling"
      ]
    },
    {
      "cell_type": "code",
      "execution_count": null,
      "metadata": {
        "id": "MSJXp06VmmmA"
      },
      "outputs": [],
      "source": [
        "from imblearn.under_sampling import RandomUnderSampler\n",
        "sampling_strategy = {\n",
        "    \"full_power_mode\": 1000,\n",
        "    \"stopped_state_mode\": 1000,\n",
        "    \"partial_power_mode\": 1000\n",
        "}\n",
        "rus = RandomUnderSampler(sampling_strategy=sampling_strategy, random_state=42)\n",
        "X_train_resampled, y_train_resampled = rus.fit_resample(X_train, y_train)"
      ]
    },
    {
      "cell_type": "code",
      "execution_count": null,
      "metadata": {
        "id": "4n9Y2lgwmvJD"
      },
      "outputs": [],
      "source": [
        "y_train_resampled.value_counts()"
      ]
    },
    {
      "cell_type": "code",
      "execution_count": null,
      "metadata": {
        "id": "27V9--eMmvOz"
      },
      "outputs": [],
      "source": [
        "sampling_strategy = {\n",
        "    \"full_power_mode\": 100,\n",
        "    \"stopped_state_mode\": 100,\n",
        "    \"partial_power_mode\": 100\n",
        "}\n",
        "rus = RandomUnderSampler(sampling_strategy=sampling_strategy, random_state=42)\n",
        "X_test_resampled, y_test_resampled = rus.fit_resample(X_test, y_test)"
      ]
    },
    {
      "cell_type": "code",
      "execution_count": null,
      "metadata": {
        "id": "yR-v-fG_mvSt"
      },
      "outputs": [],
      "source": [
        "y_test_resampled.value_counts()"
      ]
    },
    {
      "cell_type": "markdown",
      "metadata": {
        "id": "sPHKEWn2nTOU"
      },
      "source": [
        "Oversampling"
      ]
    },
    {
      "cell_type": "code",
      "execution_count": null,
      "metadata": {
        "id": "3VpIvHPanTk1"
      },
      "outputs": [],
      "source": [
        "from imblearn.over_sampling import SMOTE\n",
        "X_train_resampled, y_train_resampled = SMOTE().fit_resample(X_train_resampled, y_train_resampled)"
      ]
    },
    {
      "cell_type": "code",
      "execution_count": null,
      "metadata": {
        "id": "ZTzwpQYlnToU"
      },
      "outputs": [],
      "source": [
        "y_train_resampled.value_counts()"
      ]
    },
    {
      "cell_type": "markdown",
      "metadata": {
        "id": "aU1iaa64oJwP"
      },
      "source": [
        "XGBoost — это алгоритм на базе деревьев решений. А деревья решений и бустинг на их основе **не чувствительны к масштабу признаков** (в отличие от моделей типа линейной регрессии, SVM или нейронных сетей)."
      ]
    },
    {
      "cell_type": "code",
      "execution_count": null,
      "metadata": {
        "id": "rSJ577HTx6ug"
      },
      "outputs": [],
      "source": [
        "y_train_resampled"
      ]
    },
    {
      "cell_type": "markdown",
      "metadata": {
        "id": "ppQex9fDy-Hr"
      },
      "source": [
        "LabelEncoding"
      ]
    },
    {
      "cell_type": "code",
      "execution_count": null,
      "metadata": {
        "id": "_eQ8LkZ6y-gK"
      },
      "outputs": [],
      "source": [
        "from sklearn.preprocessing import LabelEncoder\n",
        "encoder = LabelEncoder()"
      ]
    },
    {
      "cell_type": "code",
      "execution_count": null,
      "metadata": {
        "id": "OST3BPd0y-to"
      },
      "outputs": [],
      "source": [
        "y_train_resampled_encoded = encoder.fit_transform(y_train_resampled.values[:,0])\n",
        "y_test_resampled_encoded = encoder.transform(y_test_resampled.values[:,0])"
      ]
    },
    {
      "cell_type": "code",
      "source": [
        "y_test_resampled_encoded"
      ],
      "metadata": {
        "id": "fhHXuCwYPzey"
      },
      "execution_count": null,
      "outputs": []
    },
    {
      "cell_type": "code",
      "execution_count": null,
      "metadata": {
        "id": "c4bQlAni7al-"
      },
      "outputs": [],
      "source": [
        "encoder.classes_"
      ]
    },
    {
      "cell_type": "markdown",
      "metadata": {
        "id": "maHcTlhnLcRz"
      },
      "source": [
        "### Инициализация и обучение модели"
      ]
    },
    {
      "cell_type": "code",
      "execution_count": null,
      "metadata": {
        "id": "IN5qofb0eDuC",
        "scrolled": true
      },
      "outputs": [],
      "source": [
        "!pip install xgboost\n",
        "import xgboost as xgb"
      ]
    },
    {
      "cell_type": "markdown",
      "metadata": {
        "id": "xfkWjl3fLcR0"
      },
      "source": [
        "`xgb.XGBClassifier` — это класс из библиотеки **XGBoost**, предназначенный для решения **задач классификации** с помощью алгоритма **градиентного бустинга на деревьях решений**.\n",
        "\n",
        "- строит ансамбль деревьев решений (по умолчанию — деревья классификации),\n",
        "- на каждом шаге добавляет дерево, которое исправляет ошибки предыдущих,\n",
        "- минимизирует выбранную **функцию потерь (objective)**.\n",
        "\n",
        "---\n",
        "\n",
        "**Применяется для:**\n",
        "\n",
        "- **Бинарной классификации** (например, \"да/нет\", \"спам/не спам\")\n",
        "- **Многоклассовой классификации** (например, классификация цифр, видов растений и т.д.)\n",
        "\n",
        "---\n",
        "\n",
        "Параметр **`objective`** в XGBoost `XGBClassifier` определяет **функцию потерь**, которую оптимизирует модель, и напрямую зависит от типа задачи — классификация, регрессия, ранжирование и т.д.\n",
        "\n",
        "\n",
        "---\n",
        "\n",
        "**Для задач многоклассовой классификации:**\n",
        "\n",
        "- `'multi:softmax'` — многоклассовая классификация, возвращает **номер класса** напрямую.  \n",
        "  Требуется параметр `num_class`.\n",
        "- `'multi:softprob'` — многоклассовая классификация, возвращает **вектор вероятностей по каждому классу**.  \n",
        "  Также требует `num_class`.\n",
        "\n",
        "---\n",
        "\n",
        "**Описание остальных гиперпараметров:**\n",
        "\n",
        "- **`num_class=7`**  \n",
        "  Количество уникальных классов в задаче классификации. В данном случае — 7 классов.\n",
        "\n",
        "- **`max_depth=6`**  \n",
        "  Максимальная глубина каждого дерева.  \n",
        "  Глубокие деревья могут моделировать сложные зависимости, но также повышают риск переобучения.\n",
        "\n",
        "- **`learning_rate=0.1`**\n",
        "  Скорость обучения, понижает вклад каждого дерева в итоговое решение.  \n",
        "  Меньшие значения требуют больше деревьев (`n_estimators`) для хорошей сходимости.\n",
        "\n",
        "- **`n_estimators=100`**  \n",
        "  Количество деревьев (итераций бустинга).  \n",
        "  Итоговая модель будет объединением этих 100 слабых моделей.\n",
        "\n",
        "- **`subsample=0.8`**  \n",
        "  Доля случайно выбранных объектов для обучения каждого дерева.  \n",
        "  Значения <1.0 могут помочь в борьбе с переобучением.\n",
        "\n",
        "- **`colsample_bytree=0.8`**  \n",
        "  Доля случайно выбранных признаков, используемых при построении каждого дерева.  \n",
        "  Также снижает риск переобучения, особенно при большом числе признаков.\n",
        "\n",
        "- **`random_state=42`**  \n",
        "  Фиксирует генератор случайных чисел, обеспечивая воспроизводимость результатов.\n"
      ]
    },
    {
      "cell_type": "code",
      "execution_count": null,
      "metadata": {
        "id": "x7uHsoS1hR26"
      },
      "outputs": [],
      "source": [
        "classifier = xgb.XGBClassifier(\n",
        "    objective='multi:softmax',\n",
        "    # objective='multi:softprob',\n",
        "    num_class=7,\n",
        "    max_depth=6,\n",
        "    learning_rate=0.1,\n",
        "    n_estimators=100,\n",
        "    subsample=0.8,\n",
        "    colsample_bytree=0.8,\n",
        "    random_state=42\n",
        ")\n",
        "\n",
        "classifier.fit(X_train_resampled, y_train_resampled_encoded)"
      ]
    },
    {
      "cell_type": "code",
      "execution_count": null,
      "metadata": {
        "id": "r6ymctQz0enD"
      },
      "outputs": [],
      "source": [
        "y_pred = classifier.predict(X_test_resampled)"
      ]
    },
    {
      "cell_type": "code",
      "source": [
        "y_pred"
      ],
      "metadata": {
        "id": "sJhUbwefQX_C"
      },
      "execution_count": null,
      "outputs": []
    },
    {
      "cell_type": "code",
      "source": [
        "classifier.predict_proba(X_test_resampled)"
      ],
      "metadata": {
        "id": "rrdS6RigQmun"
      },
      "execution_count": null,
      "outputs": []
    },
    {
      "cell_type": "code",
      "source": [
        "np.argmax(classifier.predict_proba(X_test_resampled), axis=1)\n",
        "# np.max(classifier.predict_proba(X_test_resampled), axis=1)"
      ],
      "metadata": {
        "id": "PS3ZroP6RySz"
      },
      "execution_count": null,
      "outputs": []
    },
    {
      "cell_type": "markdown",
      "metadata": {
        "id": "Y2Q0xCSlLcR1"
      },
      "source": [
        "### Анализ качества модели\n",
        "Матрица неточностей"
      ]
    },
    {
      "cell_type": "code",
      "execution_count": null,
      "metadata": {
        "id": "yaf_18g900Zo"
      },
      "outputs": [],
      "source": [
        "from sklearn.metrics import classification_report, confusion_matrix\n",
        "\n",
        "conf_mat = confusion_matrix(y_test_resampled_encoded, y_pred)\n",
        "ConfusionMatrixDisplay(conf_mat, display_labels=encoder.classes_).plot()\n",
        "plt.xticks(rotation=90)\n",
        "plt.show()"
      ]
    },
    {
      "cell_type": "code",
      "execution_count": null,
      "metadata": {
        "id": "A5ijnm629kdU"
      },
      "outputs": [],
      "source": [
        "print(classification_report(y_test_resampled_encoded, y_pred, target_names=encoder.classes_))"
      ]
    },
    {
      "cell_type": "markdown",
      "metadata": {
        "id": "RT67HJ7ULcR8"
      },
      "source": [
        "### Подбор значений гиперпараметров\n",
        "**RandomizedSearchCV**"
      ]
    },
    {
      "cell_type": "code",
      "execution_count": null,
      "metadata": {
        "id": "O2FjA2O_2A_V"
      },
      "outputs": [],
      "source": [
        "from sklearn.model_selection import RandomizedSearchCV\n",
        "\n",
        "# Создание модели XGB\n",
        "classifier =  xgb.XGBClassifier(\n",
        "    objective='multi:softmax', num_class=7, random_state=42)\n",
        "\n",
        "# Сетка гиперпараметров\n",
        "param_grid = {\n",
        "    'max_depth': [4, 6, 8],\n",
        "    'learning_rate': [0.01, 0.1, 0.2],\n",
        "    'n_estimators': [100, 200],\n",
        "    'subsample': [0.7, 0.8, 1.0],\n",
        "    'colsample_bytree': [0.7, 0.8, 1.0]\n",
        "}\n",
        "\n",
        "# Использование RandomizedSearchCV для подбора параметров\n",
        "random_search = RandomizedSearchCV(\n",
        "    estimator=classifier, param_distributions=param_grid, n_iter=10, cv=5,\n",
        "    n_jobs=-1, verbose=2, random_state=42)\n",
        "\n",
        "# Обучение модели с RandomizedSearchCV\n",
        "random_search.fit(X_train_resampled, y_train_resampled_encoded)\n",
        "\n",
        "# Вывод лучших параметров\n",
        "print(\"Лучшие параметры:\", random_search.best_params_)"
      ]
    },
    {
      "cell_type": "code",
      "execution_count": null,
      "metadata": {
        "id": "1qMbcYeH2BFO"
      },
      "outputs": [],
      "source": [
        "# Оценка модели на тестовых данных\n",
        "best_classifier = random_search.best_estimator_\n",
        "# print(\"Точность на тестовой выборке:\", best_classifier.score(X_test_resampled, y_test_resampled_encoded))\n",
        "y_pred = best_classifier.predict(X_test_resampled)"
      ]
    },
    {
      "cell_type": "markdown",
      "metadata": {
        "id": "R3AHgY6l7VwN"
      },
      "source": [
        "### Анализ качества модели"
      ]
    },
    {
      "cell_type": "code",
      "execution_count": null,
      "metadata": {
        "id": "5Uwd7dkg5X5X"
      },
      "outputs": [],
      "source": [
        "conf_mat = confusion_matrix(y_test_resampled_encoded, y_pred)\n",
        "ConfusionMatrixDisplay(conf_mat, display_labels=encoder.classes_).plot()\n",
        "plt.xticks(rotation=90)\n",
        "plt.show()"
      ]
    },
    {
      "cell_type": "code",
      "execution_count": null,
      "metadata": {
        "id": "bLp6t0mT5ZHd"
      },
      "outputs": [],
      "source": [
        "print(classification_report(y_test_resampled_encoded, y_pred, target_names=encoder.classes_))"
      ]
    },
    {
      "cell_type": "markdown",
      "metadata": {
        "id": "u8wnLuy6BdwR"
      },
      "source": [
        "## Прогнозирование с XGBoost"
      ]
    },
    {
      "cell_type": "code",
      "execution_count": null,
      "metadata": {
        "id": "o_Jn6ino8oPA"
      },
      "outputs": [],
      "source": [
        "# import gdown\n",
        "# import warnings\n",
        "# warnings.filterwarnings('ignore')\n",
        "# url = \"https://drive.google.com/drive/folders/1RtrAevJUYSgTbp0YUztxEBB8_VcvjgGH?usp=drive_link\"\n",
        "# gdown.download_folder(url, quiet=True, verify=False)"
      ]
    },
    {
      "cell_type": "code",
      "execution_count": null,
      "metadata": {
        "id": "26-Vxn_bBdJa"
      },
      "outputs": [],
      "source": [
        "import glob\n",
        "parquetFileList = glob.glob(f'./option_0/*.gzip')"
      ]
    },
    {
      "cell_type": "code",
      "execution_count": null,
      "metadata": {
        "id": "LKRzrRhOBdMb"
      },
      "outputs": [],
      "source": [
        "df_list = []\n",
        "\n",
        "for file in tqdm(parquetFileList):\n",
        "    df = pd.read_parquet(file)\n",
        "    df_list.append(df)\n",
        "\n",
        "data = pd.concat(df_list, axis=0).sort_index().ffill().drop_duplicates()\n",
        "data = data.dropna()"
      ]
    },
    {
      "cell_type": "code",
      "execution_count": null,
      "metadata": {
        "id": "xQ1Ryb6TD0xx"
      },
      "outputs": [],
      "source": [
        "import seaborn as sns\n",
        "sns.set_theme(style=\"whitegrid\")\n",
        "\n",
        "fig, (ax1, ax2, ax3) = plt.subplots(3, 1, figsize=(10, 6), constrained_layout=True)\n",
        "\n",
        "ax1.plot(data['GTA1.DBinPU.P'].index, data['GTA1.DBinPU.P'].values,\n",
        "         linestyle='none', marker='.', markersize=1);\n",
        "ax1.set_ylabel(\"Мощность, кВт\");\n",
        "ax1.set_ylim([5700,6100]);\n",
        "ax1.tick_params(labelbottom=False)\n",
        "\n",
        "ax2.plot(data['GTA1.DBinPU.Qtg'].index, data['GTA1.DBinPU.Qtg'].values,\n",
        "         linestyle='none', marker='.', markersize=1);\n",
        "ax2.set_ylabel(\"Расход топлива, м3/ч\");\n",
        "ax2.set_ylim([1500,2500]);\n",
        "ax2.tick_params(labelbottom=False)\n",
        "\n",
        "ax3.plot(data['GTA1.DBinPU.Tt'].index, data['GTA1.DBinPU.Tt'].values,\n",
        "         linestyle='none', marker='.', markersize=1);\n",
        "ax3.set_ylabel(\"Температура\\nух. газов, $^\\\\circ$С\");\n",
        "# ax3.set_ylim([300,600]);\n",
        "ax3.tick_params(rotation=45);"
      ]
    },
    {
      "cell_type": "markdown",
      "metadata": {
        "id": "8KzlTKIELcR-"
      },
      "source": [
        "### Предобработка данных"
      ]
    },
    {
      "cell_type": "markdown",
      "metadata": {
        "id": "fkgQOjMcKoU6"
      },
      "source": [
        "Проредим и отфильтруем данные"
      ]
    },
    {
      "cell_type": "code",
      "execution_count": null,
      "metadata": {
        "id": "LDvnuAqUD-Vz"
      },
      "outputs": [],
      "source": [
        "df = pd.DataFrame(data['GTA1.DBinPU.Tt'])\n",
        "df = df.resample('1h').mean()\n",
        "df.columns = ['Tt']\n",
        "df = df[df['Tt'] > 300]"
      ]
    },
    {
      "cell_type": "code",
      "execution_count": null,
      "metadata": {
        "id": "3a0xeYzmK2XM"
      },
      "outputs": [],
      "source": [
        "df.plot(style='.', figsize=(10, 2), ms=3, title=\"Температура ух. газов\", legend=False)\n",
        "plt.ylabel(\"$^\\\\circ$С\")\n",
        "plt.show()"
      ]
    },
    {
      "cell_type": "markdown",
      "metadata": {
        "id": "8LXHdzevLcSA"
      },
      "source": [
        "**Лаги** — это **значения временного ряда на предыдущих временных шагах**, которые используются как признаки (фичи) для предсказания будущих значений."
      ]
    },
    {
      "cell_type": "markdown",
      "metadata": {
        "id": "NZJXe2IYafii"
      },
      "source": [
        "Функция для генерации лагов"
      ]
    },
    {
      "cell_type": "code",
      "execution_count": null,
      "metadata": {
        "id": "xfWunsuBLGr-"
      },
      "outputs": [],
      "source": [
        "def create_lag_features(df, column, lags):\n",
        "    \"\"\"\n",
        "    Создает лаги признака column в количестве lags и возвращает новый DataFrame.\n",
        "    \"\"\"\n",
        "    df_lagged = df.copy()\n",
        "    for lag in range(1, lags + 1):\n",
        "        df_lagged[f\"{column}_lag_{lag}\"] = df_lagged[column].shift(lag)\n",
        "\n",
        "    return df_lagged"
      ]
    },
    {
      "cell_type": "code",
      "execution_count": null,
      "metadata": {
        "id": "fyd_emPqajhP"
      },
      "outputs": [],
      "source": [
        "n_lags = 24\n",
        "df = create_lag_features(df, 'Tt', n_lags)"
      ]
    },
    {
      "cell_type": "code",
      "execution_count": null,
      "metadata": {
        "id": "lpzyfDS5ak4r"
      },
      "outputs": [],
      "source": [
        "df.head()"
      ]
    },
    {
      "cell_type": "code",
      "execution_count": null,
      "metadata": {
        "id": "E2EtrWsBa65E"
      },
      "outputs": [],
      "source": [
        "df.dropna(inplace=True)"
      ]
    },
    {
      "cell_type": "markdown",
      "metadata": {
        "id": "jcnFGDrvLcSB"
      },
      "source": [
        "Создаем вектр признаков и вектор целевых значений"
      ]
    },
    {
      "cell_type": "code",
      "execution_count": null,
      "metadata": {
        "id": "_0RCE18LblHe"
      },
      "outputs": [],
      "source": [
        "y = df.loc[:, ['Tt']]\n",
        "X = df.loc[:, [col for col in df.columns if 'lag' in col]]"
      ]
    },
    {
      "cell_type": "markdown",
      "metadata": {
        "id": "-LVlQUtqdoSC"
      },
      "source": [
        "Разделим на тренировочную и тестовую выборки (**временной порядок важно сохранить!**)"
      ]
    },
    {
      "cell_type": "code",
      "execution_count": null,
      "metadata": {
        "id": "jSGf3AqobmT9"
      },
      "outputs": [],
      "source": [
        "train_size = int(len(df) * 0.8)\n",
        "X_train, X_test = X[:train_size], X[train_size:]\n",
        "y_train, y_test = y[:train_size], y[train_size:]"
      ]
    },
    {
      "cell_type": "markdown",
      "metadata": {
        "id": "_YLFsOGUf4eN"
      },
      "source": [
        "### Инициализация и обучение модели"
      ]
    },
    {
      "cell_type": "code",
      "execution_count": null,
      "metadata": {
        "id": "6K7I7Xzubr-f"
      },
      "outputs": [],
      "source": [
        "pred_model = xgb.XGBRegressor()\n",
        "pred_model.fit(X_train, y_train)"
      ]
    },
    {
      "cell_type": "markdown",
      "metadata": {
        "id": "NWfnmE6HgErV"
      },
      "source": [
        "Предсказание"
      ]
    },
    {
      "cell_type": "code",
      "execution_count": null,
      "metadata": {
        "id": "hXQo8h4zbsEw"
      },
      "outputs": [],
      "source": [
        "y_pred = pred_model.predict(X_test)\n",
        "\n",
        "baseline_pred = X_test.mean(axis=1).values"
      ]
    },
    {
      "cell_type": "markdown",
      "metadata": {
        "id": "2d788Dd6LcSD"
      },
      "source": [
        "### Анализ качества модели"
      ]
    },
    {
      "cell_type": "code",
      "execution_count": null,
      "metadata": {
        "id": "yaV-8YECf98Z"
      },
      "outputs": [],
      "source": [
        "# Оценка\n",
        "from sklearn.metrics import mean_squared_error\n",
        "\n",
        "rmse = np.sqrt(mean_squared_error(y_test, y_pred))\n",
        "\n",
        "baseline_rmse = np.sqrt(mean_squared_error(y_test, baseline_pred))\n",
        "\n",
        "print(\"RMSE:\", round(rmse, 3))\n",
        "print(\"Baseline RMSE:\", round(baseline_rmse, 3))"
      ]
    },
    {
      "cell_type": "code",
      "execution_count": null,
      "metadata": {
        "id": "pkaGUliqgPzi"
      },
      "outputs": [],
      "source": [
        "# Визуализация\n",
        "plt.plot(y_test.values, label='Истина')\n",
        "plt.plot(y_pred, label='Прогноз xgb')\n",
        "plt.plot(baseline_pred, label='Прогноз baseline')\n",
        "plt.legend()\n",
        "plt.title(\"Прогноз временного ряда XGBoost\")\n",
        "plt.show()"
      ]
    },
    {
      "cell_type": "markdown",
      "source": [
        "### Автономный авторегрессионный прогноз (одна точка за раз)\n",
        "На вход модели подаются предсказания, а не истинные значения из данных"
      ],
      "metadata": {
        "id": "yArNsqgQd9Er"
      }
    },
    {
      "cell_type": "code",
      "execution_count": null,
      "metadata": {
        "id": "4DN5U3-LirPP"
      },
      "outputs": [],
      "source": [
        "start = X_test.index[0]\n",
        "end = X_test.index[-1]\n",
        "timestamps = pd.date_range(start=start, end=end, freq='1H')"
      ]
    },
    {
      "cell_type": "code",
      "execution_count": null,
      "metadata": {
        "id": "hoDXeyqxhUOS"
      },
      "outputs": [],
      "source": [
        "predictions = []\n",
        "lags = X_test.iloc[0].values.tolist()  # первые лаги из начала теста\n",
        "\n",
        "for _ in timestamps:\n",
        "    # Прогноз\n",
        "    y_pred = pred_model.predict(np.array([lags]))[0]\n",
        "    predictions.append(y_pred)\n",
        "\n",
        "    # Обновляем лаги: сдвигаем влево и добавляем новый прогноз\n",
        "    lags = lags[1:] + [y_pred]\n",
        "\n",
        "predictions = pd.DataFrame(predictions, index=timestamps, columns=['Tt'])\n",
        "\n",
        "baseline_predictions = [X_test.iloc[0].mean() for _ in y_test.index]"
      ]
    },
    {
      "cell_type": "code",
      "execution_count": null,
      "metadata": {
        "id": "5cx7NCS7hUQv"
      },
      "outputs": [],
      "source": [
        "plt.figure(figsize=(10, 5))\n",
        "plt.plot(timestamps, predictions['Tt'], label='Прогноз xgb')\n",
        "plt.plot(df['Tt'].loc[start:].index, df['Tt'].loc[start:], linestyle='none', marker='.', markersize=5, label='Истина')\n",
        "plt.plot(y_test.index, baseline_predictions, label='Прогноз baseline')\n",
        "\n",
        "plt.ylabel(\"$^\\\\circ$С\")\n",
        "plt.title('Autoregressive прогноз XGBoost')\n",
        "plt.xlabel('Индекс времени')\n",
        "plt.legend()\n",
        "plt.grid(True)\n",
        "plt.tight_layout()\n",
        "\n",
        "# plt.xlim([start, start + pd.Timedelta(\"4d\")])\n",
        "\n",
        "plt.show()"
      ]
    },
    {
      "cell_type": "code",
      "source": [
        "# Общие индексы\n",
        "common_index = y_test.index.intersection(predictions.index)"
      ],
      "metadata": {
        "id": "voBwVAdJi5E_"
      },
      "execution_count": null,
      "outputs": []
    },
    {
      "cell_type": "code",
      "execution_count": null,
      "metadata": {
        "id": "thxrverpLcSF"
      },
      "outputs": [],
      "source": [
        "rmse = np.sqrt(\n",
        "    mean_squared_error(y_test.loc[common_index], predictions.loc[common_index]))\n",
        "\n",
        "baseline_rmse = np.sqrt(mean_squared_error(y_test, baseline_predictions))\n",
        "\n",
        "print(\"RMSE:\", round(rmse, 3))\n",
        "print(\"Baseline RMSE:\", round(baseline_rmse, 3))"
      ]
    },
    {
      "cell_type": "markdown",
      "source": [
        "### Модель с множественным прогнозом (сразу n точек)"
      ],
      "metadata": {
        "id": "x_OTRJ6vfH6r"
      }
    },
    {
      "cell_type": "markdown",
      "metadata": {
        "id": "59nhkCtukmwe"
      },
      "source": [
        "**sequence-to-sequence (seq2seq)** прогноз с XGBoost  \n",
        "модель получает на вход `input_len` прошлых значений и предсказывает сразу `output_len` будущих\n",
        "\n",
        "XGBoost **не поддерживает** напрямую многомерный выход, но можно сделать обучить `output_len` отдельных моделей, каждая из которых будет предсказывать своё значение\n"
      ]
    },
    {
      "cell_type": "code",
      "execution_count": null,
      "metadata": {
        "id": "LYTlR2xznYDV"
      },
      "outputs": [],
      "source": [
        "def make_seq2seq_dataset(series, input_len, output_len):\n",
        "    X, Y = [], []\n",
        "    for i in range(len(series) - input_len - output_len + 1):\n",
        "        X.append(series[i:i + input_len])\n",
        "        Y.append(series[i + input_len:i + input_len + output_len])\n",
        "    return np.array(X), np.array(Y)"
      ]
    },
    {
      "cell_type": "code",
      "execution_count": null,
      "metadata": {
        "id": "ItpiNGSLnYHM"
      },
      "outputs": [],
      "source": [
        "input_len = 20\n",
        "output_len = 20\n",
        "X, Y = make_seq2seq_dataset(df['Tt'], input_len=input_len, output_len=output_len)"
      ]
    },
    {
      "cell_type": "code",
      "execution_count": null,
      "metadata": {
        "id": "KSTKcDEtLcSG"
      },
      "outputs": [],
      "source": [
        "X.shape, Y.shape"
      ]
    },
    {
      "cell_type": "markdown",
      "source": [
        "Разделение на тестовую и тренировочную выборки"
      ],
      "metadata": {
        "id": "W5M4oKtRhUrA"
      }
    },
    {
      "cell_type": "code",
      "execution_count": null,
      "metadata": {
        "id": "EQgnt-aYnlRf"
      },
      "outputs": [],
      "source": [
        "train_size = int(len(df) * 0.8)\n",
        "X_train, X_test = X[:train_size], X[train_size:]\n",
        "y_train, y_test = Y[:train_size], Y[train_size:]"
      ]
    },
    {
      "cell_type": "markdown",
      "metadata": {
        "id": "p110cMe4LcSH"
      },
      "source": [
        "`MultiOutputRegressor`\n",
        "\n",
        "Это **обёртка**, которая позволяет использовать любую обычную **регрессионную модель** (например, `XGBRegressor`, `RandomForestRegressor`, `LinearRegression`) для решения задач **многомерной регрессии** (multi-output regression)."
      ]
    },
    {
      "cell_type": "code",
      "execution_count": null,
      "metadata": {
        "id": "-ZKdUpWCnl0d"
      },
      "outputs": [],
      "source": [
        "from sklearn.multioutput import MultiOutputRegressor\n",
        "\n",
        "model = MultiOutputRegressor(xgb.XGBRegressor())\n",
        "model.fit(X_train, y_train)  # X_train: (n_samples, 20), y_train: (n_samples, 20)"
      ]
    },
    {
      "cell_type": "code",
      "execution_count": null,
      "metadata": {
        "id": "54i-fundn7zt"
      },
      "outputs": [],
      "source": [
        "y_pred = model.predict(X_test)"
      ]
    },
    {
      "cell_type": "code",
      "execution_count": null,
      "metadata": {
        "id": "_StdcYw4omHp"
      },
      "outputs": [],
      "source": [
        "baseline_pred = np.array([np.ones(20)*x.mean() for x in X_test])"
      ]
    },
    {
      "cell_type": "code",
      "execution_count": null,
      "metadata": {
        "id": "e2UBnSx0n74l"
      },
      "outputs": [],
      "source": [
        "plt.plot(range(20), y_test[0], label=\"Истинные значения\")\n",
        "plt.plot(range(20), y_pred[0], label=\"Прогноз xgb\", linestyle=\"--\")\n",
        "plt.plot(range(20), baseline_pred[0], label='Прогноз baseline')\n",
        "plt.legend()\n",
        "plt.title(\"Прогноз на 20 шагов вперёд\")\n",
        "plt.show()"
      ]
    },
    {
      "cell_type": "code",
      "execution_count": null,
      "metadata": {
        "id": "zRfIOmiwLcSI"
      },
      "outputs": [],
      "source": [
        "rmse = np.sqrt(mean_squared_error(y_test, y_pred))\n",
        "\n",
        "baseline_rmse = np.sqrt(mean_squared_error(y_test, baseline_pred))\n",
        "\n",
        "print(\"RMSE:\", round(rmse, 3))\n",
        "print(\"Baseline RMSE:\", round(baseline_rmse, 3))"
      ]
    },
    {
      "cell_type": "markdown",
      "metadata": {
        "id": "fISCpqLgLcSI"
      },
      "source": [
        "### Автономный авторегрессионный прогноз с swq2seq моделью"
      ]
    },
    {
      "cell_type": "code",
      "execution_count": null,
      "metadata": {
        "id": "Jway4lLvoe54"
      },
      "outputs": [],
      "source": [
        "current_input = X_test[0]\n",
        "predictions = []\n",
        "\n",
        "# Сколько раз надо сделать предсказания\n",
        "n_iters = (len(timestamps) - input_len) // output_len"
      ]
    },
    {
      "cell_type": "code",
      "execution_count": null,
      "metadata": {
        "id": "2oivdfHNoe-j"
      },
      "outputs": [],
      "source": [
        "for _ in range(n_iters):\n",
        "    # Предсказание следующих 20 значений\n",
        "    pred = model.predict(np.array([current_input]))[0]\n",
        "    predictions.extend(pred)\n",
        "\n",
        "\n",
        "    # Обновляем вход: последние 20 предсказанных значений\n",
        "    current_input = pred.tolist()"
      ]
    },
    {
      "cell_type": "code",
      "execution_count": null,
      "metadata": {
        "id": "DwKlxv8U1lD8"
      },
      "outputs": [],
      "source": [
        "predictions = pd.DataFrame(predictions, index=timestamps[input_len:len(predictions)+input_len], columns=['Tt'])"
      ]
    },
    {
      "cell_type": "code",
      "execution_count": null,
      "metadata": {
        "id": "Ir5QvFlr28Vo"
      },
      "outputs": [],
      "source": [
        "# Общие индексы\n",
        "common_index = df.index.intersection(predictions.index)"
      ]
    },
    {
      "cell_type": "code",
      "execution_count": null,
      "metadata": {
        "id": "am4kYQUgLcSJ"
      },
      "outputs": [],
      "source": [
        "baseline_predictions = [X_test[0].mean() for _ in common_index]"
      ]
    },
    {
      "cell_type": "code",
      "execution_count": null,
      "metadata": {
        "id": "Mj-glPtz2VsL"
      },
      "outputs": [],
      "source": [
        "plt.figure(figsize=(10, 5))\n",
        "plt.plot(\n",
        "    predictions.index, predictions['Tt'], label=\"Прогноз xgb\")\n",
        "plt.plot(\n",
        "    df['Tt'].loc[start:].index, df['Tt'].loc[start:],\n",
        "    linestyle='none', marker='.', markersize=5,\n",
        "    label=\"Истинные значения\")\n",
        "plt.plot(\n",
        "    predictions.loc[common_index].index, baseline_predictions,\n",
        "    label='Прогноз baseline')\n",
        "\n",
        "plt.ylabel(\"$^\\\\circ$С\")\n",
        "plt.title('Autoregressive прогноз XGBoost')\n",
        "plt.xlabel('Индекс времени')\n",
        "plt.legend()\n",
        "plt.grid(True)\n",
        "plt.tight_layout()\n",
        "\n",
        "# plt.xlim([start, start + pd.Timedelta(\"4d\")])\n",
        "\n",
        "plt.show()"
      ]
    },
    {
      "cell_type": "code",
      "execution_count": null,
      "metadata": {
        "id": "5dpp4zb9LcSK"
      },
      "outputs": [],
      "source": [
        "rmse = np.sqrt(\n",
        "    mean_squared_error(\n",
        "        df.loc[common_index, ['Tt']], predictions.loc[common_index]))\n",
        "\n",
        "baseline_rmse = np.sqrt(\n",
        "    mean_squared_error(df.loc[common_index, ['Tt']], baseline_predictions))\n",
        "\n",
        "print(\"RMSE:\", round(rmse, 3))\n",
        "print(\"Baseline RMSE:\", round(baseline_rmse, 3))"
      ]
    },
    {
      "cell_type": "code",
      "execution_count": null,
      "metadata": {
        "id": "Y1OMZPIPLcSK"
      },
      "outputs": [],
      "source": []
    },
    {
      "cell_type": "code",
      "execution_count": null,
      "metadata": {
        "id": "gfyAElcDzroQ"
      },
      "outputs": [],
      "source": []
    }
  ],
  "metadata": {
    "colab": {
      "provenance": [],
      "include_colab_link": true
    },
    "kernelspec": {
      "display_name": "Python 3 (ipykernel)",
      "language": "python",
      "name": "python3"
    },
    "language_info": {
      "codemirror_mode": {
        "name": "ipython",
        "version": 3
      },
      "file_extension": ".py",
      "mimetype": "text/x-python",
      "name": "python",
      "nbconvert_exporter": "python",
      "pygments_lexer": "ipython3",
      "version": "3.12.4"
    }
  },
  "nbformat": 4,
  "nbformat_minor": 0
}