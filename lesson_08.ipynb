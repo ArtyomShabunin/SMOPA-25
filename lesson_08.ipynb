{
  "cells": [
    {
      "cell_type": "markdown",
      "metadata": {
        "id": "view-in-github",
        "colab_type": "text"
      },
      "source": [
        "<a href=\"https://colab.research.google.com/github/ArtyomShabunin/SMOPA-25/blob/main/lesson_8.ipynb\" target=\"_parent\"><img src=\"https://colab.research.google.com/assets/colab-badge.svg\" alt=\"Open In Colab\"/></a>"
      ]
    },
    {
      "cell_type": "markdown",
      "id": "b86f5248-6d10-4662-ade6-27c46cde71d5",
      "metadata": {
        "id": "b86f5248-6d10-4662-ade6-27c46cde71d5"
      },
      "source": [
        "<img src=\"https://prana-system.com/files/110/rds_color_full.png\" alt=\"tot image\" width=\"300\"  align=\"center\"/> &nbsp;&nbsp;&nbsp;&nbsp;&nbsp;&nbsp;&nbsp;&nbsp;\n",
        "<img src=\"https://mpei.ru/AboutUniverse/OficialInfo/Attributes/PublishingImages/logo1.jpg\" alt=\"mpei image\" width=\"200\" align=\"center\"/>\n",
        "<img src=\"https://mpei.ru/Structure/Universe/tanpe/structure/tfhe/PublishingImages/tot.png\" alt=\"tot image\" width=\"100\"  align=\"center\"/>\n",
        "\n",
        "---\n",
        "\n",
        "# **Системы машинного обучения и предиктивной аналитики в тепловой и возобновляемой энергетике**  \n",
        "\n",
        "# ***Практические занятия***\n",
        "\n",
        "\n",
        "---"
      ]
    },
    {
      "cell_type": "markdown",
      "id": "a3d9aa78-d9e6-4970-95ba-e59d7f36b7de",
      "metadata": {
        "id": "a3d9aa78-d9e6-4970-95ba-e59d7f36b7de"
      },
      "source": [
        "# Занятие №8\n",
        "# Прогнозирование временных рядов методами машинного обучения\n",
        "**9 апреля 2025г.**\n",
        "\n",
        "---\n",
        "\n",
        "**Временной ряд** — это последовательность числовых данных, упорядоченных во времени и собранных через **равные промежутки времени**.\n",
        "\n",
        "**Примеры временных рядов:**\n",
        "- Температура воздуха каждый час\n",
        "- Цена на нефть каждый день\n",
        "- Электрическая мощность установки каждую секунду\n",
        "- Количество клиентов в магазине каждый день\n",
        "- Давление в котле каждые 10 секунд\n",
        "\n",
        "---\n",
        "\n",
        "**Особенности временных рядов:**\n",
        "\n",
        "1. **Время имеет значение** — порядок данных важен, в отличие от обычных таблиц.\n",
        "2. **Зависимость от прошлого** — текущее значение может зависеть от предыдущих (автокорреляция).\n",
        "3. **Стационарность или нестационарность** — поведение ряда может меняться со временем (например, тренд, изменение дисперсии).\n",
        "4. **Сезонность** — повторяющиеся циклы (день-ночь, зима-лето и т.д.).\n",
        "\n",
        "---\n",
        "\n",
        "**Где используются:**\n",
        "\n",
        "- Финансы (курсы акций, криптовалюты)\n",
        "- Энергетика (нагрузка, температура, давление)\n",
        "- Промышленность (сигналы с датчиков)\n",
        "- Метеорология (погода, климат)\n",
        "- Медицина (ЭКГ, пульс, мониторинг пациентов)\n",
        "- Транспорт (потоки, GPS-координаты)\n",
        "\n",
        "---\n",
        "\n",
        "**Задача предсказания временных рядов** — это тип задачи машинного обучения или статистического анализа, в которой требуется спрогнозировать будущие значения некоторой переменной на основе её предыдущих наблюдений, упорядоченных во времени.\n",
        "\n",
        "**Пример:**\n",
        "Допустим, у нас есть данные о температуре каждый день за последние 30 дней. Мы хотим предсказать температуру на следующий день. Это и есть задача предсказания временного ряда.\n",
        "\n",
        "**Типы задач:**\n",
        "- **Одношаговое предсказание (one-step forecasting)** — предсказание значения на следующий момент времени.\n",
        "- **Многопериодное предсказание (multi-step forecasting)** — предсказание значений на несколько будущих шагов.\n",
        "- **Унивариантное (univariate)** — используется только один временной ряд.\n",
        "- **Мультивариантное (multivariate)** — используются несколько временных рядов (например, температура, давление и влажность одновременно)."
      ]
    },
    {
      "cell_type": "code",
      "execution_count": null,
      "id": "a565739e-66ce-4ccd-9d65-a0bd3621da35",
      "metadata": {
        "id": "a565739e-66ce-4ccd-9d65-a0bd3621da35"
      },
      "outputs": [],
      "source": [
        "import numpy as np\n",
        "import pandas as pd\n",
        "import seaborn as sns\n",
        "import matplotlib.pyplot as plt"
      ]
    },
    {
      "cell_type": "markdown",
      "id": "0fff2ff3-58b9-465b-aed4-66307c06314c",
      "metadata": {
        "id": "0fff2ff3-58b9-465b-aed4-66307c06314c"
      },
      "source": [
        "## Загрузка данных и обработка данных\n",
        "Набор содержит данные о почасовом производстве ветряной и солнечной электроэнергии (в МВт) во французской электросети с 2020 года."
      ]
    },
    {
      "cell_type": "code",
      "execution_count": null,
      "id": "951f8994-b111-4a5b-ba67-eb7ef5bfd131",
      "metadata": {
        "id": "951f8994-b111-4a5b-ba67-eb7ef5bfd131"
      },
      "outputs": [],
      "source": [
        "import gdown\n",
        "import warnings\n",
        "warnings.filterwarnings('ignore')\n",
        "gdown.download('https://drive.google.com/uc?id=1NAYPaEkovk7jvaURdjI0nCi7CUMxry7W', verify=False)\n",
        "\n",
        "df = pd.read_csv('./intermittent-renewables-production-france.csv')"
      ]
    },
    {
      "cell_type": "code",
      "execution_count": null,
      "id": "f2b3926f-fa4d-4d7a-9138-621c983ae631",
      "metadata": {
        "id": "f2b3926f-fa4d-4d7a-9138-621c983ae631"
      },
      "outputs": [],
      "source": [
        "df.head()"
      ]
    },
    {
      "cell_type": "code",
      "execution_count": null,
      "id": "78153cd0-eeb9-410d-9712-4fcc3f3bf224",
      "metadata": {
        "id": "78153cd0-eeb9-410d-9712-4fcc3f3bf224"
      },
      "outputs": [],
      "source": [
        "df = df.rename(columns={'Date and Hour' : 'DateTime'})\n",
        "df['DateTime'] = df['DateTime'].str.slice(stop=-6)\n",
        "df['DateTime'] = pd.to_datetime(df['DateTime'])\n",
        "df = df.sort_values(ascending=True,by='DateTime')\n",
        "df = df.drop(['Date','dayOfYear','dayName','monthName'],axis=1)\n",
        "df = df.dropna()\n",
        "df = df.set_index(\"DateTime\")"
      ]
    },
    {
      "cell_type": "code",
      "execution_count": null,
      "id": "9b8275a0-bfde-441d-b160-20fba8e31e64",
      "metadata": {
        "id": "9b8275a0-bfde-441d-b160-20fba8e31e64"
      },
      "outputs": [],
      "source": [
        "df.head()"
      ]
    },
    {
      "cell_type": "code",
      "execution_count": null,
      "id": "957ad438-f08c-496b-beec-9aec917d78a8",
      "metadata": {
        "id": "957ad438-f08c-496b-beec-9aec917d78a8"
      },
      "outputs": [],
      "source": [
        "solar = df[df['Source'] == 'Solar']['Production']\n",
        "wind = df[df['Source'] == 'Wind']['Production']"
      ]
    },
    {
      "cell_type": "code",
      "execution_count": null,
      "id": "f938a119-21bb-4150-8859-f1bba4242ce6",
      "metadata": {
        "id": "f938a119-21bb-4150-8859-f1bba4242ce6"
      },
      "outputs": [],
      "source": [
        "solar, wind"
      ]
    },
    {
      "cell_type": "code",
      "execution_count": null,
      "id": "cb515f7c-ebd9-4a90-b483-686362a89f73",
      "metadata": {
        "id": "cb515f7c-ebd9-4a90-b483-686362a89f73"
      },
      "outputs": [],
      "source": [
        "color_pal = sns.color_palette()\n",
        "solar.plot(style='.',\n",
        "          figsize=(20, 5),\n",
        "          ms=3,\n",
        "          color=color_pal[3],\n",
        "          title='Солнечная электроэнергия')\n",
        "plt.ylabel(\"МВт\")\n",
        "plt.show()\n",
        "\n",
        "wind.plot(style='.',\n",
        "          figsize=(20, 5),\n",
        "          ms=3,\n",
        "          color=color_pal[2],\n",
        "          title='Ветряная электроэнергия')\n",
        "plt.ylabel(\"МВт\")\n",
        "plt.show()"
      ]
    },
    {
      "cell_type": "markdown",
      "id": "05c059ec-a803-471a-ae34-0088a1250c8d",
      "metadata": {
        "id": "05c059ec-a803-471a-ae34-0088a1250c8d"
      },
      "source": [
        "## Производство солнечной электроэнергии\n",
        "### Разложение временного ряда\n",
        "\n",
        "**Разложение временного ряда** — это метод, при котором временной ряд представляется как сумма (или произведение) нескольких более простых компонент:\n",
        "\n",
        "1. **Тренд (`trend`)** — общее направление изменения данных с течением времени. Это может быть рост, спад или стабилизация.\n",
        "2. **Сезонность (`seasonal`)** — периодические колебания, которые повторяются через равные интервалы времени (например, дни недели, месяцы, сезоны года).\n",
        "3. **Остаток (`residual` или `noise`)** — всё, что не объясняется трендом и сезонностью. Это случайные, непредсказуемые флуктуации.\n",
        "\n",
        "<img src=\"https://github.com/ArtyomShabunin/SMOPA-25/blob/main/imgs/trend_seasonality.png?raw=true\" alt=\"trend_seasonality\" width=\"800\"  align=\"center\"/>\n",
        "* картинка из конспекта лекции Воронцова В.К. Методы машинного обучения. Инкрементное и онлайн обучение. ВМК МГУ 2022\n",
        "\n",
        "- **Ряд 1** - сезонность без тренда\n",
        "- **Ряд 2** - линейный тренд, аддитивная сезоность\n",
        "- **Ряд 3** - линейный тренд, мультипликативная сезонность\n",
        "- **Ряд 4** - экспоненциальный тренд, мультипликативная сезонность\n",
        "\n",
        "---\n",
        "\n",
        "**Математические модели**\n",
        "\n",
        "Есть два основных способа описания этих компонентов:\n",
        "\n",
        "1. **Аддитивная модель** (additive model)\n",
        "Предполагает, что все компоненты **независимы друг от друга** и просто **суммируются**:\n",
        "\n",
        "$$Y_t = T_t + S_t + R_t$$\n",
        "\n",
        "Где:\n",
        "- $ Y_t $ — наблюдаемое значение временного ряда в момент времени \\( t \\)\n",
        "- $ T_t $ — тренд\n",
        "- $ S_t $ — сезонная компонента\n",
        "- $ R_t $ — остаток (шум)\n",
        "\n",
        "**Когда использовать**: когда амплитуда сезонных колебаний **постоянна**, независимо от уровня тренда.\n",
        "\n",
        "---\n",
        "\n",
        "2. **Мультипликативная модель** (multiplicative model)\n",
        "\n",
        "Предполагает, что компоненты взаимодействуют **мультипликативно**:\n",
        "\n",
        "$$Y_t = T_t \\times S_t \\times R_t$$\n",
        "\n",
        "**Когда использовать**: когда сезонные колебания **усиливаются или ослабевают** вместе с ростом тренда (например, расходы растут и колебания становятся больше по мере роста доходов компании).\n",
        "\n",
        "---\n",
        "\n",
        "**Что даёт разложение?**\n",
        "\n",
        "1. **Анализ структуры ряда** — можно отдельно рассмотреть, какие сезонные эффекты присутствуют, каков общий тренд.\n",
        "2. **Предобработка для прогнозирования** — если удалить сезонность и тренд, можно подавать чистые остатки на модель.\n",
        "3. **Детекция аномалий** — если резидуальная компонента аномально большая, можно предположить сбой или событие."
      ]
    },
    {
      "cell_type": "code",
      "execution_count": null,
      "id": "94ccdc15-8394-4f71-aa28-deb8401b28df",
      "metadata": {
        "id": "94ccdc15-8394-4f71-aa28-deb8401b28df"
      },
      "outputs": [],
      "source": [
        "from statsmodels.tsa.seasonal import seasonal_decompose\n",
        "\n",
        "def seasonal_decompose_plotter(\n",
        "    df: pd.DataFrame, model='additive',\n",
        "    period=12, title='', figsize=(20, 12)):\n",
        "\n",
        "    # period - период сезонности\n",
        "\n",
        "    decomposition = seasonal_decompose(df.values, model=model, period=period)\n",
        "    de_season = decomposition.seasonal\n",
        "    de_resid = decomposition.resid\n",
        "    de_trend = decomposition.trend\n",
        "\n",
        "    fig, ax = plt.subplots(4, sharex=True, figsize=figsize)\n",
        "\n",
        "    ax[0].set_title(title)\n",
        "    ax[0].plot(df.index, df.values, color='C3')\n",
        "    ax[0].set_ylabel(df.keys()[0])\n",
        "    ax[0].grid(alpha=0.25)\n",
        "\n",
        "    ax[1].plot(df.index, de_trend, color='C1')\n",
        "    ax[1].set_ylabel('Trend')\n",
        "    ax[1].grid(alpha=0.25)\n",
        "\n",
        "    ax[2].plot(df.index, de_season, color='C2')\n",
        "    ax[2].set_ylabel('Seasonal')\n",
        "    ax[2].grid(alpha=0.25)\n",
        "\n",
        "    ax[3].axhline(y=0, color='k', linewidth=1)\n",
        "    ax[3].scatter(df.index, de_resid, color='C0', s=10)\n",
        "    ax[3].set_ylabel('Resid')\n",
        "    ax[3].grid(alpha=0.25)\n",
        "\n",
        "    plt.tight_layout(h_pad=0)\n",
        "    plt.show()\n",
        "\n",
        "    return decomposition"
      ]
    },
    {
      "cell_type": "code",
      "execution_count": null,
      "id": "7ace7f63-9415-4573-9023-649b8a169d56",
      "metadata": {
        "id": "7ace7f63-9415-4573-9023-649b8a169d56"
      },
      "outputs": [],
      "source": [
        "_ = seasonal_decompose_plotter(\n",
        "    solar,\n",
        "    model='additive',\n",
        "    # model='multiplicative',\n",
        "    period=24*365,\n",
        "    title='Solar Power Generation Seasonal Decompose', figsize=(20, 12))"
      ]
    },
    {
      "cell_type": "code",
      "execution_count": null,
      "id": "zAmrYX70BCnR",
      "metadata": {
        "id": "zAmrYX70BCnR"
      },
      "outputs": [],
      "source": [
        "fig = plt.figure(figsize=(20, 3));\n",
        "plt.plot(solar.index, _.seasonal, color='C2');\n",
        "plt.ylabel('Seasonal');\n",
        "plt.xlim(pd.to_datetime(['2022-12-01', '2022-12-10']));"
      ]
    },
    {
      "cell_type": "markdown",
      "id": "cf598e75-1648-4f06-a0cd-dd31745d71b8",
      "metadata": {
        "id": "cf598e75-1648-4f06-a0cd-dd31745d71b8"
      },
      "source": [
        "### Предсказание производства солнечной электроэнергии, на осредненных данных"
      ]
    },
    {
      "cell_type": "markdown",
      "id": "bhysKSG_c4L6",
      "metadata": {
        "id": "bhysKSG_c4L6"
      },
      "source": [
        "Для упрощения выполним агрегацию временного ряда с переходом от почасовой к суточной дискретности."
      ]
    },
    {
      "cell_type": "code",
      "execution_count": null,
      "id": "2665dec1-b342-437e-a59a-48212b20addd",
      "metadata": {
        "id": "2665dec1-b342-437e-a59a-48212b20addd"
      },
      "outputs": [],
      "source": [
        "solar_dy_day = solar.resample('1d').sum()"
      ]
    },
    {
      "cell_type": "code",
      "execution_count": null,
      "id": "yIvtTbu9vZSk",
      "metadata": {
        "id": "yIvtTbu9vZSk"
      },
      "outputs": [],
      "source": [
        "solar_dy_day.head()"
      ]
    },
    {
      "cell_type": "markdown",
      "id": "692cda5d-73c6-4a5c-a01e-118bb6ba4f54",
      "metadata": {
        "id": "692cda5d-73c6-4a5c-a01e-118bb6ba4f54"
      },
      "source": [
        "**Prophet** — это библиотека для **прогнозирования временных рядов**. Она особенно удобна для пользователей, которым **нужны точные прогнозы без глубокого погружения в статистику** или машинное обучение.\n",
        "\n",
        "---\n",
        "\n",
        "**Основные особенности Prophet:**\n",
        "\n",
        "**Удобство** — прост в использовании.  \n",
        "**Поддерживает тренды и сезонность** — автоматически выявляет и моделирует их.  \n",
        "**Гибкость** — позволяет добавлять пользовательские праздничные дни, внешние факторы, ручные настройки.  \n",
        "\n",
        "---\n",
        "\n",
        "**Как работает Prophet?**\n",
        "\n",
        "Prophet использует **аддитивную модель**:\n",
        "\n",
        "$$y(t) = g(t) + s(t) + h(t) + \\varepsilon_t$$\n",
        "\n",
        "где:\n",
        "\n",
        "- $ g(t) $ — **тренд** (например, линейный или с изменением наклона)\n",
        "- $ s(t) $ — **сезонность** (дневная, недельная, годовая)\n",
        "- $ h(t) $ — **праздники или особые события**\n",
        "- $ \\varepsilon_t $ — **ошибка или шум**\n",
        "\n",
        "Но **сезонность (и праздники)** могут быть как **аддитивными**, так и **мультипликативными** по отношению к тренду.\n",
        "\n",
        "\n",
        "**Аддитивная сезонность:**\n",
        "\n",
        "$$y(t) = g(t) + s(t)$$\n",
        "\n",
        "- Сезонность остаётся одинаковой при любом уровне тренда.\n",
        "- Подходит, когда амплитуда сезонных колебаний постоянна.\n",
        "\n",
        "**Мультипликативная сезонность:**\n",
        "$$\n",
        "y(t) = g(t) \\times (1 + s(t))\n",
        "$$\n",
        "\n",
        "- Амплитуда сезонных колебаний **зависит от уровня тренда**.\n",
        "- Подходит, если сезонные колебания становятся **больше при росте** тренда (например, увеличение спроса и сезонных всплесков одновременно).\n"
      ]
    },
    {
      "cell_type": "markdown",
      "id": "1l-IH8-pxXoW",
      "metadata": {
        "id": "1l-IH8-pxXoW"
      },
      "source": [
        "Хотя **Prophet** не требует большого количества настройки (он \"из коробки\" даёт неплохие результаты), **гиперпараметры всё же есть**, и **их тюнинг может существенно улучшить качество прогноза**.\n",
        "\n",
        "---\n",
        "\n",
        "**Основные гиперпараметры Prophet, которые можно настраивать:**\n",
        "\n",
        "| Параметр | Назначение |\n",
        "|----------|------------|\n",
        "| `changepoint_prior_scale` | Регуляризация резких изменений тренда |\n",
        "| `seasonality_prior_scale` | Регуляризация сезонности |\n",
        "| `holidays_prior_scale` | Регуляризация влияния праздников |\n",
        "| `seasonality_mode` | `'additive'` или `'multiplicative'` |\n",
        "| `changepoint_range` | Доля обучающего периода, где возможны изменения тренда |\n",
        "| `interval_width` | Ширина доверительного интервала |\n"
      ]
    },
    {
      "cell_type": "markdown",
      "id": "PujvQMTcEMAM",
      "metadata": {
        "id": "PujvQMTcEMAM"
      },
      "source": [
        "Модель **Prophet** требует строго определённый формат входных данных — это **таблица (DataFrame)** с двумя обязательными столбцами:\n",
        "\n",
        "---\n",
        "\n",
        "**Обязательные столбцы:**\n",
        "\n",
        "| Название | Тип | Описание |\n",
        "|----------|-----|----------|\n",
        "| `ds`     | `datetime` (или строка, распознаваемая как дата) | Метка времени наблюдения |\n",
        "| `y`      | `float` или `int` | Значение временного ряда (целевой признак) |\n"
      ]
    },
    {
      "cell_type": "code",
      "execution_count": null,
      "id": "77eda3fe-405d-4d33-8e3b-a82eabe87001",
      "metadata": {
        "id": "77eda3fe-405d-4d33-8e3b-a82eabe87001"
      },
      "outputs": [],
      "source": [
        "solar_dy_day = pd.DataFrame(solar_dy_day)\n",
        "solar_dy_day.columns = [\"y\"]\n",
        "solar_dy_day[\"ds\"] = solar_dy_day.index"
      ]
    },
    {
      "cell_type": "code",
      "execution_count": null,
      "id": "6ExR0WgWcKy4",
      "metadata": {
        "id": "6ExR0WgWcKy4"
      },
      "outputs": [],
      "source": [
        "solar_dy_day.head()"
      ]
    },
    {
      "cell_type": "markdown",
      "id": "lVTKGlnWxC3M",
      "metadata": {
        "id": "lVTKGlnWxC3M"
      },
      "source": [
        "Разделим данные на обучающую и тестовую выборки"
      ]
    },
    {
      "cell_type": "code",
      "execution_count": null,
      "id": "e9985c0f-7a91-43d6-a543-065e10220080",
      "metadata": {
        "id": "e9985c0f-7a91-43d6-a543-065e10220080"
      },
      "outputs": [],
      "source": [
        "cutoff_date = '2023-01-01'\n",
        "\n",
        "solar_dy_day_train = solar_dy_day[solar_dy_day[\"ds\"] < cutoff_date].copy()\n",
        "solar_dy_day_test = solar_dy_day[solar_dy_day[\"ds\"] >= cutoff_date].copy()\n",
        "\n",
        "print(f\"Train: {solar_dy_day_train.shape[0]} записей\")\n",
        "print(f\"Test: {solar_dy_day_test.shape[0]} записей\")"
      ]
    },
    {
      "cell_type": "markdown",
      "id": "JUQ0gDij5OKK",
      "metadata": {
        "id": "JUQ0gDij5OKK"
      },
      "source": [
        "Оценка модели на основе **базовой модели (baseline model)** — это способ понять, насколько модель действительно хороша, сравнив её с простой, но разумной альтернативой, которая не использует сложного обучения.\n",
        "\n",
        "**Базовая модель** — это **простая модель**, которая используется как **точка отсчёта** для оценки качества более сложных моделей.\n",
        "\n",
        "Она:\n",
        "- **Легко интерпретируема**,\n",
        "- **Очень быстрая**,\n",
        "- **Не требует обучения (или почти не требует)**,\n",
        "- Даёт **минимальный разумный уровень точности**,\n",
        "- Помогает понять: *насколько хорошо наша \"умная\" модель реально работает?*\n",
        "\n",
        "---\n",
        "\n",
        "**baseline-модели в прогнозировании временных рядов:**\n",
        "- **\"Наивный прогноз\"**: значение на следующий шаг = значение на предыдущем шаге:\n",
        "  ```python\n",
        "  y_pred[t] = y[t-1]\n",
        "  ```\n",
        "- **Среднее значение из прошлого**:\n",
        "  ```python\n",
        "  y_pred = train['y'].mean()\n",
        "  ```\n",
        "- **Медиана** (если есть выбросы)\n"
      ]
    },
    {
      "cell_type": "code",
      "execution_count": null,
      "id": "gL6ShqKw7QQD",
      "metadata": {
        "id": "gL6ShqKw7QQD"
      },
      "outputs": [],
      "source": [
        "solar_dy_day_baseline_pred = np.array(\n",
        "    [solar_dy_day_train['y'].mean() for _ in range(len(solar_dy_day_test))])"
      ]
    },
    {
      "cell_type": "markdown",
      "id": "8996bd0b-18e6-494f-9932-b04fde254530",
      "metadata": {
        "id": "8996bd0b-18e6-494f-9932-b04fde254530"
      },
      "source": [
        "Настройка и обучение модели предсказания"
      ]
    },
    {
      "cell_type": "code",
      "execution_count": null,
      "id": "bf4feb14-9a2b-4967-a87a-1504c7c81810",
      "metadata": {
        "id": "bf4feb14-9a2b-4967-a87a-1504c7c81810"
      },
      "outputs": [],
      "source": [
        "from prophet import Prophet\n",
        "\n",
        "model_param ={\n",
        "    \"daily_seasonality\": False, # ежедневная сезонность\n",
        "    \"weekly_seasonality\":False, # недельная сезонность\n",
        "    \"yearly_seasonality\":True, # годовая сезонность\n",
        "    # \"interval_width\": 0.8, # ширина доверительного интервала\n",
        "    # \"seasonality_mode\": \"multiplicative\", # сезонность будет мультипликативной\n",
        "    # \"changepoint_prior_scale\" : 0.05 # управляет гибкостью модели в определении изменений тренда\n",
        "}\n",
        "\n",
        "model = Prophet(**model_param)\n",
        "\n",
        "model.fit(solar_dy_day_train);"
      ]
    },
    {
      "cell_type": "markdown",
      "id": "cbf826d3-4d16-43f2-ac6f-f1a4d09c509c",
      "metadata": {
        "id": "cbf826d3-4d16-43f2-ac6f-f1a4d09c509c"
      },
      "source": [
        "Получаем прогноз"
      ]
    },
    {
      "cell_type": "code",
      "execution_count": null,
      "id": "1b9ec239-0ac9-41e6-8a93-f22b120c4132",
      "metadata": {
        "id": "1b9ec239-0ac9-41e6-8a93-f22b120c4132"
      },
      "outputs": [],
      "source": [
        "future= model.make_future_dataframe(\n",
        "    periods=solar_dy_day_test.shape[0], # количество будущих временных шагов для прогноза\n",
        "    freq='d' # частота временного ряда\n",
        ")\n",
        "forecast= model.predict(future)"
      ]
    },
    {
      "cell_type": "markdown",
      "id": "oG8lQmFjNpK8",
      "metadata": {
        "id": "oG8lQmFjNpK8"
      },
      "source": [
        "**forecast** содержит как прогнозы (`yhat`), так и подробную информацию о каждом компоненте модели.\n",
        "\n",
        "---\n",
        "\n",
        "**Основные колонки в `forecast`:**\n",
        "\n",
        "| Колонка         | Описание |\n",
        "|-----------------|----------|\n",
        "| `ds`            | Дата/время точки (datetime) — вход |\n",
        "| `yhat`          | Прогноз модели (сумма всех компонент) |\n",
        "| `yhat_lower`    | Нижняя граница доверительного интервала |\n",
        "| `yhat_upper`    | Верхняя граница доверительного интервала |\n",
        "\n",
        "---\n",
        "\n",
        "**Компоненты прогноза:**\n",
        "\n",
        "| Колонка               | Что означает |\n",
        "|------------------------|---------------|\n",
        "| `trend`                | Компонент тренда |\n",
        "| `seasonal`             | Общая сезонность (сумма всех сезонностей) |\n",
        "| `seasonal_[тип]`       | Сезонность по типу (например, `seasonal_yearly`, `seasonal_weekly`, `seasonal_daily`, если они включены) |\n",
        "| `holidays`             | Эффект праздников |\n",
        "| `additive_terms`       | Сумма `seasonal + holidays` (если используется аддитивная модель) |\n",
        "| `multiplicative_terms` | Мультипликативные эффекты (если включено `seasonality_mode='multiplicative'`) |\n"
      ]
    },
    {
      "cell_type": "code",
      "execution_count": null,
      "id": "Gb0jAwi-Mw7c",
      "metadata": {
        "id": "Gb0jAwi-Mw7c"
      },
      "outputs": [],
      "source": [
        "forecast.head()"
      ]
    },
    {
      "cell_type": "markdown",
      "id": "YNyXQk8FGans",
      "metadata": {
        "id": "YNyXQk8FGans"
      },
      "source": [
        "### Анализ качества модели"
      ]
    },
    {
      "cell_type": "code",
      "execution_count": null,
      "id": "hq5NDsb2zIFv",
      "metadata": {
        "id": "hq5NDsb2zIFv"
      },
      "outputs": [],
      "source": [
        "fig = model.plot(\n",
        "    forecast, xlabel='Datetime(gmt)',\n",
        "    ylabel=r'Солнечная электроэнергия',\n",
        "    figsize=(20, 5), uncertainty=True)\n",
        "plt.title('Генерация солнечной электроэнергии по дням')\n",
        "\n",
        "ax = fig.gca()\n",
        "\n",
        "# Добавим тестовые значения\n",
        "ax.plot(\n",
        "    solar_dy_day_test['ds'], solar_dy_day_test['y'], 'r.',\n",
        "    label='Тестовые данные', markersize=4,\n",
        "    zorder=1)\n",
        "\n",
        "plt.show()"
      ]
    },
    {
      "cell_type": "markdown",
      "id": "pGxClz0GTyFg",
      "metadata": {
        "id": "pGxClz0GTyFg"
      },
      "source": [
        "```plot_components``` построит графики всех доступных составляющих"
      ]
    },
    {
      "cell_type": "code",
      "execution_count": null,
      "id": "BoV3RPwNTz_Q",
      "metadata": {
        "id": "BoV3RPwNTz_Q"
      },
      "outputs": [],
      "source": [
        "fig = model.plot_components(forecast,uncertainty=True,figsize=(20, 10))\n",
        "plt.show()"
      ]
    },
    {
      "cell_type": "markdown",
      "id": "FhoG5DPFGpU-",
      "metadata": {
        "id": "FhoG5DPFGpU-"
      },
      "source": [
        "Выполним расчет наиболее распространённых метрик\n",
        "\n",
        "Обозначения:\n",
        "\n",
        "- $ y_t $ — истинное значение в момент времени $ t $  \n",
        "- $ \\hat{y}_t $ — предсказанное значение  \n",
        "- $ n $ — общее количество прогнозируемых точек\n",
        "\n",
        "**MAE (Mean Absolute Error)**\n",
        "\n",
        "Средняя абсолютная ошибка:\n",
        "\n",
        "$$ \\text{MAE} = \\frac{1}{n} \\sum_{t=1}^{n} |y_t - \\hat{y}_t| $$"
      ]
    },
    {
      "cell_type": "code",
      "execution_count": null,
      "id": "lcwN1J1Yyjhf",
      "metadata": {
        "id": "lcwN1J1Yyjhf"
      },
      "outputs": [],
      "source": [
        "from sklearn.metrics import mean_absolute_error\n",
        "\n",
        "mae = mean_absolute_error(\n",
        "    solar_dy_day_test['y'],\n",
        "    forecast['yhat'][-solar_dy_day_test.shape[0]:]\n",
        ")\n",
        "\n",
        "baseline_mae = mean_absolute_error(\n",
        "    solar_dy_day_test['y'],\n",
        "    solar_dy_day_baseline_pred\n",
        ")\n",
        "\n",
        "print(f\"MAE: {mae:.2f}\")\n",
        "print(f\"Baseline MAE: {baseline_mae:.2f}\")"
      ]
    },
    {
      "cell_type": "markdown",
      "id": "OCGHjlLHJ9qU",
      "metadata": {
        "id": "OCGHjlLHJ9qU"
      },
      "source": [
        "**RMSE (Root Mean Squared Error)**\n",
        "\n",
        "Корень из средней квадратичной ошибки:\n",
        "\n",
        "$$ \\text{RMSE} = \\sqrt{\\frac{1}{n} \\sum_{t=1}^{n} (y_t - \\hat{y}_t)^2} $$"
      ]
    },
    {
      "cell_type": "code",
      "execution_count": null,
      "id": "SAY_LEw406Yd",
      "metadata": {
        "id": "SAY_LEw406Yd"
      },
      "outputs": [],
      "source": [
        "from sklearn.metrics import mean_squared_error\n",
        "\n",
        "rmse = np.sqrt(mean_squared_error(\n",
        "    solar_dy_day_test['y'],\n",
        "    forecast['yhat'][-solar_dy_day_test.shape[0]:]\n",
        "))\n",
        "\n",
        "baseline_rmse = np.sqrt(mean_squared_error(\n",
        "    solar_dy_day_test['y'],\n",
        "    solar_dy_day_baseline_pred\n",
        "))\n",
        "\n",
        "print(f\"RMSE: {rmse:.2f}\")\n",
        "print(f\"Baseline RMSE: {baseline_rmse:.2f}\")"
      ]
    },
    {
      "cell_type": "markdown",
      "id": "k3ee8duHLpi8",
      "metadata": {
        "id": "k3ee8duHLpi8"
      },
      "source": [
        "**MAPE (Mean Absolute Percentage Error)**\n",
        "\n",
        "Средняя абсолютная процентная ошибка:\n",
        "\n",
        "$$ \\text{MAPE} = \\frac{100\\%}{n} \\sum_{t=1}^{n} \\left| \\frac{y_t - \\hat{y}_t}{y_t} \\right| $$\n",
        "\n",
        "при $ y_t = 0 $ MAPE не определена (деление на ноль)."
      ]
    },
    {
      "cell_type": "code",
      "execution_count": null,
      "id": "cHNln5Dd0grY",
      "metadata": {
        "id": "cHNln5Dd0grY"
      },
      "outputs": [],
      "source": [
        "mape = np.mean(np.abs(\n",
        "    (solar_dy_day_test['y'].values - forecast['yhat'][-solar_dy_day_test.shape[0]:].values) / solar_dy_day_test['y'].values)\n",
        ") * 100\n",
        "\n",
        "baseline_mape = np.mean(np.abs(\n",
        "    (solar_dy_day_test['y'].values - solar_dy_day_baseline_pred) / solar_dy_day_test['y'].values)\n",
        ") * 100\n",
        "\n",
        "print(f\"MAPE: {mape:.2f}%\")\n",
        "print(f\"Baseline MAPE: {baseline_mape:.2f}%\")"
      ]
    },
    {
      "cell_type": "markdown",
      "id": "tqKEgh-mNacg",
      "metadata": {
        "id": "tqKEgh-mNacg"
      },
      "source": [
        "С точки зрения средней ошибки модель имеет очень низкое качество. Посмотрим на суммартные ошибки"
      ]
    },
    {
      "cell_type": "markdown",
      "id": "NJVC0eO_Qwok",
      "metadata": {
        "id": "NJVC0eO_Qwok"
      },
      "source": [
        "**Покрытие (Coverage )**\n",
        "\n",
        "Доля истинных значений, попавших в доверительный интервал прогноза\n",
        "\n",
        "Если есть предсказания нижней и верхней границы интервала: $ \\hat{y}_t^{\\text{lower}}, \\hat{y}_t^{\\text{upper}} $, тогда:\n",
        "\n",
        "$$ \\text{Coverage} = \\frac{1}{n} \\sum_{t=1}^{n} \\mathbb{1} \\left[ \\hat{y}_t^{\\text{lower}} \\leq y_t \\leq \\hat{y}_t^{\\text{upper}} \\right] $$\n",
        "\n",
        "где $ \\mathbb{1}[\\cdot] $ — индикаторная функция (1, если условие выполнено, 0 иначе)."
      ]
    },
    {
      "cell_type": "code",
      "execution_count": null,
      "id": "WjZB9WhWyjzC",
      "metadata": {
        "id": "WjZB9WhWyjzC"
      },
      "outputs": [],
      "source": [
        "above_lower = solar_dy_day_test['y'].values >= forecast['yhat_lower'][-solar_dy_day_test.shape[0]:].values\n",
        "below_upper = solar_dy_day_test['y'].values <= forecast['yhat_upper'][-solar_dy_day_test.shape[0]:].values\n",
        "in_interval = above_lower & below_upper\n",
        "\n",
        "coverage = in_interval.sum() / solar_dy_day_test.shape[0]\n",
        "print(f\"Покрытие: {coverage*100:.2f}%\")"
      ]
    },
    {
      "cell_type": "markdown",
      "id": "qa09o22LU4BL",
      "metadata": {
        "id": "qa09o22LU4BL"
      },
      "source": [
        "### Предсказание производства солнечной электроэнергии с учетом дневной сезонности"
      ]
    },
    {
      "cell_type": "code",
      "execution_count": null,
      "id": "cd4e2201-ed1d-4994-9110-6e976228c8be",
      "metadata": {
        "id": "cd4e2201-ed1d-4994-9110-6e976228c8be"
      },
      "outputs": [],
      "source": [
        "solar = pd.DataFrame(solar)\n",
        "solar.columns = [\"y\"]\n",
        "solar[\"ds\"] = solar.index"
      ]
    },
    {
      "cell_type": "code",
      "execution_count": null,
      "id": "KkpJUDPrj9Uh",
      "metadata": {
        "id": "KkpJUDPrj9Uh"
      },
      "outputs": [],
      "source": [
        "solar.head()"
      ]
    },
    {
      "cell_type": "markdown",
      "id": "JFSWEx4JVj5-",
      "metadata": {
        "id": "JFSWEx4JVj5-"
      },
      "source": [
        "Разделим данные на обучающую и тестовую выборки"
      ]
    },
    {
      "cell_type": "code",
      "execution_count": null,
      "id": "Xw9DV4ETVFvm",
      "metadata": {
        "id": "Xw9DV4ETVFvm"
      },
      "outputs": [],
      "source": [
        "cutoff_date = '2023-01-01'\n",
        "\n",
        "solar_train = solar[solar[\"ds\"] < cutoff_date].copy()\n",
        "solar_test = solar[solar[\"ds\"] >= cutoff_date].copy()\n",
        "\n",
        "print(f\"Train: {solar_train.shape[0]} записей\")\n",
        "print(f\"Test: {solar_test.shape[0]} записей\")"
      ]
    },
    {
      "cell_type": "markdown",
      "id": "ZRIxYRhEHXom",
      "metadata": {
        "id": "ZRIxYRhEHXom"
      },
      "source": [
        "Базовая модель"
      ]
    },
    {
      "cell_type": "code",
      "execution_count": null,
      "id": "sG4A6bpaHa0z",
      "metadata": {
        "id": "sG4A6bpaHa0z"
      },
      "outputs": [],
      "source": [
        "solar_baseline_pred = np.array(\n",
        "    [solar_train['y'].mean() for _ in range(len(solar_test))])"
      ]
    },
    {
      "cell_type": "markdown",
      "id": "-9IKaXyTWAvQ",
      "metadata": {
        "id": "-9IKaXyTWAvQ"
      },
      "source": [
        "Настройка и обучение модели предсказания"
      ]
    },
    {
      "cell_type": "code",
      "execution_count": null,
      "id": "zof3PqPfVF4Y",
      "metadata": {
        "id": "zof3PqPfVF4Y"
      },
      "outputs": [],
      "source": [
        "from prophet import Prophet\n",
        "\n",
        "model_param ={\n",
        "    \"daily_seasonality\": True, # ежедневная сезонность\n",
        "    \"weekly_seasonality\":True, # недельная сезонность\n",
        "    \"yearly_seasonality\":True, # годовая сезонность\n",
        "    # \"seasonality_mode\": \"multiplicative\", # сезонность будет мультипликативной\n",
        "    # \"changepoint_prior_scale\" : 0.05 # управляет гибкостью модели в определении изменений тренда\n",
        "}\n",
        "\n",
        "model = Prophet(**model_param)\n",
        "\n",
        "model.fit(solar_train);"
      ]
    },
    {
      "cell_type": "markdown",
      "id": "_H9KeAaHWOMc",
      "metadata": {
        "id": "_H9KeAaHWOMc"
      },
      "source": [
        "Получаем прогноз"
      ]
    },
    {
      "cell_type": "code",
      "execution_count": null,
      "id": "rGOgJMUIWGI8",
      "metadata": {
        "id": "rGOgJMUIWGI8"
      },
      "outputs": [],
      "source": [
        "future= model.make_future_dataframe(\n",
        "    periods=solar_test.shape[0], # количество будущих временных шагов для прогноза\n",
        "    freq='h' # частота временного ряда\n",
        ")\n",
        "forecast= model.predict(future)"
      ]
    },
    {
      "cell_type": "markdown",
      "id": "Viaj0DIdWfEk",
      "metadata": {
        "id": "Viaj0DIdWfEk"
      },
      "source": [
        "### Анализ качества модели"
      ]
    },
    {
      "cell_type": "code",
      "execution_count": null,
      "id": "kpzNNpJCVF87",
      "metadata": {
        "id": "kpzNNpJCVF87"
      },
      "outputs": [],
      "source": [
        "fig = model.plot(\n",
        "    forecast, xlabel='Datetime(gmt)', ylabel=r'Солнечная электроэнергия', figsize=(20, 5), uncertainty=True)\n",
        "plt.title('Почасовая генерация солнечной электроэнергии')\n",
        "\n",
        "ax = fig.gca()\n",
        "\n",
        "# Добавим тестовые значения\n",
        "ax.plot(\n",
        "    solar_test['ds'], solar_test['y'], 'r.',\n",
        "    label='Тестовые данные', markersize=4,\n",
        "    zorder=1)\n",
        "\n",
        "plt.show()"
      ]
    },
    {
      "cell_type": "code",
      "execution_count": null,
      "id": "Rdy21xfbWaM6",
      "metadata": {
        "id": "Rdy21xfbWaM6"
      },
      "outputs": [],
      "source": [
        "solar_test['y'].plot(\n",
        "          style='.',\n",
        "          figsize=(20, 5),\n",
        "          ms=10,\n",
        "          color=\"black\",\n",
        "          title='Солнечная электроэнергия');\n",
        "\n",
        "plt.plot(\n",
        "    solar_test.index,\n",
        "    forecast['yhat'][-solar_test.shape[0]:].clip(lower=0));\n",
        "\n",
        "plt.fill_between(\n",
        "    forecast['ds'],\n",
        "    forecast['yhat_lower'],\n",
        "    forecast['yhat_upper'],\n",
        "    color='skyblue',\n",
        "    alpha=0.4, label='Доверительный интервал (80%)');\n",
        "\n",
        "plt.xlim(pd.to_datetime([solar_test.index[-240], solar_test.index[-1]]));"
      ]
    },
    {
      "cell_type": "code",
      "execution_count": null,
      "id": "D8CBfDasY8aY",
      "metadata": {
        "id": "D8CBfDasY8aY"
      },
      "outputs": [],
      "source": [
        "fig = model.plot_components(forecast,uncertainty=True,figsize=(20, 10))\n",
        "plt.show()"
      ]
    },
    {
      "cell_type": "markdown",
      "id": "PHNQrZ0SdYAt",
      "metadata": {
        "id": "PHNQrZ0SdYAt"
      },
      "source": [
        "**MAE (Mean Absolute Error)**\n",
        "\n",
        "Средняя абсолютная ошибка:"
      ]
    },
    {
      "cell_type": "code",
      "execution_count": null,
      "id": "DdynRXLhWaPw",
      "metadata": {
        "id": "DdynRXLhWaPw"
      },
      "outputs": [],
      "source": [
        "from sklearn.metrics import mean_absolute_error\n",
        "\n",
        "mae = mean_absolute_error(\n",
        "    solar_test['y'],\n",
        "    forecast['yhat'][-solar_test.shape[0]:].clip(lower=0)\n",
        ")\n",
        "\n",
        "baseline_mae = mean_absolute_error(\n",
        "    solar_test['y'],\n",
        "    solar_baseline_pred\n",
        ")\n",
        "\n",
        "print(f\"MAE: {mae:.2f}\")\n",
        "print(f\"Baseline MAE: {baseline_mae:.2f}\")"
      ]
    },
    {
      "cell_type": "markdown",
      "id": "7fyiWMDFd5PB",
      "metadata": {
        "id": "7fyiWMDFd5PB"
      },
      "source": [
        "**RMSE (Root Mean Squared Error)**\n",
        "\n",
        "Корень из средней квадратичной ошибки:"
      ]
    },
    {
      "cell_type": "code",
      "execution_count": null,
      "id": "eA_Y3AesaaT3",
      "metadata": {
        "id": "eA_Y3AesaaT3"
      },
      "outputs": [],
      "source": [
        "from sklearn.metrics import mean_squared_error\n",
        "\n",
        "rmse = np.sqrt(mean_squared_error(\n",
        "    solar_test['y'],\n",
        "    forecast['yhat'][-solar_test.shape[0]:].clip(lower=0)\n",
        "))\n",
        "\n",
        "baseline_rmse = np.sqrt(mean_squared_error(\n",
        "    solar_test['y'],\n",
        "    solar_baseline_pred\n",
        "))\n",
        "\n",
        "print(f\"RMSE: {rmse:.2f}\")\n",
        "print(f\"Baseline RMSE: {baseline_rmse:.2f}\")"
      ]
    },
    {
      "cell_type": "markdown",
      "id": "ATxg40OlewPb",
      "metadata": {
        "id": "ATxg40OlewPb"
      },
      "source": [
        "**MAPE (Mean Absolute Percentage Error)**\n",
        "\n",
        "Средняя абсолютная процентная ошибка:"
      ]
    },
    {
      "cell_type": "code",
      "execution_count": null,
      "id": "etVL_tRbaaZQ",
      "metadata": {
        "id": "etVL_tRbaaZQ"
      },
      "outputs": [],
      "source": [
        "mape = np.mean(np.abs(\n",
        "    (solar_test['y'].values - forecast['yhat'][-solar_test.shape[0]:].clip(lower=0).values) / solar_test['y'].clip(lower=1e-6).values)\n",
        ") * 100\n",
        "\n",
        "baseline_mape = np.mean(np.abs(\n",
        "    (solar_test['y'].clip(lower=1e-6).values - solar_baseline_pred) / solar_test['y'].clip(lower=1e-6).values)\n",
        ") * 100\n",
        "\n",
        "print(f\"MAPE: {mape:.2f}%\")\n",
        "print(f\"Baseline MAPE: {baseline_mape:.2f}%\")"
      ]
    },
    {
      "cell_type": "markdown",
      "id": "CXLDG3_ki3az",
      "metadata": {
        "id": "CXLDG3_ki3az"
      },
      "source": [
        "**Ошибка доверительного интервала**"
      ]
    },
    {
      "cell_type": "code",
      "execution_count": null,
      "id": "ak9jBQKJaadh",
      "metadata": {
        "id": "ak9jBQKJaadh"
      },
      "outputs": [],
      "source": [
        "above_lower = solar_test['y'].values >= forecast['yhat_lower'][-solar_test.shape[0]:].values\n",
        "below_upper = solar_test['y'].values <= forecast['yhat_upper'][-solar_test.shape[0]:].values\n",
        "in_interval = above_lower & below_upper\n",
        "\n",
        "\n",
        "coverage = in_interval.sum() / solar_test.shape[0]\n",
        "print(f\"Покрытие: {coverage*100:.2f}%\")"
      ]
    },
    {
      "cell_type": "markdown",
      "id": "454d5891-583d-4d87-9905-97d43155daab",
      "metadata": {
        "id": "454d5891-583d-4d87-9905-97d43155daab"
      },
      "source": [
        "## Производство ветряной электроэнергии\n",
        "### Разложение временного ряда"
      ]
    },
    {
      "cell_type": "code",
      "execution_count": null,
      "id": "d2f5cb19-6d4f-4d0b-bf9e-34dcfaf4e533",
      "metadata": {
        "id": "d2f5cb19-6d4f-4d0b-bf9e-34dcfaf4e533"
      },
      "outputs": [],
      "source": [
        "_ = seasonal_decompose_plotter(wind, period=365*24, title='Wind Power Generation Seasonal Decompose', figsize=(20, 12))"
      ]
    },
    {
      "cell_type": "code",
      "execution_count": null,
      "id": "6LFRfdBvs_PZ",
      "metadata": {
        "id": "6LFRfdBvs_PZ"
      },
      "outputs": [],
      "source": [
        "fig = plt.figure(figsize=(20, 3));\n",
        "plt.plot(wind.index, _.seasonal, color='C2');\n",
        "plt.xlim(pd.to_datetime(['2022-12-01', '2022-12-14']));"
      ]
    },
    {
      "cell_type": "markdown",
      "id": "555fa6a5-ce8c-43da-8339-2658316f6367",
      "metadata": {
        "id": "555fa6a5-ce8c-43da-8339-2658316f6367"
      },
      "source": [
        "### Предсказание производства ветряной электроэнергии"
      ]
    },
    {
      "cell_type": "code",
      "execution_count": null,
      "id": "fc82b8cf-9b22-428f-8d59-aad552b0df3a",
      "metadata": {
        "id": "fc82b8cf-9b22-428f-8d59-aad552b0df3a"
      },
      "outputs": [],
      "source": [
        "wind = pd.DataFrame(wind)\n",
        "wind.columns = [\"y\"]\n",
        "wind[\"ds\"] = wind.index"
      ]
    },
    {
      "cell_type": "markdown",
      "id": "XYl3cJdxknM0",
      "metadata": {
        "id": "XYl3cJdxknM0"
      },
      "source": [
        "Разделим данные на обучающую и тестовую выборки"
      ]
    },
    {
      "cell_type": "code",
      "execution_count": null,
      "id": "piSURgR4ko36",
      "metadata": {
        "id": "piSURgR4ko36"
      },
      "outputs": [],
      "source": [
        "cutoff_date = '2023-01-01'\n",
        "\n",
        "wind_train = wind[wind[\"ds\"] < cutoff_date].copy()\n",
        "wind_test = wind[wind[\"ds\"] >= cutoff_date].copy()\n",
        "\n",
        "print(f\"Train: {wind_train.shape[0]} записей\")\n",
        "print(f\"Test: {wind_test.shape[0]} записей\")"
      ]
    },
    {
      "cell_type": "markdown",
      "id": "018Qg6Z7GyRX",
      "metadata": {
        "id": "018Qg6Z7GyRX"
      },
      "source": [
        "Базовая модель"
      ]
    },
    {
      "cell_type": "code",
      "execution_count": null,
      "id": "MkZxX2ynGxmU",
      "metadata": {
        "id": "MkZxX2ynGxmU"
      },
      "outputs": [],
      "source": [
        "wind_baseline_pred = np.array(\n",
        "    [wind_train['y'].mean() for _ in range(len(wind_test))])"
      ]
    },
    {
      "cell_type": "markdown",
      "id": "pT0B9HL6phBw",
      "metadata": {
        "id": "pT0B9HL6phBw"
      },
      "source": [
        "Настройка и обучение модели предсказания"
      ]
    },
    {
      "cell_type": "code",
      "execution_count": null,
      "id": "6a501cdd-5389-4302-8d68-f4480176360c",
      "metadata": {
        "id": "6a501cdd-5389-4302-8d68-f4480176360c"
      },
      "outputs": [],
      "source": [
        "model_param ={\n",
        "    \"daily_seasonality\": False,\n",
        "    \"weekly_seasonality\":False,\n",
        "    \"yearly_seasonality\":True,\n",
        "    # \"seasonality_mode\": \"multiplicative\",\n",
        "    # \"changepoint_prior_scale\" : 0.5\n",
        "}\n",
        "\n",
        "model = Prophet(**model_param)\n",
        "model.fit(wind_train);"
      ]
    },
    {
      "cell_type": "markdown",
      "id": "QIwk35DWq9yf",
      "metadata": {
        "id": "QIwk35DWq9yf"
      },
      "source": [
        "Получаем прогноз"
      ]
    },
    {
      "cell_type": "code",
      "execution_count": null,
      "id": "hAJTegP3p0tN",
      "metadata": {
        "id": "hAJTegP3p0tN"
      },
      "outputs": [],
      "source": [
        "# Create future dataframe\n",
        "future= model.make_future_dataframe(periods=wind_test.shape[0] ,freq='h')\n",
        "forecast= model.predict(future)"
      ]
    },
    {
      "cell_type": "markdown",
      "id": "utqvlQmSrRTV",
      "metadata": {
        "id": "utqvlQmSrRTV"
      },
      "source": [
        "### Анализ качества модели"
      ]
    },
    {
      "cell_type": "code",
      "execution_count": null,
      "id": "A921yJzWrDT2",
      "metadata": {
        "id": "A921yJzWrDT2"
      },
      "outputs": [],
      "source": [
        "fig = model.plot(\n",
        "    forecast, xlabel='Datetime(gmt)',\n",
        "    ylabel=r'Ветряная электроэнергия', figsize=(20, 5), uncertainty=True)\n",
        "\n",
        "ax = fig.gca()\n",
        "\n",
        "# Увеличиваем толщину линии прогноза (она всегда синяя по умолчанию):\n",
        "for line in ax.get_lines():\n",
        "    print(line.get_label())\n",
        "    if line.get_label() == 'Forecast':\n",
        "        line.set_linewidth(5)\n",
        "\n",
        "# Добавим тестовые значения\n",
        "ax.plot(\n",
        "    wind_test['ds'], wind_test['y'], 'r.',\n",
        "    label='Тестовые данные', markersize=4,\n",
        "    zorder=1)\n",
        "\n",
        "plt.title('Почасовая генерация ветряной электроэнергии')\n",
        "plt.show()"
      ]
    },
    {
      "cell_type": "code",
      "execution_count": null,
      "id": "UHJeiZUYrDW_",
      "metadata": {
        "id": "UHJeiZUYrDW_"
      },
      "outputs": [],
      "source": [
        "wind_test['y'].plot(\n",
        "          style='.',\n",
        "          figsize=(20, 5),\n",
        "          ms=10,\n",
        "          color=\"black\",\n",
        "          title='Солнечная электроэнергия');\n",
        "\n",
        "plt.plot(\n",
        "    wind_test.index,\n",
        "    forecast['yhat'][-solar_test.shape[0]:].clip(lower=0));\n",
        "\n",
        "plt.fill_between(\n",
        "    forecast['ds'],\n",
        "    forecast['yhat_lower'],\n",
        "    forecast['yhat_upper'],\n",
        "    color='skyblue',\n",
        "    alpha=0.4, label='Доверительный интервал (80%)');\n",
        "\n",
        "plt.xlim(pd.to_datetime([wind_test.index[0], wind_test.index[-1]]));"
      ]
    },
    {
      "cell_type": "code",
      "execution_count": null,
      "id": "b7145e3a-29db-4e14-9236-25fb5e527f80",
      "metadata": {
        "id": "b7145e3a-29db-4e14-9236-25fb5e527f80"
      },
      "outputs": [],
      "source": [
        "fig = model.plot_components(forecast,uncertainty=True,figsize=(20, 10))\n",
        "plt.show()"
      ]
    },
    {
      "cell_type": "markdown",
      "id": "4eVkWNdjuGES",
      "metadata": {
        "id": "4eVkWNdjuGES"
      },
      "source": [
        "**MAE (Mean Absolute Error)**\n",
        "\n",
        "Средняя абсолютная ошибка:"
      ]
    },
    {
      "cell_type": "code",
      "execution_count": null,
      "id": "afc591b7-9787-4a06-844d-5896ab7ee85b",
      "metadata": {
        "id": "afc591b7-9787-4a06-844d-5896ab7ee85b"
      },
      "outputs": [],
      "source": [
        "from sklearn.metrics import mean_absolute_error\n",
        "\n",
        "mae = mean_absolute_error(\n",
        "    wind_test['y'],\n",
        "    forecast['yhat'][-wind_test.shape[0]:].clip(lower=1e-6)\n",
        ")\n",
        "\n",
        "baseline_mae = mean_absolute_error(\n",
        "    wind_test['y'],\n",
        "    wind_baseline_pred\n",
        ")\n",
        "\n",
        "print(f\"MAE: {mae:.2f}\")\n",
        "print(f\"Baseline MAE: {baseline_mae:.2f}\")"
      ]
    },
    {
      "cell_type": "markdown",
      "id": "UddOOOPmui--",
      "metadata": {
        "id": "UddOOOPmui--"
      },
      "source": [
        "**RMSE (Root Mean Squared Error)**\n",
        "\n",
        "Корень из средней квадратичной ошибки:"
      ]
    },
    {
      "cell_type": "code",
      "execution_count": null,
      "id": "Y15QT7IduABR",
      "metadata": {
        "id": "Y15QT7IduABR"
      },
      "outputs": [],
      "source": [
        "from sklearn.metrics import mean_squared_error\n",
        "\n",
        "rmse = np.sqrt(mean_squared_error(\n",
        "    wind_test['y'],\n",
        "    forecast['yhat'][-wind_test.shape[0]:].clip(lower=0)\n",
        "))\n",
        "\n",
        "baseline_rmse = np.sqrt(mean_squared_error(\n",
        "    wind_test['y'],\n",
        "    wind_baseline_pred\n",
        "))\n",
        "\n",
        "print(f\"RMSE: {rmse:.2f}\")\n",
        "print(f\"Baseline RMSE: {baseline_rmse:.2f}\")"
      ]
    },
    {
      "cell_type": "markdown",
      "id": "oR5MhgcHvGDF",
      "metadata": {
        "id": "oR5MhgcHvGDF"
      },
      "source": [
        "**MAPE (Mean Absolute Percentage Error)**\n",
        "\n",
        "Средняя абсолютная процентная ошибка:"
      ]
    },
    {
      "cell_type": "code",
      "execution_count": null,
      "id": "0LViMNHXuAFX",
      "metadata": {
        "id": "0LViMNHXuAFX"
      },
      "outputs": [],
      "source": [
        "mape = np.mean(np.abs(\n",
        "    (wind_test['y'].values - forecast['yhat'][-wind_test.shape[0]:].values) / wind_test['y'].values)\n",
        ") * 100\n",
        "\n",
        "baseline_mape = np.mean(np.abs(\n",
        "    (wind_test['y'].values - wind_baseline_pred) / wind_test['y'].values)\n",
        ") * 100\n",
        "\n",
        "print(f\"MAPE: {mape:.2f}%\")\n",
        "print(f\"Baseline MAPE: {baseline_mape:.2f}%\")"
      ]
    },
    {
      "cell_type": "markdown",
      "id": "u_82xH784d5f",
      "metadata": {
        "id": "u_82xH784d5f"
      },
      "source": [
        "**Ошибка доверительного интервала**"
      ]
    },
    {
      "cell_type": "code",
      "execution_count": null,
      "id": "Xtll0UUB3cs4",
      "metadata": {
        "id": "Xtll0UUB3cs4"
      },
      "outputs": [],
      "source": [
        "above_lower = wind_test['y'].values >= forecast['yhat_lower'][-wind_test.shape[0]:].values\n",
        "below_upper = wind_test['y'].values <= forecast['yhat_upper'][-wind_test.shape[0]:].values\n",
        "in_interval = above_lower & below_upper\n",
        "\n",
        "\n",
        "coverage = in_interval.sum() / wind_test.shape[0]\n",
        "print(f\"Покрытие: {coverage*100:.2f}%\")"
      ]
    },
    {
      "cell_type": "code",
      "execution_count": null,
      "id": "a_ss1_X7uANb",
      "metadata": {
        "id": "a_ss1_X7uANb"
      },
      "outputs": [],
      "source": []
    }
  ],
  "metadata": {
    "colab": {
      "provenance": [],
      "include_colab_link": true
    },
    "kernelspec": {
      "display_name": "Python 3 (ipykernel)",
      "language": "python",
      "name": "python3"
    },
    "language_info": {
      "codemirror_mode": {
        "name": "ipython",
        "version": 3
      },
      "file_extension": ".py",
      "mimetype": "text/x-python",
      "name": "python",
      "nbconvert_exporter": "python",
      "pygments_lexer": "ipython3",
      "version": "3.12.4"
    }
  },
  "nbformat": 4,
  "nbformat_minor": 5
}