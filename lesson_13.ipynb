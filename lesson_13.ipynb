{
  "nbformat": 4,
  "nbformat_minor": 0,
  "metadata": {
    "colab": {
      "provenance": [],
      "toc_visible": true,
      "authorship_tag": "ABX9TyML8IcD3FXhTXHndGnL4U4j",
      "include_colab_link": true
    },
    "kernelspec": {
      "name": "python3",
      "display_name": "Python 3"
    },
    "language_info": {
      "name": "python"
    }
  },
  "cells": [
    {
      "cell_type": "markdown",
      "metadata": {
        "id": "view-in-github",
        "colab_type": "text"
      },
      "source": [
        "<a href=\"https://colab.research.google.com/github/ArtyomShabunin/SMOPA-25/blob/main/lesson_13.ipynb\" target=\"_parent\"><img src=\"https://colab.research.google.com/assets/colab-badge.svg\" alt=\"Open In Colab\"/></a>"
      ]
    },
    {
      "cell_type": "markdown",
      "source": [
        "<img src=\"https://prana-system.com/files/110/rds_color_full.png\" alt=\"tot image\" width=\"300\"  align=\"center\"/> &nbsp;&nbsp;&nbsp;&nbsp;&nbsp;&nbsp;&nbsp;&nbsp;\n",
        "<img src=\"https://mpei.ru/AboutUniverse/OficialInfo/Attributes/PublishingImages/logo1.jpg\" alt=\"mpei image\" width=\"200\" align=\"center\"/>\n",
        "<img src=\"https://mpei.ru/Structure/Universe/tanpe/structure/tfhe/PublishingImages/tot.png\" alt=\"tot image\" width=\"100\"  align=\"center\"/>\n",
        "\n",
        "---\n",
        "\n",
        "# **Системы машинного обучения и предиктивной аналитики в тепловой и возобновляемой энергетике**  \n",
        "\n",
        "# ***Практические занятия***\n",
        "\n",
        "\n",
        "---"
      ],
      "metadata": {
        "id": "aeFEGu-4VCCG"
      }
    },
    {
      "cell_type": "markdown",
      "source": [
        "# Занятие №13\n",
        "# Разбор задач\n",
        "# Машинное обучение, scikit-learn\n",
        "**14 мая 2025г.**"
      ],
      "metadata": {
        "id": "QBMyj-BkVMzw"
      }
    },
    {
      "cell_type": "markdown",
      "source": [
        "## Масштабирование данных"
      ],
      "metadata": {
        "id": "23UrIK9iK9l-"
      }
    },
    {
      "cell_type": "markdown",
      "source": [
        "---\n",
        "### Задача №1\n",
        "#### Условие\n",
        "\n",
        "На тепловой электростанции снимаются три параметра с датчиков:\n",
        "\n",
        "* температура газа (`temp`),\n",
        "* давление после компрессора (`pressure`),\n",
        "* уровень вибрации (`vibration`).\n",
        "\n",
        "Датчики имеют разные диапазоны измерений, и для построения моделей требуется привести все признаки к единому масштабу.\n",
        "\n",
        "Выполните:\n",
        "\n",
        "1. **Нормализацию** данных в диапазон \\[0, 1],\n",
        "2. **Стандартизацию** данных,\n",
        "3. Выведите первые 5 строк преобразованных массивов."
      ],
      "metadata": {
        "id": "mi7EJ_JGVkdR"
      }
    },
    {
      "cell_type": "code",
      "source": [
        "import numpy as np\n",
        "\n",
        "np.random.seed(42)\n",
        "n_samples = 10\n",
        "\n",
        "# Температура газа: 400–600°C\n",
        "temp = np.random.uniform(400, 600, n_samples)\n",
        "\n",
        "# Давление после компрессора: 200–300 кПа\n",
        "pressure = np.random.uniform(200, 300, n_samples)\n",
        "\n",
        "# Уровень вибрации: 0.8–1.5 мм/с\n",
        "vibration = np.random.uniform(0.8, 1.5, n_samples)\n",
        "\n",
        "# Объединяем в один массив (n_samples, 3)\n",
        "X = np.column_stack([temp, pressure, vibration])\n",
        "\n",
        "print(\"Исходные данные (первые 5 строк):\")\n",
        "print(X[:5])"
      ],
      "metadata": {
        "id": "RlBUfhONGn1o"
      },
      "execution_count": null,
      "outputs": []
    },
    {
      "cell_type": "markdown",
      "source": [
        "#### Решение"
      ],
      "metadata": {
        "id": "ur-yFfxNGoF5"
      }
    },
    {
      "cell_type": "code",
      "source": [
        "# Min-Max нормализация\n",
        "# Минимумы и максимумы по столбцам\n",
        "X_min = ...\n",
        "X_max = ...\n",
        "\n",
        "# Нормализация в диапазон [0, 1]\n",
        "X_norm = ...\n",
        "\n",
        "print(\"\\nНормализованные данные (первые 5 строк):\")\n",
        "print(...)\n",
        "\n",
        "# Стандартизация\n",
        "# Средние и стандартные отклонения по столбцам\n",
        "X_mean = ...\n",
        "X_std = ...\n",
        "\n",
        "# Стандартизация\n",
        "X_stdzd = ...\n",
        "\n",
        "print(\"\\nСтандартизованные данные (первые 5 строк):\")\n",
        "print(...)"
      ],
      "metadata": {
        "id": "UklYKxaJGoMY"
      },
      "execution_count": null,
      "outputs": []
    },
    {
      "cell_type": "markdown",
      "source": [
        "## Поиск аномальных данных"
      ],
      "metadata": {
        "id": "orPUJ5VNSUY8"
      }
    },
    {
      "cell_type": "markdown",
      "source": [
        "---\n",
        "### Задача №2\n",
        "#### Условие\n",
        "Температура за компрессором газотурбинной установки (ГТУ) при номинальной работе находится в диапазоне 450–500 °C. Однако при обрыве термопары, загрязнении или нестабильной работе возникают аномалии. Обучите модель `OneClassSVM` на «здоровых» данных `normal_temp` и найдите аномалии в смешанном наборе. Рассчитайте метрики `precision`, `recall` и `F1`. Подберите гиперпараметры модели при которых `F1` больше `0.5`."
      ],
      "metadata": {
        "id": "L2mS4xaKNDN1"
      }
    },
    {
      "cell_type": "code",
      "source": [
        "import numpy as np\n",
        "\n",
        "# Здоровые данные (нормальный режим)\n",
        "np.random.seed(0)\n",
        "normal_temp = np.random.normal(loc=475, scale=10, size=(300, 1))\n",
        "\n",
        "# Аномалии: выбросы в сторону\n",
        "anomaly_temp = np.concatenate([\n",
        "    np.random.normal(loc=420, scale=5, size=(10, 1)),\n",
        "    np.random.normal(loc=530, scale=5, size=(10, 1))\n",
        "])\n",
        "\n",
        "# Объединение\n",
        "test_temp = np.vstack([normal_temp, anomaly_temp])\n",
        "\n",
        "# Создаём истинные метки: 0 — норма, 1 — аномалия\n",
        "y_true = np.array([0]*300 + [1]*20)"
      ],
      "metadata": {
        "id": "RVqs3oSeVC-0"
      },
      "execution_count": null,
      "outputs": []
    },
    {
      "cell_type": "markdown",
      "source": [
        "#### Решение"
      ],
      "metadata": {
        "id": "ReVzdUNDOnQx"
      }
    },
    {
      "cell_type": "code",
      "source": [
        "from sklearn...\n",
        "from sklearn.preprocessing import StandardScaler\n",
        "from sklearn.pipeline import make_pipeline\n",
        "from sklearn...\n",
        "import matplotlib.pyplot as plt\n",
        "\n",
        "# Масштабирование + модель\n",
        "pipeline = ...\n",
        "\n",
        "\n",
        "# Предсказания (-1 — аномалия, 1 — норма)\n",
        "labels = ...\n",
        "\n",
        "# Преобразуем к 0 и 1: 1 → 0 (норма), -1 → 1 (аномалия)\n",
        "y_pred = ...\n",
        "\n",
        "# Метрики\n",
        "precision = ...\n",
        "recall = ...\n",
        "f1 = ...\n",
        "\n",
        "print(f\"Precision: {precision:.2f}\")\n",
        "print(f\"Recall:    {recall:.2f}\")\n",
        "print(f\"F1-score:  {f1:.2f}\")\n",
        "\n",
        "# Визуализация\n",
        "plt.figure(figsize=(10, 4))\n",
        "plt.plot(test_temp, 'bo', label='Норма')\n",
        "plt.plot(np.where(y_pred == 1)[0], test_temp[y_pred == 1], 'ro', label='Аномалия (детектирована)')\n",
        "plt.legend()\n",
        "plt.title(\"Детектирование аномалий температуры за компрессором\")\n",
        "plt.xlabel(\"Индекс измерения\")\n",
        "plt.ylabel(\"Температура (°C)\")\n",
        "plt.grid(True)\n",
        "plt.show()"
      ],
      "metadata": {
        "id": "HlUdg3XsVC_9"
      },
      "execution_count": null,
      "outputs": []
    },
    {
      "cell_type": "markdown",
      "source": [
        "---\n",
        "### Задача №3\n",
        "#### Условие\n",
        "Температура за компрессором газотурбинной установки (ГТУ) при номинальной работе находится в диапазоне 450–500 °C. Однако при обрыве термопары, загрязнении или нестабильной работе возникают аномалии. Обучите модель `OneClassSVM` на «здоровых» данных `normal_temp` и найдите аномалии в смешанном наборе. Вручную, без использования библиотек, рассчитайте `precision`, `recall` и `F1`."
      ],
      "metadata": {
        "id": "ZR6KdEbH8yhu"
      }
    },
    {
      "cell_type": "code",
      "source": [
        "import numpy as np\n",
        "\n",
        "# Генерация данных\n",
        "np.random.seed(0)\n",
        "\n",
        "normal_temp = np.random.normal(loc=475, scale=10, size=(300, 1))\n",
        "\n",
        "anomaly_temp = np.concatenate([\n",
        "    np.random.normal(loc=420, scale=5, size=(10, 1)),\n",
        "    np.random.normal(loc=530, scale=5, size=(10, 1))\n",
        "])\n",
        "\n",
        "test_temp = np.vstack([normal_temp, anomaly_temp])\n",
        "\n",
        "# Создание меток: 0 — норма, 1 — аномалия\n",
        "y_true = np.array([0] * len(normal_temp) + [1] * len(anomaly_temp))"
      ],
      "metadata": {
        "id": "TGrd4UaG8-zI"
      },
      "execution_count": null,
      "outputs": []
    },
    {
      "cell_type": "markdown",
      "source": [
        "#### Решение"
      ],
      "metadata": {
        "id": "CVgo0nNB8_R8"
      }
    },
    {
      "cell_type": "code",
      "source": [
        "from sklearn...\n",
        "from sklearn.preprocessing import StandardScaler\n",
        "from sklearn.pipeline import make_pipeline\n",
        "import matplotlib.pyplot as plt\n",
        "\n",
        "# Обучение модели\n",
        "pipeline = ...\n",
        "\n",
        "\n",
        "# Предсказания (-1 — аномалия, 1 — норма)\n",
        "labels = ...\n",
        "\n",
        "# Преобразуем к 0 и 1: 1 → 0 (норма), -1 → 1 (аномалия)\n",
        "y_pred = ...\n",
        "\n",
        "# Расчёт вручную\n",
        "TP = ...\n",
        "FP = ...\n",
        "FN = ...\n",
        "\n",
        "precision = ...\n",
        "recall = ...\n",
        "f1 = ...\n",
        "\n",
        "print(f\"TP = {TP}, FP = {FP}, FN = {FN}\")\n",
        "print(f\"Precision = {precision:.2f}\")\n",
        "print(f\"Recall    = {recall:.2f}\")\n",
        "print(f\"F1-score  = {f1:.2f}\")\n",
        "\n",
        "# Визуализация\n",
        "plt.figure(figsize=(10, 4))\n",
        "plt.plot(test_temp, 'bo', label='Норма')\n",
        "plt.plot(np.where(y_pred == 1)[0], test_temp[y_pred == 1], 'ro', label='Аномалия (предсказано)')\n",
        "plt.legend()\n",
        "plt.title(\"Аномалии температуры за компрессором\")\n",
        "plt.xlabel(\"Индекс измерения\")\n",
        "plt.ylabel(\"Температура (°C)\")\n",
        "plt.grid(True)\n",
        "plt.show()"
      ],
      "metadata": {
        "id": "FfbHy0AH8_jV"
      },
      "execution_count": null,
      "outputs": []
    },
    {
      "cell_type": "markdown",
      "source": [
        "---\n",
        "### Задача №4\n",
        "#### Условие\n",
        "Данные содержат три признака, которые характеризуют техническое состояние оборудования:\n",
        "1. Температура за компрессором (°C)\n",
        "2. Давление за компрессором (кПа)\n",
        "3. Температура газа на выходе из турбины (°C)  \n",
        "\n",
        "Обучите модель `OneClassSVM` на «здоровых» данных `normal_temp` и найдите аномалии в смешанном наборе, состоящем из нормальных и аномальных данных. Проанализируйте качество модели с помощью матрицы ошибок (confusion matrix)."
      ],
      "metadata": {
        "id": "Yzs-65ttxRGp"
      }
    },
    {
      "cell_type": "code",
      "source": [
        "import numpy as np\n",
        "\n",
        "np.random.seed(0)\n",
        "\n",
        "# Синтетические нормальные данные (300 наблюдений, 3 признака)\n",
        "normal_temp = np.random.normal(loc=475, scale=10, size=(300, 1))\n",
        "normal_pressure = np.random.normal(loc=650, scale=15, size=(300, 1))\n",
        "normal_turbine_out = np.random.normal(loc=900, scale=20, size=(300, 1))\n",
        "\n",
        "normal_data = np.hstack([normal_temp, normal_pressure, normal_turbine_out])\n",
        "\n",
        "# Аномалии (20 наблюдений)\n",
        "anomaly_temp = np.random.normal(loc=420, scale=5, size=(10, 1))\n",
        "anomaly_pressure = np.random.normal(loc=580, scale=10, size=(10, 1))\n",
        "anomaly_turbine_out = np.random.normal(loc=980, scale=10, size=(10, 1))\n",
        "\n",
        "anomaly_temp2 = np.random.normal(loc=530, scale=5, size=(10, 1))\n",
        "anomaly_pressure2 = np.random.normal(loc=720, scale=10, size=(10, 1))\n",
        "anomaly_turbine_out2 = np.random.normal(loc=820, scale=10, size=(10, 1))\n",
        "\n",
        "anomaly_data = np.vstack([\n",
        "    np.hstack([anomaly_temp, anomaly_pressure, anomaly_turbine_out]),\n",
        "    np.hstack([anomaly_temp2, anomaly_pressure2, anomaly_turbine_out2])\n",
        "])\n",
        "\n",
        "# Объединение данных и меток\n",
        "test_data = np.vstack([normal_data, anomaly_data])\n",
        "y_true = np.array([0]*300 + [1]*20)"
      ],
      "metadata": {
        "id": "W1CpclGixQc8"
      },
      "execution_count": null,
      "outputs": []
    },
    {
      "cell_type": "markdown",
      "source": [
        "#### Решение"
      ],
      "metadata": {
        "id": "rb1r556UxdOv"
      }
    },
    {
      "cell_type": "code",
      "source": [
        "from sklearn...\n",
        "from sklearn.preprocessing import StandardScaler\n",
        "from sklearn.pipeline import make_pipeline\n",
        "from sklearn...\n",
        "import matplotlib.pyplot as plt\n",
        "import seaborn as sns\n",
        "\n",
        "# Обучение модели OneClassSVM\n",
        "pipeline = ...\n",
        "\n",
        "\n",
        "# Предсказания (-1 — аномалия, 1 — норма)\n",
        "labels = ...\n",
        "\n",
        "# Преобразуем к 0 и 1: 1 → 0 (норма), -1 → 1 (аномалия)\n",
        "y_pred = ...\n",
        "\n",
        "# Матрица ошибок\n",
        "cm = ...\n",
        "\n",
        "plt.figure(figsize=(6, 4))\n",
        "sns.heatmap(cm, annot=True, fmt=\"d\", cmap=\"Blues\", xticklabels=[\"Норма\", \"Аномалия\"], yticklabels=[\"Норма\", \"Аномалия\"])\n",
        "plt.xlabel(\"Предсказание\")\n",
        "plt.ylabel(\"Истинное значение\")\n",
        "plt.show()"
      ],
      "metadata": {
        "id": "6Wni0Hllxdk1"
      },
      "execution_count": null,
      "outputs": []
    },
    {
      "cell_type": "markdown",
      "source": [
        "---\n",
        "### Задача №5\n",
        "#### Условие\n",
        "Во время нормальной работы ТЭС активная мощность на выходе генератора находится в диапазоне 95–105 МВт с плавными колебаниями. Резкие скачки указывают на неисправности или ошибки. Найдите аномалии в ряду мощности. Рассчитайте метрики `precision`, `recall` и `F1`, постройте `ROC` кривую."
      ],
      "metadata": {
        "id": "lLjDqUmrQ5Lf"
      }
    },
    {
      "cell_type": "code",
      "source": [
        "import numpy as np\n",
        "\n",
        "# Нормальные данные: плавные колебания мощности\n",
        "time = np.arange(0, 300)\n",
        "normal_power = 100 + 2 * np.sin(0.1 * time) + np.random.normal(0, 0.5, size=(300,))\n",
        "\n",
        "# Аномалии: резкие скачки\n",
        "anomaly_power = normal_power.copy()\n",
        "anomaly_power[[50, 120, 200, 270]] += [10, -15, 12, -20]  # Имитация ошибок\n",
        "\n",
        "y_true = np.zeros(anomaly_power.shape)\n",
        "y_true[[50, 120, 200, 270]] = 1\n",
        "\n",
        "X_train = normal_power.reshape(-1, 1)\n",
        "X_test = anomaly_power.reshape(-1, 1)"
      ],
      "metadata": {
        "id": "YM_tuNnDNVdb"
      },
      "execution_count": null,
      "outputs": []
    },
    {
      "cell_type": "markdown",
      "source": [
        "#### Решение"
      ],
      "metadata": {
        "id": "rGK_D2KeRmsq"
      }
    },
    {
      "cell_type": "code",
      "source": [
        "from sklearn...\n",
        "from sklearn.preprocessing import StandardScaler\n",
        "from sklearn.pipeline import make_pipeline\n",
        "from sklearn...\n",
        "import matplotlib.pyplot as plt\n",
        "\n",
        "# Масштабирование + модель\n",
        "pipeline = ...\n",
        "\n",
        "\n",
        "# Предсказания (-1 — аномалия, 1 — норма)\n",
        "labels = ...\n",
        "\n",
        "# Преобразуем к 0 и 1: 1 → 0 (норма), -1 → 1 (аномалия)\n",
        "y_pred = ...\n",
        "\n",
        "# Метрики\n",
        "precision = ...\n",
        "recall = ...\n",
        "f1 = ...\n",
        "\n",
        "print(f\"Precision: {precision:.2f}\")\n",
        "print(f\"Recall:    {recall:.2f}\")\n",
        "print(f\"F1-score:  {f1:.2f}\")\n",
        "\n",
        "# Получаем decision_function — расстояние до разделяющей гиперплоскости (чем меньше, тем \"аномальнее\")\n",
        "scores = ...  # Более высокие — более \"нормальные\"\n",
        "\n",
        "# Так как ROC ожидает, что более высокие значения соответствуют метке \"1\", а у нас наоборот,\n",
        "# инвертируем знак\n",
        "fpr, tpr, thresholds = ...\n",
        "roc_auc = ...\n",
        "\n",
        "# Визуализация\n",
        "plt.figure(figsize=(12, 5))\n",
        "plt.plot(time, X_test, label='Норма')\n",
        "plt.scatter(np.where(y_pred == 1)[0], X_test[y_pred == 1], color='red', label='Аномалия')\n",
        "plt.legend()\n",
        "plt.title(\"Аномалии активной мощности генератора\")\n",
        "plt.xlabel(\"Время (с)\")\n",
        "plt.ylabel(\"Мощность (МВт)\")\n",
        "plt.grid(True)\n",
        "plt.show()\n",
        "\n",
        "# Построение ROC-кривой\n",
        "plt.figure(figsize=(6, 4))\n",
        "plt.plot(fpr, tpr, label=f\"ROC-кривая (AUC = {roc_auc:.2f})\")\n",
        "plt.plot([0, 1], [0, 1], 'k--', label=\"Случайное угадывание\")\n",
        "plt.xlabel(\"False Positive Rate\")\n",
        "plt.ylabel(\"True Positive Rate\")\n",
        "plt.title(\"ROC-кривая для One-Class SVM\")\n",
        "plt.legend()\n",
        "plt.grid(True)\n",
        "plt.show()"
      ],
      "metadata": {
        "id": "1M3iaaD1Q4WU"
      },
      "execution_count": null,
      "outputs": []
    },
    {
      "cell_type": "markdown",
      "source": [
        "---\n",
        "### Задача №6\n",
        "#### Условие\n",
        "Давление за компрессором должно оставаться в узком диапазоне значений при постоянной нагрузке. Утечка или засорение фильтра может вызывать снижение давления. Обучите `OneClassSVM` для выявления аномальных значений. Рассчитайте метрики `precision`, `recall` и `F1`. Выполните подбор значений гиперпараметров модели при которых метрика `F1` больше `0.8`."
      ],
      "metadata": {
        "id": "jDVJJy8QSjfC"
      }
    },
    {
      "cell_type": "code",
      "source": [
        "import numpy as np\n",
        "\n",
        "# Нормальные значения давления (в кПа)\n",
        "normal_pressure = np.random.normal(250, 5, size=(300, 1))\n",
        "\n",
        "# Аномалии: резкие падения\n",
        "anomaly_pressure = np.random.normal(200, 3, size=(10, 1))\n",
        "\n",
        "# Тестовый набор\n",
        "test_pressure = np.vstack([normal_pressure, anomaly_pressure])\n",
        "\n",
        "# Создание меток: 0 — норма, 1 — аномалия\n",
        "y_true = np.array([0] * len(normal_pressure) + [1] * len(anomaly_pressure))"
      ],
      "metadata": {
        "id": "2Q803hb9Q4am"
      },
      "execution_count": null,
      "outputs": []
    },
    {
      "cell_type": "markdown",
      "source": [
        "#### Решение"
      ],
      "metadata": {
        "id": "RlG5Uj-rUzYv"
      }
    },
    {
      "cell_type": "code",
      "source": [
        "from sklearn...\n",
        "from sklearn.preprocessing import StandardScaler\n",
        "from sklearn.pipeline import make_pipeline\n",
        "from sklearn...\n",
        "import matplotlib.pyplot as plt\n",
        "\n",
        "# Масштабирование + модель\n",
        "pipeline = ...\n",
        "\n",
        "\n",
        "# Предсказания (-1 — аномалия, 1 — норма)\n",
        "labels = ...\n",
        "\n",
        "# Преобразуем к 0 и 1: 1 → 0 (норма), -1 → 1 (аномалия)\n",
        "y_pred = ...\n",
        "\n",
        "# Метрики\n",
        "precision = ...\n",
        "recall = ...\n",
        "f1 = ...\n",
        "\n",
        "print(f\"Precision: {precision:.2f}\")\n",
        "print(f\"Recall:    {recall:.2f}\")\n",
        "print(f\"F1-score:  {f1:.2f}\")\n",
        "\n",
        "# Визуализация\n",
        "plt.figure(figsize=(10, 4))\n",
        "plt.plot(test_pressure, 'g.', label='Давление (кПа)')\n",
        "plt.plot(np.where(y_pred == 1)[0], test_pressure[y_pred == 1], 'ro', label='Аномалия (предсказано)')\n",
        "plt.title(\"Аномалии давления за компрессором\")\n",
        "plt.xlabel(\"Индекс измерения\")\n",
        "plt.ylabel(\"Давление (кПа)\")\n",
        "plt.grid(True)\n",
        "plt.legend()\n",
        "plt.show()"
      ],
      "metadata": {
        "id": "vbqWoN5iQ4ei"
      },
      "execution_count": null,
      "outputs": []
    },
    {
      "cell_type": "markdown",
      "source": [
        "## Регрессия"
      ],
      "metadata": {
        "id": "atw7xq3lyjVT"
      }
    },
    {
      "cell_type": "markdown",
      "source": [
        "---\n",
        "### Задача №7\n",
        "#### Условие\n",
        "Температура выхлопных газов ГТУ зависит от текущей мощности и температуры наружного воздуха. Постройте модель для предсказания этой температуры. Рассчитайте метрики `MSE`, `RMSE` и `R²`."
      ],
      "metadata": {
        "id": "XdimjiFPyu6C"
      }
    },
    {
      "cell_type": "code",
      "source": [
        "import numpy as np\n",
        "\n",
        "# Синтетические данные\n",
        "np.random.seed(42)\n",
        "n = 500\n",
        "power = np.random.uniform(50, 120, n)  # Мощность ГТУ (МВт)\n",
        "air_temp = np.random.uniform(-10, 35, n)  # Температура воздуха (°C)\n",
        "\n",
        "# Температура выхлопных газов зависит от мощности и температуры воздуха\n",
        "exhaust_temp = 400 + 0.5 * power - 0.8 * air_temp + np.random.normal(0, 5, n)\n",
        "\n",
        "X = np.column_stack((power, air_temp))\n",
        "y = exhaust_temp"
      ],
      "metadata": {
        "id": "KXqgVWjrytzR"
      },
      "execution_count": null,
      "outputs": []
    },
    {
      "cell_type": "markdown",
      "source": [
        "#### Решение"
      ],
      "metadata": {
        "id": "Ob9qo6AKzsJT"
      }
    },
    {
      "cell_type": "code",
      "source": [
        "from sklearn.model_selection import train_test_split\n",
        "from sklearn...\n",
        "from sklearn.pipeline import make_pipeline\n",
        "from sklearn.preprocessing import StandardScaler\n",
        "from sklearn...\n",
        "\n",
        "# Разделение на train и test в соотношении 80/20\n",
        "X_train, X_test, y_train, y_test = ...\n",
        "\n",
        "# Модель + масштабирование\n",
        "model = ...\n",
        "\n",
        "# Предсказания и метрики\n",
        "y_pred = ...\n",
        "print(\"MSE:\", ...)\n",
        "print(\"RMSE:\", ...)\n",
        "print(\"R²:\", ...)"
      ],
      "metadata": {
        "id": "SLm5_6VJzsxO"
      },
      "execution_count": null,
      "outputs": []
    },
    {
      "cell_type": "markdown",
      "source": [
        "---\n",
        "### Задача №8\n",
        "#### Условие\n",
        "Энергопотребление зависит от температуры воздуха, времени суток и дня недели. Постройте модель, предсказывающую нагрузку. Вручную, без использования импорта, рассчитайте метрики `MAE`, `MSE` и `RMSE`."
      ],
      "metadata": {
        "id": "WFkNvhJh3FlN"
      }
    },
    {
      "cell_type": "code",
      "source": [
        "import numpy as np\n",
        "from sklearn.model_selection import train_test_split\n",
        "\n",
        "n = 1000\n",
        "hour = np.random.randint(0, 24, n)\n",
        "day_of_week = np.random.randint(0, 7, n)\n",
        "air_temp = np.random.uniform(-15, 35, n)\n",
        "\n",
        "# Потребление (МВт)\n",
        "consumption = (\n",
        "    50 +\n",
        "    5 * ((hour >= 18) & (hour <= 22)) -  # вечерний пик\n",
        "    3 * ((hour >= 0) & (hour <= 5)) +    # ночной спад\n",
        "    0.5 * (35 - air_temp) +              # холод — рост потребления\n",
        "    np.random.normal(0, 3, n)\n",
        ")\n",
        "\n",
        "X = np.column_stack((hour, day_of_week, air_temp))\n",
        "y = consumption\n",
        "\n",
        "X_train, X_test, y_train, y_test = train_test_split(X, y, test_size=0.2, random_state=0)"
      ],
      "metadata": {
        "id": "8PfYScFw1JIM"
      },
      "execution_count": null,
      "outputs": []
    },
    {
      "cell_type": "markdown",
      "source": [
        "#### Решение"
      ],
      "metadata": {
        "id": "lBno0-0G35WL"
      }
    },
    {
      "cell_type": "code",
      "source": [
        "from sklearn...\n",
        "\n",
        "# Модель\n",
        "model = ...\n",
        "\n",
        "\n",
        "# Предсказания\n",
        "y_pred = ...\n",
        "\n",
        "# Размер тестовой выборки\n",
        "n = ...\n",
        "\n",
        "# MAE\n",
        "mae = ...\n",
        "\n",
        "# MSE\n",
        "mse = ...\n",
        "\n",
        "# RMSE\n",
        "rmse = ...\n",
        "\n",
        "print(\"MAE custom:\", round(mae, 3))\n",
        "print()\n",
        "print(\"MSE custom:\", round(mse, 3))\n",
        "print()\n",
        "print(\"RMSE custom:\", round(rmse, 3))"
      ],
      "metadata": {
        "id": "UGGu3Obp36X2"
      },
      "execution_count": null,
      "outputs": []
    },
    {
      "cell_type": "markdown",
      "source": [
        "---\n",
        "### Задача №9\n",
        "#### Условие\n",
        "Потери энергии на подстанции зависят от напряжения, тока и температуры оборудования. Постройте модель для предсказания потерь. Рассчитайте метрики `MSE` и `R²`. Значение метрики `R²` итоговой модели должно быть не меньше `0.87`."
      ],
      "metadata": {
        "id": "eWHdepPs5q93"
      }
    },
    {
      "cell_type": "code",
      "source": [
        "import numpy as np\n",
        "from sklearn.model_selection import train_test_split\n",
        "\n",
        "n = 800\n",
        "voltage = np.random.uniform(100, 110, n)   # В кВ\n",
        "current = np.random.uniform(200, 400, n)   # В А\n",
        "equipment_temp = np.random.uniform(40, 90, n)  # В °C\n",
        "\n",
        "# Потери энергии (кВт)\n",
        "losses = 0.001 * voltage * current + 0.1 * (equipment_temp - 60) + np.random.normal(0, 1.5, n)\n",
        "\n",
        "X = np.column_stack((voltage, current, equipment_temp))\n",
        "y = losses\n",
        "\n",
        "X_train, X_test, y_train, y_test = train_test_split(X, y, test_size=0.2, random_state=42)"
      ],
      "metadata": {
        "id": "_Dmmaakf5JRU"
      },
      "execution_count": null,
      "outputs": []
    },
    {
      "cell_type": "markdown",
      "source": [
        "#### Решение"
      ],
      "metadata": {
        "id": "GgIGZpe05zIm"
      }
    },
    {
      "cell_type": "code",
      "source": [
        "from sklearn...\n",
        "from sklearn.metrics import mean_squared_error, r2_score\n",
        "\n",
        "# Модель\n",
        "model = ...\n",
        "\n",
        "\n",
        "# Предсказания\n",
        "y_pred = ...\n",
        "\n",
        "print(\"MSE:\", ...)\n",
        "print(\"R²:\", ...)\n"
      ],
      "metadata": {
        "id": "w-I7Ug8D50jp"
      },
      "execution_count": null,
      "outputs": []
    },
    {
      "cell_type": "markdown",
      "source": [
        "## Классификация"
      ],
      "metadata": {
        "id": "6MbIxJ3J-er2"
      }
    },
    {
      "cell_type": "markdown",
      "source": [
        "---\n",
        "### Задача №10\n",
        "#### Условие\n",
        "По значениям температуры, давления и вибрации на газотурбинной установке определите, находится ли система в аварийном или нормальном режиме. Рассчитайте метрики `precision`, `recall` и `F1` для каждого класса (норма и авария). Проанализируйте качество модели с помощью матрицы ошибок (confusion matrix)."
      ],
      "metadata": {
        "id": "m_k1L1S_-mEL"
      }
    },
    {
      "cell_type": "code",
      "source": [
        "import numpy as np\n",
        "from sklearn.model_selection import train_test_split\n",
        "\n",
        "np.random.seed(42)\n",
        "n = 1000\n",
        "\n",
        "# Нормальный режим\n",
        "temp_norm = np.random.normal(500, 10, n)\n",
        "press_norm = np.random.normal(250, 5, n)\n",
        "vibro_norm = np.random.normal(1.0, 0.1, n)\n",
        "X_norm = np.column_stack([temp_norm, press_norm, vibro_norm])\n",
        "y_norm = np.zeros(n)\n",
        "\n",
        "# Аварийный режим\n",
        "temp_abn = np.random.normal(530, 10, n // 4)\n",
        "press_abn = np.random.normal(230, 5, n // 4)\n",
        "vibro_abn = np.random.normal(1.5, 0.2, n // 4)\n",
        "X_abn = np.column_stack([temp_abn, press_abn, vibro_abn])\n",
        "y_abn = np.ones(n // 4)\n",
        "\n",
        "# Объединяем\n",
        "X = np.vstack([X_norm, X_abn])\n",
        "y = np.concatenate([y_norm, y_abn])\n",
        "\n",
        "X_train, X_test, y_train, y_test = train_test_split(X, y, stratify=y, random_state=0)"
      ],
      "metadata": {
        "id": "9LoTuO1D-hij"
      },
      "execution_count": null,
      "outputs": []
    },
    {
      "cell_type": "markdown",
      "source": [
        "#### Решение"
      ],
      "metadata": {
        "id": "PBlDnH0M-wLM"
      }
    },
    {
      "cell_type": "code",
      "source": [
        "from sklearn...\n",
        "from sklearn...\n",
        "\n",
        "# Обучение модели\n",
        "model = ...\n",
        "\n",
        "\n",
        "# Предсказания\n",
        "y_pred = ...\n",
        "\n",
        "# Матрица ошибок\n",
        "cm = ...\n",
        "\n",
        "# Для класса 0 (Normal)\n",
        "precision_0 = ...\n",
        "recall_0 = ...\n",
        "f1_0 = ...\n",
        "\n",
        "# Для класса 1 (Abnormal)\n",
        "precision_1 = ...\n",
        "recall_1 = ...\n",
        "f1_1 = ...\n",
        "\n",
        "print(f\"Class 0 (Normal):  Precision={precision_0:.3f}, Recall={recall_0:.3f}, F1={f1_0:.3f}\")\n",
        "print(f\"Class 1 (Abnormal): Precision={precision_1:.3f}, Recall={recall_1:.3f}, F1={f1_1:.3f}\")\n",
        "\n",
        "plt.figure(figsize=(6, 4))\n",
        "sns.heatmap(cm, annot=True, fmt=\"d\", cmap=\"Blues\", xticklabels=[\"Норма\", \"Авария\"], yticklabels=[\"Норма\", \"Авария\"])\n",
        "plt.xlabel(\"Предсказание\")\n",
        "plt.ylabel(\"Истинное значение\")\n",
        "plt.show()"
      ],
      "metadata": {
        "id": "DJbXOMVR-w6T"
      },
      "execution_count": null,
      "outputs": []
    },
    {
      "cell_type": "markdown",
      "source": [
        "---\n",
        "### Задача №11\n",
        "#### Условие\n",
        "По признакам времени суток, температуры наружного воздуха и выходной/будний день классифицируйте тип потребителя:\n",
        "\n",
        "- 0 — жилой дом\n",
        "\n",
        "- 1 — коммерческий объект\n",
        "\n",
        "- 2 — промышленное предприятие\n",
        "\n",
        "Проанализировать качество модели с помощью confusion matrix и classification_report."
      ],
      "metadata": {
        "id": "jLcilfVC-xb8"
      }
    },
    {
      "cell_type": "code",
      "source": [
        "import numpy as np\n",
        "from sklearn.model_selection import train_test_split\n",
        "\n",
        "n = 1500\n",
        "hour = np.random.randint(0, 24, n)\n",
        "temp = np.random.uniform(-15, 35, n)\n",
        "is_weekend = np.random.randint(0, 2, n)\n",
        "\n",
        "# Условные правила\n",
        "labels = []\n",
        "for h, t, w in zip(hour, temp, is_weekend):\n",
        "    if h > 17 and w == 0:\n",
        "        labels.append(1)  # Коммерция (вечером в будни)\n",
        "    elif h > 7 and t < 10:\n",
        "        labels.append(2)  # Промышленность (утро, холодно)\n",
        "    else:\n",
        "        labels.append(0)  # Жилой сектор\n",
        "\n",
        "X = np.column_stack([hour, temp, is_weekend])\n",
        "y = np.array(labels)\n",
        "\n",
        "X_train, X_test, y_train, y_test = train_test_split(X, y, stratify=y, random_state=1)"
      ],
      "metadata": {
        "id": "4BP8TdRV_NLb"
      },
      "execution_count": null,
      "outputs": []
    },
    {
      "cell_type": "markdown",
      "source": [
        "#### Решение"
      ],
      "metadata": {
        "id": "-QTwNUQu_OAs"
      }
    },
    {
      "cell_type": "code",
      "source": [
        "from sklearn...\n",
        "from sklearn.pipeline import make_pipeline\n",
        "\n",
        "# Обучение модели\n",
        "model = ...\n",
        "\n",
        "\n",
        "# Предсказания\n",
        "y_pred = ...\n",
        "\n",
        "# confusion_matrix и classification_report\n",
        "cm = ...\n",
        "cr = ...\n",
        "\n",
        "plt.figure(figsize=(6, 4))\n",
        "sns.heatmap(cm, annot=True, fmt=\"d\", cmap=\"Blues\", xticklabels=[\"Норма\", \"Авария\"], yticklabels=[\"Норма\", \"Авария\"])\n",
        "plt.xlabel(\"Предсказание\")\n",
        "plt.ylabel(\"Истинное значение\")\n",
        "plt.show()\n",
        "print()\n",
        "print(cr)"
      ],
      "metadata": {
        "id": "y50RRNu0_OYr"
      },
      "execution_count": null,
      "outputs": []
    },
    {
      "cell_type": "markdown",
      "source": [
        "---\n",
        "### Задача №12\n",
        "#### Условие\n",
        "По значениям температуры масла, тока нагрузки и газового давления классифицировать тип неисправности:\n",
        "\n",
        "- 0 — норма\n",
        "\n",
        "- 1 — перегрев\n",
        "\n",
        "- 2 — пробой изоляции\n",
        "\n",
        "Рассчитать вручную, без импорта, метрику `Accuracy`. Значение `Accuracy` итоговой модели должно быть выше `0.95`."
      ],
      "metadata": {
        "id": "4-m_Y1cZ_O4_"
      }
    },
    {
      "cell_type": "code",
      "source": [
        "import numpy as np\n",
        "from sklearn.model_selection import train_test_split\n",
        "\n",
        "n = 1200\n",
        "features = []\n",
        "labels = []\n",
        "\n",
        "for _ in range(n):\n",
        "    r = np.random.rand()\n",
        "    if r < 0.6:\n",
        "        # Норма\n",
        "        features.append([\n",
        "            np.random.normal(60, 3),   # temp\n",
        "            np.random.normal(300, 20), # current\n",
        "            np.random.normal(50, 5)    # gas pressure\n",
        "        ])\n",
        "        labels.append(0)\n",
        "    elif r < 0.85:\n",
        "        # Перегрев\n",
        "        features.append([\n",
        "            np.random.normal(90, 5),\n",
        "            np.random.normal(320, 25),\n",
        "            np.random.normal(55, 5)\n",
        "        ])\n",
        "        labels.append(1)\n",
        "    else:\n",
        "        # Пробой\n",
        "        features.append([\n",
        "            np.random.normal(85, 6),\n",
        "            np.random.normal(310, 30),\n",
        "            np.random.normal(70, 10)\n",
        "        ])\n",
        "        labels.append(2)\n",
        "\n",
        "X = np.array(features)\n",
        "y = np.array(labels)\n",
        "\n",
        "X_train, X_test, y_train, y_test = train_test_split(X, y, stratify=y, random_state=42)"
      ],
      "metadata": {
        "id": "L5keDAK__4fy"
      },
      "execution_count": null,
      "outputs": []
    },
    {
      "cell_type": "markdown",
      "source": [
        "#### Решение"
      ],
      "metadata": {
        "id": "QuFHu8Ai_4zS"
      }
    },
    {
      "cell_type": "code",
      "source": [
        "from sklearn...\n",
        "\n",
        "# Обучение модели\n",
        "model = ...\n",
        "\n",
        "\n",
        "# Предсказания\n",
        "y_pred = ...\n",
        "\n",
        "# Рассчет accuracy\n",
        "\n",
        "\n",
        "accuracy = ...\n",
        "\n",
        "print(f\"Accuracy: {accuracy:.3f}\")"
      ],
      "metadata": {
        "id": "pJhu4eWa_5AC"
      },
      "execution_count": null,
      "outputs": []
    },
    {
      "cell_type": "markdown",
      "source": [
        "---\n",
        "### Задача №13\n",
        "#### Условие\n",
        "При нормальной работе температура охлаждающей жидкости стабильно находится в диапазоне 70–90 °C, а давление — от 2.5 до 3.5 бар. При начинающемся засоре, утечке или неисправности помпы температура растёт, а давление падает.\n",
        "\n",
        "Есть исторические данные с метками:\n",
        "\n",
        "* 0 — нормальная работа\n",
        "* 1 — наличие неисправности\n",
        "\n",
        "Обучите логистическую регрессию для бинарной классификации неисправностей. Построите ROC-кривую и вычислите AUC, определите оптимальный порог из условия минимизации расстояния до точки (0,1) на ROC-кривой."
      ],
      "metadata": {
        "id": "F5jKaLZO9lNi"
      }
    },
    {
      "cell_type": "code",
      "source": [
        "import numpy as np\n",
        "\n",
        "np.random.seed(42)\n",
        "\n",
        "# Нормальная работа (класс 0)\n",
        "temp_normal = np.random.normal(80, 5, 500)\n",
        "press_normal = np.random.normal(3.0, 0.3, 500)\n",
        "\n",
        "# Неисправность (класс 1)\n",
        "temp_fault = np.random.normal(95, 4, 100)\n",
        "press_fault = np.random.normal(2.2, 0.2, 100)\n",
        "\n",
        "# Признаки и метки\n",
        "X = np.vstack([\n",
        "    np.column_stack([temp_normal, press_normal]),\n",
        "    np.column_stack([temp_fault, press_fault])\n",
        "])\n",
        "y = np.array([0]*500 + [1]*100)"
      ],
      "metadata": {
        "id": "t3ANuzvF9lhB"
      },
      "execution_count": null,
      "outputs": []
    },
    {
      "cell_type": "markdown",
      "source": [
        "#### Решение"
      ],
      "metadata": {
        "id": "S6W5REGT9lzD"
      }
    },
    {
      "cell_type": "code",
      "source": [
        "from sklearn.linear_model import LogisticRegression\n",
        "from sklearn.metrics import roc_curve, auc\n",
        "import matplotlib.pyplot as plt\n",
        "\n",
        "# Обучение модели\n",
        "model = ...\n",
        "\n",
        "\n",
        "# Оценки вероятностей\n",
        "y_scores = ...\n",
        "\n",
        "# ROC кривая\n",
        "fpr, tpr, thresholds = ...\n",
        "roc_auc = ...\n",
        "\n",
        "# Расстояние до (0, 1)\n",
        "distances = ...\n",
        "min_dist_index = ...\n",
        "optimal_threshold = ...\n",
        "\n",
        "print(f\"Оптимальный порог (по минимальному расстоянию к (0,1)): {optimal_threshold:.3f}\")\n",
        "\n",
        "# Построение графика\n",
        "plt.figure(figsize=(6, 4))\n",
        "plt.plot(fpr, tpr, label=f\"ROC (AUC = {roc_auc:.2f})\")\n",
        "plt.plot([0, 1], [0, 1], 'k--')\n",
        "plt.xlabel(\"False Positive Rate\")\n",
        "plt.ylabel(\"True Positive Rate\")\n",
        "plt.title(\"ROC-кривая: Обнаружение неисправности системы охлаждения\")\n",
        "plt.legend()\n",
        "plt.grid(True)\n",
        "plt.show()"
      ],
      "metadata": {
        "id": "XRd42kEs9mFf"
      },
      "execution_count": null,
      "outputs": []
    },
    {
      "cell_type": "code",
      "source": [],
      "metadata": {
        "id": "lUm50w3bAIMi"
      },
      "execution_count": null,
      "outputs": []
    }
  ]
}