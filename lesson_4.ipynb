{
  "cells": [
    {
      "cell_type": "markdown",
      "metadata": {
        "id": "view-in-github",
        "colab_type": "text"
      },
      "source": [
        "<a href=\"https://colab.research.google.com/github/ArtyomShabunin/SMOPA-25/blob/main/lesson_4.ipynb\" target=\"_parent\"><img src=\"https://colab.research.google.com/assets/colab-badge.svg\" alt=\"Open In Colab\"/></a>"
      ]
    },
    {
      "cell_type": "markdown",
      "id": "c8ec16ae-6432-4a9a-9f72-094f488e9f3e",
      "metadata": {
        "id": "c8ec16ae-6432-4a9a-9f72-094f488e9f3e"
      },
      "source": [
        "<img src=\"https://prana-system.com/files/110/rds_color_full.png\" alt=\"tot image\" width=\"300\"  align=\"center\"/> &nbsp;&nbsp;&nbsp;&nbsp;&nbsp;&nbsp;&nbsp;&nbsp;\n",
        "<img src=\"https://mpei.ru/AboutUniverse/OficialInfo/Attributes/PublishingImages/logo1.jpg\" alt=\"mpei image\" width=\"200\" align=\"center\"/>\n",
        "<img src=\"https://mpei.ru/Structure/Universe/tanpe/structure/tfhe/PublishingImages/tot.png\" alt=\"tot image\" width=\"100\"  align=\"center\"/>\n",
        "\n",
        "---\n",
        "\n",
        "# **Системы машинного обучения и предиктивной аналитики в тепловой и возобновляемой энергетике**  \n",
        "\n",
        "# ***Практические занятия***\n",
        "\n",
        "\n",
        "---\n",
        "\n"
      ]
    },
    {
      "cell_type": "markdown",
      "id": "1ce3748b-70b6-4dbb-8071-f88c71853ac1",
      "metadata": {
        "id": "1ce3748b-70b6-4dbb-8071-f88c71853ac1"
      },
      "source": [
        "# Занятие №4\n",
        "# Поиск аномалий методами глубокого обучения\n",
        "**12 марта 2025г.**"
      ]
    },
    {
      "cell_type": "code",
      "execution_count": null,
      "id": "474d9123-ac6e-4eb5-a9b0-dcbc83695b38",
      "metadata": {
        "id": "474d9123-ac6e-4eb5-a9b0-dcbc83695b38"
      },
      "outputs": [],
      "source": [
        "import pandas as pd\n",
        "import numpy as np\n",
        "\n",
        "import matplotlib\n",
        "import matplotlib.pyplot as plt\n",
        "%matplotlib inline\n",
        "import seaborn as sns\n",
        "import seaborn as sns\n",
        "sns.set_theme(style=\"whitegrid\", rc={'figure.figsize':(15,6)})\n",
        "\n",
        "from sklearn import preprocessing\n",
        "from sklearn.model_selection import train_test_split\n",
        "\n",
        "import torch\n",
        "import torch.nn as nn\n",
        "import torch.nn.functional as F\n",
        "\n",
        "from tqdm import tqdm\n",
        "import json\n",
        "\n",
        "import ipywidgets as widgets\n",
        "from IPython.display import display, clear_output\n",
        "import plotly.graph_objs as go\n",
        "\n",
        "pd.options.mode.chained_assignment = None\n",
        "\n",
        "from IPython.display import Markdown, display\n",
        "def printmd(string):\n",
        "    display(Markdown(string))"
      ]
    },
    {
      "cell_type": "markdown",
      "id": "b11670fc-6184-4987-b270-48f751a7a705",
      "metadata": {
        "id": "b11670fc-6184-4987-b270-48f751a7a705"
      },
      "source": [
        "## Загрузка данных"
      ]
    },
    {
      "cell_type": "code",
      "execution_count": null,
      "id": "2b066854-c571-4d74-bb62-80f5d4441bc9",
      "metadata": {
        "id": "2b066854-c571-4d74-bb62-80f5d4441bc9"
      },
      "outputs": [],
      "source": [
        "# import gdown\n",
        "# import warnings\n",
        "# warnings.filterwarnings('ignore')\n",
        "# gdown.download('https://drive.google.com/uc?id=1uEm4d4rbh1RAPw4JOHJiHzw5y_m3OSj3', verify=False)\n",
        "\n",
        "data = pd.read_parquet(\"./data.gzip\")\n",
        "\n",
        "# signals = [\n",
        "#     'GTA1.DBinPU.Aldi', 'GTA1.DBinPU.Alvna', 'GTA1.DBinPU.Alzzo',\n",
        "#     'GTA1.DBinPU.Bo', 'GTA1.DBinPU.fi', 'GTA1.DBinPU.nst',\n",
        "#     'GTA1.DBinPU.ntk', 'GTA1.DBinPU.P', 'GTA1.DBinPU.Pk', 'GTA1.DBinPU.Pvh',\n",
        "#     'GTA1.DBinPU.Qtg', 'GTA1.DBinPU.Tk', 'GTA1.DBinPU.Tn', 'GTA1.DBinPU.Tt']\n",
        "\n",
        "# data = data.loc[:, signals]"
      ]
    },
    {
      "cell_type": "code",
      "execution_count": null,
      "id": "7964f831-201f-4030-88d5-793e1a479f78",
      "metadata": {
        "id": "7964f831-201f-4030-88d5-793e1a479f78"
      },
      "outputs": [],
      "source": [
        "data.head()"
      ]
    },
    {
      "cell_type": "markdown",
      "id": "c9296365-8e7e-4560-aae2-6fb71477c515",
      "metadata": {
        "id": "c9296365-8e7e-4560-aae2-6fb71477c515"
      },
      "source": [
        "Чтение файла с описанием сигналов"
      ]
    },
    {
      "cell_type": "code",
      "execution_count": null,
      "id": "8b306a0f-fae8-43ac-b4e7-79f69dfebf5c",
      "metadata": {
        "id": "8b306a0f-fae8-43ac-b4e7-79f69dfebf5c"
      },
      "outputs": [],
      "source": [
        "with open(f'./option_0/description.json', 'r', encoding = \"utf-8\") as f:\n",
        "    description = json.load(f)"
      ]
    },
    {
      "cell_type": "markdown",
      "id": "1b6ce195-0bf1-469f-a427-6827a2eb0a68",
      "metadata": {
        "id": "1b6ce195-0bf1-469f-a427-6827a2eb0a68"
      },
      "source": [
        "Составим словарь для трактовки наименований сигналов"
      ]
    },
    {
      "cell_type": "code",
      "execution_count": null,
      "id": "3ad8a3a2-4ac6-4114-a621-31c49d53e13e",
      "metadata": {
        "id": "3ad8a3a2-4ac6-4114-a621-31c49d53e13e"
      },
      "outputs": [],
      "source": [
        "kks_to_description = {param['real_kks']: f\"{param['description']}, [{param['unit']}]\"\n",
        "for param in description if param['real_kks'] in data.columns}\n",
        "\n",
        "description_to_kks = { f\"{param['description']}, [{param['unit']}]\": param['real_kks']\n",
        "for param in description if param['real_kks'] in data.columns}"
      ]
    },
    {
      "cell_type": "markdown",
      "id": "d2dbd42a-cb62-4424-9e14-139bf7a5a547",
      "metadata": {
        "id": "d2dbd42a-cb62-4424-9e14-139bf7a5a547"
      },
      "source": [
        "### Деление на тренировочную и тестовую выборки"
      ]
    },
    {
      "cell_type": "code",
      "execution_count": null,
      "id": "3f736085-52fb-4414-9f33-25be76c53881",
      "metadata": {
        "id": "3f736085-52fb-4414-9f33-25be76c53881"
      },
      "outputs": [],
      "source": [
        "shuffled_data = data.sample(frac=1)\n",
        "\n",
        "data_train = shuffled_data.iloc[:round(shuffled_data.shape[0]*0.8), :]\n",
        "data_test = shuffled_data.iloc[round(shuffled_data.shape[0]*0.8):, :]"
      ]
    },
    {
      "cell_type": "markdown",
      "id": "3d3a89aa-a162-4a09-926d-8a910fe93d04",
      "metadata": {
        "id": "3d3a89aa-a162-4a09-926d-8a910fe93d04"
      },
      "source": [
        "Добавим шум на половину тестовых данных и отметим их как аномальные"
      ]
    },
    {
      "cell_type": "code",
      "execution_count": null,
      "id": "2df5e73f-c71f-42ec-a169-66550b20b225",
      "metadata": {
        "id": "2df5e73f-c71f-42ec-a169-66550b20b225"
      },
      "outputs": [],
      "source": [
        "def generate_binary_matrix(rows, cols, prob_ones=0.4):\n",
        "    matrix = np.zeros((rows, cols), dtype=int)  # Создаем матрицу из нулей\n",
        "\n",
        "    for i in range(rows):\n",
        "        # Генерируем случайные 0 и 1 с заданной вероятностью (без гарантированной 1)\n",
        "        row = np.random.choice([0, 1], size=cols, p=[1 - prob_ones, prob_ones])\n",
        "\n",
        "        # Если в строке нет 1, вставляем её в случайное место\n",
        "        if not np.any(row):\n",
        "            row[np.random.randint(0, cols)] = 1\n",
        "\n",
        "        matrix[i] = row  # Записываем строку в матрицу\n",
        "\n",
        "    return matrix"
      ]
    },
    {
      "cell_type": "code",
      "execution_count": null,
      "id": "4a77fa50-7430-4f55-ae7f-fd6b003cb947",
      "metadata": {
        "id": "4a77fa50-7430-4f55-ae7f-fd6b003cb947"
      },
      "outputs": [],
      "source": [
        "NUMBER_OF_ANOMALY_POINTS = round(data_test.shape[0]*0.5)\n",
        "\n",
        "data_test[\"anomaly\"] = 0\n",
        "data_test.loc[\n",
        "    data_test.iloc[:NUMBER_OF_ANOMALY_POINTS].index, [\"anomaly\"]] = 1\n",
        "\n",
        "mask = generate_binary_matrix(NUMBER_OF_ANOMALY_POINTS, data.shape[1], prob_ones=0.3)\n",
        "\n",
        "bias = mask * np.random.choice(\n",
        "    [-0.05, -0.04, -0.03, -0.02, -0.01, 0.01, 0.02, 0.03, 0.04, 0.05],\n",
        "    size=[NUMBER_OF_ANOMALY_POINTS, data.shape[1]],\n",
        "    p=np.full(10,0.1))\n",
        "\n",
        "data_test.loc[\n",
        "    data_test.iloc[:NUMBER_OF_ANOMALY_POINTS].index,\n",
        "    data_test.columns != \"anomaly\"] = data_test[data_test[\"anomaly\"] == 1].loc[:,data_test.columns != \"anomaly\"] * (1 + bias)"
      ]
    },
    {
      "cell_type": "code",
      "execution_count": null,
      "id": "e1e0b3d2-52c6-4401-bf33-03072cfb9cd2",
      "metadata": {
        "id": "e1e0b3d2-52c6-4401-bf33-03072cfb9cd2"
      },
      "outputs": [],
      "source": [
        "params_dropdown = widgets.Dropdown(\n",
        "    options=data_test.columns,\n",
        "    description='Параметр:',\n",
        "    disabled=False,\n",
        "    value=None\n",
        ")\n",
        "\n",
        "out = widgets.Output()\n",
        "display(out)\n",
        "\n",
        "with out:\n",
        "    display(params_dropdown)\n",
        "\n",
        "@out.capture()\n",
        "def params_dropdown_eventhandler(change):\n",
        "\n",
        "    clear_output()\n",
        "    display(params_dropdown)\n",
        "\n",
        "    fig, axes = plt.subplots(1, 1, figsize=(15,5))\n",
        "    plt.title(f\"Тестовая выборка\\n{change.new} - {kks_to_description [change.new]}\")\n",
        "\n",
        "    data_test[data_test[\"anomaly\"] == 0][change.new].plot(style='.', label=\"Нормальные данные\");\n",
        "    data_test[data_test[\"anomaly\"] == 1][change.new].plot(style='.', label=\"Зашумленные данные\");\n",
        "\n",
        "    # plt.plot(scat_1[change.new], 'r.', markersize=5, label='Аномалии')\n",
        "    # plt.plot(scat_0[change.new], 'g.', markersize=5, label='Норма')\n",
        "    plt.legend()\n",
        "    display(fig)\n",
        "\n",
        "params_dropdown.observe(params_dropdown_eventhandler, names='value')"
      ]
    },
    {
      "cell_type": "markdown",
      "id": "c19c0232-157d-4255-b472-030504c7e8af",
      "metadata": {
        "id": "c19c0232-157d-4255-b472-030504c7e8af"
      },
      "source": [
        "### Нормализация или стандартизация данных"
      ]
    },
    {
      "cell_type": "code",
      "execution_count": null,
      "id": "3477d1f5-300b-4afe-bb6b-8bce910b923e",
      "metadata": {
        "id": "3477d1f5-300b-4afe-bb6b-8bce910b923e"
      },
      "outputs": [],
      "source": [
        "scaler = preprocessing.MinMaxScaler() # нормализация данных\n",
        "# scaler = preprocessing.StandardScaler() # стандартизация данных\n",
        "\n",
        "X_train = pd.DataFrame(\n",
        "    scaler.fit_transform(data_train),\n",
        "    columns=data_train.columns,\n",
        "    index=data_train.index)\n",
        "\n",
        "X_test = pd.DataFrame(\n",
        "    scaler.transform(data_test[data.columns]),\n",
        "    columns=data.columns,\n",
        "    index=data_test.index)\n",
        "\n",
        "X_train.describe()"
      ]
    },
    {
      "cell_type": "markdown",
      "id": "bf3d25d7-7856-43b4-bdef-3e15cc3d9339",
      "metadata": {
        "id": "bf3d25d7-7856-43b4-bdef-3e15cc3d9339"
      },
      "source": [
        "## Полносвязная нейронная сеть (Fully Connected Layer, FC Layer)\n",
        "\n",
        "Полносвязный слой — это основной компонент нейронных сетей, где каждый нейрон текущего слоя соединён со всеми нейронами предыдущего и следующего слоя.\n",
        "\n",
        "Персептрон — это **базовая модель** искусственной нейронной сети, предложенная Фрэнком Розенблаттом в 1958 году. Это **самый простой вид нейросети**, который является основой для современных **полносвязных нейронных сетей**.\n",
        "\n",
        "---\n",
        "### **Персептрон**\n",
        "**Структура персептрона**\n",
        "\n",
        "<img src=\"https://neerc.ifmo.ru/wiki/images/a/a5/%D0%98%D1%81%D0%BA%D1%83%D1%81%D1%81%D1%82%D0%B2%D0%B5%D0%BD%D0%BD%D1%8B%D0%B9_%D0%BD%D0%B5%D0%B9%D1%80%D0%BE%D0%BD_%D1%81%D1%85%D0%B5%D0%BC%D0%B0.png\" alt=\"perceptron image\" width=\"500\"/>\n",
        "\n",
        "Классический **одиночный персептрон** состоит из:  \n",
        "- **Входного слоя** $ x_1, x_2, ..., x_n $ — входные признаки  \n",
        "- **Весов** $ w_1, w_2, ..., w_n $ — коэффициенты, определяющие важность входных признаков  \n",
        "- **Смещения** (bias) $ b $ — позволяет модели лучше подстраиваться  \n",
        "- **Сумматора** — вычисляет взвешенную сумму входов:  \n",
        "  $ z = w_1 x_1 + w_2 x_2 + ... + w_n x_n + b $\n",
        "- **Активационной функции** $ f(z) $, например, пороговой (step function):  \n",
        "  $$\n",
        "  y =\n",
        "  \\begin{cases}\n",
        "  1, & z \\geq 0 \\\\\n",
        "  0, & z < 0\n",
        "  \\end{cases}\n",
        "  $$\n",
        "  \n",
        "Персептрон работает как **линейный классификатор**, разделяя данные на два класса.\n",
        "\n",
        "---\n",
        "### **Многослойный персептрон**\n",
        "\n",
        "- **Одиночный персептрон** — это всего **один полносвязный слой**.  \n",
        "- **Многослойный персептрон (MLP, Multi-Layer Perceptron)** — это **полносвязная нейросеть**, состоящая из **нескольких персептронов** в скрытых слоях.  \n",
        "- В отличие от обычного персептрона, **MLP может моделировать нелинейные зависимости** благодаря использованию **нелинейных активационных функций** (ReLU, Sigmoid, Tanh).\n",
        "\n",
        "<img src=\"https://lh5.googleusercontent.com/proxy/_NrlkWwft7zy_-C-fxPidblqeLH0wZXd5Vj2MzsM0twc0mp72IPtSrpijoQ-4rfx9BSBbHbFAkXo7BaMXKdAaUhg2tGH\" alt=\"mlp image\" width=\"400\"/>\n",
        "\n",
        "---\n",
        "\n",
        "**Формула двухслойного персептрона через матричное умножение**  \n",
        "\n",
        "Рассмотрим **двухслойный персептрон** (один скрытый слой + выходной слой).  \n",
        "\n",
        "**Обозначения:**  \n",
        "- $ X $ — входной вектор (размерность $ (n, d) $, где $ n $ — количество примеров, $ d $ — число входных признаков).  \n",
        "- $ W_1 $ — матрица весов первого слоя (размерность $ (d, h) $, где $ h $ — число нейронов в скрытом слое).  \n",
        "- $ b_1 $ — вектор смещений первого слоя (размерность $ (1, h) $).  \n",
        "- $ W_2 $ — матрица весов второго слоя (размерность $ (h, k) $, где $ k $ — число выходных нейронов).  \n",
        "- $ b_2 $ — вектор смещений второго слоя (размерность $ (1, k) $).  \n",
        "- $ f $ — активационная функция (например, ReLU или сигмоида).  \n",
        "- $ g $ — активация выходного слоя (например, Softmax для классификации).  \n",
        "\n",
        "---\n",
        "\n",
        "**1. Вычисление скрытого слоя**  \n",
        "$$ H = f(X W_1 + b_1) $$\n",
        "- $ X $ имеет размерность $ (n, d) $, $ W_1 $ — $ (d, h) $, $ b_1 $ — $ (1, h) $.  \n",
        "- После матричного умножения $ X W_1 $ получаем размерность $ (n, h) $.  \n",
        "- Добавляем $ b_1 $ и применяем функцию активации $ f $, получая матрицу активаций скрытого слоя $ H $ размерности $ (n, h) $.  \n",
        "\n",
        "**2. Вычисление выходного слоя**  \n",
        "$$ Y = g(H W_2 + b_2) $$\n",
        "- $ H $ имеет размерность $ (n, h) $, $ W_2 $ — $ (h, k) $, $ b_2 $ — $ (1, k) $.  \n",
        "- После умножения $ H W_2 $ получаем размерность $ (n, k) $.  \n",
        "- Добавляем $ b_2 $ и применяем активацию $ g $, получая выходной вектор $ Y $ размерности $ (n, k) $.  \n",
        "\n",
        "---\n",
        "\n",
        "**Итоговая запись**  \n",
        "$$ Y = g(f(X W_1 + b_1) W_2 + b_2) $$\n",
        "\n",
        "---\n",
        "\n",
        "### **Функция активации ReLU (Rectified Linear Unit)**  \n",
        "\n",
        "**ReLU (Rectified Linear Unit)** — одна из самых популярных активационных функций в нейронных сетях. Она используется в скрытых слоях, чтобы добавлять нелинейность в модель.\n",
        "\n",
        "---\n",
        "\n",
        "**Формула ReLU**  \n",
        "$$ f(x) = \\max(0, x) $$\n",
        "- Если $ x > 0 $, то $ f(x) = x $  \n",
        "- Если $ x \\leq 0 $, то $ f(x) = 0 $  \n",
        "\n",
        "**ReLU обнуляет отрицательные значения и пропускает положительные без изменений.**\n",
        "\n",
        "---\n",
        "\n",
        "**ReLU — стандарт для глубоких нейросетей**.  "
      ]
    },
    {
      "cell_type": "markdown",
      "id": "490c7fd3-69cc-4a16-b923-4eb72e35774b",
      "metadata": {
        "id": "490c7fd3-69cc-4a16-b923-4eb72e35774b"
      },
      "source": [
        "## Автокодировщик (autoencoder)  \n",
        "\n",
        "Автокодировщик (**Autoencoder, AE**) — это нейросеть, обучаемая на нормальных данных, чтобы восстанавливать их с минимальной ошибкой. Аномалии выявляются по значению ошибки восстановления (**reconstruction error**): если ошибка высокая, то входные данные, скорее всего, аномальные.\n",
        "\n",
        "<!-- <img src=\"https://pub.mdpi-res.com/information/information-12-00238/article_deploy/html/images/information-12-00238-g001.png\" alt=\"ae image\" width=\"500\"/> -->\n",
        "\n",
        "<img src=\"https://upload.wikimedia.org/wikipedia/commons/3/37/Autoencoder_schema.png\" alt=\"ae image\" width=\"500\"/>\n",
        "\n",
        "---\n",
        "\n",
        "### **1. Кодировщик (Encoder)**\n",
        "Сжимает входные данные в скрытое представление (**latent space**) меньшей размерности.  \n",
        "\n",
        "Пример:  \n",
        "$$ h = f(Wx + b) $$\n",
        "Где $ f $ — нелинейная активация (ReLU, LeakyReLU), \\( W \\) — веса сети.\n",
        "\n",
        "### **2. Боттлнек (Latent Space)**\n",
        "Самое узкое место в сети, где модель сохраняет только ключевые признаки данных.\n",
        "\n",
        "### **3. Декодировщик (Decoder)**\n",
        "Восстанавливает данные из латентного представления обратно в исходное пространство.\n",
        "\n",
        "Пример:  \n",
        "$$ \\hat{x} = g(W'h + b') $$\n",
        "\n",
        "### **4. Вычисление ошибки восстановления**\n",
        "- **Mean Squared Error (MSE)**:  \n",
        "  $$ \\text{Loss} = \\frac{1}{n} \\sum (x - \\hat{x})^2 $$\n",
        "- Если ошибка выше порога, то это **аномалия**.\n",
        "\n",
        "---\n",
        "\n",
        "**Настройки обучения**\n",
        "- **Функция активации**: ReLU или LeakyReLU в кодировщике, сигмоида в выходном слое (если входные данные нормализованы).\n",
        "- **Функция потерь**: MSE.\n",
        "- **Оптимизатор**: Adam.\n",
        "- **Регуляризация**: Dropout или L1/L2-регуляризация, чтобы улучшить генерализацию.\n",
        "\n",
        "---\n",
        "\n",
        "## **Сравнение с One-Class SVM**\n",
        "| **Критерий**       | **Автокодировщик (AE)** | **One-Class SVM (OC-SVM)** |\n",
        "|--------------------|------------------------|------------------------|\n",
        "| **Тип модели** | Нейросеть с обучением | Метод SVM |\n",
        "| **Пространство признаков** | Латентное представление | Гиперплоскость |\n",
        "| **Адаптивность** | Гибкая, можно дообучать | Фиксированные границы |\n",
        "| **Работа с нелинейностями** | Легко захватывает сложные структуры | Использует ядра, но ограничено |\n",
        "| **Выявление аномалий** | По ошибке восстановления | По расстоянию от гиперплоскости |\n",
        "| **Требования к данным** | Требуется большое количество нормальных данных | Работает даже с малым объемом |\n",
        "| **Объясняемость** | Трудно интерпретировать | Легче понять границы класса |\n",
        "\n",
        "---\n",
        "\n",
        "- **AE лучше**, если аномалии имеют **сложные структуры** и нужно анализировать нелинейные зависимости.\n",
        "- **OC-SVM лучше**, если данных **мало** и аномалии — это просто редкие отклонения.\n",
        "\n",
        "Если данные промышленные и содержат **много параметров**, то **автокодировщик** обычно показывает **лучшие результаты**.\n"
      ]
    },
    {
      "cell_type": "markdown",
      "id": "1daa071c-7812-4df9-a190-99bdb363d905",
      "metadata": {
        "id": "1daa071c-7812-4df9-a190-99bdb363d905"
      },
      "source": [
        "## Построение модели"
      ]
    },
    {
      "cell_type": "code",
      "execution_count": null,
      "id": "684271cc-353d-46ee-b817-8d79e993fe3e",
      "metadata": {
        "id": "684271cc-353d-46ee-b817-8d79e993fe3e"
      },
      "outputs": [],
      "source": [
        "features = data.shape[1]\n",
        "\n",
        "class Autoencoder(torch.nn.Module):\n",
        "    def __init__(self, h):\n",
        "        super().__init__()\n",
        "        self.encoder = nn.Sequential(\n",
        "            nn.Linear(features, h),\n",
        "            nn.ReLU(),\n",
        "            nn.Linear(h, h),\n",
        "        )\n",
        "        self.decoder = nn.Sequential(\n",
        "            nn.Linear(h, features),\n",
        "            nn.ReLU(),\n",
        "            nn.Linear(features, features),\n",
        "        )\n",
        "\n",
        "    def forward(self, sample):\n",
        "        latent = self.encoder(sample)\n",
        "        reconstructed = self.decoder(latent)\n",
        "        return reconstructed"
      ]
    },
    {
      "cell_type": "code",
      "execution_count": null,
      "id": "625985f6-8ed9-4622-9432-81a6b1fe6a7c",
      "metadata": {
        "id": "625985f6-8ed9-4622-9432-81a6b1fe6a7c"
      },
      "outputs": [],
      "source": [
        "model = Autoencoder(5)\n",
        "model"
      ]
    },
    {
      "cell_type": "code",
      "execution_count": null,
      "id": "5344e6e4-6c6d-4a95-a5e6-a9f13727bebd",
      "metadata": {
        "id": "5344e6e4-6c6d-4a95-a5e6-a9f13727bebd"
      },
      "outputs": [],
      "source": [
        "x = torch.tensor(X_train.iloc[10].values, dtype=torch.float32)[np.newaxis,:]\n",
        "x_hat = model(x)"
      ]
    },
    {
      "cell_type": "code",
      "execution_count": null,
      "id": "06a515ec-7541-401d-a14d-c0e8d8f4a067",
      "metadata": {
        "id": "06a515ec-7541-401d-a14d-c0e8d8f4a067"
      },
      "outputs": [],
      "source": [
        "x"
      ]
    },
    {
      "cell_type": "code",
      "execution_count": null,
      "id": "300d3f0b-5fbf-4324-af42-6d1036106e72",
      "metadata": {
        "id": "300d3f0b-5fbf-4324-af42-6d1036106e72"
      },
      "outputs": [],
      "source": [
        "x_hat"
      ]
    },
    {
      "cell_type": "markdown",
      "id": "d9ac18ca-015a-4ebb-9a85-9eb77d9a1336",
      "metadata": {
        "id": "d9ac18ca-015a-4ebb-9a85-9eb77d9a1336"
      },
      "source": [
        "## **`torch.tensor` в PyTorch**  \n",
        "\n",
        "В **PyTorch** `torch.tensor` — это **основная структура данных** для работы с числовыми массивами (аналог `numpy.ndarray`), которая поддерживает вычисления на **GPU** и **автоматическое дифференцирование**."
      ]
    },
    {
      "cell_type": "markdown",
      "id": "8b806396-d74f-49a5-a0fc-549720182bb7",
      "metadata": {
        "id": "8b806396-d74f-49a5-a0fc-549720182bb7"
      },
      "source": [
        "Создание тензора из списка"
      ]
    },
    {
      "cell_type": "code",
      "execution_count": null,
      "id": "f013171f-4c5d-49de-bc38-aca1817496da",
      "metadata": {
        "id": "f013171f-4c5d-49de-bc38-aca1817496da"
      },
      "outputs": [],
      "source": [
        "x = torch.tensor([1, 2, 3])\n",
        "x"
      ]
    },
    {
      "cell_type": "code",
      "execution_count": null,
      "id": "9fadfc8a-8cea-4ce1-84d7-41de385039fd",
      "metadata": {
        "id": "9fadfc8a-8cea-4ce1-84d7-41de385039fd"
      },
      "outputs": [],
      "source": [
        "x.dtype"
      ]
    },
    {
      "cell_type": "markdown",
      "id": "7f164738-62cf-4644-9f54-50a2e44b8cc5",
      "metadata": {
        "id": "7f164738-62cf-4644-9f54-50a2e44b8cc5"
      },
      "source": [
        "Задание типа данных (`dtype`)"
      ]
    },
    {
      "cell_type": "code",
      "execution_count": null,
      "id": "e173f92e-de07-483c-9af9-adf89f61383f",
      "metadata": {
        "id": "e173f92e-de07-483c-9af9-adf89f61383f"
      },
      "outputs": [],
      "source": [
        "x = torch.tensor([1, 2, 3], dtype=torch.float32)\n",
        "x.dtype"
      ]
    },
    {
      "cell_type": "code",
      "execution_count": null,
      "id": "0834150f-ca2e-4e5e-84d2-afd521dd2ea2",
      "metadata": {
        "id": "0834150f-ca2e-4e5e-84d2-afd521dd2ea2"
      },
      "outputs": [],
      "source": [
        "x.to(torch.int32)"
      ]
    },
    {
      "cell_type": "markdown",
      "id": "6ae7ba3c-f9ce-4aba-8dc9-da7ccb912ad2",
      "metadata": {
        "id": "6ae7ba3c-f9ce-4aba-8dc9-da7ccb912ad2"
      },
      "source": [
        "Создание тензора с нулями и единицами"
      ]
    },
    {
      "cell_type": "code",
      "execution_count": null,
      "id": "b7c45b0e-5b7b-4ff1-a409-4e47dde8765e",
      "metadata": {
        "id": "b7c45b0e-5b7b-4ff1-a409-4e47dde8765e"
      },
      "outputs": [],
      "source": [
        "zeros = torch.zeros(3, 3)  # Матрица 3x3 из нулей\n",
        "ones = torch.ones(2, 2)    # Матрица 2x2 из единиц\n",
        "rand = torch.rand(2, 3)    # Матрица 2x3 со случайными числами\n",
        "\n",
        "zeros, ones, rand"
      ]
    },
    {
      "cell_type": "markdown",
      "id": "f924334c-d98c-4283-97a0-cf4084564a0d",
      "metadata": {
        "id": "f924334c-d98c-4283-97a0-cf4084564a0d"
      },
      "source": [
        "Основные свойства тензоров"
      ]
    },
    {
      "cell_type": "code",
      "execution_count": null,
      "id": "e36b5131-a57f-4100-856a-1d02d9e9b118",
      "metadata": {
        "id": "e36b5131-a57f-4100-856a-1d02d9e9b118"
      },
      "outputs": [],
      "source": [
        "x = torch.tensor([[1, 2, 3], [4, 5, 6]])\n",
        "\n",
        "print(x.shape)  # Размерность (2, 3)\n",
        "print(x.dtype)  # Тип данных (int64)\n",
        "print(x.device) # Где хранится (CPU/GPU)"
      ]
    },
    {
      "cell_type": "markdown",
      "id": "89b7ea2c-f7e4-4b8d-aecd-7c58a4f80b9b",
      "metadata": {
        "id": "89b7ea2c-f7e4-4b8d-aecd-7c58a4f80b9b"
      },
      "source": [
        "Перевод на GPU"
      ]
    },
    {
      "cell_type": "code",
      "execution_count": null,
      "id": "2c3b1a5c-4e16-49bb-9636-bcfcf7b75b3e",
      "metadata": {
        "id": "2c3b1a5c-4e16-49bb-9636-bcfcf7b75b3e"
      },
      "outputs": [],
      "source": [
        "device = \"cuda\" if torch.cuda.is_available() else \"cpu\"\n",
        "x = torch.tensor([1, 2, 3], device=device)\n",
        "print(x.device)  # cuda (если есть GPU)"
      ]
    },
    {
      "cell_type": "markdown",
      "id": "d6713f94-d869-4d02-94d1-a919850aa340",
      "metadata": {
        "id": "d6713f94-d869-4d02-94d1-a919850aa340"
      },
      "source": [
        "Преобразование между NumPy и PyTorch"
      ]
    },
    {
      "cell_type": "code",
      "execution_count": null,
      "id": "b70a0d65-a09e-46b9-b48d-4c5acc319eb4",
      "metadata": {
        "id": "b70a0d65-a09e-46b9-b48d-4c5acc319eb4"
      },
      "outputs": [],
      "source": [
        "# Из NumPy в PyTorch\n",
        "np_array = np.array([1, 2, 3])\n",
        "torch_tensor = torch.from_numpy(np_array)\n",
        "\n",
        "# Из PyTorch в NumPy\n",
        "numpy_array = torch_tensor.numpy()"
      ]
    },
    {
      "cell_type": "code",
      "execution_count": null,
      "id": "1b3f5acd-e945-4331-922c-62b944e77a48",
      "metadata": {
        "id": "1b3f5acd-e945-4331-922c-62b944e77a48"
      },
      "outputs": [],
      "source": [
        "torch_tensor = torch.from_numpy(np_array)\n",
        "torch_tensor.detach().numpy() # detach() используется в PyTorch, чтобы отключить градиенты у тензора.\n",
        "                              # Это позволяет создать новый тензор, который не участвует в вычислении градиентов,\n",
        "                              # но содержит те же значения, что и исходный тензор"
      ]
    },
    {
      "cell_type": "markdown",
      "id": "41ed99bb-f9a5-4bf8-8a73-7d21edf3848e",
      "metadata": {
        "id": "41ed99bb-f9a5-4bf8-8a73-7d21edf3848e"
      },
      "source": [
        "Операции с тензорами"
      ]
    },
    {
      "cell_type": "code",
      "execution_count": null,
      "id": "177cf9b6-1608-4c05-85d0-dd1aabfef4d4",
      "metadata": {
        "id": "177cf9b6-1608-4c05-85d0-dd1aabfef4d4"
      },
      "outputs": [],
      "source": [
        "x = torch.tensor([1, 2, 3])\n",
        "y = torch.tensor([4, 5, 6])\n",
        "\n",
        "print(x + y)  # Сложение\n",
        "print(x * y)  # Поэлементное умножение\n",
        "print(x @ y)  # Скалярное произведение"
      ]
    },
    {
      "cell_type": "markdown",
      "id": "bcc859de-be0b-4a19-ad30-c4b9494f91dd",
      "metadata": {
        "id": "bcc859de-be0b-4a19-ad30-c4b9494f91dd"
      },
      "source": [
        "Автоматическое вычисление градиентов (`requires_grad=True`)"
      ]
    },
    {
      "cell_type": "code",
      "execution_count": null,
      "id": "90bc6632-62b0-4e2c-bd9d-66a6bcfac667",
      "metadata": {
        "id": "90bc6632-62b0-4e2c-bd9d-66a6bcfac667"
      },
      "outputs": [],
      "source": [
        "x = torch.tensor([2.0], requires_grad=True)\n",
        "y = x**2  # y = x^2\n",
        "\n",
        "y.backward()  # Вычисляем градиент\n",
        "print(x.grad)  # dy/dx = 2*x = 4"
      ]
    },
    {
      "cell_type": "markdown",
      "id": "6bee04ee-a9d5-44e8-9d4d-88025852bf2f",
      "metadata": {
        "id": "6bee04ee-a9d5-44e8-9d4d-88025852bf2f"
      },
      "source": [
        "Добавление размерности"
      ]
    },
    {
      "cell_type": "code",
      "execution_count": null,
      "id": "cb8df5a1-b3b9-4f0b-ad8d-4c37ee1895ab",
      "metadata": {
        "id": "cb8df5a1-b3b9-4f0b-ad8d-4c37ee1895ab"
      },
      "outputs": [],
      "source": [
        "x = torch.tensor([1, 2, 3])  # Размерность: (3,)\n",
        "x_unsqueezed = x.unsqueeze(0)  # Добавляем ось по нулевому измерению\n",
        "print(x_unsqueezed.shape)  # torch.Size([1, 3])"
      ]
    },
    {
      "cell_type": "code",
      "execution_count": null,
      "id": "094407b2-1603-4f9a-8a14-8447c1abb92a",
      "metadata": {
        "id": "094407b2-1603-4f9a-8a14-8447c1abb92a"
      },
      "outputs": [],
      "source": [
        "x = torch.tensor([1, 2, 3])  # Размерность: (3,)\n",
        "x_reshaped = x.view(1, 3)  # То же самое, что unsqueeze(0)\n",
        "print(x_reshaped.shape)  # torch.Size([1, 3])"
      ]
    },
    {
      "cell_type": "code",
      "execution_count": null,
      "id": "8d4e0483-c022-470a-8624-baf97f1ff43a",
      "metadata": {
        "id": "8d4e0483-c022-470a-8624-baf97f1ff43a"
      },
      "outputs": [],
      "source": [
        "# индексация\n",
        "x = torch.tensor([1, 2, 3])  # Размерность: (3,)\n",
        "x_expanded = x[None, :]\n",
        "print(x_expanded.shape)  # torch.Size([1, 3])"
      ]
    },
    {
      "cell_type": "markdown",
      "id": "0147722c-3d81-4ef9-9c7e-656824aa025a",
      "metadata": {
        "id": "0147722c-3d81-4ef9-9c7e-656824aa025a"
      },
      "source": [
        "Удаление размерности"
      ]
    },
    {
      "cell_type": "code",
      "execution_count": null,
      "id": "bc82e12b-2db5-4860-91c8-93d7146f4aa3",
      "metadata": {
        "id": "bc82e12b-2db5-4860-91c8-93d7146f4aa3"
      },
      "outputs": [],
      "source": [
        "x = torch.tensor([[1, 2, 3]])  # Размерность (1, 3)\n",
        "x_squeezed = x.squeeze(0)  # Удаляем нулевую ось\n",
        "print(x_squeezed.shape)  # torch.Size([3])"
      ]
    },
    {
      "cell_type": "code",
      "execution_count": null,
      "id": "1a19433f-ea58-408a-ad9c-afafd2572096",
      "metadata": {
        "id": "1a19433f-ea58-408a-ad9c-afafd2572096"
      },
      "outputs": [],
      "source": [
        "# индексация\n",
        "x = torch.tensor([[1, 2, 3]])  # Размерность (1, 3)\n",
        "x_squeezed = x_expanded[0]\n",
        "print(x_squeezed.shape)  # torch.Size([3])"
      ]
    },
    {
      "cell_type": "markdown",
      "id": "095050a2-c4bf-4481-bea3-6a01a2692818",
      "metadata": {
        "id": "095050a2-c4bf-4481-bea3-6a01a2692818"
      },
      "source": [
        "## Обучение сети\n",
        "\n",
        "**Прямой проход (Forward Pass)**  \n",
        "- Данные проходят через сеть, и каждый слой применяет свои веса и функции активации.  \n",
        "- Получаем **выход модели** (предсказание).  \n",
        "\n",
        "**Вычисление ошибки (Loss Calculation)**  \n",
        "- Считаем **функцию потерь** (например, MSE, CrossEntropy).  \n",
        "- Показывает, насколько сильно предсказание отличается от правильного ответа.\n",
        "\n",
        "Среднеквадратичная ошибка (MSE) вычисляется как **среднее арифметическое квадратов разностей между предсказанными ($\\hat{y}_i$) и реальными ($y_i$) значениями**:  \n",
        "\n",
        "$$MSE = \\frac{1}{N} \\sum_{i=1}^{N} (y_i - \\hat{y}_i)^2$$\n",
        "\n",
        "Где:  \n",
        "- $ N $ — количество примеров в выборке  \n",
        "- $ y_i $ — истинное значение  \n",
        "- $ \\hat{y}_i $ — предсказанное значение модели  \n",
        "\n",
        "---\n",
        "\n",
        "**Обратное распространение ошибки (Backward Pass)**  \n",
        "- Вычисляем **градиенты** ошибки по всем весам сети, начиная с выхода.  \n",
        "- Используем **цепное правило дифференцирования** (chain rule), чтобы передавать градиенты назад по сети.  \n",
        "\n",
        "**Обновление весов (Weight Update)**  \n",
        "- Используем **оптимизатор** (например, `SGD`, `Adam`), чтобы обновить веса:  \n",
        "  $$ w = w - \\eta \\cdot \\frac{\\partial L}{\\partial w} $$\n",
        "  где:  \n",
        "  - $ w $ — веса сети  \n",
        "  - $ \\eta $ — скорость обучения (learning rate)  \n",
        "  - $ \\frac{\\partial L}{\\partial w} $ — градиент ошибки  \n"
      ]
    },
    {
      "cell_type": "markdown",
      "id": "19780f81-2669-4825-b01b-e983cbe1db97",
      "metadata": {
        "id": "19780f81-2669-4825-b01b-e983cbe1db97"
      },
      "source": [
        "Заметим, что поскольку мы занимаемся реконструкцией, train/val у нас выступает как в роли входа для сети, так и в роли таргета"
      ]
    },
    {
      "cell_type": "markdown",
      "id": "dcba7b99-29a5-458e-942d-ac61e124e6b8",
      "metadata": {
        "id": "dcba7b99-29a5-458e-942d-ac61e124e6b8"
      },
      "source": [
        "### Создаем `DataLoader` на обучающих и тестовых данных"
      ]
    },
    {
      "cell_type": "markdown",
      "id": "9824c9b8-39a5-4348-8568-fafc26243afb",
      "metadata": {
        "id": "9824c9b8-39a5-4348-8568-fafc26243afb"
      },
      "source": [
        "Делим нашу обучающую выборку на обучающую и валидационную"
      ]
    },
    {
      "cell_type": "code",
      "execution_count": null,
      "id": "06d6f435-3460-4358-beb2-95481c34e3b3",
      "metadata": {
        "id": "06d6f435-3460-4358-beb2-95481c34e3b3"
      },
      "outputs": [],
      "source": [
        "X_val = X_train.iloc[round(X_train.shape[0]*0.8):, :]\n",
        "X_train = X_train.iloc[:round(X_train.shape[0]*0.8), :]"
      ]
    },
    {
      "cell_type": "code",
      "execution_count": null,
      "id": "8a9f1d80-6d47-4852-9d94-54d2d1b4d639",
      "metadata": {
        "id": "8a9f1d80-6d47-4852-9d94-54d2d1b4d639"
      },
      "outputs": [],
      "source": [
        "BATCH_SIZE = 512 # Размер батча (количество примеров за раз)\n",
        "# Разделение данных на батчи (mini-batches) при обучении нейросетей ускоряет и стабилизирует процесс градиентного спуска.\n",
        "\n",
        "train_loader = torch.utils.data.DataLoader(X_train.values, batch_size=BATCH_SIZE)\n",
        "val_loader = torch.utils.data.DataLoader(X_val.values, batch_size=BATCH_SIZE)"
      ]
    },
    {
      "cell_type": "markdown",
      "id": "d225b11c-353b-4a65-ae7b-52b907c7e783",
      "metadata": {
        "id": "d225b11c-353b-4a65-ae7b-52b907c7e783"
      },
      "source": [
        "### Обучение модели"
      ]
    },
    {
      "cell_type": "code",
      "execution_count": null,
      "id": "30221389-38c5-4165-bb0c-ac65d0ff8f41",
      "metadata": {
        "id": "30221389-38c5-4165-bb0c-ac65d0ff8f41"
      },
      "outputs": [],
      "source": [
        "HIDDEN_SIZE = 10\n",
        "N_EPOCHS = 100\n",
        "LEARNING_RATE = 0.001\n",
        "\n",
        "\n",
        "model = Autoencoder(HIDDEN_SIZE)\n",
        "optimizer = torch.optim.Adam(model.parameters(), lr=LEARNING_RATE)\n",
        "loss_fn = F.mse_loss\n",
        "train_losses = []\n",
        "val_losses = []\n",
        "\n",
        "for epoch in tqdm(range(N_EPOCHS)):\n",
        "    model.train()\n",
        "    train_losses_per_epoch = []\n",
        "    for i, X_batch in enumerate(train_loader):\n",
        "        X_batch = X_batch.to(torch.float32)\n",
        "        optimizer.zero_grad()\n",
        "        reconstructed = model(X_batch)\n",
        "        loss = loss_fn(reconstructed, X_batch)\n",
        "        loss.backward()\n",
        "        optimizer.step()\n",
        "        train_losses_per_epoch.append(loss.item())\n",
        "\n",
        "    train_losses.append(np.mean(train_losses_per_epoch))\n",
        "\n",
        "    model.eval()\n",
        "    val_losses_per_epoch = []\n",
        "    with torch.no_grad():\n",
        "        for X_batch in val_loader:\n",
        "            X_batch = X_batch.to(torch.float32)\n",
        "            reconstructed = model(X_batch)\n",
        "            loss = loss_fn(reconstructed, X_batch)\n",
        "            val_losses_per_epoch.append(loss.item())\n",
        "\n",
        "    val_losses.append(np.mean(val_losses_per_epoch))"
      ]
    },
    {
      "cell_type": "code",
      "execution_count": null,
      "id": "01836769-b7e2-4e25-a737-9e1ad95f1131",
      "metadata": {
        "id": "01836769-b7e2-4e25-a737-9e1ad95f1131"
      },
      "outputs": [],
      "source": [
        "plt.figure(figsize=(15, 5))\n",
        "plt.plot(np.arange(len(train_losses)), train_losses, label='Train')\n",
        "plt.plot(np.arange(len(val_losses)), val_losses, label='Validation')\n",
        "\n",
        "plt.xlabel('Эпоха')\n",
        "plt.title('Среднеквадратичная ошибка (MSE loss)')\n",
        "plt.legend()\n",
        "plt.show()"
      ]
    },
    {
      "cell_type": "code",
      "execution_count": null,
      "id": "1b579cf1-ea14-4d52-a3c6-e63cf4bf5ef0",
      "metadata": {
        "id": "1b579cf1-ea14-4d52-a3c6-e63cf4bf5ef0"
      },
      "outputs": [],
      "source": [
        "print('Loss в конце обучения')\n",
        "print(f'На обучающей выборке: {train_losses[-1]:.5f}')\n",
        "print(f'На валидационной выборке: {val_losses[-1]:.5f}')"
      ]
    },
    {
      "cell_type": "markdown",
      "id": "8363444b-4f5e-408f-990b-3e20e646ed60",
      "metadata": {
        "id": "8363444b-4f5e-408f-990b-3e20e646ed60"
      },
      "source": [
        "## Оценка ошибки восстановления"
      ]
    },
    {
      "cell_type": "code",
      "execution_count": null,
      "id": "25e3716e-aa53-4a72-99a8-78208dbe3609",
      "metadata": {
        "id": "25e3716e-aa53-4a72-99a8-78208dbe3609"
      },
      "outputs": [],
      "source": [
        "x = torch.tensor(X_test.values, dtype=torch.float32)\n",
        "x_hat = model(x)\n",
        "reconstruction_err = F.mse_loss(x_hat, x, reduction='none').mean(axis=1)\n",
        "data_test['reconstruction_err'] = reconstruction_err.detach().numpy()"
      ]
    },
    {
      "cell_type": "code",
      "execution_count": null,
      "id": "2b03e4e0-bde9-46d9-a08c-90ef169603ef",
      "metadata": {
        "id": "2b03e4e0-bde9-46d9-a08c-90ef169603ef"
      },
      "outputs": [],
      "source": [
        "try:\n",
        "    scat_1 = data_test.groupby('anomaly_svm').get_group(1)\n",
        "    scat_0 = data_test.groupby('anomaly_svm').get_group(0)\n",
        "except KeyError:\n",
        "    print(\"Не удалось разделить данные\")\n",
        "\n",
        "params_dropdown = widgets.Dropdown(\n",
        "    options=data_test.columns,\n",
        "    description='Параметр:',\n",
        "    disabled=False,\n",
        "    value=None\n",
        ")\n",
        "\n",
        "out = widgets.Output()\n",
        "display(out)\n",
        "\n",
        "with out:\n",
        "    display(params_dropdown)\n",
        "\n",
        "@out.capture()\n",
        "def params_dropdown_eventhandler(change):\n",
        "\n",
        "    clear_output()\n",
        "    display(params_dropdown)\n",
        "    # selected_param = selected_params_kks[list(selected_params_description).index(change.new)]\n",
        "\n",
        "\n",
        "    fig, axes = plt.subplots(1, 1, figsize=(15,5))\n",
        "    fig = plt.figure();\n",
        "\n",
        "\n",
        "\n",
        "    plt.scatter(\n",
        "        data_test[change.new].index,\n",
        "        data_test[change.new].values,\n",
        "        c = data_test['reconstruction_err'],\n",
        "        s=10, alpha=0.5);\n",
        "\n",
        "\n",
        "    plt.title(f\"{change.new} - {kks_to_description [change.new]}\")\n",
        "    plt.ylabel(change.new, fontsize=20);\n",
        "    cbar = plt.colorbar()\n",
        "    plt.set_cmap('viridis')\n",
        "    cbar.ax.get_yaxis().labelpad = 20\n",
        "    cbar.ax.set_ylabel('reconstruction_err', rotation=270, fontsize=20)\n",
        "    display(fig)\n",
        "\n",
        "params_dropdown.observe(params_dropdown_eventhandler, names='value')"
      ]
    },
    {
      "cell_type": "markdown",
      "id": "f7e0591a-60d7-4cee-b335-a8400c4e5109",
      "metadata": {
        "id": "f7e0591a-60d7-4cee-b335-a8400c4e5109"
      },
      "source": [
        "### **ROC AUC — способность модели различать классы**\n",
        "ROC AUC показывает **насколько хорошо модель различает нормальные и аномальные данные**, независимо от конкретного порога.  \n",
        "\n",
        "**Как строится?**  \n",
        "- **ROC-кривая** — график зависимости **True Positive Rate (TPR)** от **False Positive Rate (FPR)** при разных значениях порога.\n",
        "- **AUC (Area Under Curve)** — площадь под этой кривой.\n",
        "\n",
        "$$ TPR = \\frac{TP}{TP + FN}, \\quad FPR = \\frac{FP}{FP + TN}$$\n",
        "\n",
        "**Как интерпретировать?**  \n",
        "✔ **AUC = 0.5** → модель не лучше случайного угадывания  \n",
        "✔ **AUC → 1.0** → модель отлично различает аномалии и нормальные данные  \n",
        "✔ **AUC < 0.5** → модель ошибочно классифицирует нормальные данные как аномалии  \n",
        "\n",
        "**Важно:**  \n",
        "- ROC AUC **не зависит от конкретного порога**, в отличие от F1-score.  \n",
        "- Если классы сильно **дисбалансированы**, ROC AUC может быть **обманчиво высокой** (например, если аномалий мало, модель может просто предсказывать «норму» и получить высокий AUC).\n"
      ]
    },
    {
      "cell_type": "code",
      "execution_count": null,
      "id": "75369ea7-b386-4b90-84e1-3a38283c9e65",
      "metadata": {
        "id": "75369ea7-b386-4b90-84e1-3a38283c9e65"
      },
      "outputs": [],
      "source": [
        "from sklearn.metrics import roc_auc_score\n",
        "\n",
        "roc_auc = roc_auc_score(data_test['anomaly'], data_test['reconstruction_err'])\n",
        "print(f\"ROC AUC: {roc_auc:.4f}\")"
      ]
    },
    {
      "cell_type": "code",
      "execution_count": null,
      "id": "41843df7-c3b9-4a34-a7df-4436795e8496",
      "metadata": {
        "id": "41843df7-c3b9-4a34-a7df-4436795e8496"
      },
      "outputs": [],
      "source": [
        "from sklearn.metrics import roc_curve\n",
        "\n",
        "fpr, tpr, thresholds = roc_curve(data_test['anomaly'], data_test['reconstruction_err'])\n",
        "\n",
        "plt.figure(figsize=(15, 5))\n",
        "plt.plot(fpr, tpr, color='blue', label=f'ROC curve (AUC = {roc_auc:.4f})')\n",
        "plt.plot([0, 1], [0, 1], color='gray', linestyle='--')  # Линия случайного угадывания\n",
        "plt.xlabel('False Positive Rate')\n",
        "plt.ylabel('True Positive Rate')\n",
        "plt.title('ROC Curve for Anomaly Detection')\n",
        "plt.legend(loc='lower right')\n",
        "plt.grid(True)\n",
        "plt.show()"
      ]
    },
    {
      "cell_type": "markdown",
      "id": "7453b6e0-a1bf-44f9-a826-0a6930aca95b",
      "metadata": {
        "id": "7453b6e0-a1bf-44f9-a826-0a6930aca95b"
      },
      "source": [
        "### Оптимальный порог"
      ]
    },
    {
      "cell_type": "code",
      "execution_count": null,
      "id": "07fc0248-37a6-4957-9329-76dae4ce5d57",
      "metadata": {
        "id": "07fc0248-37a6-4957-9329-76dae4ce5d57"
      },
      "outputs": [],
      "source": [
        "# Рассчитываем расстояние от точки (0, 1)\n",
        "distances = np.sqrt(fpr**2 + (1 - tpr)**2)\n",
        "\n",
        "# Находим индекс минимального расстояния\n",
        "optimal_threshold_index = np.argmin(distances)\n",
        "\n",
        "# Оптимальный порог\n",
        "optimal_threshold = thresholds[optimal_threshold_index]\n",
        "print(f\"Оптимальный порог: {optimal_threshold:.4f}\")"
      ]
    },
    {
      "cell_type": "markdown",
      "id": "852fa94e-3e8d-4db7-acd4-f6948cc9650c",
      "metadata": {
        "id": "852fa94e-3e8d-4db7-acd4-f6948cc9650c"
      },
      "source": [
        "### Accuracy, Precision, Recall, F1"
      ]
    },
    {
      "cell_type": "code",
      "execution_count": null,
      "id": "c2c006e2-73da-4a3a-b1de-a8ac5c616d2d",
      "metadata": {
        "id": "c2c006e2-73da-4a3a-b1de-a8ac5c616d2d"
      },
      "outputs": [],
      "source": [
        "data_test['anomaly_ae'] = (data_test['reconstruction_err'] > optimal_threshold).astype(int)"
      ]
    },
    {
      "cell_type": "code",
      "execution_count": null,
      "id": "b7d29fc2-e3ad-4f54-9bf1-d35f67fbec14",
      "metadata": {
        "id": "b7d29fc2-e3ad-4f54-9bf1-d35f67fbec14"
      },
      "outputs": [],
      "source": [
        "from sklearn.metrics import accuracy_score\n",
        "from sklearn.metrics import precision_score\n",
        "from sklearn.metrics import recall_score\n",
        "from sklearn.metrics import f1_score\n",
        "\n",
        "print(f\"accuracy - {accuracy_score(data_test['anomaly'], data_test['anomaly_ae'])*100:0.2f}%\")\n",
        "print(f\"precision - {precision_score(data_test['anomaly'], data_test['anomaly_ae'], average='binary')*100:0.2f}%\")\n",
        "print(f\"recall - {recall_score(data_test['anomaly'], data_test['anomaly_ae'], average='binary')*100:0.2f}%\")\n",
        "print(f\"F1 - {f1_score(data_test['anomaly'], data_test['anomaly_ae'], average='binary')*100:0.2f}%\")"
      ]
    },
    {
      "cell_type": "code",
      "execution_count": null,
      "id": "8a3aee65-c533-45ff-b3dd-ace733bb4902",
      "metadata": {
        "id": "8a3aee65-c533-45ff-b3dd-ace733bb4902"
      },
      "outputs": [],
      "source": []
    },
    {
      "cell_type": "code",
      "execution_count": null,
      "id": "063d9266-b6ef-4b80-803f-abccdbe02bbf",
      "metadata": {
        "id": "063d9266-b6ef-4b80-803f-abccdbe02bbf"
      },
      "outputs": [],
      "source": []
    },
    {
      "cell_type": "code",
      "execution_count": null,
      "id": "3e4a43d7-adc7-42f9-9bd4-4743bdb642a4",
      "metadata": {
        "id": "3e4a43d7-adc7-42f9-9bd4-4743bdb642a4"
      },
      "outputs": [],
      "source": []
    },
    {
      "cell_type": "code",
      "execution_count": null,
      "id": "bfb07c47-3ef3-4c04-a9b1-37dc4200144c",
      "metadata": {
        "id": "bfb07c47-3ef3-4c04-a9b1-37dc4200144c"
      },
      "outputs": [],
      "source": []
    }
  ],
  "metadata": {
    "colab": {
      "provenance": [],
      "include_colab_link": true
    },
    "kernelspec": {
      "display_name": "Python 3 (ipykernel)",
      "language": "python",
      "name": "python3"
    },
    "language_info": {
      "codemirror_mode": {
        "name": "ipython",
        "version": 3
      },
      "file_extension": ".py",
      "mimetype": "text/x-python",
      "name": "python",
      "nbconvert_exporter": "python",
      "pygments_lexer": "ipython3",
      "version": "3.12.4"
    }
  },
  "nbformat": 4,
  "nbformat_minor": 5
}